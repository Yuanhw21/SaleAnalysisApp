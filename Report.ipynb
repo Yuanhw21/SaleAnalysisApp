{
 "cells": [
  {
   "cell_type": "markdown",
   "metadata": {},
   "source": [
    "# Retail Performance Analysis (BA/DA Report)\n",
    "This notebook consolidates key business analytics insights from the Alberta retail data mart."
   ]
  },
  {
   "cell_type": "markdown",
   "metadata": {},
   "source": [
    "## 0. Setup"
   ]
  },
  {
   "cell_type": "code",
   "execution_count": 1,
   "id": "424be415",
   "metadata": {},
   "outputs": [],
   "source": [
    "import pandas as pd\n",
    "import plotly.express as px\n",
    "\n",
    "from src.data_pipeline import (\n",
    "    list_available_months,\n",
    "    load_and_prepare_data,\n",
    "    load_reference_tables,\n",
    "    build_promotion_summary,\n",
    "    build_profitability_by_store,\n",
    ")\n",
    "from src.report_utils import (\n",
    "    monthly_kpi_summary,\n",
    "    category_revenue_share,\n",
    "    promotion_activity_timeline,\n",
    "    store_opening_trend,\n",
    "    web_account_share,\n",
    "    prepare_transaction_level,\n",
    "    run_promo_regression,\n",
    "    ab_test_promo,\n",
    ")\n"
   ]
  },
  {
   "cell_type": "code",
   "execution_count": 2,
   "id": "098ef009",
   "metadata": {},
   "outputs": [
    {
     "data": {
      "text/plain": [
       "<module 'src.report_utils' from '/Users/yuanhaowen/Desktop/Project/SaleAnalysisApp/src/report_utils.py'>"
      ]
     },
     "execution_count": 2,
     "metadata": {},
     "output_type": "execute_result"
    }
   ],
   "source": [
    "import importlib\n",
    "import src.report_utils\n",
    "\n",
    "importlib.reload(src.report_utils)\n"
   ]
  },
  {
   "cell_type": "markdown",
   "id": "9fd67dc5",
   "metadata": {},
   "source": [
    "## 1. Load curated datasets"
   ]
  },
  {
   "cell_type": "code",
   "execution_count": 3,
   "id": "62f79510",
   "metadata": {
    "tags": [
     "parameters"
    ]
   },
   "outputs": [
    {
     "data": {
      "text/plain": [
       "('202301',\n",
       " '202302',\n",
       " '202303',\n",
       " '202304',\n",
       " '202305',\n",
       " '202306',\n",
       " '202307',\n",
       " '202308',\n",
       " '202309',\n",
       " '202310',\n",
       " '202311',\n",
       " '202312')"
      ]
     },
     "execution_count": 3,
     "metadata": {},
     "output_type": "execute_result"
    }
   ],
   "source": [
    "MONTHS = list_available_months()  # load all available months by default\n",
    "MONTHS = MONTHS[:12]\n",
    "MONTHS\n"
   ]
  },
  {
   "cell_type": "code",
   "execution_count": 4,
   "id": "b2aeb62c",
   "metadata": {},
   "outputs": [
    {
     "data": {
      "text/plain": [
       "(12000, 57)"
      ]
     },
     "execution_count": 4,
     "metadata": {},
     "output_type": "execute_result"
    }
   ],
   "source": [
    "sales_df = load_and_prepare_data(months=MONTHS)\n",
    "reference_tables = load_reference_tables()\n",
    "contact_df = reference_tables['contact']\n",
    "promotion_df = reference_tables['promotion']\n",
    "store_df = reference_tables['store']\n",
    "sales_df.shape\n"
   ]
  },
  {
   "cell_type": "markdown",
   "id": "66734611",
   "metadata": {},
   "source": [
    "## 2. Sales activity overview"
   ]
  },
  {
   "cell_type": "code",
   "execution_count": 5,
   "id": "fbad536b",
   "metadata": {},
   "outputs": [
    {
     "data": {
      "text/html": [
       "<div>\n",
       "<style scoped>\n",
       "    .dataframe tbody tr th:only-of-type {\n",
       "        vertical-align: middle;\n",
       "    }\n",
       "\n",
       "    .dataframe tbody tr th {\n",
       "        vertical-align: top;\n",
       "    }\n",
       "\n",
       "    .dataframe thead th {\n",
       "        text-align: right;\n",
       "    }\n",
       "</style>\n",
       "<table border=\"1\" class=\"dataframe\">\n",
       "  <thead>\n",
       "    <tr style=\"text-align: right;\">\n",
       "      <th></th>\n",
       "      <th>Month</th>\n",
       "      <th>Revenue</th>\n",
       "      <th>Orders</th>\n",
       "      <th>Units</th>\n",
       "      <th>Unique_Customers</th>\n",
       "      <th>AvgOrderValue</th>\n",
       "    </tr>\n",
       "  </thead>\n",
       "  <tbody>\n",
       "    <tr>\n",
       "      <th>0</th>\n",
       "      <td>2023-01-01</td>\n",
       "      <td>83749.15</td>\n",
       "      <td>992</td>\n",
       "      <td>873</td>\n",
       "      <td>164</td>\n",
       "      <td>84.424546</td>\n",
       "    </tr>\n",
       "    <tr>\n",
       "      <th>1</th>\n",
       "      <td>2023-02-01</td>\n",
       "      <td>88319.91</td>\n",
       "      <td>994</td>\n",
       "      <td>886</td>\n",
       "      <td>171</td>\n",
       "      <td>88.853028</td>\n",
       "    </tr>\n",
       "    <tr>\n",
       "      <th>2</th>\n",
       "      <td>2023-03-01</td>\n",
       "      <td>88236.11</td>\n",
       "      <td>996</td>\n",
       "      <td>916</td>\n",
       "      <td>172</td>\n",
       "      <td>88.590472</td>\n",
       "    </tr>\n",
       "    <tr>\n",
       "      <th>3</th>\n",
       "      <td>2023-04-01</td>\n",
       "      <td>89881.06</td>\n",
       "      <td>993</td>\n",
       "      <td>947</td>\n",
       "      <td>206</td>\n",
       "      <td>90.514663</td>\n",
       "    </tr>\n",
       "    <tr>\n",
       "      <th>4</th>\n",
       "      <td>2023-05-01</td>\n",
       "      <td>89879.95</td>\n",
       "      <td>991</td>\n",
       "      <td>949</td>\n",
       "      <td>181</td>\n",
       "      <td>90.696216</td>\n",
       "    </tr>\n",
       "  </tbody>\n",
       "</table>\n",
       "</div>"
      ],
      "text/plain": [
       "       Month   Revenue  Orders  Units  Unique_Customers  AvgOrderValue\n",
       "0 2023-01-01  83749.15     992    873               164      84.424546\n",
       "1 2023-02-01  88319.91     994    886               171      88.853028\n",
       "2 2023-03-01  88236.11     996    916               172      88.590472\n",
       "3 2023-04-01  89881.06     993    947               206      90.514663\n",
       "4 2023-05-01  89879.95     991    949               181      90.696216"
      ]
     },
     "execution_count": 5,
     "metadata": {},
     "output_type": "execute_result"
    }
   ],
   "source": [
    "monthly_summary = monthly_kpi_summary(sales_df)\n",
    "monthly_summary.head()"
   ]
  },
  {
   "cell_type": "code",
   "execution_count": 6,
   "id": "95a2abd8",
   "metadata": {},
   "outputs": [
    {
     "name": "stderr",
     "output_type": "stream",
     "text": [
      "/Users/yuanhaowen/anaconda3/lib/python3.11/site-packages/_plotly_utils/basevalidators.py:106: FutureWarning: The behavior of DatetimeProperties.to_pydatetime is deprecated, in a future version this will return a Series containing python datetime objects instead of an ndarray. To retain the old behavior, call `np.array` on the result\n",
      "  v = v.dt.to_pydatetime()\n"
     ]
    },
    {
     "data": {
      "application/vnd.plotly.v1+json": {
       "config": {
        "plotlyServerURL": "https://plot.ly"
       },
       "data": [
        {
         "hovertemplate": "Month=%{x}<br>Revenue=%{y}<extra></extra>",
         "legendgroup": "",
         "line": {
          "color": "#636efa",
          "dash": "solid"
         },
         "marker": {
          "symbol": "circle"
         },
         "mode": "lines+markers",
         "name": "",
         "orientation": "v",
         "showlegend": false,
         "type": "scatter",
         "x": [
          "2023-01-01T00:00:00",
          "2023-02-01T00:00:00",
          "2023-03-01T00:00:00",
          "2023-04-01T00:00:00",
          "2023-05-01T00:00:00",
          "2023-06-01T00:00:00",
          "2023-07-01T00:00:00",
          "2023-08-01T00:00:00",
          "2023-09-01T00:00:00",
          "2023-10-01T00:00:00",
          "2023-11-01T00:00:00",
          "2023-12-01T00:00:00"
         ],
         "xaxis": "x",
         "y": [
          83749.15,
          88319.91,
          88236.11,
          89881.06,
          89879.95,
          92961.56,
          90562.57,
          82832.81,
          91039.98,
          88382.33,
          90977.77,
          83136.69
         ],
         "yaxis": "y"
        }
       ],
       "layout": {
        "legend": {
         "tracegroupgap": 0
        },
        "template": {
         "data": {
          "bar": [
           {
            "error_x": {
             "color": "#2a3f5f"
            },
            "error_y": {
             "color": "#2a3f5f"
            },
            "marker": {
             "line": {
              "color": "#E5ECF6",
              "width": 0.5
             },
             "pattern": {
              "fillmode": "overlay",
              "size": 10,
              "solidity": 0.2
             }
            },
            "type": "bar"
           }
          ],
          "barpolar": [
           {
            "marker": {
             "line": {
              "color": "#E5ECF6",
              "width": 0.5
             },
             "pattern": {
              "fillmode": "overlay",
              "size": 10,
              "solidity": 0.2
             }
            },
            "type": "barpolar"
           }
          ],
          "carpet": [
           {
            "aaxis": {
             "endlinecolor": "#2a3f5f",
             "gridcolor": "white",
             "linecolor": "white",
             "minorgridcolor": "white",
             "startlinecolor": "#2a3f5f"
            },
            "baxis": {
             "endlinecolor": "#2a3f5f",
             "gridcolor": "white",
             "linecolor": "white",
             "minorgridcolor": "white",
             "startlinecolor": "#2a3f5f"
            },
            "type": "carpet"
           }
          ],
          "choropleth": [
           {
            "colorbar": {
             "outlinewidth": 0,
             "ticks": ""
            },
            "type": "choropleth"
           }
          ],
          "contour": [
           {
            "colorbar": {
             "outlinewidth": 0,
             "ticks": ""
            },
            "colorscale": [
             [
              0,
              "#0d0887"
             ],
             [
              0.1111111111111111,
              "#46039f"
             ],
             [
              0.2222222222222222,
              "#7201a8"
             ],
             [
              0.3333333333333333,
              "#9c179e"
             ],
             [
              0.4444444444444444,
              "#bd3786"
             ],
             [
              0.5555555555555556,
              "#d8576b"
             ],
             [
              0.6666666666666666,
              "#ed7953"
             ],
             [
              0.7777777777777778,
              "#fb9f3a"
             ],
             [
              0.8888888888888888,
              "#fdca26"
             ],
             [
              1,
              "#f0f921"
             ]
            ],
            "type": "contour"
           }
          ],
          "contourcarpet": [
           {
            "colorbar": {
             "outlinewidth": 0,
             "ticks": ""
            },
            "type": "contourcarpet"
           }
          ],
          "heatmap": [
           {
            "colorbar": {
             "outlinewidth": 0,
             "ticks": ""
            },
            "colorscale": [
             [
              0,
              "#0d0887"
             ],
             [
              0.1111111111111111,
              "#46039f"
             ],
             [
              0.2222222222222222,
              "#7201a8"
             ],
             [
              0.3333333333333333,
              "#9c179e"
             ],
             [
              0.4444444444444444,
              "#bd3786"
             ],
             [
              0.5555555555555556,
              "#d8576b"
             ],
             [
              0.6666666666666666,
              "#ed7953"
             ],
             [
              0.7777777777777778,
              "#fb9f3a"
             ],
             [
              0.8888888888888888,
              "#fdca26"
             ],
             [
              1,
              "#f0f921"
             ]
            ],
            "type": "heatmap"
           }
          ],
          "heatmapgl": [
           {
            "colorbar": {
             "outlinewidth": 0,
             "ticks": ""
            },
            "colorscale": [
             [
              0,
              "#0d0887"
             ],
             [
              0.1111111111111111,
              "#46039f"
             ],
             [
              0.2222222222222222,
              "#7201a8"
             ],
             [
              0.3333333333333333,
              "#9c179e"
             ],
             [
              0.4444444444444444,
              "#bd3786"
             ],
             [
              0.5555555555555556,
              "#d8576b"
             ],
             [
              0.6666666666666666,
              "#ed7953"
             ],
             [
              0.7777777777777778,
              "#fb9f3a"
             ],
             [
              0.8888888888888888,
              "#fdca26"
             ],
             [
              1,
              "#f0f921"
             ]
            ],
            "type": "heatmapgl"
           }
          ],
          "histogram": [
           {
            "marker": {
             "pattern": {
              "fillmode": "overlay",
              "size": 10,
              "solidity": 0.2
             }
            },
            "type": "histogram"
           }
          ],
          "histogram2d": [
           {
            "colorbar": {
             "outlinewidth": 0,
             "ticks": ""
            },
            "colorscale": [
             [
              0,
              "#0d0887"
             ],
             [
              0.1111111111111111,
              "#46039f"
             ],
             [
              0.2222222222222222,
              "#7201a8"
             ],
             [
              0.3333333333333333,
              "#9c179e"
             ],
             [
              0.4444444444444444,
              "#bd3786"
             ],
             [
              0.5555555555555556,
              "#d8576b"
             ],
             [
              0.6666666666666666,
              "#ed7953"
             ],
             [
              0.7777777777777778,
              "#fb9f3a"
             ],
             [
              0.8888888888888888,
              "#fdca26"
             ],
             [
              1,
              "#f0f921"
             ]
            ],
            "type": "histogram2d"
           }
          ],
          "histogram2dcontour": [
           {
            "colorbar": {
             "outlinewidth": 0,
             "ticks": ""
            },
            "colorscale": [
             [
              0,
              "#0d0887"
             ],
             [
              0.1111111111111111,
              "#46039f"
             ],
             [
              0.2222222222222222,
              "#7201a8"
             ],
             [
              0.3333333333333333,
              "#9c179e"
             ],
             [
              0.4444444444444444,
              "#bd3786"
             ],
             [
              0.5555555555555556,
              "#d8576b"
             ],
             [
              0.6666666666666666,
              "#ed7953"
             ],
             [
              0.7777777777777778,
              "#fb9f3a"
             ],
             [
              0.8888888888888888,
              "#fdca26"
             ],
             [
              1,
              "#f0f921"
             ]
            ],
            "type": "histogram2dcontour"
           }
          ],
          "mesh3d": [
           {
            "colorbar": {
             "outlinewidth": 0,
             "ticks": ""
            },
            "type": "mesh3d"
           }
          ],
          "parcoords": [
           {
            "line": {
             "colorbar": {
              "outlinewidth": 0,
              "ticks": ""
             }
            },
            "type": "parcoords"
           }
          ],
          "pie": [
           {
            "automargin": true,
            "type": "pie"
           }
          ],
          "scatter": [
           {
            "fillpattern": {
             "fillmode": "overlay",
             "size": 10,
             "solidity": 0.2
            },
            "type": "scatter"
           }
          ],
          "scatter3d": [
           {
            "line": {
             "colorbar": {
              "outlinewidth": 0,
              "ticks": ""
             }
            },
            "marker": {
             "colorbar": {
              "outlinewidth": 0,
              "ticks": ""
             }
            },
            "type": "scatter3d"
           }
          ],
          "scattercarpet": [
           {
            "marker": {
             "colorbar": {
              "outlinewidth": 0,
              "ticks": ""
             }
            },
            "type": "scattercarpet"
           }
          ],
          "scattergeo": [
           {
            "marker": {
             "colorbar": {
              "outlinewidth": 0,
              "ticks": ""
             }
            },
            "type": "scattergeo"
           }
          ],
          "scattergl": [
           {
            "marker": {
             "colorbar": {
              "outlinewidth": 0,
              "ticks": ""
             }
            },
            "type": "scattergl"
           }
          ],
          "scattermapbox": [
           {
            "marker": {
             "colorbar": {
              "outlinewidth": 0,
              "ticks": ""
             }
            },
            "type": "scattermapbox"
           }
          ],
          "scatterpolar": [
           {
            "marker": {
             "colorbar": {
              "outlinewidth": 0,
              "ticks": ""
             }
            },
            "type": "scatterpolar"
           }
          ],
          "scatterpolargl": [
           {
            "marker": {
             "colorbar": {
              "outlinewidth": 0,
              "ticks": ""
             }
            },
            "type": "scatterpolargl"
           }
          ],
          "scatterternary": [
           {
            "marker": {
             "colorbar": {
              "outlinewidth": 0,
              "ticks": ""
             }
            },
            "type": "scatterternary"
           }
          ],
          "surface": [
           {
            "colorbar": {
             "outlinewidth": 0,
             "ticks": ""
            },
            "colorscale": [
             [
              0,
              "#0d0887"
             ],
             [
              0.1111111111111111,
              "#46039f"
             ],
             [
              0.2222222222222222,
              "#7201a8"
             ],
             [
              0.3333333333333333,
              "#9c179e"
             ],
             [
              0.4444444444444444,
              "#bd3786"
             ],
             [
              0.5555555555555556,
              "#d8576b"
             ],
             [
              0.6666666666666666,
              "#ed7953"
             ],
             [
              0.7777777777777778,
              "#fb9f3a"
             ],
             [
              0.8888888888888888,
              "#fdca26"
             ],
             [
              1,
              "#f0f921"
             ]
            ],
            "type": "surface"
           }
          ],
          "table": [
           {
            "cells": {
             "fill": {
              "color": "#EBF0F8"
             },
             "line": {
              "color": "white"
             }
            },
            "header": {
             "fill": {
              "color": "#C8D4E3"
             },
             "line": {
              "color": "white"
             }
            },
            "type": "table"
           }
          ]
         },
         "layout": {
          "annotationdefaults": {
           "arrowcolor": "#2a3f5f",
           "arrowhead": 0,
           "arrowwidth": 1
          },
          "autotypenumbers": "strict",
          "coloraxis": {
           "colorbar": {
            "outlinewidth": 0,
            "ticks": ""
           }
          },
          "colorscale": {
           "diverging": [
            [
             0,
             "#8e0152"
            ],
            [
             0.1,
             "#c51b7d"
            ],
            [
             0.2,
             "#de77ae"
            ],
            [
             0.3,
             "#f1b6da"
            ],
            [
             0.4,
             "#fde0ef"
            ],
            [
             0.5,
             "#f7f7f7"
            ],
            [
             0.6,
             "#e6f5d0"
            ],
            [
             0.7,
             "#b8e186"
            ],
            [
             0.8,
             "#7fbc41"
            ],
            [
             0.9,
             "#4d9221"
            ],
            [
             1,
             "#276419"
            ]
           ],
           "sequential": [
            [
             0,
             "#0d0887"
            ],
            [
             0.1111111111111111,
             "#46039f"
            ],
            [
             0.2222222222222222,
             "#7201a8"
            ],
            [
             0.3333333333333333,
             "#9c179e"
            ],
            [
             0.4444444444444444,
             "#bd3786"
            ],
            [
             0.5555555555555556,
             "#d8576b"
            ],
            [
             0.6666666666666666,
             "#ed7953"
            ],
            [
             0.7777777777777778,
             "#fb9f3a"
            ],
            [
             0.8888888888888888,
             "#fdca26"
            ],
            [
             1,
             "#f0f921"
            ]
           ],
           "sequentialminus": [
            [
             0,
             "#0d0887"
            ],
            [
             0.1111111111111111,
             "#46039f"
            ],
            [
             0.2222222222222222,
             "#7201a8"
            ],
            [
             0.3333333333333333,
             "#9c179e"
            ],
            [
             0.4444444444444444,
             "#bd3786"
            ],
            [
             0.5555555555555556,
             "#d8576b"
            ],
            [
             0.6666666666666666,
             "#ed7953"
            ],
            [
             0.7777777777777778,
             "#fb9f3a"
            ],
            [
             0.8888888888888888,
             "#fdca26"
            ],
            [
             1,
             "#f0f921"
            ]
           ]
          },
          "colorway": [
           "#636efa",
           "#EF553B",
           "#00cc96",
           "#ab63fa",
           "#FFA15A",
           "#19d3f3",
           "#FF6692",
           "#B6E880",
           "#FF97FF",
           "#FECB52"
          ],
          "font": {
           "color": "#2a3f5f"
          },
          "geo": {
           "bgcolor": "white",
           "lakecolor": "white",
           "landcolor": "#E5ECF6",
           "showlakes": true,
           "showland": true,
           "subunitcolor": "white"
          },
          "hoverlabel": {
           "align": "left"
          },
          "hovermode": "closest",
          "mapbox": {
           "style": "light"
          },
          "paper_bgcolor": "white",
          "plot_bgcolor": "#E5ECF6",
          "polar": {
           "angularaxis": {
            "gridcolor": "white",
            "linecolor": "white",
            "ticks": ""
           },
           "bgcolor": "#E5ECF6",
           "radialaxis": {
            "gridcolor": "white",
            "linecolor": "white",
            "ticks": ""
           }
          },
          "scene": {
           "xaxis": {
            "backgroundcolor": "#E5ECF6",
            "gridcolor": "white",
            "gridwidth": 2,
            "linecolor": "white",
            "showbackground": true,
            "ticks": "",
            "zerolinecolor": "white"
           },
           "yaxis": {
            "backgroundcolor": "#E5ECF6",
            "gridcolor": "white",
            "gridwidth": 2,
            "linecolor": "white",
            "showbackground": true,
            "ticks": "",
            "zerolinecolor": "white"
           },
           "zaxis": {
            "backgroundcolor": "#E5ECF6",
            "gridcolor": "white",
            "gridwidth": 2,
            "linecolor": "white",
            "showbackground": true,
            "ticks": "",
            "zerolinecolor": "white"
           }
          },
          "shapedefaults": {
           "line": {
            "color": "#2a3f5f"
           }
          },
          "ternary": {
           "aaxis": {
            "gridcolor": "white",
            "linecolor": "white",
            "ticks": ""
           },
           "baxis": {
            "gridcolor": "white",
            "linecolor": "white",
            "ticks": ""
           },
           "bgcolor": "#E5ECF6",
           "caxis": {
            "gridcolor": "white",
            "linecolor": "white",
            "ticks": ""
           }
          },
          "title": {
           "x": 0.05
          },
          "xaxis": {
           "automargin": true,
           "gridcolor": "white",
           "linecolor": "white",
           "ticks": "",
           "title": {
            "standoff": 15
           },
           "zerolinecolor": "white",
           "zerolinewidth": 2
          },
          "yaxis": {
           "automargin": true,
           "gridcolor": "white",
           "linecolor": "white",
           "ticks": "",
           "title": {
            "standoff": 15
           },
           "zerolinecolor": "white",
           "zerolinewidth": 2
          }
         }
        },
        "title": {
         "text": "Monthly Revenue Trend"
        },
        "xaxis": {
         "anchor": "y",
         "domain": [
          0,
          1
         ],
         "title": {
          "text": "Month"
         }
        },
        "yaxis": {
         "anchor": "x",
         "domain": [
          0,
          1
         ],
         "title": {
          "text": "Revenue"
         }
        }
       }
      }
     },
     "metadata": {},
     "output_type": "display_data"
    }
   ],
   "source": [
    "fig = px.line(monthly_summary, x='Month', y='Revenue', markers=True, title='Monthly Revenue Trend')\n",
    "fig.update_layout(xaxis_title='Month', yaxis_title='Revenue')\n",
    "fig\n"
   ]
  },
  {
   "cell_type": "code",
   "execution_count": 7,
   "id": "fb68947c",
   "metadata": {},
   "outputs": [
    {
     "name": "stderr",
     "output_type": "stream",
     "text": [
      "/Users/yuanhaowen/anaconda3/lib/python3.11/site-packages/_plotly_utils/basevalidators.py:106: FutureWarning:\n",
      "\n",
      "The behavior of DatetimeProperties.to_pydatetime is deprecated, in a future version this will return a Series containing python datetime objects instead of an ndarray. To retain the old behavior, call `np.array` on the result\n",
      "\n"
     ]
    },
    {
     "data": {
      "application/vnd.plotly.v1+json": {
       "config": {
        "plotlyServerURL": "https://plot.ly"
       },
       "data": [
        {
         "alignmentgroup": "True",
         "hovertemplate": "Month=%{x}<br>Orders=%{y}<extra></extra>",
         "legendgroup": "",
         "marker": {
          "color": "#636efa",
          "pattern": {
           "shape": ""
          }
         },
         "name": "",
         "offsetgroup": "",
         "orientation": "v",
         "showlegend": false,
         "textposition": "auto",
         "type": "bar",
         "x": [
          "2023-01-01T00:00:00",
          "2023-02-01T00:00:00",
          "2023-03-01T00:00:00",
          "2023-04-01T00:00:00",
          "2023-05-01T00:00:00",
          "2023-06-01T00:00:00",
          "2023-07-01T00:00:00",
          "2023-08-01T00:00:00",
          "2023-09-01T00:00:00",
          "2023-10-01T00:00:00",
          "2023-11-01T00:00:00",
          "2023-12-01T00:00:00"
         ],
         "xaxis": "x",
         "y": [
          992,
          994,
          996,
          993,
          991,
          992,
          995,
          994,
          995,
          996,
          994,
          996
         ],
         "yaxis": "y"
        }
       ],
       "layout": {
        "barmode": "relative",
        "legend": {
         "tracegroupgap": 0
        },
        "template": {
         "data": {
          "bar": [
           {
            "error_x": {
             "color": "#2a3f5f"
            },
            "error_y": {
             "color": "#2a3f5f"
            },
            "marker": {
             "line": {
              "color": "#E5ECF6",
              "width": 0.5
             },
             "pattern": {
              "fillmode": "overlay",
              "size": 10,
              "solidity": 0.2
             }
            },
            "type": "bar"
           }
          ],
          "barpolar": [
           {
            "marker": {
             "line": {
              "color": "#E5ECF6",
              "width": 0.5
             },
             "pattern": {
              "fillmode": "overlay",
              "size": 10,
              "solidity": 0.2
             }
            },
            "type": "barpolar"
           }
          ],
          "carpet": [
           {
            "aaxis": {
             "endlinecolor": "#2a3f5f",
             "gridcolor": "white",
             "linecolor": "white",
             "minorgridcolor": "white",
             "startlinecolor": "#2a3f5f"
            },
            "baxis": {
             "endlinecolor": "#2a3f5f",
             "gridcolor": "white",
             "linecolor": "white",
             "minorgridcolor": "white",
             "startlinecolor": "#2a3f5f"
            },
            "type": "carpet"
           }
          ],
          "choropleth": [
           {
            "colorbar": {
             "outlinewidth": 0,
             "ticks": ""
            },
            "type": "choropleth"
           }
          ],
          "contour": [
           {
            "colorbar": {
             "outlinewidth": 0,
             "ticks": ""
            },
            "colorscale": [
             [
              0,
              "#0d0887"
             ],
             [
              0.1111111111111111,
              "#46039f"
             ],
             [
              0.2222222222222222,
              "#7201a8"
             ],
             [
              0.3333333333333333,
              "#9c179e"
             ],
             [
              0.4444444444444444,
              "#bd3786"
             ],
             [
              0.5555555555555556,
              "#d8576b"
             ],
             [
              0.6666666666666666,
              "#ed7953"
             ],
             [
              0.7777777777777778,
              "#fb9f3a"
             ],
             [
              0.8888888888888888,
              "#fdca26"
             ],
             [
              1,
              "#f0f921"
             ]
            ],
            "type": "contour"
           }
          ],
          "contourcarpet": [
           {
            "colorbar": {
             "outlinewidth": 0,
             "ticks": ""
            },
            "type": "contourcarpet"
           }
          ],
          "heatmap": [
           {
            "colorbar": {
             "outlinewidth": 0,
             "ticks": ""
            },
            "colorscale": [
             [
              0,
              "#0d0887"
             ],
             [
              0.1111111111111111,
              "#46039f"
             ],
             [
              0.2222222222222222,
              "#7201a8"
             ],
             [
              0.3333333333333333,
              "#9c179e"
             ],
             [
              0.4444444444444444,
              "#bd3786"
             ],
             [
              0.5555555555555556,
              "#d8576b"
             ],
             [
              0.6666666666666666,
              "#ed7953"
             ],
             [
              0.7777777777777778,
              "#fb9f3a"
             ],
             [
              0.8888888888888888,
              "#fdca26"
             ],
             [
              1,
              "#f0f921"
             ]
            ],
            "type": "heatmap"
           }
          ],
          "heatmapgl": [
           {
            "colorbar": {
             "outlinewidth": 0,
             "ticks": ""
            },
            "colorscale": [
             [
              0,
              "#0d0887"
             ],
             [
              0.1111111111111111,
              "#46039f"
             ],
             [
              0.2222222222222222,
              "#7201a8"
             ],
             [
              0.3333333333333333,
              "#9c179e"
             ],
             [
              0.4444444444444444,
              "#bd3786"
             ],
             [
              0.5555555555555556,
              "#d8576b"
             ],
             [
              0.6666666666666666,
              "#ed7953"
             ],
             [
              0.7777777777777778,
              "#fb9f3a"
             ],
             [
              0.8888888888888888,
              "#fdca26"
             ],
             [
              1,
              "#f0f921"
             ]
            ],
            "type": "heatmapgl"
           }
          ],
          "histogram": [
           {
            "marker": {
             "pattern": {
              "fillmode": "overlay",
              "size": 10,
              "solidity": 0.2
             }
            },
            "type": "histogram"
           }
          ],
          "histogram2d": [
           {
            "colorbar": {
             "outlinewidth": 0,
             "ticks": ""
            },
            "colorscale": [
             [
              0,
              "#0d0887"
             ],
             [
              0.1111111111111111,
              "#46039f"
             ],
             [
              0.2222222222222222,
              "#7201a8"
             ],
             [
              0.3333333333333333,
              "#9c179e"
             ],
             [
              0.4444444444444444,
              "#bd3786"
             ],
             [
              0.5555555555555556,
              "#d8576b"
             ],
             [
              0.6666666666666666,
              "#ed7953"
             ],
             [
              0.7777777777777778,
              "#fb9f3a"
             ],
             [
              0.8888888888888888,
              "#fdca26"
             ],
             [
              1,
              "#f0f921"
             ]
            ],
            "type": "histogram2d"
           }
          ],
          "histogram2dcontour": [
           {
            "colorbar": {
             "outlinewidth": 0,
             "ticks": ""
            },
            "colorscale": [
             [
              0,
              "#0d0887"
             ],
             [
              0.1111111111111111,
              "#46039f"
             ],
             [
              0.2222222222222222,
              "#7201a8"
             ],
             [
              0.3333333333333333,
              "#9c179e"
             ],
             [
              0.4444444444444444,
              "#bd3786"
             ],
             [
              0.5555555555555556,
              "#d8576b"
             ],
             [
              0.6666666666666666,
              "#ed7953"
             ],
             [
              0.7777777777777778,
              "#fb9f3a"
             ],
             [
              0.8888888888888888,
              "#fdca26"
             ],
             [
              1,
              "#f0f921"
             ]
            ],
            "type": "histogram2dcontour"
           }
          ],
          "mesh3d": [
           {
            "colorbar": {
             "outlinewidth": 0,
             "ticks": ""
            },
            "type": "mesh3d"
           }
          ],
          "parcoords": [
           {
            "line": {
             "colorbar": {
              "outlinewidth": 0,
              "ticks": ""
             }
            },
            "type": "parcoords"
           }
          ],
          "pie": [
           {
            "automargin": true,
            "type": "pie"
           }
          ],
          "scatter": [
           {
            "fillpattern": {
             "fillmode": "overlay",
             "size": 10,
             "solidity": 0.2
            },
            "type": "scatter"
           }
          ],
          "scatter3d": [
           {
            "line": {
             "colorbar": {
              "outlinewidth": 0,
              "ticks": ""
             }
            },
            "marker": {
             "colorbar": {
              "outlinewidth": 0,
              "ticks": ""
             }
            },
            "type": "scatter3d"
           }
          ],
          "scattercarpet": [
           {
            "marker": {
             "colorbar": {
              "outlinewidth": 0,
              "ticks": ""
             }
            },
            "type": "scattercarpet"
           }
          ],
          "scattergeo": [
           {
            "marker": {
             "colorbar": {
              "outlinewidth": 0,
              "ticks": ""
             }
            },
            "type": "scattergeo"
           }
          ],
          "scattergl": [
           {
            "marker": {
             "colorbar": {
              "outlinewidth": 0,
              "ticks": ""
             }
            },
            "type": "scattergl"
           }
          ],
          "scattermapbox": [
           {
            "marker": {
             "colorbar": {
              "outlinewidth": 0,
              "ticks": ""
             }
            },
            "type": "scattermapbox"
           }
          ],
          "scatterpolar": [
           {
            "marker": {
             "colorbar": {
              "outlinewidth": 0,
              "ticks": ""
             }
            },
            "type": "scatterpolar"
           }
          ],
          "scatterpolargl": [
           {
            "marker": {
             "colorbar": {
              "outlinewidth": 0,
              "ticks": ""
             }
            },
            "type": "scatterpolargl"
           }
          ],
          "scatterternary": [
           {
            "marker": {
             "colorbar": {
              "outlinewidth": 0,
              "ticks": ""
             }
            },
            "type": "scatterternary"
           }
          ],
          "surface": [
           {
            "colorbar": {
             "outlinewidth": 0,
             "ticks": ""
            },
            "colorscale": [
             [
              0,
              "#0d0887"
             ],
             [
              0.1111111111111111,
              "#46039f"
             ],
             [
              0.2222222222222222,
              "#7201a8"
             ],
             [
              0.3333333333333333,
              "#9c179e"
             ],
             [
              0.4444444444444444,
              "#bd3786"
             ],
             [
              0.5555555555555556,
              "#d8576b"
             ],
             [
              0.6666666666666666,
              "#ed7953"
             ],
             [
              0.7777777777777778,
              "#fb9f3a"
             ],
             [
              0.8888888888888888,
              "#fdca26"
             ],
             [
              1,
              "#f0f921"
             ]
            ],
            "type": "surface"
           }
          ],
          "table": [
           {
            "cells": {
             "fill": {
              "color": "#EBF0F8"
             },
             "line": {
              "color": "white"
             }
            },
            "header": {
             "fill": {
              "color": "#C8D4E3"
             },
             "line": {
              "color": "white"
             }
            },
            "type": "table"
           }
          ]
         },
         "layout": {
          "annotationdefaults": {
           "arrowcolor": "#2a3f5f",
           "arrowhead": 0,
           "arrowwidth": 1
          },
          "autotypenumbers": "strict",
          "coloraxis": {
           "colorbar": {
            "outlinewidth": 0,
            "ticks": ""
           }
          },
          "colorscale": {
           "diverging": [
            [
             0,
             "#8e0152"
            ],
            [
             0.1,
             "#c51b7d"
            ],
            [
             0.2,
             "#de77ae"
            ],
            [
             0.3,
             "#f1b6da"
            ],
            [
             0.4,
             "#fde0ef"
            ],
            [
             0.5,
             "#f7f7f7"
            ],
            [
             0.6,
             "#e6f5d0"
            ],
            [
             0.7,
             "#b8e186"
            ],
            [
             0.8,
             "#7fbc41"
            ],
            [
             0.9,
             "#4d9221"
            ],
            [
             1,
             "#276419"
            ]
           ],
           "sequential": [
            [
             0,
             "#0d0887"
            ],
            [
             0.1111111111111111,
             "#46039f"
            ],
            [
             0.2222222222222222,
             "#7201a8"
            ],
            [
             0.3333333333333333,
             "#9c179e"
            ],
            [
             0.4444444444444444,
             "#bd3786"
            ],
            [
             0.5555555555555556,
             "#d8576b"
            ],
            [
             0.6666666666666666,
             "#ed7953"
            ],
            [
             0.7777777777777778,
             "#fb9f3a"
            ],
            [
             0.8888888888888888,
             "#fdca26"
            ],
            [
             1,
             "#f0f921"
            ]
           ],
           "sequentialminus": [
            [
             0,
             "#0d0887"
            ],
            [
             0.1111111111111111,
             "#46039f"
            ],
            [
             0.2222222222222222,
             "#7201a8"
            ],
            [
             0.3333333333333333,
             "#9c179e"
            ],
            [
             0.4444444444444444,
             "#bd3786"
            ],
            [
             0.5555555555555556,
             "#d8576b"
            ],
            [
             0.6666666666666666,
             "#ed7953"
            ],
            [
             0.7777777777777778,
             "#fb9f3a"
            ],
            [
             0.8888888888888888,
             "#fdca26"
            ],
            [
             1,
             "#f0f921"
            ]
           ]
          },
          "colorway": [
           "#636efa",
           "#EF553B",
           "#00cc96",
           "#ab63fa",
           "#FFA15A",
           "#19d3f3",
           "#FF6692",
           "#B6E880",
           "#FF97FF",
           "#FECB52"
          ],
          "font": {
           "color": "#2a3f5f"
          },
          "geo": {
           "bgcolor": "white",
           "lakecolor": "white",
           "landcolor": "#E5ECF6",
           "showlakes": true,
           "showland": true,
           "subunitcolor": "white"
          },
          "hoverlabel": {
           "align": "left"
          },
          "hovermode": "closest",
          "mapbox": {
           "style": "light"
          },
          "paper_bgcolor": "white",
          "plot_bgcolor": "#E5ECF6",
          "polar": {
           "angularaxis": {
            "gridcolor": "white",
            "linecolor": "white",
            "ticks": ""
           },
           "bgcolor": "#E5ECF6",
           "radialaxis": {
            "gridcolor": "white",
            "linecolor": "white",
            "ticks": ""
           }
          },
          "scene": {
           "xaxis": {
            "backgroundcolor": "#E5ECF6",
            "gridcolor": "white",
            "gridwidth": 2,
            "linecolor": "white",
            "showbackground": true,
            "ticks": "",
            "zerolinecolor": "white"
           },
           "yaxis": {
            "backgroundcolor": "#E5ECF6",
            "gridcolor": "white",
            "gridwidth": 2,
            "linecolor": "white",
            "showbackground": true,
            "ticks": "",
            "zerolinecolor": "white"
           },
           "zaxis": {
            "backgroundcolor": "#E5ECF6",
            "gridcolor": "white",
            "gridwidth": 2,
            "linecolor": "white",
            "showbackground": true,
            "ticks": "",
            "zerolinecolor": "white"
           }
          },
          "shapedefaults": {
           "line": {
            "color": "#2a3f5f"
           }
          },
          "ternary": {
           "aaxis": {
            "gridcolor": "white",
            "linecolor": "white",
            "ticks": ""
           },
           "baxis": {
            "gridcolor": "white",
            "linecolor": "white",
            "ticks": ""
           },
           "bgcolor": "#E5ECF6",
           "caxis": {
            "gridcolor": "white",
            "linecolor": "white",
            "ticks": ""
           }
          },
          "title": {
           "x": 0.05
          },
          "xaxis": {
           "automargin": true,
           "gridcolor": "white",
           "linecolor": "white",
           "ticks": "",
           "title": {
            "standoff": 15
           },
           "zerolinecolor": "white",
           "zerolinewidth": 2
          },
          "yaxis": {
           "automargin": true,
           "gridcolor": "white",
           "linecolor": "white",
           "ticks": "",
           "title": {
            "standoff": 15
           },
           "zerolinecolor": "white",
           "zerolinewidth": 2
          }
         }
        },
        "title": {
         "text": "Order Volume by Month"
        },
        "xaxis": {
         "anchor": "y",
         "domain": [
          0,
          1
         ],
         "title": {
          "text": "Month"
         }
        },
        "yaxis": {
         "anchor": "x",
         "domain": [
          0,
          1
         ],
         "title": {
          "text": "Orders"
         }
        }
       }
      }
     },
     "metadata": {},
     "output_type": "display_data"
    }
   ],
   "source": [
    "fig_orders = px.bar(monthly_summary, x='Month', y='Orders', title='Order Volume by Month')\n",
    "fig_orders.update_layout(xaxis_title='Month', yaxis_title='Orders')\n",
    "fig_orders\n"
   ]
  },
  {
   "cell_type": "markdown",
   "id": "3444bdf1",
   "metadata": {},
   "source": [
    "**Observation:** Revenue peaks in spring/summer months while order volumes remain comparatively stable, signalling higher average baskets during promotional events."
   ]
  },
  {
   "cell_type": "markdown",
   "id": "c73963f2",
   "metadata": {},
   "source": [
    "## 3. Merchandise mix"
   ]
  },
  {
   "cell_type": "code",
   "execution_count": 8,
   "id": "71de08c0",
   "metadata": {},
   "outputs": [
    {
     "data": {
      "text/html": [
       "<div>\n",
       "<style scoped>\n",
       "    .dataframe tbody tr th:only-of-type {\n",
       "        vertical-align: middle;\n",
       "    }\n",
       "\n",
       "    .dataframe tbody tr th {\n",
       "        vertical-align: top;\n",
       "    }\n",
       "\n",
       "    .dataframe thead th {\n",
       "        text-align: right;\n",
       "    }\n",
       "</style>\n",
       "<table border=\"1\" class=\"dataframe\">\n",
       "  <thead>\n",
       "    <tr style=\"text-align: right;\">\n",
       "      <th></th>\n",
       "      <th>Catégorie</th>\n",
       "      <th>Revenue</th>\n",
       "      <th>Share</th>\n",
       "    </tr>\n",
       "  </thead>\n",
       "  <tbody>\n",
       "    <tr>\n",
       "      <th>0</th>\n",
       "      <td>Catégorie_006</td>\n",
       "      <td>228227.22</td>\n",
       "      <td>0.274855</td>\n",
       "    </tr>\n",
       "    <tr>\n",
       "      <th>1</th>\n",
       "      <td>Catégorie_007</td>\n",
       "      <td>213887.15</td>\n",
       "      <td>0.257585</td>\n",
       "    </tr>\n",
       "    <tr>\n",
       "      <th>2</th>\n",
       "      <td>Catégorie_002</td>\n",
       "      <td>168392.20</td>\n",
       "      <td>0.202795</td>\n",
       "    </tr>\n",
       "    <tr>\n",
       "      <th>3</th>\n",
       "      <td>Catégorie_003</td>\n",
       "      <td>90678.09</td>\n",
       "      <td>0.109204</td>\n",
       "    </tr>\n",
       "    <tr>\n",
       "      <th>4</th>\n",
       "      <td>Catégorie_004</td>\n",
       "      <td>69075.14</td>\n",
       "      <td>0.083187</td>\n",
       "    </tr>\n",
       "    <tr>\n",
       "      <th>5</th>\n",
       "      <td>Catégorie_001</td>\n",
       "      <td>36295.55</td>\n",
       "      <td>0.043711</td>\n",
       "    </tr>\n",
       "    <tr>\n",
       "      <th>6</th>\n",
       "      <td>Catégorie_005</td>\n",
       "      <td>22874.53</td>\n",
       "      <td>0.027548</td>\n",
       "    </tr>\n",
       "    <tr>\n",
       "      <th>7</th>\n",
       "      <td>Catégorie_008</td>\n",
       "      <td>925.10</td>\n",
       "      <td>0.001114</td>\n",
       "    </tr>\n",
       "  </tbody>\n",
       "</table>\n",
       "</div>"
      ],
      "text/plain": [
       "       Catégorie    Revenue     Share\n",
       "0  Catégorie_006  228227.22  0.274855\n",
       "1  Catégorie_007  213887.15  0.257585\n",
       "2  Catégorie_002  168392.20  0.202795\n",
       "3  Catégorie_003   90678.09  0.109204\n",
       "4  Catégorie_004   69075.14  0.083187\n",
       "5  Catégorie_001   36295.55  0.043711\n",
       "6  Catégorie_005   22874.53  0.027548\n",
       "7  Catégorie_008     925.10  0.001114"
      ]
     },
     "execution_count": 8,
     "metadata": {},
     "output_type": "execute_result"
    }
   ],
   "source": [
    "category_share = category_revenue_share(sales_df, top_n=10)\n",
    "category_share\n"
   ]
  },
  {
   "cell_type": "code",
   "execution_count": 9,
   "id": "82e9f3e3",
   "metadata": {},
   "outputs": [
    {
     "data": {
      "application/vnd.plotly.v1+json": {
       "config": {
        "plotlyServerURL": "https://plot.ly"
       },
       "data": [
        {
         "alignmentgroup": "True",
         "hovertemplate": "Catégorie=%{x}<br>Revenue=%{y}<extra></extra>",
         "legendgroup": "",
         "marker": {
          "color": "#636efa",
          "pattern": {
           "shape": ""
          }
         },
         "name": "",
         "offsetgroup": "",
         "orientation": "v",
         "showlegend": false,
         "textposition": "auto",
         "type": "bar",
         "x": [
          "Catégorie_006",
          "Catégorie_007",
          "Catégorie_002",
          "Catégorie_003",
          "Catégorie_004",
          "Catégorie_001",
          "Catégorie_005",
          "Catégorie_008"
         ],
         "xaxis": "x",
         "y": [
          228227.22,
          213887.15,
          168392.2,
          90678.09,
          69075.14,
          36295.55,
          22874.53,
          925.1
         ],
         "yaxis": "y"
        }
       ],
       "layout": {
        "barmode": "relative",
        "legend": {
         "tracegroupgap": 0
        },
        "template": {
         "data": {
          "bar": [
           {
            "error_x": {
             "color": "#2a3f5f"
            },
            "error_y": {
             "color": "#2a3f5f"
            },
            "marker": {
             "line": {
              "color": "#E5ECF6",
              "width": 0.5
             },
             "pattern": {
              "fillmode": "overlay",
              "size": 10,
              "solidity": 0.2
             }
            },
            "type": "bar"
           }
          ],
          "barpolar": [
           {
            "marker": {
             "line": {
              "color": "#E5ECF6",
              "width": 0.5
             },
             "pattern": {
              "fillmode": "overlay",
              "size": 10,
              "solidity": 0.2
             }
            },
            "type": "barpolar"
           }
          ],
          "carpet": [
           {
            "aaxis": {
             "endlinecolor": "#2a3f5f",
             "gridcolor": "white",
             "linecolor": "white",
             "minorgridcolor": "white",
             "startlinecolor": "#2a3f5f"
            },
            "baxis": {
             "endlinecolor": "#2a3f5f",
             "gridcolor": "white",
             "linecolor": "white",
             "minorgridcolor": "white",
             "startlinecolor": "#2a3f5f"
            },
            "type": "carpet"
           }
          ],
          "choropleth": [
           {
            "colorbar": {
             "outlinewidth": 0,
             "ticks": ""
            },
            "type": "choropleth"
           }
          ],
          "contour": [
           {
            "colorbar": {
             "outlinewidth": 0,
             "ticks": ""
            },
            "colorscale": [
             [
              0,
              "#0d0887"
             ],
             [
              0.1111111111111111,
              "#46039f"
             ],
             [
              0.2222222222222222,
              "#7201a8"
             ],
             [
              0.3333333333333333,
              "#9c179e"
             ],
             [
              0.4444444444444444,
              "#bd3786"
             ],
             [
              0.5555555555555556,
              "#d8576b"
             ],
             [
              0.6666666666666666,
              "#ed7953"
             ],
             [
              0.7777777777777778,
              "#fb9f3a"
             ],
             [
              0.8888888888888888,
              "#fdca26"
             ],
             [
              1,
              "#f0f921"
             ]
            ],
            "type": "contour"
           }
          ],
          "contourcarpet": [
           {
            "colorbar": {
             "outlinewidth": 0,
             "ticks": ""
            },
            "type": "contourcarpet"
           }
          ],
          "heatmap": [
           {
            "colorbar": {
             "outlinewidth": 0,
             "ticks": ""
            },
            "colorscale": [
             [
              0,
              "#0d0887"
             ],
             [
              0.1111111111111111,
              "#46039f"
             ],
             [
              0.2222222222222222,
              "#7201a8"
             ],
             [
              0.3333333333333333,
              "#9c179e"
             ],
             [
              0.4444444444444444,
              "#bd3786"
             ],
             [
              0.5555555555555556,
              "#d8576b"
             ],
             [
              0.6666666666666666,
              "#ed7953"
             ],
             [
              0.7777777777777778,
              "#fb9f3a"
             ],
             [
              0.8888888888888888,
              "#fdca26"
             ],
             [
              1,
              "#f0f921"
             ]
            ],
            "type": "heatmap"
           }
          ],
          "heatmapgl": [
           {
            "colorbar": {
             "outlinewidth": 0,
             "ticks": ""
            },
            "colorscale": [
             [
              0,
              "#0d0887"
             ],
             [
              0.1111111111111111,
              "#46039f"
             ],
             [
              0.2222222222222222,
              "#7201a8"
             ],
             [
              0.3333333333333333,
              "#9c179e"
             ],
             [
              0.4444444444444444,
              "#bd3786"
             ],
             [
              0.5555555555555556,
              "#d8576b"
             ],
             [
              0.6666666666666666,
              "#ed7953"
             ],
             [
              0.7777777777777778,
              "#fb9f3a"
             ],
             [
              0.8888888888888888,
              "#fdca26"
             ],
             [
              1,
              "#f0f921"
             ]
            ],
            "type": "heatmapgl"
           }
          ],
          "histogram": [
           {
            "marker": {
             "pattern": {
              "fillmode": "overlay",
              "size": 10,
              "solidity": 0.2
             }
            },
            "type": "histogram"
           }
          ],
          "histogram2d": [
           {
            "colorbar": {
             "outlinewidth": 0,
             "ticks": ""
            },
            "colorscale": [
             [
              0,
              "#0d0887"
             ],
             [
              0.1111111111111111,
              "#46039f"
             ],
             [
              0.2222222222222222,
              "#7201a8"
             ],
             [
              0.3333333333333333,
              "#9c179e"
             ],
             [
              0.4444444444444444,
              "#bd3786"
             ],
             [
              0.5555555555555556,
              "#d8576b"
             ],
             [
              0.6666666666666666,
              "#ed7953"
             ],
             [
              0.7777777777777778,
              "#fb9f3a"
             ],
             [
              0.8888888888888888,
              "#fdca26"
             ],
             [
              1,
              "#f0f921"
             ]
            ],
            "type": "histogram2d"
           }
          ],
          "histogram2dcontour": [
           {
            "colorbar": {
             "outlinewidth": 0,
             "ticks": ""
            },
            "colorscale": [
             [
              0,
              "#0d0887"
             ],
             [
              0.1111111111111111,
              "#46039f"
             ],
             [
              0.2222222222222222,
              "#7201a8"
             ],
             [
              0.3333333333333333,
              "#9c179e"
             ],
             [
              0.4444444444444444,
              "#bd3786"
             ],
             [
              0.5555555555555556,
              "#d8576b"
             ],
             [
              0.6666666666666666,
              "#ed7953"
             ],
             [
              0.7777777777777778,
              "#fb9f3a"
             ],
             [
              0.8888888888888888,
              "#fdca26"
             ],
             [
              1,
              "#f0f921"
             ]
            ],
            "type": "histogram2dcontour"
           }
          ],
          "mesh3d": [
           {
            "colorbar": {
             "outlinewidth": 0,
             "ticks": ""
            },
            "type": "mesh3d"
           }
          ],
          "parcoords": [
           {
            "line": {
             "colorbar": {
              "outlinewidth": 0,
              "ticks": ""
             }
            },
            "type": "parcoords"
           }
          ],
          "pie": [
           {
            "automargin": true,
            "type": "pie"
           }
          ],
          "scatter": [
           {
            "fillpattern": {
             "fillmode": "overlay",
             "size": 10,
             "solidity": 0.2
            },
            "type": "scatter"
           }
          ],
          "scatter3d": [
           {
            "line": {
             "colorbar": {
              "outlinewidth": 0,
              "ticks": ""
             }
            },
            "marker": {
             "colorbar": {
              "outlinewidth": 0,
              "ticks": ""
             }
            },
            "type": "scatter3d"
           }
          ],
          "scattercarpet": [
           {
            "marker": {
             "colorbar": {
              "outlinewidth": 0,
              "ticks": ""
             }
            },
            "type": "scattercarpet"
           }
          ],
          "scattergeo": [
           {
            "marker": {
             "colorbar": {
              "outlinewidth": 0,
              "ticks": ""
             }
            },
            "type": "scattergeo"
           }
          ],
          "scattergl": [
           {
            "marker": {
             "colorbar": {
              "outlinewidth": 0,
              "ticks": ""
             }
            },
            "type": "scattergl"
           }
          ],
          "scattermapbox": [
           {
            "marker": {
             "colorbar": {
              "outlinewidth": 0,
              "ticks": ""
             }
            },
            "type": "scattermapbox"
           }
          ],
          "scatterpolar": [
           {
            "marker": {
             "colorbar": {
              "outlinewidth": 0,
              "ticks": ""
             }
            },
            "type": "scatterpolar"
           }
          ],
          "scatterpolargl": [
           {
            "marker": {
             "colorbar": {
              "outlinewidth": 0,
              "ticks": ""
             }
            },
            "type": "scatterpolargl"
           }
          ],
          "scatterternary": [
           {
            "marker": {
             "colorbar": {
              "outlinewidth": 0,
              "ticks": ""
             }
            },
            "type": "scatterternary"
           }
          ],
          "surface": [
           {
            "colorbar": {
             "outlinewidth": 0,
             "ticks": ""
            },
            "colorscale": [
             [
              0,
              "#0d0887"
             ],
             [
              0.1111111111111111,
              "#46039f"
             ],
             [
              0.2222222222222222,
              "#7201a8"
             ],
             [
              0.3333333333333333,
              "#9c179e"
             ],
             [
              0.4444444444444444,
              "#bd3786"
             ],
             [
              0.5555555555555556,
              "#d8576b"
             ],
             [
              0.6666666666666666,
              "#ed7953"
             ],
             [
              0.7777777777777778,
              "#fb9f3a"
             ],
             [
              0.8888888888888888,
              "#fdca26"
             ],
             [
              1,
              "#f0f921"
             ]
            ],
            "type": "surface"
           }
          ],
          "table": [
           {
            "cells": {
             "fill": {
              "color": "#EBF0F8"
             },
             "line": {
              "color": "white"
             }
            },
            "header": {
             "fill": {
              "color": "#C8D4E3"
             },
             "line": {
              "color": "white"
             }
            },
            "type": "table"
           }
          ]
         },
         "layout": {
          "annotationdefaults": {
           "arrowcolor": "#2a3f5f",
           "arrowhead": 0,
           "arrowwidth": 1
          },
          "autotypenumbers": "strict",
          "coloraxis": {
           "colorbar": {
            "outlinewidth": 0,
            "ticks": ""
           }
          },
          "colorscale": {
           "diverging": [
            [
             0,
             "#8e0152"
            ],
            [
             0.1,
             "#c51b7d"
            ],
            [
             0.2,
             "#de77ae"
            ],
            [
             0.3,
             "#f1b6da"
            ],
            [
             0.4,
             "#fde0ef"
            ],
            [
             0.5,
             "#f7f7f7"
            ],
            [
             0.6,
             "#e6f5d0"
            ],
            [
             0.7,
             "#b8e186"
            ],
            [
             0.8,
             "#7fbc41"
            ],
            [
             0.9,
             "#4d9221"
            ],
            [
             1,
             "#276419"
            ]
           ],
           "sequential": [
            [
             0,
             "#0d0887"
            ],
            [
             0.1111111111111111,
             "#46039f"
            ],
            [
             0.2222222222222222,
             "#7201a8"
            ],
            [
             0.3333333333333333,
             "#9c179e"
            ],
            [
             0.4444444444444444,
             "#bd3786"
            ],
            [
             0.5555555555555556,
             "#d8576b"
            ],
            [
             0.6666666666666666,
             "#ed7953"
            ],
            [
             0.7777777777777778,
             "#fb9f3a"
            ],
            [
             0.8888888888888888,
             "#fdca26"
            ],
            [
             1,
             "#f0f921"
            ]
           ],
           "sequentialminus": [
            [
             0,
             "#0d0887"
            ],
            [
             0.1111111111111111,
             "#46039f"
            ],
            [
             0.2222222222222222,
             "#7201a8"
            ],
            [
             0.3333333333333333,
             "#9c179e"
            ],
            [
             0.4444444444444444,
             "#bd3786"
            ],
            [
             0.5555555555555556,
             "#d8576b"
            ],
            [
             0.6666666666666666,
             "#ed7953"
            ],
            [
             0.7777777777777778,
             "#fb9f3a"
            ],
            [
             0.8888888888888888,
             "#fdca26"
            ],
            [
             1,
             "#f0f921"
            ]
           ]
          },
          "colorway": [
           "#636efa",
           "#EF553B",
           "#00cc96",
           "#ab63fa",
           "#FFA15A",
           "#19d3f3",
           "#FF6692",
           "#B6E880",
           "#FF97FF",
           "#FECB52"
          ],
          "font": {
           "color": "#2a3f5f"
          },
          "geo": {
           "bgcolor": "white",
           "lakecolor": "white",
           "landcolor": "#E5ECF6",
           "showlakes": true,
           "showland": true,
           "subunitcolor": "white"
          },
          "hoverlabel": {
           "align": "left"
          },
          "hovermode": "closest",
          "mapbox": {
           "style": "light"
          },
          "paper_bgcolor": "white",
          "plot_bgcolor": "#E5ECF6",
          "polar": {
           "angularaxis": {
            "gridcolor": "white",
            "linecolor": "white",
            "ticks": ""
           },
           "bgcolor": "#E5ECF6",
           "radialaxis": {
            "gridcolor": "white",
            "linecolor": "white",
            "ticks": ""
           }
          },
          "scene": {
           "xaxis": {
            "backgroundcolor": "#E5ECF6",
            "gridcolor": "white",
            "gridwidth": 2,
            "linecolor": "white",
            "showbackground": true,
            "ticks": "",
            "zerolinecolor": "white"
           },
           "yaxis": {
            "backgroundcolor": "#E5ECF6",
            "gridcolor": "white",
            "gridwidth": 2,
            "linecolor": "white",
            "showbackground": true,
            "ticks": "",
            "zerolinecolor": "white"
           },
           "zaxis": {
            "backgroundcolor": "#E5ECF6",
            "gridcolor": "white",
            "gridwidth": 2,
            "linecolor": "white",
            "showbackground": true,
            "ticks": "",
            "zerolinecolor": "white"
           }
          },
          "shapedefaults": {
           "line": {
            "color": "#2a3f5f"
           }
          },
          "ternary": {
           "aaxis": {
            "gridcolor": "white",
            "linecolor": "white",
            "ticks": ""
           },
           "baxis": {
            "gridcolor": "white",
            "linecolor": "white",
            "ticks": ""
           },
           "bgcolor": "#E5ECF6",
           "caxis": {
            "gridcolor": "white",
            "linecolor": "white",
            "ticks": ""
           }
          },
          "title": {
           "x": 0.05
          },
          "xaxis": {
           "automargin": true,
           "gridcolor": "white",
           "linecolor": "white",
           "ticks": "",
           "title": {
            "standoff": 15
           },
           "zerolinecolor": "white",
           "zerolinewidth": 2
          },
          "yaxis": {
           "automargin": true,
           "gridcolor": "white",
           "linecolor": "white",
           "ticks": "",
           "title": {
            "standoff": 15
           },
           "zerolinecolor": "white",
           "zerolinewidth": 2
          }
         }
        },
        "title": {
         "text": "Top Categories by Revenue"
        },
        "xaxis": {
         "anchor": "y",
         "domain": [
          0,
          1
         ],
         "tickangle": 45,
         "title": {
          "text": "Category"
         }
        },
        "yaxis": {
         "anchor": "x",
         "domain": [
          0,
          1
         ],
         "title": {
          "text": "Revenue"
         }
        }
       }
      }
     },
     "metadata": {},
     "output_type": "display_data"
    }
   ],
   "source": [
    "fig_cat = px.bar(category_share, x='Catégorie', y='Revenue', title='Top Categories by Revenue')\n",
    "fig_cat.update_layout(xaxis_title='Category', yaxis_title='Revenue', xaxis_tickangle=45)\n",
    "fig_cat\n"
   ]
  },
  {
   "cell_type": "markdown",
   "id": "3801e476",
   "metadata": {},
   "source": [
    "Seasonal collections dominate revenue share, with Spring assortments consistently outperforming Fall launches."
   ]
  },
  {
   "cell_type": "markdown",
   "id": "a181419a",
   "metadata": {},
   "source": [
    "### Category performance (L1) – Pareto view\n"
   ]
  },
  {
   "cell_type": "code",
   "execution_count": 10,
   "id": "a7576f04",
   "metadata": {},
   "outputs": [
    {
     "data": {
      "text/html": [
       "<div>\n",
       "<style scoped>\n",
       "    .dataframe tbody tr th:only-of-type {\n",
       "        vertical-align: middle;\n",
       "    }\n",
       "\n",
       "    .dataframe tbody tr th {\n",
       "        vertical-align: top;\n",
       "    }\n",
       "\n",
       "    .dataframe thead th {\n",
       "        text-align: right;\n",
       "    }\n",
       "</style>\n",
       "<table border=\"1\" class=\"dataframe\">\n",
       "  <thead>\n",
       "    <tr style=\"text-align: right;\">\n",
       "      <th></th>\n",
       "      <th>Category</th>\n",
       "      <th>GMV</th>\n",
       "      <th>Units</th>\n",
       "      <th>Orders</th>\n",
       "      <th>ASP</th>\n",
       "      <th>GMV_share_pct</th>\n",
       "      <th>GMV_cum_share_pct</th>\n",
       "      <th>Pareto_80</th>\n",
       "    </tr>\n",
       "  </thead>\n",
       "  <tbody>\n",
       "    <tr>\n",
       "      <th>0</th>\n",
       "      <td>Unknown</td>\n",
       "      <td>229604.91</td>\n",
       "      <td>2536</td>\n",
       "      <td>2526</td>\n",
       "      <td>90.538214</td>\n",
       "      <td>21.661660</td>\n",
       "      <td>21.661660</td>\n",
       "      <td>True</td>\n",
       "    </tr>\n",
       "    <tr>\n",
       "      <th>1</th>\n",
       "      <td>Catégorie_006</td>\n",
       "      <td>228227.22</td>\n",
       "      <td>3024</td>\n",
       "      <td>2989</td>\n",
       "      <td>75.471964</td>\n",
       "      <td>21.531685</td>\n",
       "      <td>43.193345</td>\n",
       "      <td>True</td>\n",
       "    </tr>\n",
       "    <tr>\n",
       "      <th>2</th>\n",
       "      <td>Catégorie_007</td>\n",
       "      <td>213887.15</td>\n",
       "      <td>2518</td>\n",
       "      <td>2776</td>\n",
       "      <td>84.943268</td>\n",
       "      <td>20.178797</td>\n",
       "      <td>63.372141</td>\n",
       "      <td>True</td>\n",
       "    </tr>\n",
       "    <tr>\n",
       "      <th>3</th>\n",
       "      <td>Catégorie_002</td>\n",
       "      <td>168392.20</td>\n",
       "      <td>1240</td>\n",
       "      <td>1474</td>\n",
       "      <td>135.800161</td>\n",
       "      <td>15.886658</td>\n",
       "      <td>79.258799</td>\n",
       "      <td>True</td>\n",
       "    </tr>\n",
       "    <tr>\n",
       "      <th>4</th>\n",
       "      <td>Catégorie_003</td>\n",
       "      <td>90678.09</td>\n",
       "      <td>777</td>\n",
       "      <td>880</td>\n",
       "      <td>116.702819</td>\n",
       "      <td>8.554861</td>\n",
       "      <td>87.813660</td>\n",
       "      <td>False</td>\n",
       "    </tr>\n",
       "    <tr>\n",
       "      <th>5</th>\n",
       "      <td>Catégorie_004</td>\n",
       "      <td>69075.14</td>\n",
       "      <td>632</td>\n",
       "      <td>748</td>\n",
       "      <td>109.296108</td>\n",
       "      <td>6.516769</td>\n",
       "      <td>94.330429</td>\n",
       "      <td>False</td>\n",
       "    </tr>\n",
       "    <tr>\n",
       "      <th>6</th>\n",
       "      <td>Catégorie_001</td>\n",
       "      <td>36295.55</td>\n",
       "      <td>282</td>\n",
       "      <td>331</td>\n",
       "      <td>128.707624</td>\n",
       "      <td>3.424238</td>\n",
       "      <td>97.754667</td>\n",
       "      <td>False</td>\n",
       "    </tr>\n",
       "    <tr>\n",
       "      <th>7</th>\n",
       "      <td>Catégorie_005</td>\n",
       "      <td>22874.53</td>\n",
       "      <td>182</td>\n",
       "      <td>221</td>\n",
       "      <td>125.684231</td>\n",
       "      <td>2.158056</td>\n",
       "      <td>99.912723</td>\n",
       "      <td>False</td>\n",
       "    </tr>\n",
       "    <tr>\n",
       "      <th>8</th>\n",
       "      <td>Catégorie_008</td>\n",
       "      <td>925.10</td>\n",
       "      <td>9</td>\n",
       "      <td>9</td>\n",
       "      <td>102.788889</td>\n",
       "      <td>0.087277</td>\n",
       "      <td>100.000000</td>\n",
       "      <td>False</td>\n",
       "    </tr>\n",
       "  </tbody>\n",
       "</table>\n",
       "</div>"
      ],
      "text/plain": [
       "        Category        GMV  Units  Orders         ASP  GMV_share_pct  \\\n",
       "0        Unknown  229604.91   2536    2526   90.538214      21.661660   \n",
       "1  Catégorie_006  228227.22   3024    2989   75.471964      21.531685   \n",
       "2  Catégorie_007  213887.15   2518    2776   84.943268      20.178797   \n",
       "3  Catégorie_002  168392.20   1240    1474  135.800161      15.886658   \n",
       "4  Catégorie_003   90678.09    777     880  116.702819       8.554861   \n",
       "5  Catégorie_004   69075.14    632     748  109.296108       6.516769   \n",
       "6  Catégorie_001   36295.55    282     331  128.707624       3.424238   \n",
       "7  Catégorie_005   22874.53    182     221  125.684231       2.158056   \n",
       "8  Catégorie_008     925.10      9       9  102.788889       0.087277   \n",
       "\n",
       "   GMV_cum_share_pct  Pareto_80  \n",
       "0          21.661660       True  \n",
       "1          43.193345       True  \n",
       "2          63.372141       True  \n",
       "3          79.258799       True  \n",
       "4          87.813660      False  \n",
       "5          94.330429      False  \n",
       "6          97.754667      False  \n",
       "7          99.912723      False  \n",
       "8         100.000000      False  "
      ]
     },
     "metadata": {},
     "output_type": "display_data"
    },
    {
     "data": {
      "text/html": [
       "<div>\n",
       "<style scoped>\n",
       "    .dataframe tbody tr th:only-of-type {\n",
       "        vertical-align: middle;\n",
       "    }\n",
       "\n",
       "    .dataframe tbody tr th {\n",
       "        vertical-align: top;\n",
       "    }\n",
       "\n",
       "    .dataframe thead th {\n",
       "        text-align: right;\n",
       "    }\n",
       "</style>\n",
       "<table border=\"1\" class=\"dataframe\">\n",
       "  <thead>\n",
       "    <tr style=\"text-align: right;\">\n",
       "      <th></th>\n",
       "      <th>Category</th>\n",
       "      <th>GMV</th>\n",
       "      <th>Units</th>\n",
       "      <th>Orders</th>\n",
       "      <th>ASP</th>\n",
       "      <th>GMV_share_pct</th>\n",
       "      <th>GMV_cum_share_pct</th>\n",
       "      <th>Pareto_80</th>\n",
       "    </tr>\n",
       "  </thead>\n",
       "  <tbody>\n",
       "    <tr>\n",
       "      <th>0</th>\n",
       "      <td>Unknown</td>\n",
       "      <td>229604.91</td>\n",
       "      <td>2536</td>\n",
       "      <td>2526</td>\n",
       "      <td>90.538214</td>\n",
       "      <td>21.661660</td>\n",
       "      <td>21.661660</td>\n",
       "      <td>True</td>\n",
       "    </tr>\n",
       "    <tr>\n",
       "      <th>1</th>\n",
       "      <td>Catégorie_006</td>\n",
       "      <td>228227.22</td>\n",
       "      <td>3024</td>\n",
       "      <td>2989</td>\n",
       "      <td>75.471964</td>\n",
       "      <td>21.531685</td>\n",
       "      <td>43.193345</td>\n",
       "      <td>True</td>\n",
       "    </tr>\n",
       "    <tr>\n",
       "      <th>2</th>\n",
       "      <td>Catégorie_007</td>\n",
       "      <td>213887.15</td>\n",
       "      <td>2518</td>\n",
       "      <td>2776</td>\n",
       "      <td>84.943268</td>\n",
       "      <td>20.178797</td>\n",
       "      <td>63.372141</td>\n",
       "      <td>True</td>\n",
       "    </tr>\n",
       "    <tr>\n",
       "      <th>3</th>\n",
       "      <td>Catégorie_002</td>\n",
       "      <td>168392.20</td>\n",
       "      <td>1240</td>\n",
       "      <td>1474</td>\n",
       "      <td>135.800161</td>\n",
       "      <td>15.886658</td>\n",
       "      <td>79.258799</td>\n",
       "      <td>True</td>\n",
       "    </tr>\n",
       "  </tbody>\n",
       "</table>\n",
       "</div>"
      ],
      "text/plain": [
       "        Category        GMV  Units  Orders         ASP  GMV_share_pct  \\\n",
       "0        Unknown  229604.91   2536    2526   90.538214      21.661660   \n",
       "1  Catégorie_006  228227.22   3024    2989   75.471964      21.531685   \n",
       "2  Catégorie_007  213887.15   2518    2776   84.943268      20.178797   \n",
       "3  Catégorie_002  168392.20   1240    1474  135.800161      15.886658   \n",
       "\n",
       "   GMV_cum_share_pct  Pareto_80  \n",
       "0          21.661660       True  \n",
       "1          43.193345       True  \n",
       "2          63.372141       True  \n",
       "3          79.258799       True  "
      ]
     },
     "metadata": {},
     "output_type": "display_data"
    }
   ],
   "source": [
    "from IPython.display import display\n",
    "\n",
    "category_perf = (\n",
    "    sales_df.assign(Category=sales_df['Catégorie'].fillna('Unknown'))\n",
    "    .groupby('Category', as_index=False)\n",
    "    .agg(\n",
    "        GMV=('Transaction_value', 'sum'),\n",
    "        Units=('Quantity_item', 'sum'),\n",
    "        Orders=('Transaction_ID', 'nunique'),\n",
    "    )\n",
    ")\n",
    "\n",
    "category_perf['ASP'] = category_perf['GMV'] / category_perf['Units'].replace({0: pd.NA})\n",
    "total_gmv = category_perf['GMV'].sum()\n",
    "category_perf['GMV_share_pct'] = (category_perf['GMV'] / total_gmv) * 100\n",
    "category_perf = category_perf.sort_values('GMV', ascending=False).reset_index(drop=True)\n",
    "category_perf['GMV_cum_share_pct'] = category_perf['GMV_share_pct'].cumsum()\n",
    "category_perf['Pareto_80'] = category_perf['GMV_cum_share_pct'] <= 80\n",
    "category_columns = ['Category', 'GMV', 'Units', 'Orders', 'ASP', 'GMV_share_pct', 'GMV_cum_share_pct', 'Pareto_80']\n",
    "display(category_perf.loc[:, category_columns].head(15))\n",
    "display(category_perf.loc[category_perf['Pareto_80'], category_columns])\n"
   ]
  },
  {
   "cell_type": "markdown",
   "id": "3bd27612",
   "metadata": {},
   "source": [
    "### Top 50 SKUs – GMV concentration\n"
   ]
  },
  {
   "cell_type": "code",
   "execution_count": 11,
   "id": "f81b5cd2",
   "metadata": {},
   "outputs": [
    {
     "data": {
      "text/html": [
       "<div>\n",
       "<style scoped>\n",
       "    .dataframe tbody tr th:only-of-type {\n",
       "        vertical-align: middle;\n",
       "    }\n",
       "\n",
       "    .dataframe tbody tr th {\n",
       "        vertical-align: top;\n",
       "    }\n",
       "\n",
       "    .dataframe thead th {\n",
       "        text-align: right;\n",
       "    }\n",
       "</style>\n",
       "<table border=\"1\" class=\"dataframe\">\n",
       "  <thead>\n",
       "    <tr style=\"text-align: right;\">\n",
       "      <th></th>\n",
       "      <th>SKU</th>\n",
       "      <th>SKU_Label</th>\n",
       "      <th>GMV</th>\n",
       "      <th>Units</th>\n",
       "      <th>Orders</th>\n",
       "      <th>ASP</th>\n",
       "      <th>GMV_share_pct</th>\n",
       "      <th>GMV_cum_share_pct</th>\n",
       "      <th>Pareto_80</th>\n",
       "    </tr>\n",
       "  </thead>\n",
       "  <tbody>\n",
       "    <tr>\n",
       "      <th>0</th>\n",
       "      <td>SKUBD9E38FA</td>\n",
       "      <td>SKUBD9E38FA</td>\n",
       "      <td>229604.91</td>\n",
       "      <td>2536</td>\n",
       "      <td>2526</td>\n",
       "      <td>90.538214</td>\n",
       "      <td>21.661660</td>\n",
       "      <td>21.661660</td>\n",
       "      <td>True</td>\n",
       "    </tr>\n",
       "    <tr>\n",
       "      <th>1</th>\n",
       "      <td>SKU0D7415C7</td>\n",
       "      <td>Style_6380</td>\n",
       "      <td>2361.89</td>\n",
       "      <td>30</td>\n",
       "      <td>30</td>\n",
       "      <td>78.729667</td>\n",
       "      <td>0.222828</td>\n",
       "      <td>21.884488</td>\n",
       "      <td>True</td>\n",
       "    </tr>\n",
       "    <tr>\n",
       "      <th>2</th>\n",
       "      <td>SKUBD1DDE57</td>\n",
       "      <td>Style_6379</td>\n",
       "      <td>1815.30</td>\n",
       "      <td>25</td>\n",
       "      <td>24</td>\n",
       "      <td>72.612</td>\n",
       "      <td>0.171261</td>\n",
       "      <td>22.055750</td>\n",
       "      <td>True</td>\n",
       "    </tr>\n",
       "    <tr>\n",
       "      <th>3</th>\n",
       "      <td>SKU5B935F42</td>\n",
       "      <td>Style_3356</td>\n",
       "      <td>1737.95</td>\n",
       "      <td>2</td>\n",
       "      <td>2</td>\n",
       "      <td>868.975</td>\n",
       "      <td>0.163964</td>\n",
       "      <td>22.219713</td>\n",
       "      <td>True</td>\n",
       "    </tr>\n",
       "    <tr>\n",
       "      <th>4</th>\n",
       "      <td>SKU3EF8334F</td>\n",
       "      <td>Style_7250</td>\n",
       "      <td>1536.40</td>\n",
       "      <td>10</td>\n",
       "      <td>10</td>\n",
       "      <td>153.64</td>\n",
       "      <td>0.144949</td>\n",
       "      <td>22.364662</td>\n",
       "      <td>True</td>\n",
       "    </tr>\n",
       "    <tr>\n",
       "      <th>5</th>\n",
       "      <td>SKU9F5059EB</td>\n",
       "      <td>Style_6642</td>\n",
       "      <td>956.49</td>\n",
       "      <td>1</td>\n",
       "      <td>1</td>\n",
       "      <td>956.49</td>\n",
       "      <td>0.090238</td>\n",
       "      <td>22.454901</td>\n",
       "      <td>True</td>\n",
       "    </tr>\n",
       "    <tr>\n",
       "      <th>6</th>\n",
       "      <td>SKUEABB9A7C</td>\n",
       "      <td>Style_6381</td>\n",
       "      <td>898.24</td>\n",
       "      <td>12</td>\n",
       "      <td>12</td>\n",
       "      <td>74.853333</td>\n",
       "      <td>0.084743</td>\n",
       "      <td>22.539643</td>\n",
       "      <td>True</td>\n",
       "    </tr>\n",
       "    <tr>\n",
       "      <th>7</th>\n",
       "      <td>SKU64FE8662</td>\n",
       "      <td>Style_5472</td>\n",
       "      <td>880.96</td>\n",
       "      <td>4</td>\n",
       "      <td>4</td>\n",
       "      <td>220.24</td>\n",
       "      <td>0.083113</td>\n",
       "      <td>22.622756</td>\n",
       "      <td>True</td>\n",
       "    </tr>\n",
       "    <tr>\n",
       "      <th>8</th>\n",
       "      <td>SKUD540B6DD</td>\n",
       "      <td>Style_2505</td>\n",
       "      <td>878.00</td>\n",
       "      <td>4</td>\n",
       "      <td>4</td>\n",
       "      <td>219.5</td>\n",
       "      <td>0.082833</td>\n",
       "      <td>22.705589</td>\n",
       "      <td>True</td>\n",
       "    </tr>\n",
       "    <tr>\n",
       "      <th>9</th>\n",
       "      <td>SKU284580DB</td>\n",
       "      <td>Style_3576</td>\n",
       "      <td>854.07</td>\n",
       "      <td>2</td>\n",
       "      <td>2</td>\n",
       "      <td>427.035</td>\n",
       "      <td>0.080576</td>\n",
       "      <td>22.786165</td>\n",
       "      <td>True</td>\n",
       "    </tr>\n",
       "    <tr>\n",
       "      <th>10</th>\n",
       "      <td>SKUDD2E240E</td>\n",
       "      <td>Style_4993</td>\n",
       "      <td>843.89</td>\n",
       "      <td>1</td>\n",
       "      <td>1</td>\n",
       "      <td>843.89</td>\n",
       "      <td>0.079615</td>\n",
       "      <td>22.865780</td>\n",
       "      <td>True</td>\n",
       "    </tr>\n",
       "    <tr>\n",
       "      <th>11</th>\n",
       "      <td>SKU56FDD474</td>\n",
       "      <td>Style_2337</td>\n",
       "      <td>778.59</td>\n",
       "      <td>4</td>\n",
       "      <td>4</td>\n",
       "      <td>194.6475</td>\n",
       "      <td>0.073455</td>\n",
       "      <td>22.939235</td>\n",
       "      <td>True</td>\n",
       "    </tr>\n",
       "    <tr>\n",
       "      <th>12</th>\n",
       "      <td>SKU8326A04F</td>\n",
       "      <td>Style_5249</td>\n",
       "      <td>775.05</td>\n",
       "      <td>1</td>\n",
       "      <td>1</td>\n",
       "      <td>775.05</td>\n",
       "      <td>0.073121</td>\n",
       "      <td>23.012356</td>\n",
       "      <td>True</td>\n",
       "    </tr>\n",
       "    <tr>\n",
       "      <th>13</th>\n",
       "      <td>SKUE76B3744</td>\n",
       "      <td>Style_3282</td>\n",
       "      <td>771.27</td>\n",
       "      <td>3</td>\n",
       "      <td>3</td>\n",
       "      <td>257.09</td>\n",
       "      <td>0.072764</td>\n",
       "      <td>23.085120</td>\n",
       "      <td>True</td>\n",
       "    </tr>\n",
       "    <tr>\n",
       "      <th>14</th>\n",
       "      <td>SKUBCFDD4E4</td>\n",
       "      <td>Style_5507</td>\n",
       "      <td>755.10</td>\n",
       "      <td>2</td>\n",
       "      <td>2</td>\n",
       "      <td>377.55</td>\n",
       "      <td>0.071239</td>\n",
       "      <td>23.156358</td>\n",
       "      <td>True</td>\n",
       "    </tr>\n",
       "    <tr>\n",
       "      <th>15</th>\n",
       "      <td>SKU79D7ED2E</td>\n",
       "      <td>Style_5970</td>\n",
       "      <td>751.18</td>\n",
       "      <td>5</td>\n",
       "      <td>5</td>\n",
       "      <td>150.236</td>\n",
       "      <td>0.070869</td>\n",
       "      <td>23.227227</td>\n",
       "      <td>True</td>\n",
       "    </tr>\n",
       "    <tr>\n",
       "      <th>16</th>\n",
       "      <td>SKU77BBD49B</td>\n",
       "      <td>Style_2906</td>\n",
       "      <td>743.11</td>\n",
       "      <td>3</td>\n",
       "      <td>3</td>\n",
       "      <td>247.703333</td>\n",
       "      <td>0.070107</td>\n",
       "      <td>23.297334</td>\n",
       "      <td>True</td>\n",
       "    </tr>\n",
       "    <tr>\n",
       "      <th>17</th>\n",
       "      <td>SKU2BB593A0</td>\n",
       "      <td>Style_2558</td>\n",
       "      <td>725.89</td>\n",
       "      <td>5</td>\n",
       "      <td>5</td>\n",
       "      <td>145.178</td>\n",
       "      <td>0.068483</td>\n",
       "      <td>23.365817</td>\n",
       "      <td>True</td>\n",
       "    </tr>\n",
       "    <tr>\n",
       "      <th>18</th>\n",
       "      <td>SKUF51B2FBB</td>\n",
       "      <td>Style_6370</td>\n",
       "      <td>725.60</td>\n",
       "      <td>22</td>\n",
       "      <td>22</td>\n",
       "      <td>32.981818</td>\n",
       "      <td>0.068455</td>\n",
       "      <td>23.434273</td>\n",
       "      <td>True</td>\n",
       "    </tr>\n",
       "    <tr>\n",
       "      <th>19</th>\n",
       "      <td>SKU482220EC</td>\n",
       "      <td>Style_1980</td>\n",
       "      <td>714.21</td>\n",
       "      <td>1</td>\n",
       "      <td>1</td>\n",
       "      <td>714.21</td>\n",
       "      <td>0.067381</td>\n",
       "      <td>23.501653</td>\n",
       "      <td>True</td>\n",
       "    </tr>\n",
       "    <tr>\n",
       "      <th>20</th>\n",
       "      <td>SKU790CF8D7</td>\n",
       "      <td>Style_1799</td>\n",
       "      <td>711.41</td>\n",
       "      <td>1</td>\n",
       "      <td>1</td>\n",
       "      <td>711.41</td>\n",
       "      <td>0.067117</td>\n",
       "      <td>23.568770</td>\n",
       "      <td>True</td>\n",
       "    </tr>\n",
       "    <tr>\n",
       "      <th>21</th>\n",
       "      <td>SKUA7906D4A</td>\n",
       "      <td>Style_7318</td>\n",
       "      <td>704.90</td>\n",
       "      <td>6</td>\n",
       "      <td>6</td>\n",
       "      <td>117.483333</td>\n",
       "      <td>0.066503</td>\n",
       "      <td>23.635273</td>\n",
       "      <td>True</td>\n",
       "    </tr>\n",
       "    <tr>\n",
       "      <th>22</th>\n",
       "      <td>SKU773C8B75</td>\n",
       "      <td>Style_3416</td>\n",
       "      <td>699.46</td>\n",
       "      <td>2</td>\n",
       "      <td>2</td>\n",
       "      <td>349.73</td>\n",
       "      <td>0.065989</td>\n",
       "      <td>23.701262</td>\n",
       "      <td>True</td>\n",
       "    </tr>\n",
       "    <tr>\n",
       "      <th>23</th>\n",
       "      <td>SKU3BC94508</td>\n",
       "      <td>Style_0958</td>\n",
       "      <td>697.11</td>\n",
       "      <td>1</td>\n",
       "      <td>1</td>\n",
       "      <td>697.11</td>\n",
       "      <td>0.065768</td>\n",
       "      <td>23.767030</td>\n",
       "      <td>True</td>\n",
       "    </tr>\n",
       "    <tr>\n",
       "      <th>24</th>\n",
       "      <td>SKU66996803</td>\n",
       "      <td>Style_5283</td>\n",
       "      <td>695.56</td>\n",
       "      <td>2</td>\n",
       "      <td>2</td>\n",
       "      <td>347.78</td>\n",
       "      <td>0.065621</td>\n",
       "      <td>23.832651</td>\n",
       "      <td>True</td>\n",
       "    </tr>\n",
       "    <tr>\n",
       "      <th>25</th>\n",
       "      <td>SKU292EF00C</td>\n",
       "      <td>Style_2160</td>\n",
       "      <td>680.09</td>\n",
       "      <td>4</td>\n",
       "      <td>4</td>\n",
       "      <td>170.0225</td>\n",
       "      <td>0.064162</td>\n",
       "      <td>23.896813</td>\n",
       "      <td>True</td>\n",
       "    </tr>\n",
       "    <tr>\n",
       "      <th>26</th>\n",
       "      <td>SKU0E4E23FA</td>\n",
       "      <td>Style_8255</td>\n",
       "      <td>676.89</td>\n",
       "      <td>1</td>\n",
       "      <td>1</td>\n",
       "      <td>676.89</td>\n",
       "      <td>0.063860</td>\n",
       "      <td>23.960673</td>\n",
       "      <td>True</td>\n",
       "    </tr>\n",
       "    <tr>\n",
       "      <th>27</th>\n",
       "      <td>SKU5CBD7859</td>\n",
       "      <td>Style_6378</td>\n",
       "      <td>669.07</td>\n",
       "      <td>15</td>\n",
       "      <td>15</td>\n",
       "      <td>44.604667</td>\n",
       "      <td>0.063122</td>\n",
       "      <td>24.023795</td>\n",
       "      <td>True</td>\n",
       "    </tr>\n",
       "    <tr>\n",
       "      <th>28</th>\n",
       "      <td>SKU279080DC</td>\n",
       "      <td>Style_3206</td>\n",
       "      <td>665.15</td>\n",
       "      <td>1</td>\n",
       "      <td>1</td>\n",
       "      <td>665.15</td>\n",
       "      <td>0.062752</td>\n",
       "      <td>24.086547</td>\n",
       "      <td>True</td>\n",
       "    </tr>\n",
       "    <tr>\n",
       "      <th>29</th>\n",
       "      <td>SKU66A9C323</td>\n",
       "      <td>Style_3404</td>\n",
       "      <td>664.19</td>\n",
       "      <td>2</td>\n",
       "      <td>2</td>\n",
       "      <td>332.095</td>\n",
       "      <td>0.062662</td>\n",
       "      <td>24.149209</td>\n",
       "      <td>True</td>\n",
       "    </tr>\n",
       "    <tr>\n",
       "      <th>30</th>\n",
       "      <td>SKUBF049EED</td>\n",
       "      <td>Style_5322</td>\n",
       "      <td>663.31</td>\n",
       "      <td>4</td>\n",
       "      <td>4</td>\n",
       "      <td>165.8275</td>\n",
       "      <td>0.062579</td>\n",
       "      <td>24.211788</td>\n",
       "      <td>True</td>\n",
       "    </tr>\n",
       "    <tr>\n",
       "      <th>31</th>\n",
       "      <td>SKU5186C38B</td>\n",
       "      <td>Style_2156</td>\n",
       "      <td>662.27</td>\n",
       "      <td>3</td>\n",
       "      <td>3</td>\n",
       "      <td>220.756667</td>\n",
       "      <td>0.062481</td>\n",
       "      <td>24.274269</td>\n",
       "      <td>True</td>\n",
       "    </tr>\n",
       "    <tr>\n",
       "      <th>32</th>\n",
       "      <td>SKU75B1D554</td>\n",
       "      <td>Style_8453</td>\n",
       "      <td>658.81</td>\n",
       "      <td>5</td>\n",
       "      <td>5</td>\n",
       "      <td>131.762</td>\n",
       "      <td>0.062154</td>\n",
       "      <td>24.336423</td>\n",
       "      <td>True</td>\n",
       "    </tr>\n",
       "    <tr>\n",
       "      <th>33</th>\n",
       "      <td>SKU294E5695</td>\n",
       "      <td>Style_6656</td>\n",
       "      <td>650.75</td>\n",
       "      <td>6</td>\n",
       "      <td>6</td>\n",
       "      <td>108.458333</td>\n",
       "      <td>0.061394</td>\n",
       "      <td>24.397817</td>\n",
       "      <td>True</td>\n",
       "    </tr>\n",
       "    <tr>\n",
       "      <th>34</th>\n",
       "      <td>SKU4E6BF30F</td>\n",
       "      <td>Style_7366</td>\n",
       "      <td>649.19</td>\n",
       "      <td>2</td>\n",
       "      <td>2</td>\n",
       "      <td>324.595</td>\n",
       "      <td>0.061247</td>\n",
       "      <td>24.459063</td>\n",
       "      <td>True</td>\n",
       "    </tr>\n",
       "    <tr>\n",
       "      <th>35</th>\n",
       "      <td>SKUB42B1661</td>\n",
       "      <td>Style_6654</td>\n",
       "      <td>634.65</td>\n",
       "      <td>3</td>\n",
       "      <td>2</td>\n",
       "      <td>211.55</td>\n",
       "      <td>0.059875</td>\n",
       "      <td>24.518938</td>\n",
       "      <td>True</td>\n",
       "    </tr>\n",
       "    <tr>\n",
       "      <th>36</th>\n",
       "      <td>SKU48F630A0</td>\n",
       "      <td>Style_3914</td>\n",
       "      <td>634.22</td>\n",
       "      <td>4</td>\n",
       "      <td>4</td>\n",
       "      <td>158.555</td>\n",
       "      <td>0.059834</td>\n",
       "      <td>24.578773</td>\n",
       "      <td>True</td>\n",
       "    </tr>\n",
       "    <tr>\n",
       "      <th>37</th>\n",
       "      <td>SKUB7F07BA1</td>\n",
       "      <td>Style_6188</td>\n",
       "      <td>633.79</td>\n",
       "      <td>3</td>\n",
       "      <td>3</td>\n",
       "      <td>211.263333</td>\n",
       "      <td>0.059794</td>\n",
       "      <td>24.638566</td>\n",
       "      <td>True</td>\n",
       "    </tr>\n",
       "    <tr>\n",
       "      <th>38</th>\n",
       "      <td>SKU76265E60</td>\n",
       "      <td>Style_2307</td>\n",
       "      <td>627.40</td>\n",
       "      <td>0</td>\n",
       "      <td>2</td>\n",
       "      <td>&lt;NA&gt;</td>\n",
       "      <td>0.059191</td>\n",
       "      <td>24.697757</td>\n",
       "      <td>True</td>\n",
       "    </tr>\n",
       "    <tr>\n",
       "      <th>39</th>\n",
       "      <td>SKU6606BDAA</td>\n",
       "      <td>Style_3459</td>\n",
       "      <td>623.28</td>\n",
       "      <td>2</td>\n",
       "      <td>2</td>\n",
       "      <td>311.64</td>\n",
       "      <td>0.058802</td>\n",
       "      <td>24.756559</td>\n",
       "      <td>True</td>\n",
       "    </tr>\n",
       "    <tr>\n",
       "      <th>40</th>\n",
       "      <td>SKU0C4BBAB5</td>\n",
       "      <td>Style_2331</td>\n",
       "      <td>619.39</td>\n",
       "      <td>4</td>\n",
       "      <td>4</td>\n",
       "      <td>154.8475</td>\n",
       "      <td>0.058435</td>\n",
       "      <td>24.814995</td>\n",
       "      <td>True</td>\n",
       "    </tr>\n",
       "    <tr>\n",
       "      <th>41</th>\n",
       "      <td>SKU712CC755</td>\n",
       "      <td>Style_4097</td>\n",
       "      <td>619.14</td>\n",
       "      <td>4</td>\n",
       "      <td>4</td>\n",
       "      <td>154.785</td>\n",
       "      <td>0.058412</td>\n",
       "      <td>24.873406</td>\n",
       "      <td>True</td>\n",
       "    </tr>\n",
       "    <tr>\n",
       "      <th>42</th>\n",
       "      <td>SKUE2E80EC9</td>\n",
       "      <td>Style_3442</td>\n",
       "      <td>618.01</td>\n",
       "      <td>4</td>\n",
       "      <td>4</td>\n",
       "      <td>154.5025</td>\n",
       "      <td>0.058305</td>\n",
       "      <td>24.931711</td>\n",
       "      <td>True</td>\n",
       "    </tr>\n",
       "    <tr>\n",
       "      <th>43</th>\n",
       "      <td>SKU77A1A3FC</td>\n",
       "      <td>Style_0883</td>\n",
       "      <td>617.94</td>\n",
       "      <td>2</td>\n",
       "      <td>2</td>\n",
       "      <td>308.97</td>\n",
       "      <td>0.058298</td>\n",
       "      <td>24.990010</td>\n",
       "      <td>True</td>\n",
       "    </tr>\n",
       "    <tr>\n",
       "      <th>44</th>\n",
       "      <td>SKU0F3DA382</td>\n",
       "      <td>Style_7326</td>\n",
       "      <td>615.94</td>\n",
       "      <td>4</td>\n",
       "      <td>3</td>\n",
       "      <td>153.985</td>\n",
       "      <td>0.058110</td>\n",
       "      <td>25.048120</td>\n",
       "      <td>True</td>\n",
       "    </tr>\n",
       "    <tr>\n",
       "      <th>45</th>\n",
       "      <td>SKU057ECFCA</td>\n",
       "      <td>Style_8344</td>\n",
       "      <td>615.48</td>\n",
       "      <td>3</td>\n",
       "      <td>3</td>\n",
       "      <td>205.16</td>\n",
       "      <td>0.058066</td>\n",
       "      <td>25.106186</td>\n",
       "      <td>True</td>\n",
       "    </tr>\n",
       "    <tr>\n",
       "      <th>46</th>\n",
       "      <td>SKU064F1D72</td>\n",
       "      <td>Style_0913</td>\n",
       "      <td>614.72</td>\n",
       "      <td>4</td>\n",
       "      <td>4</td>\n",
       "      <td>153.68</td>\n",
       "      <td>0.057995</td>\n",
       "      <td>25.164181</td>\n",
       "      <td>True</td>\n",
       "    </tr>\n",
       "    <tr>\n",
       "      <th>47</th>\n",
       "      <td>SKUA2F07DB6</td>\n",
       "      <td>Style_0874</td>\n",
       "      <td>613.35</td>\n",
       "      <td>2</td>\n",
       "      <td>2</td>\n",
       "      <td>306.675</td>\n",
       "      <td>0.057865</td>\n",
       "      <td>25.222046</td>\n",
       "      <td>True</td>\n",
       "    </tr>\n",
       "    <tr>\n",
       "      <th>48</th>\n",
       "      <td>SKUA536A132</td>\n",
       "      <td>Style_1818</td>\n",
       "      <td>613.26</td>\n",
       "      <td>1</td>\n",
       "      <td>1</td>\n",
       "      <td>613.26</td>\n",
       "      <td>0.057857</td>\n",
       "      <td>25.279903</td>\n",
       "      <td>True</td>\n",
       "    </tr>\n",
       "    <tr>\n",
       "      <th>49</th>\n",
       "      <td>SKUA8A91992</td>\n",
       "      <td>Style_3661</td>\n",
       "      <td>604.25</td>\n",
       "      <td>1</td>\n",
       "      <td>1</td>\n",
       "      <td>604.25</td>\n",
       "      <td>0.057007</td>\n",
       "      <td>25.336910</td>\n",
       "      <td>True</td>\n",
       "    </tr>\n",
       "  </tbody>\n",
       "</table>\n",
       "</div>"
      ],
      "text/plain": [
       "            SKU    SKU_Label        GMV  Units  Orders         ASP  \\\n",
       "0   SKUBD9E38FA  SKUBD9E38FA  229604.91   2536    2526   90.538214   \n",
       "1   SKU0D7415C7   Style_6380    2361.89     30      30   78.729667   \n",
       "2   SKUBD1DDE57   Style_6379    1815.30     25      24      72.612   \n",
       "3   SKU5B935F42   Style_3356    1737.95      2       2     868.975   \n",
       "4   SKU3EF8334F   Style_7250    1536.40     10      10      153.64   \n",
       "5   SKU9F5059EB   Style_6642     956.49      1       1      956.49   \n",
       "6   SKUEABB9A7C   Style_6381     898.24     12      12   74.853333   \n",
       "7   SKU64FE8662   Style_5472     880.96      4       4      220.24   \n",
       "8   SKUD540B6DD   Style_2505     878.00      4       4       219.5   \n",
       "9   SKU284580DB   Style_3576     854.07      2       2     427.035   \n",
       "10  SKUDD2E240E   Style_4993     843.89      1       1      843.89   \n",
       "11  SKU56FDD474   Style_2337     778.59      4       4    194.6475   \n",
       "12  SKU8326A04F   Style_5249     775.05      1       1      775.05   \n",
       "13  SKUE76B3744   Style_3282     771.27      3       3      257.09   \n",
       "14  SKUBCFDD4E4   Style_5507     755.10      2       2      377.55   \n",
       "15  SKU79D7ED2E   Style_5970     751.18      5       5     150.236   \n",
       "16  SKU77BBD49B   Style_2906     743.11      3       3  247.703333   \n",
       "17  SKU2BB593A0   Style_2558     725.89      5       5     145.178   \n",
       "18  SKUF51B2FBB   Style_6370     725.60     22      22   32.981818   \n",
       "19  SKU482220EC   Style_1980     714.21      1       1      714.21   \n",
       "20  SKU790CF8D7   Style_1799     711.41      1       1      711.41   \n",
       "21  SKUA7906D4A   Style_7318     704.90      6       6  117.483333   \n",
       "22  SKU773C8B75   Style_3416     699.46      2       2      349.73   \n",
       "23  SKU3BC94508   Style_0958     697.11      1       1      697.11   \n",
       "24  SKU66996803   Style_5283     695.56      2       2      347.78   \n",
       "25  SKU292EF00C   Style_2160     680.09      4       4    170.0225   \n",
       "26  SKU0E4E23FA   Style_8255     676.89      1       1      676.89   \n",
       "27  SKU5CBD7859   Style_6378     669.07     15      15   44.604667   \n",
       "28  SKU279080DC   Style_3206     665.15      1       1      665.15   \n",
       "29  SKU66A9C323   Style_3404     664.19      2       2     332.095   \n",
       "30  SKUBF049EED   Style_5322     663.31      4       4    165.8275   \n",
       "31  SKU5186C38B   Style_2156     662.27      3       3  220.756667   \n",
       "32  SKU75B1D554   Style_8453     658.81      5       5     131.762   \n",
       "33  SKU294E5695   Style_6656     650.75      6       6  108.458333   \n",
       "34  SKU4E6BF30F   Style_7366     649.19      2       2     324.595   \n",
       "35  SKUB42B1661   Style_6654     634.65      3       2      211.55   \n",
       "36  SKU48F630A0   Style_3914     634.22      4       4     158.555   \n",
       "37  SKUB7F07BA1   Style_6188     633.79      3       3  211.263333   \n",
       "38  SKU76265E60   Style_2307     627.40      0       2        <NA>   \n",
       "39  SKU6606BDAA   Style_3459     623.28      2       2      311.64   \n",
       "40  SKU0C4BBAB5   Style_2331     619.39      4       4    154.8475   \n",
       "41  SKU712CC755   Style_4097     619.14      4       4     154.785   \n",
       "42  SKUE2E80EC9   Style_3442     618.01      4       4    154.5025   \n",
       "43  SKU77A1A3FC   Style_0883     617.94      2       2      308.97   \n",
       "44  SKU0F3DA382   Style_7326     615.94      4       3     153.985   \n",
       "45  SKU057ECFCA   Style_8344     615.48      3       3      205.16   \n",
       "46  SKU064F1D72   Style_0913     614.72      4       4      153.68   \n",
       "47  SKUA2F07DB6   Style_0874     613.35      2       2     306.675   \n",
       "48  SKUA536A132   Style_1818     613.26      1       1      613.26   \n",
       "49  SKUA8A91992   Style_3661     604.25      1       1      604.25   \n",
       "\n",
       "    GMV_share_pct  GMV_cum_share_pct  Pareto_80  \n",
       "0       21.661660          21.661660       True  \n",
       "1        0.222828          21.884488       True  \n",
       "2        0.171261          22.055750       True  \n",
       "3        0.163964          22.219713       True  \n",
       "4        0.144949          22.364662       True  \n",
       "5        0.090238          22.454901       True  \n",
       "6        0.084743          22.539643       True  \n",
       "7        0.083113          22.622756       True  \n",
       "8        0.082833          22.705589       True  \n",
       "9        0.080576          22.786165       True  \n",
       "10       0.079615          22.865780       True  \n",
       "11       0.073455          22.939235       True  \n",
       "12       0.073121          23.012356       True  \n",
       "13       0.072764          23.085120       True  \n",
       "14       0.071239          23.156358       True  \n",
       "15       0.070869          23.227227       True  \n",
       "16       0.070107          23.297334       True  \n",
       "17       0.068483          23.365817       True  \n",
       "18       0.068455          23.434273       True  \n",
       "19       0.067381          23.501653       True  \n",
       "20       0.067117          23.568770       True  \n",
       "21       0.066503          23.635273       True  \n",
       "22       0.065989          23.701262       True  \n",
       "23       0.065768          23.767030       True  \n",
       "24       0.065621          23.832651       True  \n",
       "25       0.064162          23.896813       True  \n",
       "26       0.063860          23.960673       True  \n",
       "27       0.063122          24.023795       True  \n",
       "28       0.062752          24.086547       True  \n",
       "29       0.062662          24.149209       True  \n",
       "30       0.062579          24.211788       True  \n",
       "31       0.062481          24.274269       True  \n",
       "32       0.062154          24.336423       True  \n",
       "33       0.061394          24.397817       True  \n",
       "34       0.061247          24.459063       True  \n",
       "35       0.059875          24.518938       True  \n",
       "36       0.059834          24.578773       True  \n",
       "37       0.059794          24.638566       True  \n",
       "38       0.059191          24.697757       True  \n",
       "39       0.058802          24.756559       True  \n",
       "40       0.058435          24.814995       True  \n",
       "41       0.058412          24.873406       True  \n",
       "42       0.058305          24.931711       True  \n",
       "43       0.058298          24.990010       True  \n",
       "44       0.058110          25.048120       True  \n",
       "45       0.058066          25.106186       True  \n",
       "46       0.057995          25.164181       True  \n",
       "47       0.057865          25.222046       True  \n",
       "48       0.057857          25.279903       True  \n",
       "49       0.057007          25.336910       True  "
      ]
     },
     "metadata": {},
     "output_type": "display_data"
    },
    {
     "data": {
      "text/html": [
       "<div>\n",
       "<style scoped>\n",
       "    .dataframe tbody tr th:only-of-type {\n",
       "        vertical-align: middle;\n",
       "    }\n",
       "\n",
       "    .dataframe tbody tr th {\n",
       "        vertical-align: top;\n",
       "    }\n",
       "\n",
       "    .dataframe thead th {\n",
       "        text-align: right;\n",
       "    }\n",
       "</style>\n",
       "<table border=\"1\" class=\"dataframe\">\n",
       "  <thead>\n",
       "    <tr style=\"text-align: right;\">\n",
       "      <th></th>\n",
       "      <th>SKU</th>\n",
       "      <th>SKU_Label</th>\n",
       "      <th>GMV</th>\n",
       "      <th>Units</th>\n",
       "      <th>Orders</th>\n",
       "      <th>ASP</th>\n",
       "      <th>GMV_share_pct</th>\n",
       "      <th>GMV_cum_share_pct</th>\n",
       "      <th>Pareto_80</th>\n",
       "    </tr>\n",
       "  </thead>\n",
       "  <tbody>\n",
       "    <tr>\n",
       "      <th>0</th>\n",
       "      <td>SKUBD9E38FA</td>\n",
       "      <td>SKUBD9E38FA</td>\n",
       "      <td>229604.91</td>\n",
       "      <td>2536</td>\n",
       "      <td>2526</td>\n",
       "      <td>90.538214</td>\n",
       "      <td>21.661660</td>\n",
       "      <td>21.661660</td>\n",
       "      <td>True</td>\n",
       "    </tr>\n",
       "    <tr>\n",
       "      <th>1</th>\n",
       "      <td>SKU0D7415C7</td>\n",
       "      <td>Style_6380</td>\n",
       "      <td>2361.89</td>\n",
       "      <td>30</td>\n",
       "      <td>30</td>\n",
       "      <td>78.729667</td>\n",
       "      <td>0.222828</td>\n",
       "      <td>21.884488</td>\n",
       "      <td>True</td>\n",
       "    </tr>\n",
       "    <tr>\n",
       "      <th>2</th>\n",
       "      <td>SKUBD1DDE57</td>\n",
       "      <td>Style_6379</td>\n",
       "      <td>1815.30</td>\n",
       "      <td>25</td>\n",
       "      <td>24</td>\n",
       "      <td>72.612</td>\n",
       "      <td>0.171261</td>\n",
       "      <td>22.055750</td>\n",
       "      <td>True</td>\n",
       "    </tr>\n",
       "    <tr>\n",
       "      <th>3</th>\n",
       "      <td>SKU5B935F42</td>\n",
       "      <td>Style_3356</td>\n",
       "      <td>1737.95</td>\n",
       "      <td>2</td>\n",
       "      <td>2</td>\n",
       "      <td>868.975</td>\n",
       "      <td>0.163964</td>\n",
       "      <td>22.219713</td>\n",
       "      <td>True</td>\n",
       "    </tr>\n",
       "    <tr>\n",
       "      <th>4</th>\n",
       "      <td>SKU3EF8334F</td>\n",
       "      <td>Style_7250</td>\n",
       "      <td>1536.40</td>\n",
       "      <td>10</td>\n",
       "      <td>10</td>\n",
       "      <td>153.64</td>\n",
       "      <td>0.144949</td>\n",
       "      <td>22.364662</td>\n",
       "      <td>True</td>\n",
       "    </tr>\n",
       "    <tr>\n",
       "      <th>5</th>\n",
       "      <td>SKU9F5059EB</td>\n",
       "      <td>Style_6642</td>\n",
       "      <td>956.49</td>\n",
       "      <td>1</td>\n",
       "      <td>1</td>\n",
       "      <td>956.49</td>\n",
       "      <td>0.090238</td>\n",
       "      <td>22.454901</td>\n",
       "      <td>True</td>\n",
       "    </tr>\n",
       "    <tr>\n",
       "      <th>6</th>\n",
       "      <td>SKUEABB9A7C</td>\n",
       "      <td>Style_6381</td>\n",
       "      <td>898.24</td>\n",
       "      <td>12</td>\n",
       "      <td>12</td>\n",
       "      <td>74.853333</td>\n",
       "      <td>0.084743</td>\n",
       "      <td>22.539643</td>\n",
       "      <td>True</td>\n",
       "    </tr>\n",
       "    <tr>\n",
       "      <th>7</th>\n",
       "      <td>SKU64FE8662</td>\n",
       "      <td>Style_5472</td>\n",
       "      <td>880.96</td>\n",
       "      <td>4</td>\n",
       "      <td>4</td>\n",
       "      <td>220.24</td>\n",
       "      <td>0.083113</td>\n",
       "      <td>22.622756</td>\n",
       "      <td>True</td>\n",
       "    </tr>\n",
       "    <tr>\n",
       "      <th>8</th>\n",
       "      <td>SKUD540B6DD</td>\n",
       "      <td>Style_2505</td>\n",
       "      <td>878.00</td>\n",
       "      <td>4</td>\n",
       "      <td>4</td>\n",
       "      <td>219.5</td>\n",
       "      <td>0.082833</td>\n",
       "      <td>22.705589</td>\n",
       "      <td>True</td>\n",
       "    </tr>\n",
       "    <tr>\n",
       "      <th>9</th>\n",
       "      <td>SKU284580DB</td>\n",
       "      <td>Style_3576</td>\n",
       "      <td>854.07</td>\n",
       "      <td>2</td>\n",
       "      <td>2</td>\n",
       "      <td>427.035</td>\n",
       "      <td>0.080576</td>\n",
       "      <td>22.786165</td>\n",
       "      <td>True</td>\n",
       "    </tr>\n",
       "    <tr>\n",
       "      <th>10</th>\n",
       "      <td>SKUDD2E240E</td>\n",
       "      <td>Style_4993</td>\n",
       "      <td>843.89</td>\n",
       "      <td>1</td>\n",
       "      <td>1</td>\n",
       "      <td>843.89</td>\n",
       "      <td>0.079615</td>\n",
       "      <td>22.865780</td>\n",
       "      <td>True</td>\n",
       "    </tr>\n",
       "    <tr>\n",
       "      <th>11</th>\n",
       "      <td>SKU56FDD474</td>\n",
       "      <td>Style_2337</td>\n",
       "      <td>778.59</td>\n",
       "      <td>4</td>\n",
       "      <td>4</td>\n",
       "      <td>194.6475</td>\n",
       "      <td>0.073455</td>\n",
       "      <td>22.939235</td>\n",
       "      <td>True</td>\n",
       "    </tr>\n",
       "    <tr>\n",
       "      <th>12</th>\n",
       "      <td>SKU8326A04F</td>\n",
       "      <td>Style_5249</td>\n",
       "      <td>775.05</td>\n",
       "      <td>1</td>\n",
       "      <td>1</td>\n",
       "      <td>775.05</td>\n",
       "      <td>0.073121</td>\n",
       "      <td>23.012356</td>\n",
       "      <td>True</td>\n",
       "    </tr>\n",
       "    <tr>\n",
       "      <th>13</th>\n",
       "      <td>SKUE76B3744</td>\n",
       "      <td>Style_3282</td>\n",
       "      <td>771.27</td>\n",
       "      <td>3</td>\n",
       "      <td>3</td>\n",
       "      <td>257.09</td>\n",
       "      <td>0.072764</td>\n",
       "      <td>23.085120</td>\n",
       "      <td>True</td>\n",
       "    </tr>\n",
       "    <tr>\n",
       "      <th>14</th>\n",
       "      <td>SKUBCFDD4E4</td>\n",
       "      <td>Style_5507</td>\n",
       "      <td>755.10</td>\n",
       "      <td>2</td>\n",
       "      <td>2</td>\n",
       "      <td>377.55</td>\n",
       "      <td>0.071239</td>\n",
       "      <td>23.156358</td>\n",
       "      <td>True</td>\n",
       "    </tr>\n",
       "    <tr>\n",
       "      <th>15</th>\n",
       "      <td>SKU79D7ED2E</td>\n",
       "      <td>Style_5970</td>\n",
       "      <td>751.18</td>\n",
       "      <td>5</td>\n",
       "      <td>5</td>\n",
       "      <td>150.236</td>\n",
       "      <td>0.070869</td>\n",
       "      <td>23.227227</td>\n",
       "      <td>True</td>\n",
       "    </tr>\n",
       "    <tr>\n",
       "      <th>16</th>\n",
       "      <td>SKU77BBD49B</td>\n",
       "      <td>Style_2906</td>\n",
       "      <td>743.11</td>\n",
       "      <td>3</td>\n",
       "      <td>3</td>\n",
       "      <td>247.703333</td>\n",
       "      <td>0.070107</td>\n",
       "      <td>23.297334</td>\n",
       "      <td>True</td>\n",
       "    </tr>\n",
       "    <tr>\n",
       "      <th>17</th>\n",
       "      <td>SKU2BB593A0</td>\n",
       "      <td>Style_2558</td>\n",
       "      <td>725.89</td>\n",
       "      <td>5</td>\n",
       "      <td>5</td>\n",
       "      <td>145.178</td>\n",
       "      <td>0.068483</td>\n",
       "      <td>23.365817</td>\n",
       "      <td>True</td>\n",
       "    </tr>\n",
       "    <tr>\n",
       "      <th>18</th>\n",
       "      <td>SKUF51B2FBB</td>\n",
       "      <td>Style_6370</td>\n",
       "      <td>725.60</td>\n",
       "      <td>22</td>\n",
       "      <td>22</td>\n",
       "      <td>32.981818</td>\n",
       "      <td>0.068455</td>\n",
       "      <td>23.434273</td>\n",
       "      <td>True</td>\n",
       "    </tr>\n",
       "    <tr>\n",
       "      <th>19</th>\n",
       "      <td>SKU482220EC</td>\n",
       "      <td>Style_1980</td>\n",
       "      <td>714.21</td>\n",
       "      <td>1</td>\n",
       "      <td>1</td>\n",
       "      <td>714.21</td>\n",
       "      <td>0.067381</td>\n",
       "      <td>23.501653</td>\n",
       "      <td>True</td>\n",
       "    </tr>\n",
       "    <tr>\n",
       "      <th>20</th>\n",
       "      <td>SKU790CF8D7</td>\n",
       "      <td>Style_1799</td>\n",
       "      <td>711.41</td>\n",
       "      <td>1</td>\n",
       "      <td>1</td>\n",
       "      <td>711.41</td>\n",
       "      <td>0.067117</td>\n",
       "      <td>23.568770</td>\n",
       "      <td>True</td>\n",
       "    </tr>\n",
       "    <tr>\n",
       "      <th>21</th>\n",
       "      <td>SKUA7906D4A</td>\n",
       "      <td>Style_7318</td>\n",
       "      <td>704.90</td>\n",
       "      <td>6</td>\n",
       "      <td>6</td>\n",
       "      <td>117.483333</td>\n",
       "      <td>0.066503</td>\n",
       "      <td>23.635273</td>\n",
       "      <td>True</td>\n",
       "    </tr>\n",
       "    <tr>\n",
       "      <th>22</th>\n",
       "      <td>SKU773C8B75</td>\n",
       "      <td>Style_3416</td>\n",
       "      <td>699.46</td>\n",
       "      <td>2</td>\n",
       "      <td>2</td>\n",
       "      <td>349.73</td>\n",
       "      <td>0.065989</td>\n",
       "      <td>23.701262</td>\n",
       "      <td>True</td>\n",
       "    </tr>\n",
       "    <tr>\n",
       "      <th>23</th>\n",
       "      <td>SKU3BC94508</td>\n",
       "      <td>Style_0958</td>\n",
       "      <td>697.11</td>\n",
       "      <td>1</td>\n",
       "      <td>1</td>\n",
       "      <td>697.11</td>\n",
       "      <td>0.065768</td>\n",
       "      <td>23.767030</td>\n",
       "      <td>True</td>\n",
       "    </tr>\n",
       "    <tr>\n",
       "      <th>24</th>\n",
       "      <td>SKU66996803</td>\n",
       "      <td>Style_5283</td>\n",
       "      <td>695.56</td>\n",
       "      <td>2</td>\n",
       "      <td>2</td>\n",
       "      <td>347.78</td>\n",
       "      <td>0.065621</td>\n",
       "      <td>23.832651</td>\n",
       "      <td>True</td>\n",
       "    </tr>\n",
       "    <tr>\n",
       "      <th>25</th>\n",
       "      <td>SKU292EF00C</td>\n",
       "      <td>Style_2160</td>\n",
       "      <td>680.09</td>\n",
       "      <td>4</td>\n",
       "      <td>4</td>\n",
       "      <td>170.0225</td>\n",
       "      <td>0.064162</td>\n",
       "      <td>23.896813</td>\n",
       "      <td>True</td>\n",
       "    </tr>\n",
       "    <tr>\n",
       "      <th>26</th>\n",
       "      <td>SKU0E4E23FA</td>\n",
       "      <td>Style_8255</td>\n",
       "      <td>676.89</td>\n",
       "      <td>1</td>\n",
       "      <td>1</td>\n",
       "      <td>676.89</td>\n",
       "      <td>0.063860</td>\n",
       "      <td>23.960673</td>\n",
       "      <td>True</td>\n",
       "    </tr>\n",
       "    <tr>\n",
       "      <th>27</th>\n",
       "      <td>SKU5CBD7859</td>\n",
       "      <td>Style_6378</td>\n",
       "      <td>669.07</td>\n",
       "      <td>15</td>\n",
       "      <td>15</td>\n",
       "      <td>44.604667</td>\n",
       "      <td>0.063122</td>\n",
       "      <td>24.023795</td>\n",
       "      <td>True</td>\n",
       "    </tr>\n",
       "    <tr>\n",
       "      <th>28</th>\n",
       "      <td>SKU279080DC</td>\n",
       "      <td>Style_3206</td>\n",
       "      <td>665.15</td>\n",
       "      <td>1</td>\n",
       "      <td>1</td>\n",
       "      <td>665.15</td>\n",
       "      <td>0.062752</td>\n",
       "      <td>24.086547</td>\n",
       "      <td>True</td>\n",
       "    </tr>\n",
       "    <tr>\n",
       "      <th>29</th>\n",
       "      <td>SKU66A9C323</td>\n",
       "      <td>Style_3404</td>\n",
       "      <td>664.19</td>\n",
       "      <td>2</td>\n",
       "      <td>2</td>\n",
       "      <td>332.095</td>\n",
       "      <td>0.062662</td>\n",
       "      <td>24.149209</td>\n",
       "      <td>True</td>\n",
       "    </tr>\n",
       "    <tr>\n",
       "      <th>30</th>\n",
       "      <td>SKUBF049EED</td>\n",
       "      <td>Style_5322</td>\n",
       "      <td>663.31</td>\n",
       "      <td>4</td>\n",
       "      <td>4</td>\n",
       "      <td>165.8275</td>\n",
       "      <td>0.062579</td>\n",
       "      <td>24.211788</td>\n",
       "      <td>True</td>\n",
       "    </tr>\n",
       "    <tr>\n",
       "      <th>31</th>\n",
       "      <td>SKU5186C38B</td>\n",
       "      <td>Style_2156</td>\n",
       "      <td>662.27</td>\n",
       "      <td>3</td>\n",
       "      <td>3</td>\n",
       "      <td>220.756667</td>\n",
       "      <td>0.062481</td>\n",
       "      <td>24.274269</td>\n",
       "      <td>True</td>\n",
       "    </tr>\n",
       "    <tr>\n",
       "      <th>32</th>\n",
       "      <td>SKU75B1D554</td>\n",
       "      <td>Style_8453</td>\n",
       "      <td>658.81</td>\n",
       "      <td>5</td>\n",
       "      <td>5</td>\n",
       "      <td>131.762</td>\n",
       "      <td>0.062154</td>\n",
       "      <td>24.336423</td>\n",
       "      <td>True</td>\n",
       "    </tr>\n",
       "    <tr>\n",
       "      <th>33</th>\n",
       "      <td>SKU294E5695</td>\n",
       "      <td>Style_6656</td>\n",
       "      <td>650.75</td>\n",
       "      <td>6</td>\n",
       "      <td>6</td>\n",
       "      <td>108.458333</td>\n",
       "      <td>0.061394</td>\n",
       "      <td>24.397817</td>\n",
       "      <td>True</td>\n",
       "    </tr>\n",
       "    <tr>\n",
       "      <th>34</th>\n",
       "      <td>SKU4E6BF30F</td>\n",
       "      <td>Style_7366</td>\n",
       "      <td>649.19</td>\n",
       "      <td>2</td>\n",
       "      <td>2</td>\n",
       "      <td>324.595</td>\n",
       "      <td>0.061247</td>\n",
       "      <td>24.459063</td>\n",
       "      <td>True</td>\n",
       "    </tr>\n",
       "    <tr>\n",
       "      <th>35</th>\n",
       "      <td>SKUB42B1661</td>\n",
       "      <td>Style_6654</td>\n",
       "      <td>634.65</td>\n",
       "      <td>3</td>\n",
       "      <td>2</td>\n",
       "      <td>211.55</td>\n",
       "      <td>0.059875</td>\n",
       "      <td>24.518938</td>\n",
       "      <td>True</td>\n",
       "    </tr>\n",
       "    <tr>\n",
       "      <th>36</th>\n",
       "      <td>SKU48F630A0</td>\n",
       "      <td>Style_3914</td>\n",
       "      <td>634.22</td>\n",
       "      <td>4</td>\n",
       "      <td>4</td>\n",
       "      <td>158.555</td>\n",
       "      <td>0.059834</td>\n",
       "      <td>24.578773</td>\n",
       "      <td>True</td>\n",
       "    </tr>\n",
       "    <tr>\n",
       "      <th>37</th>\n",
       "      <td>SKUB7F07BA1</td>\n",
       "      <td>Style_6188</td>\n",
       "      <td>633.79</td>\n",
       "      <td>3</td>\n",
       "      <td>3</td>\n",
       "      <td>211.263333</td>\n",
       "      <td>0.059794</td>\n",
       "      <td>24.638566</td>\n",
       "      <td>True</td>\n",
       "    </tr>\n",
       "    <tr>\n",
       "      <th>38</th>\n",
       "      <td>SKU76265E60</td>\n",
       "      <td>Style_2307</td>\n",
       "      <td>627.40</td>\n",
       "      <td>0</td>\n",
       "      <td>2</td>\n",
       "      <td>&lt;NA&gt;</td>\n",
       "      <td>0.059191</td>\n",
       "      <td>24.697757</td>\n",
       "      <td>True</td>\n",
       "    </tr>\n",
       "    <tr>\n",
       "      <th>39</th>\n",
       "      <td>SKU6606BDAA</td>\n",
       "      <td>Style_3459</td>\n",
       "      <td>623.28</td>\n",
       "      <td>2</td>\n",
       "      <td>2</td>\n",
       "      <td>311.64</td>\n",
       "      <td>0.058802</td>\n",
       "      <td>24.756559</td>\n",
       "      <td>True</td>\n",
       "    </tr>\n",
       "    <tr>\n",
       "      <th>40</th>\n",
       "      <td>SKU0C4BBAB5</td>\n",
       "      <td>Style_2331</td>\n",
       "      <td>619.39</td>\n",
       "      <td>4</td>\n",
       "      <td>4</td>\n",
       "      <td>154.8475</td>\n",
       "      <td>0.058435</td>\n",
       "      <td>24.814995</td>\n",
       "      <td>True</td>\n",
       "    </tr>\n",
       "    <tr>\n",
       "      <th>41</th>\n",
       "      <td>SKU712CC755</td>\n",
       "      <td>Style_4097</td>\n",
       "      <td>619.14</td>\n",
       "      <td>4</td>\n",
       "      <td>4</td>\n",
       "      <td>154.785</td>\n",
       "      <td>0.058412</td>\n",
       "      <td>24.873406</td>\n",
       "      <td>True</td>\n",
       "    </tr>\n",
       "    <tr>\n",
       "      <th>42</th>\n",
       "      <td>SKUE2E80EC9</td>\n",
       "      <td>Style_3442</td>\n",
       "      <td>618.01</td>\n",
       "      <td>4</td>\n",
       "      <td>4</td>\n",
       "      <td>154.5025</td>\n",
       "      <td>0.058305</td>\n",
       "      <td>24.931711</td>\n",
       "      <td>True</td>\n",
       "    </tr>\n",
       "    <tr>\n",
       "      <th>43</th>\n",
       "      <td>SKU77A1A3FC</td>\n",
       "      <td>Style_0883</td>\n",
       "      <td>617.94</td>\n",
       "      <td>2</td>\n",
       "      <td>2</td>\n",
       "      <td>308.97</td>\n",
       "      <td>0.058298</td>\n",
       "      <td>24.990010</td>\n",
       "      <td>True</td>\n",
       "    </tr>\n",
       "    <tr>\n",
       "      <th>44</th>\n",
       "      <td>SKU0F3DA382</td>\n",
       "      <td>Style_7326</td>\n",
       "      <td>615.94</td>\n",
       "      <td>4</td>\n",
       "      <td>3</td>\n",
       "      <td>153.985</td>\n",
       "      <td>0.058110</td>\n",
       "      <td>25.048120</td>\n",
       "      <td>True</td>\n",
       "    </tr>\n",
       "    <tr>\n",
       "      <th>45</th>\n",
       "      <td>SKU057ECFCA</td>\n",
       "      <td>Style_8344</td>\n",
       "      <td>615.48</td>\n",
       "      <td>3</td>\n",
       "      <td>3</td>\n",
       "      <td>205.16</td>\n",
       "      <td>0.058066</td>\n",
       "      <td>25.106186</td>\n",
       "      <td>True</td>\n",
       "    </tr>\n",
       "    <tr>\n",
       "      <th>46</th>\n",
       "      <td>SKU064F1D72</td>\n",
       "      <td>Style_0913</td>\n",
       "      <td>614.72</td>\n",
       "      <td>4</td>\n",
       "      <td>4</td>\n",
       "      <td>153.68</td>\n",
       "      <td>0.057995</td>\n",
       "      <td>25.164181</td>\n",
       "      <td>True</td>\n",
       "    </tr>\n",
       "    <tr>\n",
       "      <th>47</th>\n",
       "      <td>SKUA2F07DB6</td>\n",
       "      <td>Style_0874</td>\n",
       "      <td>613.35</td>\n",
       "      <td>2</td>\n",
       "      <td>2</td>\n",
       "      <td>306.675</td>\n",
       "      <td>0.057865</td>\n",
       "      <td>25.222046</td>\n",
       "      <td>True</td>\n",
       "    </tr>\n",
       "    <tr>\n",
       "      <th>48</th>\n",
       "      <td>SKUA536A132</td>\n",
       "      <td>Style_1818</td>\n",
       "      <td>613.26</td>\n",
       "      <td>1</td>\n",
       "      <td>1</td>\n",
       "      <td>613.26</td>\n",
       "      <td>0.057857</td>\n",
       "      <td>25.279903</td>\n",
       "      <td>True</td>\n",
       "    </tr>\n",
       "    <tr>\n",
       "      <th>49</th>\n",
       "      <td>SKUA8A91992</td>\n",
       "      <td>Style_3661</td>\n",
       "      <td>604.25</td>\n",
       "      <td>1</td>\n",
       "      <td>1</td>\n",
       "      <td>604.25</td>\n",
       "      <td>0.057007</td>\n",
       "      <td>25.336910</td>\n",
       "      <td>True</td>\n",
       "    </tr>\n",
       "  </tbody>\n",
       "</table>\n",
       "</div>"
      ],
      "text/plain": [
       "            SKU    SKU_Label        GMV  Units  Orders         ASP  \\\n",
       "0   SKUBD9E38FA  SKUBD9E38FA  229604.91   2536    2526   90.538214   \n",
       "1   SKU0D7415C7   Style_6380    2361.89     30      30   78.729667   \n",
       "2   SKUBD1DDE57   Style_6379    1815.30     25      24      72.612   \n",
       "3   SKU5B935F42   Style_3356    1737.95      2       2     868.975   \n",
       "4   SKU3EF8334F   Style_7250    1536.40     10      10      153.64   \n",
       "5   SKU9F5059EB   Style_6642     956.49      1       1      956.49   \n",
       "6   SKUEABB9A7C   Style_6381     898.24     12      12   74.853333   \n",
       "7   SKU64FE8662   Style_5472     880.96      4       4      220.24   \n",
       "8   SKUD540B6DD   Style_2505     878.00      4       4       219.5   \n",
       "9   SKU284580DB   Style_3576     854.07      2       2     427.035   \n",
       "10  SKUDD2E240E   Style_4993     843.89      1       1      843.89   \n",
       "11  SKU56FDD474   Style_2337     778.59      4       4    194.6475   \n",
       "12  SKU8326A04F   Style_5249     775.05      1       1      775.05   \n",
       "13  SKUE76B3744   Style_3282     771.27      3       3      257.09   \n",
       "14  SKUBCFDD4E4   Style_5507     755.10      2       2      377.55   \n",
       "15  SKU79D7ED2E   Style_5970     751.18      5       5     150.236   \n",
       "16  SKU77BBD49B   Style_2906     743.11      3       3  247.703333   \n",
       "17  SKU2BB593A0   Style_2558     725.89      5       5     145.178   \n",
       "18  SKUF51B2FBB   Style_6370     725.60     22      22   32.981818   \n",
       "19  SKU482220EC   Style_1980     714.21      1       1      714.21   \n",
       "20  SKU790CF8D7   Style_1799     711.41      1       1      711.41   \n",
       "21  SKUA7906D4A   Style_7318     704.90      6       6  117.483333   \n",
       "22  SKU773C8B75   Style_3416     699.46      2       2      349.73   \n",
       "23  SKU3BC94508   Style_0958     697.11      1       1      697.11   \n",
       "24  SKU66996803   Style_5283     695.56      2       2      347.78   \n",
       "25  SKU292EF00C   Style_2160     680.09      4       4    170.0225   \n",
       "26  SKU0E4E23FA   Style_8255     676.89      1       1      676.89   \n",
       "27  SKU5CBD7859   Style_6378     669.07     15      15   44.604667   \n",
       "28  SKU279080DC   Style_3206     665.15      1       1      665.15   \n",
       "29  SKU66A9C323   Style_3404     664.19      2       2     332.095   \n",
       "30  SKUBF049EED   Style_5322     663.31      4       4    165.8275   \n",
       "31  SKU5186C38B   Style_2156     662.27      3       3  220.756667   \n",
       "32  SKU75B1D554   Style_8453     658.81      5       5     131.762   \n",
       "33  SKU294E5695   Style_6656     650.75      6       6  108.458333   \n",
       "34  SKU4E6BF30F   Style_7366     649.19      2       2     324.595   \n",
       "35  SKUB42B1661   Style_6654     634.65      3       2      211.55   \n",
       "36  SKU48F630A0   Style_3914     634.22      4       4     158.555   \n",
       "37  SKUB7F07BA1   Style_6188     633.79      3       3  211.263333   \n",
       "38  SKU76265E60   Style_2307     627.40      0       2        <NA>   \n",
       "39  SKU6606BDAA   Style_3459     623.28      2       2      311.64   \n",
       "40  SKU0C4BBAB5   Style_2331     619.39      4       4    154.8475   \n",
       "41  SKU712CC755   Style_4097     619.14      4       4     154.785   \n",
       "42  SKUE2E80EC9   Style_3442     618.01      4       4    154.5025   \n",
       "43  SKU77A1A3FC   Style_0883     617.94      2       2      308.97   \n",
       "44  SKU0F3DA382   Style_7326     615.94      4       3     153.985   \n",
       "45  SKU057ECFCA   Style_8344     615.48      3       3      205.16   \n",
       "46  SKU064F1D72   Style_0913     614.72      4       4      153.68   \n",
       "47  SKUA2F07DB6   Style_0874     613.35      2       2     306.675   \n",
       "48  SKUA536A132   Style_1818     613.26      1       1      613.26   \n",
       "49  SKUA8A91992   Style_3661     604.25      1       1      604.25   \n",
       "\n",
       "    GMV_share_pct  GMV_cum_share_pct  Pareto_80  \n",
       "0       21.661660          21.661660       True  \n",
       "1        0.222828          21.884488       True  \n",
       "2        0.171261          22.055750       True  \n",
       "3        0.163964          22.219713       True  \n",
       "4        0.144949          22.364662       True  \n",
       "5        0.090238          22.454901       True  \n",
       "6        0.084743          22.539643       True  \n",
       "7        0.083113          22.622756       True  \n",
       "8        0.082833          22.705589       True  \n",
       "9        0.080576          22.786165       True  \n",
       "10       0.079615          22.865780       True  \n",
       "11       0.073455          22.939235       True  \n",
       "12       0.073121          23.012356       True  \n",
       "13       0.072764          23.085120       True  \n",
       "14       0.071239          23.156358       True  \n",
       "15       0.070869          23.227227       True  \n",
       "16       0.070107          23.297334       True  \n",
       "17       0.068483          23.365817       True  \n",
       "18       0.068455          23.434273       True  \n",
       "19       0.067381          23.501653       True  \n",
       "20       0.067117          23.568770       True  \n",
       "21       0.066503          23.635273       True  \n",
       "22       0.065989          23.701262       True  \n",
       "23       0.065768          23.767030       True  \n",
       "24       0.065621          23.832651       True  \n",
       "25       0.064162          23.896813       True  \n",
       "26       0.063860          23.960673       True  \n",
       "27       0.063122          24.023795       True  \n",
       "28       0.062752          24.086547       True  \n",
       "29       0.062662          24.149209       True  \n",
       "30       0.062579          24.211788       True  \n",
       "31       0.062481          24.274269       True  \n",
       "32       0.062154          24.336423       True  \n",
       "33       0.061394          24.397817       True  \n",
       "34       0.061247          24.459063       True  \n",
       "35       0.059875          24.518938       True  \n",
       "36       0.059834          24.578773       True  \n",
       "37       0.059794          24.638566       True  \n",
       "38       0.059191          24.697757       True  \n",
       "39       0.058802          24.756559       True  \n",
       "40       0.058435          24.814995       True  \n",
       "41       0.058412          24.873406       True  \n",
       "42       0.058305          24.931711       True  \n",
       "43       0.058298          24.990010       True  \n",
       "44       0.058110          25.048120       True  \n",
       "45       0.058066          25.106186       True  \n",
       "46       0.057995          25.164181       True  \n",
       "47       0.057865          25.222046       True  \n",
       "48       0.057857          25.279903       True  \n",
       "49       0.057007          25.336910       True  "
      ]
     },
     "metadata": {},
     "output_type": "display_data"
    }
   ],
   "source": [
    "sku_perf = (\n",
    "    sales_df.assign(\n",
    "        SKU_Label=sales_df['Style - Description FR']\n",
    "        .fillna(sales_df['SKU'])\n",
    "        .fillna(sales_df['Item_ID'])\n",
    "    )\n",
    "    .groupby(['SKU', 'SKU_Label'], as_index=False)\n",
    "    .agg(\n",
    "        GMV=('Transaction_value', 'sum'),\n",
    "        Units=('Quantity_item', 'sum'),\n",
    "        Orders=('Transaction_ID', 'nunique'),\n",
    "    )\n",
    ")\n",
    "\n",
    "sku_perf['ASP'] = sku_perf['GMV'] / sku_perf['Units'].replace({0: pd.NA})\n",
    "sku_total_gmv = sku_perf['GMV'].sum()\n",
    "sku_perf['GMV_share_pct'] = (sku_perf['GMV'] / sku_total_gmv) * 100\n",
    "sku_perf = sku_perf.sort_values('GMV', ascending=False).reset_index(drop=True)\n",
    "sku_perf['GMV_cum_share_pct'] = sku_perf['GMV_share_pct'].cumsum()\n",
    "sku_perf['Pareto_80'] = sku_perf['GMV_cum_share_pct'] <= 80\n",
    "sku_columns = ['SKU', 'SKU_Label', 'GMV', 'Units', 'Orders', 'ASP', 'GMV_share_pct', 'GMV_cum_share_pct', 'Pareto_80']\n",
    "top_skus = sku_perf.loc[:, sku_columns].head(50)\n",
    "display(top_skus)\n",
    "display(top_skus[top_skus['Pareto_80']])\n"
   ]
  },
  {
   "cell_type": "markdown",
   "id": "b41528b5",
   "metadata": {},
   "source": [
    "## 4. Promotion lifecycle and impact"
   ]
  },
  {
   "cell_type": "code",
   "execution_count": 12,
   "id": "4310c978",
   "metadata": {},
   "outputs": [
    {
     "data": {
      "text/html": [
       "<div>\n",
       "<style scoped>\n",
       "    .dataframe tbody tr th:only-of-type {\n",
       "        vertical-align: middle;\n",
       "    }\n",
       "\n",
       "    .dataframe tbody tr th {\n",
       "        vertical-align: top;\n",
       "    }\n",
       "\n",
       "    .dataframe thead th {\n",
       "        text-align: right;\n",
       "    }\n",
       "</style>\n",
       "<table border=\"1\" class=\"dataframe\">\n",
       "  <thead>\n",
       "    <tr style=\"text-align: right;\">\n",
       "      <th></th>\n",
       "      <th>orders</th>\n",
       "      <th>revenue</th>\n",
       "      <th>avg_order_value</th>\n",
       "      <th>total_discount</th>\n",
       "      <th>avg_discount_per_order</th>\n",
       "      <th>units</th>\n",
       "    </tr>\n",
       "    <tr>\n",
       "      <th>Promotion</th>\n",
       "      <th></th>\n",
       "      <th></th>\n",
       "      <th></th>\n",
       "      <th></th>\n",
       "      <th></th>\n",
       "      <th></th>\n",
       "    </tr>\n",
       "  </thead>\n",
       "  <tbody>\n",
       "    <tr>\n",
       "      <th>No Promotion</th>\n",
       "      <td>7617</td>\n",
       "      <td>710557.84</td>\n",
       "      <td>93.285787</td>\n",
       "      <td>2686.04</td>\n",
       "      <td>0.352638</td>\n",
       "      <td>6826</td>\n",
       "    </tr>\n",
       "    <tr>\n",
       "      <th>With Promotion</th>\n",
       "      <td>4321</td>\n",
       "      <td>349402.05</td>\n",
       "      <td>80.861386</td>\n",
       "      <td>38405.84</td>\n",
       "      <td>8.888183</td>\n",
       "      <td>4374</td>\n",
       "    </tr>\n",
       "  </tbody>\n",
       "</table>\n",
       "</div>"
      ],
      "text/plain": [
       "                orders    revenue  avg_order_value  total_discount  \\\n",
       "Promotion                                                            \n",
       "No Promotion      7617  710557.84        93.285787         2686.04   \n",
       "With Promotion    4321  349402.05        80.861386        38405.84   \n",
       "\n",
       "                avg_discount_per_order  units  \n",
       "Promotion                                      \n",
       "No Promotion                  0.352638   6826  \n",
       "With Promotion                8.888183   4374  "
      ]
     },
     "execution_count": 12,
     "metadata": {},
     "output_type": "execute_result"
    }
   ],
   "source": [
    "promotion_summary = build_promotion_summary(sales_df)\n",
    "promotion_summary"
   ]
  },
  {
   "cell_type": "code",
   "execution_count": 13,
   "id": "fb8ef339",
   "metadata": {},
   "outputs": [
    {
     "name": "stderr",
     "output_type": "stream",
     "text": [
      "/Users/yuanhaowen/Desktop/Project/SaleAnalysisApp/src/report_utils.py:47: FutureWarning:\n",
      "\n",
      "A value is trying to be set on a copy of a DataFrame or Series through chained assignment using an inplace method.\n",
      "The behavior will change in pandas 3.0. This inplace method will never work because the intermediate object on which we are setting values always behaves as a copy.\n",
      "\n",
      "For example, when doing 'df[col].method(value, inplace=True)', try using 'df.method({col: value}, inplace=True)' or df[col] = df[col].method(value) instead, to perform the operation inplace on the original object.\n",
      "\n",
      "\n",
      "\n"
     ]
    },
    {
     "data": {
      "text/html": [
       "<div>\n",
       "<style scoped>\n",
       "    .dataframe tbody tr th:only-of-type {\n",
       "        vertical-align: middle;\n",
       "    }\n",
       "\n",
       "    .dataframe tbody tr th {\n",
       "        vertical-align: top;\n",
       "    }\n",
       "\n",
       "    .dataframe thead th {\n",
       "        text-align: right;\n",
       "    }\n",
       "</style>\n",
       "<table border=\"1\" class=\"dataframe\">\n",
       "  <thead>\n",
       "    <tr style=\"text-align: right;\">\n",
       "      <th></th>\n",
       "      <th>Month</th>\n",
       "      <th>ActivePromotions</th>\n",
       "    </tr>\n",
       "  </thead>\n",
       "  <tbody>\n",
       "    <tr>\n",
       "      <th>0</th>\n",
       "      <td>2021-04-01</td>\n",
       "      <td>1</td>\n",
       "    </tr>\n",
       "    <tr>\n",
       "      <th>1</th>\n",
       "      <td>2021-05-01</td>\n",
       "      <td>1</td>\n",
       "    </tr>\n",
       "    <tr>\n",
       "      <th>2</th>\n",
       "      <td>2021-06-01</td>\n",
       "      <td>1</td>\n",
       "    </tr>\n",
       "    <tr>\n",
       "      <th>3</th>\n",
       "      <td>2021-07-01</td>\n",
       "      <td>1</td>\n",
       "    </tr>\n",
       "    <tr>\n",
       "      <th>4</th>\n",
       "      <td>2021-08-01</td>\n",
       "      <td>1</td>\n",
       "    </tr>\n",
       "  </tbody>\n",
       "</table>\n",
       "</div>"
      ],
      "text/plain": [
       "       Month  ActivePromotions\n",
       "0 2021-04-01                 1\n",
       "1 2021-05-01                 1\n",
       "2 2021-06-01                 1\n",
       "3 2021-07-01                 1\n",
       "4 2021-08-01                 1"
      ]
     },
     "execution_count": 13,
     "metadata": {},
     "output_type": "execute_result"
    }
   ],
   "source": [
    "promotion_timeline = promotion_activity_timeline(promotion_df)\n",
    "promotion_timeline.head()"
   ]
  },
  {
   "cell_type": "code",
   "execution_count": 14,
   "id": "0334b655",
   "metadata": {},
   "outputs": [
    {
     "name": "stderr",
     "output_type": "stream",
     "text": [
      "/Users/yuanhaowen/anaconda3/lib/python3.11/site-packages/_plotly_utils/basevalidators.py:106: FutureWarning:\n",
      "\n",
      "The behavior of DatetimeProperties.to_pydatetime is deprecated, in a future version this will return a Series containing python datetime objects instead of an ndarray. To retain the old behavior, call `np.array` on the result\n",
      "\n"
     ]
    },
    {
     "data": {
      "application/vnd.plotly.v1+json": {
       "config": {
        "plotlyServerURL": "https://plot.ly"
       },
       "data": [
        {
         "hovertemplate": "Month=%{x}<br>ActivePromotions=%{y}<extra></extra>",
         "legendgroup": "",
         "line": {
          "color": "#636efa",
          "dash": "solid"
         },
         "marker": {
          "symbol": "circle"
         },
         "mode": "lines",
         "name": "",
         "orientation": "v",
         "showlegend": false,
         "type": "scatter",
         "x": [
          "2021-04-01T00:00:00",
          "2021-05-01T00:00:00",
          "2021-06-01T00:00:00",
          "2021-07-01T00:00:00",
          "2021-08-01T00:00:00",
          "2021-09-01T00:00:00",
          "2021-10-01T00:00:00",
          "2021-11-01T00:00:00",
          "2021-12-01T00:00:00",
          "2022-01-01T00:00:00",
          "2022-02-01T00:00:00",
          "2022-03-01T00:00:00",
          "2022-04-01T00:00:00",
          "2022-05-01T00:00:00",
          "2022-06-01T00:00:00",
          "2022-07-01T00:00:00",
          "2022-08-01T00:00:00",
          "2022-09-01T00:00:00",
          "2022-10-01T00:00:00",
          "2022-11-01T00:00:00",
          "2022-12-01T00:00:00",
          "2023-01-01T00:00:00",
          "2023-02-01T00:00:00",
          "2023-03-01T00:00:00",
          "2023-04-01T00:00:00",
          "2023-05-01T00:00:00",
          "2023-06-01T00:00:00",
          "2023-07-01T00:00:00",
          "2023-08-01T00:00:00",
          "2023-09-01T00:00:00",
          "2023-10-01T00:00:00",
          "2023-11-01T00:00:00",
          "2023-12-01T00:00:00",
          "2024-01-01T00:00:00",
          "2024-02-01T00:00:00",
          "2024-03-01T00:00:00",
          "2024-04-01T00:00:00",
          "2024-05-01T00:00:00",
          "2024-06-01T00:00:00",
          "2024-07-01T00:00:00",
          "2024-08-01T00:00:00",
          "2024-09-01T00:00:00",
          "2024-10-01T00:00:00",
          "2024-11-01T00:00:00",
          "2024-12-01T00:00:00",
          "2025-01-01T00:00:00",
          "2025-02-01T00:00:00",
          "2025-03-01T00:00:00",
          "2025-04-01T00:00:00",
          "2025-05-01T00:00:00",
          "2025-06-01T00:00:00",
          "2025-07-01T00:00:00",
          "2025-08-01T00:00:00",
          "2025-09-01T00:00:00",
          "2025-10-01T00:00:00",
          "2025-11-01T00:00:00",
          "2025-12-01T00:00:00",
          "2026-01-01T00:00:00",
          "2026-02-01T00:00:00",
          "2026-03-01T00:00:00",
          "2026-04-01T00:00:00",
          "2026-05-01T00:00:00",
          "2026-06-01T00:00:00",
          "2026-07-01T00:00:00",
          "2026-08-01T00:00:00",
          "2026-09-01T00:00:00",
          "2026-10-01T00:00:00",
          "2026-11-01T00:00:00",
          "2026-12-01T00:00:00",
          "2027-01-01T00:00:00",
          "2027-02-01T00:00:00",
          "2027-03-01T00:00:00",
          "2027-04-01T00:00:00",
          "2027-05-01T00:00:00",
          "2027-06-01T00:00:00",
          "2027-07-01T00:00:00",
          "2027-08-01T00:00:00",
          "2027-09-01T00:00:00",
          "2027-10-01T00:00:00",
          "2027-11-01T00:00:00",
          "2027-12-01T00:00:00",
          "2028-01-01T00:00:00",
          "2028-02-01T00:00:00",
          "2028-03-01T00:00:00",
          "2028-04-01T00:00:00",
          "2028-05-01T00:00:00",
          "2028-06-01T00:00:00",
          "2028-07-01T00:00:00",
          "2028-08-01T00:00:00",
          "2028-09-01T00:00:00",
          "2028-10-01T00:00:00",
          "2028-11-01T00:00:00",
          "2028-12-01T00:00:00",
          "2029-01-01T00:00:00",
          "2029-02-01T00:00:00",
          "2029-03-01T00:00:00",
          "2029-04-01T00:00:00",
          "2029-05-01T00:00:00",
          "2029-06-01T00:00:00",
          "2029-07-01T00:00:00",
          "2029-08-01T00:00:00",
          "2029-09-01T00:00:00",
          "2029-10-01T00:00:00",
          "2029-11-01T00:00:00",
          "2029-12-01T00:00:00",
          "2030-01-01T00:00:00",
          "2030-02-01T00:00:00",
          "2030-03-01T00:00:00",
          "2030-04-01T00:00:00",
          "2030-05-01T00:00:00",
          "2030-06-01T00:00:00",
          "2030-07-01T00:00:00",
          "2030-08-01T00:00:00",
          "2030-09-01T00:00:00",
          "2030-10-01T00:00:00",
          "2030-11-01T00:00:00",
          "2030-12-01T00:00:00",
          "2031-01-01T00:00:00",
          "2031-02-01T00:00:00",
          "2031-03-01T00:00:00",
          "2031-04-01T00:00:00",
          "2031-05-01T00:00:00",
          "2031-06-01T00:00:00",
          "2031-07-01T00:00:00",
          "2031-08-01T00:00:00",
          "2031-09-01T00:00:00",
          "2031-10-01T00:00:00",
          "2031-11-01T00:00:00",
          "2031-12-01T00:00:00",
          "2032-01-01T00:00:00",
          "2032-02-01T00:00:00",
          "2032-03-01T00:00:00",
          "2032-04-01T00:00:00",
          "2032-05-01T00:00:00",
          "2032-06-01T00:00:00",
          "2032-07-01T00:00:00",
          "2032-08-01T00:00:00",
          "2032-09-01T00:00:00",
          "2032-10-01T00:00:00",
          "2032-11-01T00:00:00",
          "2032-12-01T00:00:00",
          "2033-01-01T00:00:00",
          "2033-02-01T00:00:00",
          "2033-03-01T00:00:00",
          "2033-04-01T00:00:00",
          "2033-05-01T00:00:00",
          "2033-06-01T00:00:00",
          "2033-07-01T00:00:00",
          "2033-08-01T00:00:00",
          "2033-09-01T00:00:00",
          "2033-10-01T00:00:00",
          "2033-11-01T00:00:00",
          "2033-12-01T00:00:00",
          "2034-01-01T00:00:00",
          "2034-02-01T00:00:00",
          "2034-03-01T00:00:00",
          "2034-04-01T00:00:00",
          "2034-05-01T00:00:00",
          "2034-06-01T00:00:00",
          "2034-07-01T00:00:00",
          "2034-08-01T00:00:00",
          "2034-09-01T00:00:00",
          "2034-10-01T00:00:00",
          "2034-11-01T00:00:00",
          "2034-12-01T00:00:00",
          "2035-01-01T00:00:00",
          "2035-02-01T00:00:00",
          "2035-03-01T00:00:00",
          "2035-04-01T00:00:00",
          "2035-05-01T00:00:00",
          "2035-06-01T00:00:00",
          "2035-07-01T00:00:00",
          "2035-08-01T00:00:00",
          "2035-09-01T00:00:00",
          "2035-10-01T00:00:00",
          "2035-11-01T00:00:00",
          "2035-12-01T00:00:00",
          "2036-01-01T00:00:00",
          "2036-02-01T00:00:00",
          "2036-03-01T00:00:00",
          "2036-04-01T00:00:00",
          "2036-05-01T00:00:00",
          "2036-06-01T00:00:00",
          "2036-07-01T00:00:00",
          "2036-08-01T00:00:00",
          "2036-09-01T00:00:00",
          "2036-10-01T00:00:00",
          "2036-11-01T00:00:00",
          "2036-12-01T00:00:00",
          "2037-01-01T00:00:00",
          "2037-02-01T00:00:00",
          "2037-03-01T00:00:00",
          "2037-04-01T00:00:00",
          "2037-05-01T00:00:00",
          "2037-06-01T00:00:00",
          "2037-07-01T00:00:00",
          "2037-08-01T00:00:00",
          "2037-09-01T00:00:00",
          "2037-10-01T00:00:00",
          "2037-11-01T00:00:00",
          "2037-12-01T00:00:00",
          "2038-01-01T00:00:00",
          "2038-02-01T00:00:00",
          "2038-03-01T00:00:00",
          "2038-04-01T00:00:00",
          "2038-05-01T00:00:00",
          "2038-06-01T00:00:00",
          "2038-07-01T00:00:00",
          "2038-08-01T00:00:00",
          "2038-09-01T00:00:00",
          "2038-10-01T00:00:00",
          "2038-11-01T00:00:00",
          "2038-12-01T00:00:00",
          "2039-01-01T00:00:00",
          "2039-02-01T00:00:00",
          "2039-03-01T00:00:00",
          "2039-04-01T00:00:00",
          "2039-05-01T00:00:00",
          "2039-06-01T00:00:00",
          "2039-07-01T00:00:00",
          "2039-08-01T00:00:00",
          "2039-09-01T00:00:00",
          "2039-10-01T00:00:00",
          "2039-11-01T00:00:00",
          "2039-12-01T00:00:00",
          "2040-01-01T00:00:00",
          "2040-02-01T00:00:00",
          "2040-03-01T00:00:00",
          "2040-04-01T00:00:00",
          "2040-05-01T00:00:00",
          "2040-06-01T00:00:00",
          "2040-07-01T00:00:00",
          "2040-08-01T00:00:00",
          "2040-09-01T00:00:00",
          "2040-10-01T00:00:00",
          "2040-11-01T00:00:00",
          "2040-12-01T00:00:00",
          "2041-01-01T00:00:00",
          "2041-02-01T00:00:00",
          "2041-03-01T00:00:00",
          "2041-04-01T00:00:00",
          "2041-05-01T00:00:00",
          "2041-06-01T00:00:00",
          "2041-07-01T00:00:00",
          "2041-08-01T00:00:00",
          "2041-09-01T00:00:00",
          "2041-10-01T00:00:00",
          "2041-11-01T00:00:00",
          "2041-12-01T00:00:00",
          "2042-01-01T00:00:00",
          "2042-02-01T00:00:00",
          "2042-03-01T00:00:00",
          "2042-04-01T00:00:00",
          "2042-05-01T00:00:00",
          "2042-06-01T00:00:00",
          "2042-07-01T00:00:00",
          "2042-08-01T00:00:00",
          "2042-09-01T00:00:00",
          "2042-10-01T00:00:00",
          "2042-11-01T00:00:00",
          "2042-12-01T00:00:00",
          "2043-01-01T00:00:00",
          "2043-02-01T00:00:00",
          "2043-03-01T00:00:00",
          "2043-04-01T00:00:00",
          "2043-05-01T00:00:00",
          "2043-06-01T00:00:00",
          "2043-07-01T00:00:00",
          "2043-08-01T00:00:00",
          "2043-09-01T00:00:00",
          "2043-10-01T00:00:00",
          "2043-11-01T00:00:00",
          "2043-12-01T00:00:00",
          "2044-01-01T00:00:00",
          "2044-02-01T00:00:00",
          "2044-03-01T00:00:00",
          "2044-04-01T00:00:00",
          "2044-05-01T00:00:00",
          "2044-06-01T00:00:00",
          "2044-07-01T00:00:00",
          "2044-08-01T00:00:00",
          "2044-09-01T00:00:00",
          "2044-10-01T00:00:00",
          "2044-11-01T00:00:00",
          "2044-12-01T00:00:00",
          "2045-01-01T00:00:00",
          "2045-02-01T00:00:00",
          "2045-03-01T00:00:00",
          "2045-04-01T00:00:00",
          "2045-05-01T00:00:00",
          "2045-06-01T00:00:00",
          "2045-07-01T00:00:00",
          "2045-08-01T00:00:00",
          "2045-09-01T00:00:00",
          "2045-10-01T00:00:00",
          "2045-11-01T00:00:00",
          "2045-12-01T00:00:00",
          "2046-01-01T00:00:00",
          "2046-02-01T00:00:00",
          "2046-03-01T00:00:00",
          "2046-04-01T00:00:00",
          "2046-05-01T00:00:00",
          "2046-06-01T00:00:00",
          "2046-07-01T00:00:00",
          "2046-08-01T00:00:00",
          "2046-09-01T00:00:00",
          "2046-10-01T00:00:00",
          "2046-11-01T00:00:00",
          "2046-12-01T00:00:00",
          "2047-01-01T00:00:00",
          "2047-02-01T00:00:00",
          "2047-03-01T00:00:00",
          "2047-04-01T00:00:00",
          "2047-05-01T00:00:00",
          "2047-06-01T00:00:00",
          "2047-07-01T00:00:00",
          "2047-08-01T00:00:00",
          "2047-09-01T00:00:00",
          "2047-10-01T00:00:00",
          "2047-11-01T00:00:00",
          "2047-12-01T00:00:00",
          "2048-01-01T00:00:00",
          "2048-02-01T00:00:00",
          "2048-03-01T00:00:00",
          "2048-04-01T00:00:00",
          "2048-05-01T00:00:00",
          "2048-06-01T00:00:00",
          "2048-07-01T00:00:00",
          "2048-08-01T00:00:00",
          "2048-09-01T00:00:00",
          "2048-10-01T00:00:00",
          "2048-11-01T00:00:00",
          "2048-12-01T00:00:00",
          "2049-01-01T00:00:00",
          "2049-02-01T00:00:00",
          "2049-03-01T00:00:00",
          "2049-04-01T00:00:00",
          "2049-05-01T00:00:00",
          "2049-06-01T00:00:00",
          "2049-07-01T00:00:00",
          "2049-08-01T00:00:00",
          "2049-09-01T00:00:00",
          "2049-10-01T00:00:00",
          "2049-11-01T00:00:00",
          "2049-12-01T00:00:00",
          "2050-01-01T00:00:00",
          "2050-02-01T00:00:00",
          "2050-03-01T00:00:00",
          "2050-04-01T00:00:00",
          "2050-05-01T00:00:00",
          "2050-06-01T00:00:00",
          "2050-07-01T00:00:00",
          "2050-08-01T00:00:00",
          "2050-09-01T00:00:00",
          "2050-10-01T00:00:00",
          "2050-11-01T00:00:00",
          "2050-12-01T00:00:00",
          "2051-01-01T00:00:00",
          "2051-02-01T00:00:00",
          "2051-03-01T00:00:00",
          "2051-04-01T00:00:00",
          "2051-05-01T00:00:00",
          "2051-06-01T00:00:00",
          "2051-07-01T00:00:00",
          "2051-08-01T00:00:00",
          "2051-09-01T00:00:00",
          "2051-10-01T00:00:00",
          "2051-11-01T00:00:00",
          "2051-12-01T00:00:00",
          "2052-01-01T00:00:00",
          "2052-02-01T00:00:00",
          "2052-03-01T00:00:00",
          "2052-04-01T00:00:00",
          "2052-05-01T00:00:00",
          "2052-06-01T00:00:00",
          "2052-07-01T00:00:00",
          "2052-08-01T00:00:00",
          "2052-09-01T00:00:00",
          "2052-10-01T00:00:00",
          "2052-11-01T00:00:00",
          "2052-12-01T00:00:00",
          "2053-01-01T00:00:00",
          "2053-02-01T00:00:00",
          "2053-03-01T00:00:00",
          "2053-04-01T00:00:00",
          "2053-05-01T00:00:00",
          "2053-06-01T00:00:00",
          "2053-07-01T00:00:00",
          "2053-08-01T00:00:00",
          "2053-09-01T00:00:00",
          "2053-10-01T00:00:00",
          "2053-11-01T00:00:00",
          "2053-12-01T00:00:00",
          "2054-01-01T00:00:00",
          "2054-02-01T00:00:00",
          "2054-03-01T00:00:00",
          "2054-04-01T00:00:00",
          "2054-05-01T00:00:00",
          "2054-06-01T00:00:00",
          "2054-07-01T00:00:00",
          "2054-08-01T00:00:00",
          "2054-09-01T00:00:00",
          "2054-10-01T00:00:00",
          "2054-11-01T00:00:00",
          "2054-12-01T00:00:00",
          "2055-01-01T00:00:00",
          "2055-02-01T00:00:00",
          "2055-03-01T00:00:00",
          "2055-04-01T00:00:00",
          "2055-05-01T00:00:00",
          "2055-06-01T00:00:00",
          "2055-07-01T00:00:00",
          "2055-08-01T00:00:00",
          "2055-09-01T00:00:00",
          "2055-10-01T00:00:00",
          "2055-11-01T00:00:00",
          "2055-12-01T00:00:00",
          "2056-01-01T00:00:00",
          "2056-02-01T00:00:00",
          "2056-03-01T00:00:00",
          "2056-04-01T00:00:00",
          "2056-05-01T00:00:00",
          "2056-06-01T00:00:00",
          "2056-07-01T00:00:00",
          "2056-08-01T00:00:00",
          "2056-09-01T00:00:00",
          "2056-10-01T00:00:00",
          "2056-11-01T00:00:00",
          "2056-12-01T00:00:00",
          "2057-01-01T00:00:00",
          "2057-02-01T00:00:00",
          "2057-03-01T00:00:00",
          "2057-04-01T00:00:00",
          "2057-05-01T00:00:00",
          "2057-06-01T00:00:00",
          "2057-07-01T00:00:00",
          "2057-08-01T00:00:00",
          "2057-09-01T00:00:00",
          "2057-10-01T00:00:00",
          "2057-11-01T00:00:00",
          "2057-12-01T00:00:00",
          "2058-01-01T00:00:00",
          "2058-02-01T00:00:00",
          "2058-03-01T00:00:00",
          "2058-04-01T00:00:00",
          "2058-05-01T00:00:00",
          "2058-06-01T00:00:00",
          "2058-07-01T00:00:00",
          "2058-08-01T00:00:00",
          "2058-09-01T00:00:00",
          "2058-10-01T00:00:00",
          "2058-11-01T00:00:00",
          "2058-12-01T00:00:00",
          "2059-01-01T00:00:00",
          "2059-02-01T00:00:00",
          "2059-03-01T00:00:00",
          "2059-04-01T00:00:00",
          "2059-05-01T00:00:00",
          "2059-06-01T00:00:00",
          "2059-07-01T00:00:00",
          "2059-08-01T00:00:00",
          "2059-09-01T00:00:00",
          "2059-10-01T00:00:00",
          "2059-11-01T00:00:00",
          "2059-12-01T00:00:00",
          "2060-01-01T00:00:00",
          "2060-02-01T00:00:00",
          "2060-03-01T00:00:00",
          "2060-04-01T00:00:00",
          "2060-05-01T00:00:00",
          "2060-06-01T00:00:00",
          "2060-07-01T00:00:00",
          "2060-08-01T00:00:00",
          "2060-09-01T00:00:00",
          "2060-10-01T00:00:00",
          "2060-11-01T00:00:00",
          "2060-12-01T00:00:00",
          "2061-01-01T00:00:00",
          "2061-02-01T00:00:00",
          "2061-03-01T00:00:00",
          "2061-04-01T00:00:00",
          "2061-05-01T00:00:00",
          "2061-06-01T00:00:00",
          "2061-07-01T00:00:00",
          "2061-08-01T00:00:00",
          "2061-09-01T00:00:00",
          "2061-10-01T00:00:00",
          "2061-11-01T00:00:00",
          "2061-12-01T00:00:00",
          "2062-01-01T00:00:00",
          "2062-02-01T00:00:00",
          "2062-03-01T00:00:00",
          "2062-04-01T00:00:00",
          "2062-05-01T00:00:00",
          "2062-06-01T00:00:00",
          "2062-07-01T00:00:00",
          "2062-08-01T00:00:00",
          "2062-09-01T00:00:00",
          "2062-10-01T00:00:00",
          "2062-11-01T00:00:00",
          "2062-12-01T00:00:00",
          "2063-01-01T00:00:00",
          "2063-02-01T00:00:00",
          "2063-03-01T00:00:00",
          "2063-04-01T00:00:00",
          "2063-05-01T00:00:00",
          "2063-06-01T00:00:00",
          "2063-07-01T00:00:00",
          "2063-08-01T00:00:00",
          "2063-09-01T00:00:00",
          "2063-10-01T00:00:00",
          "2063-11-01T00:00:00",
          "2063-12-01T00:00:00",
          "2064-01-01T00:00:00",
          "2064-02-01T00:00:00",
          "2064-03-01T00:00:00",
          "2064-04-01T00:00:00",
          "2064-05-01T00:00:00",
          "2064-06-01T00:00:00",
          "2064-07-01T00:00:00",
          "2064-08-01T00:00:00",
          "2064-09-01T00:00:00",
          "2064-10-01T00:00:00",
          "2064-11-01T00:00:00",
          "2064-12-01T00:00:00",
          "2065-01-01T00:00:00",
          "2065-02-01T00:00:00",
          "2065-03-01T00:00:00",
          "2065-04-01T00:00:00",
          "2065-05-01T00:00:00",
          "2065-06-01T00:00:00",
          "2065-07-01T00:00:00",
          "2065-08-01T00:00:00",
          "2065-09-01T00:00:00",
          "2065-10-01T00:00:00",
          "2065-11-01T00:00:00",
          "2065-12-01T00:00:00",
          "2066-01-01T00:00:00",
          "2066-02-01T00:00:00",
          "2066-03-01T00:00:00",
          "2066-04-01T00:00:00",
          "2066-05-01T00:00:00",
          "2066-06-01T00:00:00",
          "2066-07-01T00:00:00",
          "2066-08-01T00:00:00",
          "2066-09-01T00:00:00",
          "2066-10-01T00:00:00",
          "2066-11-01T00:00:00",
          "2066-12-01T00:00:00",
          "2067-01-01T00:00:00",
          "2067-02-01T00:00:00",
          "2067-03-01T00:00:00",
          "2067-04-01T00:00:00",
          "2067-05-01T00:00:00",
          "2067-06-01T00:00:00",
          "2067-07-01T00:00:00",
          "2067-08-01T00:00:00",
          "2067-09-01T00:00:00",
          "2067-10-01T00:00:00",
          "2067-11-01T00:00:00",
          "2067-12-01T00:00:00",
          "2068-01-01T00:00:00",
          "2068-02-01T00:00:00",
          "2068-03-01T00:00:00",
          "2068-04-01T00:00:00",
          "2068-05-01T00:00:00",
          "2068-06-01T00:00:00",
          "2068-07-01T00:00:00",
          "2068-08-01T00:00:00",
          "2068-09-01T00:00:00",
          "2068-10-01T00:00:00",
          "2068-11-01T00:00:00",
          "2068-12-01T00:00:00",
          "2069-01-01T00:00:00",
          "2069-02-01T00:00:00",
          "2069-03-01T00:00:00",
          "2069-04-01T00:00:00",
          "2069-05-01T00:00:00",
          "2069-06-01T00:00:00",
          "2069-07-01T00:00:00",
          "2069-08-01T00:00:00",
          "2069-09-01T00:00:00",
          "2069-10-01T00:00:00",
          "2069-11-01T00:00:00",
          "2069-12-01T00:00:00",
          "2070-01-01T00:00:00",
          "2070-02-01T00:00:00",
          "2070-03-01T00:00:00",
          "2070-04-01T00:00:00",
          "2070-05-01T00:00:00",
          "2070-06-01T00:00:00",
          "2070-07-01T00:00:00",
          "2070-08-01T00:00:00",
          "2070-09-01T00:00:00",
          "2070-10-01T00:00:00",
          "2070-11-01T00:00:00",
          "2070-12-01T00:00:00",
          "2071-01-01T00:00:00",
          "2071-02-01T00:00:00",
          "2071-03-01T00:00:00",
          "2071-04-01T00:00:00",
          "2071-05-01T00:00:00",
          "2071-06-01T00:00:00",
          "2071-07-01T00:00:00",
          "2071-08-01T00:00:00",
          "2071-09-01T00:00:00",
          "2071-10-01T00:00:00",
          "2071-11-01T00:00:00",
          "2071-12-01T00:00:00",
          "2072-01-01T00:00:00",
          "2072-02-01T00:00:00",
          "2072-03-01T00:00:00",
          "2072-04-01T00:00:00",
          "2072-05-01T00:00:00",
          "2072-06-01T00:00:00",
          "2072-07-01T00:00:00",
          "2072-08-01T00:00:00",
          "2072-09-01T00:00:00",
          "2072-10-01T00:00:00",
          "2072-11-01T00:00:00",
          "2072-12-01T00:00:00",
          "2073-01-01T00:00:00",
          "2073-02-01T00:00:00",
          "2073-03-01T00:00:00",
          "2073-04-01T00:00:00",
          "2073-05-01T00:00:00",
          "2073-06-01T00:00:00",
          "2073-07-01T00:00:00",
          "2073-08-01T00:00:00",
          "2073-09-01T00:00:00",
          "2073-10-01T00:00:00",
          "2073-11-01T00:00:00",
          "2073-12-01T00:00:00",
          "2074-01-01T00:00:00",
          "2074-02-01T00:00:00",
          "2074-03-01T00:00:00",
          "2074-04-01T00:00:00",
          "2074-05-01T00:00:00",
          "2074-06-01T00:00:00",
          "2074-07-01T00:00:00",
          "2074-08-01T00:00:00",
          "2074-09-01T00:00:00",
          "2074-10-01T00:00:00",
          "2074-11-01T00:00:00",
          "2074-12-01T00:00:00",
          "2075-01-01T00:00:00",
          "2075-02-01T00:00:00",
          "2075-03-01T00:00:00",
          "2075-04-01T00:00:00",
          "2075-05-01T00:00:00",
          "2075-06-01T00:00:00",
          "2075-07-01T00:00:00",
          "2075-08-01T00:00:00",
          "2075-09-01T00:00:00",
          "2075-10-01T00:00:00",
          "2075-11-01T00:00:00",
          "2075-12-01T00:00:00",
          "2076-01-01T00:00:00",
          "2076-02-01T00:00:00",
          "2076-03-01T00:00:00",
          "2076-04-01T00:00:00",
          "2076-05-01T00:00:00",
          "2076-06-01T00:00:00",
          "2076-07-01T00:00:00",
          "2076-08-01T00:00:00",
          "2076-09-01T00:00:00",
          "2076-10-01T00:00:00",
          "2076-11-01T00:00:00",
          "2076-12-01T00:00:00",
          "2077-01-01T00:00:00",
          "2077-02-01T00:00:00",
          "2077-03-01T00:00:00",
          "2077-04-01T00:00:00",
          "2077-05-01T00:00:00",
          "2077-06-01T00:00:00",
          "2077-07-01T00:00:00",
          "2077-08-01T00:00:00",
          "2077-09-01T00:00:00",
          "2077-10-01T00:00:00",
          "2077-11-01T00:00:00",
          "2077-12-01T00:00:00",
          "2078-01-01T00:00:00",
          "2078-02-01T00:00:00",
          "2078-03-01T00:00:00",
          "2078-04-01T00:00:00",
          "2078-05-01T00:00:00",
          "2078-06-01T00:00:00",
          "2078-07-01T00:00:00",
          "2078-08-01T00:00:00",
          "2078-09-01T00:00:00",
          "2078-10-01T00:00:00",
          "2078-11-01T00:00:00",
          "2078-12-01T00:00:00",
          "2079-01-01T00:00:00",
          "2079-02-01T00:00:00",
          "2079-03-01T00:00:00",
          "2079-04-01T00:00:00",
          "2079-05-01T00:00:00",
          "2079-06-01T00:00:00",
          "2079-07-01T00:00:00",
          "2079-08-01T00:00:00",
          "2079-09-01T00:00:00",
          "2079-10-01T00:00:00",
          "2079-11-01T00:00:00",
          "2079-12-01T00:00:00",
          "2080-01-01T00:00:00",
          "2080-02-01T00:00:00",
          "2080-03-01T00:00:00",
          "2080-04-01T00:00:00",
          "2080-05-01T00:00:00",
          "2080-06-01T00:00:00",
          "2080-07-01T00:00:00",
          "2080-08-01T00:00:00",
          "2080-09-01T00:00:00",
          "2080-10-01T00:00:00",
          "2080-11-01T00:00:00",
          "2080-12-01T00:00:00",
          "2081-01-01T00:00:00",
          "2081-02-01T00:00:00",
          "2081-03-01T00:00:00",
          "2081-04-01T00:00:00",
          "2081-05-01T00:00:00",
          "2081-06-01T00:00:00",
          "2081-07-01T00:00:00",
          "2081-08-01T00:00:00",
          "2081-09-01T00:00:00",
          "2081-10-01T00:00:00",
          "2081-11-01T00:00:00",
          "2081-12-01T00:00:00",
          "2082-01-01T00:00:00",
          "2082-02-01T00:00:00",
          "2082-03-01T00:00:00",
          "2082-04-01T00:00:00",
          "2082-05-01T00:00:00",
          "2082-06-01T00:00:00",
          "2082-07-01T00:00:00",
          "2082-08-01T00:00:00",
          "2082-09-01T00:00:00",
          "2082-10-01T00:00:00",
          "2082-11-01T00:00:00",
          "2082-12-01T00:00:00",
          "2083-01-01T00:00:00",
          "2083-02-01T00:00:00",
          "2083-03-01T00:00:00",
          "2083-04-01T00:00:00",
          "2083-05-01T00:00:00",
          "2083-06-01T00:00:00",
          "2083-07-01T00:00:00",
          "2083-08-01T00:00:00",
          "2083-09-01T00:00:00",
          "2083-10-01T00:00:00",
          "2083-11-01T00:00:00",
          "2083-12-01T00:00:00",
          "2084-01-01T00:00:00",
          "2084-02-01T00:00:00",
          "2084-03-01T00:00:00",
          "2084-04-01T00:00:00",
          "2084-05-01T00:00:00",
          "2084-06-01T00:00:00",
          "2084-07-01T00:00:00",
          "2084-08-01T00:00:00",
          "2084-09-01T00:00:00",
          "2084-10-01T00:00:00",
          "2084-11-01T00:00:00",
          "2084-12-01T00:00:00",
          "2085-01-01T00:00:00",
          "2085-02-01T00:00:00",
          "2085-03-01T00:00:00",
          "2085-04-01T00:00:00",
          "2085-05-01T00:00:00",
          "2085-06-01T00:00:00",
          "2085-07-01T00:00:00",
          "2085-08-01T00:00:00",
          "2085-09-01T00:00:00",
          "2085-10-01T00:00:00",
          "2085-11-01T00:00:00",
          "2085-12-01T00:00:00",
          "2086-01-01T00:00:00",
          "2086-02-01T00:00:00",
          "2086-03-01T00:00:00",
          "2086-04-01T00:00:00",
          "2086-05-01T00:00:00",
          "2086-06-01T00:00:00",
          "2086-07-01T00:00:00",
          "2086-08-01T00:00:00",
          "2086-09-01T00:00:00",
          "2086-10-01T00:00:00",
          "2086-11-01T00:00:00",
          "2086-12-01T00:00:00",
          "2087-01-01T00:00:00",
          "2087-02-01T00:00:00",
          "2087-03-01T00:00:00",
          "2087-04-01T00:00:00",
          "2087-05-01T00:00:00",
          "2087-06-01T00:00:00",
          "2087-07-01T00:00:00",
          "2087-08-01T00:00:00",
          "2087-09-01T00:00:00",
          "2087-10-01T00:00:00",
          "2087-11-01T00:00:00",
          "2087-12-01T00:00:00",
          "2088-01-01T00:00:00",
          "2088-02-01T00:00:00",
          "2088-03-01T00:00:00",
          "2088-04-01T00:00:00",
          "2088-05-01T00:00:00",
          "2088-06-01T00:00:00",
          "2088-07-01T00:00:00",
          "2088-08-01T00:00:00",
          "2088-09-01T00:00:00",
          "2088-10-01T00:00:00",
          "2088-11-01T00:00:00",
          "2088-12-01T00:00:00",
          "2089-01-01T00:00:00",
          "2089-02-01T00:00:00",
          "2089-03-01T00:00:00",
          "2089-04-01T00:00:00",
          "2089-05-01T00:00:00",
          "2089-06-01T00:00:00",
          "2089-07-01T00:00:00",
          "2089-08-01T00:00:00",
          "2089-09-01T00:00:00",
          "2089-10-01T00:00:00",
          "2089-11-01T00:00:00",
          "2089-12-01T00:00:00",
          "2090-01-01T00:00:00",
          "2090-02-01T00:00:00",
          "2090-03-01T00:00:00",
          "2090-04-01T00:00:00",
          "2090-05-01T00:00:00",
          "2090-06-01T00:00:00",
          "2090-07-01T00:00:00",
          "2090-08-01T00:00:00",
          "2090-09-01T00:00:00",
          "2090-10-01T00:00:00",
          "2090-11-01T00:00:00",
          "2090-12-01T00:00:00",
          "2091-01-01T00:00:00",
          "2091-02-01T00:00:00",
          "2091-03-01T00:00:00",
          "2091-04-01T00:00:00",
          "2091-05-01T00:00:00",
          "2091-06-01T00:00:00",
          "2091-07-01T00:00:00",
          "2091-08-01T00:00:00",
          "2091-09-01T00:00:00",
          "2091-10-01T00:00:00",
          "2091-11-01T00:00:00",
          "2091-12-01T00:00:00",
          "2092-01-01T00:00:00",
          "2092-02-01T00:00:00",
          "2092-03-01T00:00:00",
          "2092-04-01T00:00:00",
          "2092-05-01T00:00:00",
          "2092-06-01T00:00:00",
          "2092-07-01T00:00:00",
          "2092-08-01T00:00:00",
          "2092-09-01T00:00:00",
          "2092-10-01T00:00:00",
          "2092-11-01T00:00:00",
          "2092-12-01T00:00:00",
          "2093-01-01T00:00:00",
          "2093-02-01T00:00:00",
          "2093-03-01T00:00:00",
          "2093-04-01T00:00:00",
          "2093-05-01T00:00:00",
          "2093-06-01T00:00:00",
          "2093-07-01T00:00:00",
          "2093-08-01T00:00:00",
          "2093-09-01T00:00:00",
          "2093-10-01T00:00:00",
          "2093-11-01T00:00:00",
          "2093-12-01T00:00:00",
          "2094-01-01T00:00:00",
          "2094-02-01T00:00:00",
          "2094-03-01T00:00:00",
          "2094-04-01T00:00:00",
          "2094-05-01T00:00:00",
          "2094-06-01T00:00:00",
          "2094-07-01T00:00:00",
          "2094-08-01T00:00:00",
          "2094-09-01T00:00:00",
          "2094-10-01T00:00:00",
          "2094-11-01T00:00:00",
          "2094-12-01T00:00:00",
          "2095-01-01T00:00:00",
          "2095-02-01T00:00:00",
          "2095-03-01T00:00:00",
          "2095-04-01T00:00:00",
          "2095-05-01T00:00:00",
          "2095-06-01T00:00:00",
          "2095-07-01T00:00:00",
          "2095-08-01T00:00:00",
          "2095-09-01T00:00:00",
          "2095-10-01T00:00:00",
          "2095-11-01T00:00:00",
          "2095-12-01T00:00:00",
          "2096-01-01T00:00:00",
          "2096-02-01T00:00:00",
          "2096-03-01T00:00:00",
          "2096-04-01T00:00:00",
          "2096-05-01T00:00:00",
          "2096-06-01T00:00:00",
          "2096-07-01T00:00:00",
          "2096-08-01T00:00:00",
          "2096-09-01T00:00:00",
          "2096-10-01T00:00:00",
          "2096-11-01T00:00:00",
          "2096-12-01T00:00:00",
          "2097-01-01T00:00:00",
          "2097-02-01T00:00:00",
          "2097-03-01T00:00:00",
          "2097-04-01T00:00:00",
          "2097-05-01T00:00:00",
          "2097-06-01T00:00:00",
          "2097-07-01T00:00:00",
          "2097-08-01T00:00:00",
          "2097-09-01T00:00:00",
          "2097-10-01T00:00:00",
          "2097-11-01T00:00:00",
          "2097-12-01T00:00:00",
          "2098-01-01T00:00:00",
          "2098-02-01T00:00:00",
          "2098-03-01T00:00:00",
          "2098-04-01T00:00:00",
          "2098-05-01T00:00:00",
          "2098-06-01T00:00:00",
          "2098-07-01T00:00:00",
          "2098-08-01T00:00:00",
          "2098-09-01T00:00:00",
          "2098-10-01T00:00:00",
          "2098-11-01T00:00:00",
          "2098-12-01T00:00:00",
          "2099-01-01T00:00:00",
          "2099-02-01T00:00:00",
          "2099-03-01T00:00:00",
          "2099-04-01T00:00:00",
          "2099-05-01T00:00:00",
          "2099-06-01T00:00:00",
          "2099-07-01T00:00:00",
          "2099-08-01T00:00:00",
          "2099-09-01T00:00:00",
          "2099-10-01T00:00:00",
          "2099-11-01T00:00:00",
          "2099-12-01T00:00:00"
         ],
         "xaxis": "x",
         "y": [
          1,
          1,
          1,
          1,
          1,
          1,
          1,
          1,
          1,
          1,
          2,
          2,
          3,
          3,
          3,
          3,
          3,
          3,
          4,
          4,
          4,
          7,
          8,
          15,
          18,
          20,
          15,
          16,
          13,
          12,
          15,
          21,
          19,
          14,
          16,
          17,
          20,
          25,
          28,
          19,
          23,
          22,
          18,
          17,
          15,
          15,
          15,
          14,
          14,
          14,
          13,
          12,
          12,
          12,
          12,
          12,
          12,
          12,
          12,
          12,
          12,
          12,
          12,
          12,
          12,
          12,
          12,
          12,
          12,
          12,
          12,
          12,
          12,
          12,
          12,
          12,
          12,
          12,
          12,
          12,
          12,
          12,
          12,
          12,
          12,
          12,
          11,
          11,
          11,
          11,
          10,
          10,
          10,
          10,
          10,
          10,
          10,
          10,
          10,
          10,
          10,
          10,
          10,
          10,
          10,
          10,
          10,
          10,
          10,
          10,
          10,
          10,
          10,
          10,
          10,
          10,
          10,
          10,
          10,
          10,
          10,
          10,
          10,
          10,
          10,
          10,
          10,
          10,
          10,
          10,
          10,
          10,
          9,
          9,
          9,
          9,
          9,
          9,
          9,
          9,
          9,
          9,
          9,
          9,
          9,
          9,
          9,
          9,
          9,
          9,
          9,
          9,
          9,
          9,
          9,
          9,
          9,
          9,
          9,
          9,
          9,
          9,
          9,
          9,
          9,
          9,
          9,
          9,
          9,
          9,
          9,
          9,
          9,
          9,
          9,
          9,
          9,
          9,
          9,
          9,
          9,
          9,
          9,
          9,
          9,
          9,
          9,
          9,
          9,
          9,
          9,
          9,
          9,
          9,
          9,
          9,
          9,
          9,
          9,
          9,
          9,
          9,
          9,
          9,
          9,
          9,
          9,
          9,
          9,
          9,
          9,
          9,
          9,
          9,
          9,
          9,
          9,
          9,
          9,
          9,
          9,
          9,
          9,
          9,
          9,
          9,
          9,
          9,
          9,
          9,
          9,
          9,
          9,
          9,
          9,
          9,
          9,
          9,
          9,
          9,
          9,
          9,
          9,
          9,
          9,
          9,
          9,
          9,
          9,
          9,
          9,
          9,
          9,
          9,
          9,
          9,
          9,
          9,
          9,
          9,
          9,
          9,
          9,
          9,
          9,
          9,
          9,
          9,
          9,
          9,
          9,
          9,
          9,
          9,
          9,
          9,
          9,
          9,
          9,
          9,
          9,
          9,
          9,
          9,
          9,
          9,
          9,
          9,
          9,
          9,
          9,
          9,
          9,
          9,
          9,
          9,
          9,
          9,
          9,
          9,
          9,
          9,
          9,
          9,
          9,
          9,
          9,
          9,
          9,
          9,
          9,
          9,
          9,
          9,
          9,
          9,
          9,
          9,
          9,
          9,
          9,
          9,
          9,
          9,
          9,
          9,
          9,
          9,
          9,
          9,
          9,
          9,
          9,
          9,
          9,
          9,
          9,
          9,
          9,
          9,
          9,
          9,
          9,
          9,
          9,
          9,
          9,
          9,
          9,
          9,
          9,
          9,
          9,
          9,
          9,
          9,
          9,
          9,
          9,
          9,
          9,
          9,
          9,
          9,
          9,
          9,
          9,
          9,
          9,
          9,
          9,
          9,
          9,
          9,
          9,
          9,
          9,
          9,
          9,
          9,
          9,
          9,
          9,
          9,
          9,
          9,
          9,
          9,
          9,
          9,
          9,
          9,
          9,
          9,
          9,
          9,
          9,
          9,
          9,
          9,
          9,
          9,
          9,
          9,
          9,
          9,
          9,
          9,
          9,
          9,
          9,
          9,
          9,
          9,
          9,
          9,
          9,
          9,
          9,
          9,
          9,
          9,
          9,
          9,
          9,
          9,
          9,
          9,
          9,
          9,
          9,
          9,
          9,
          9,
          9,
          9,
          9,
          9,
          9,
          9,
          9,
          9,
          9,
          9,
          9,
          9,
          9,
          9,
          9,
          9,
          9,
          9,
          9,
          9,
          9,
          9,
          9,
          9,
          9,
          9,
          9,
          9,
          9,
          9,
          9,
          9,
          9,
          9,
          9,
          9,
          9,
          9,
          9,
          9,
          9,
          9,
          9,
          9,
          9,
          9,
          9,
          9,
          9,
          9,
          9,
          9,
          9,
          9,
          9,
          9,
          9,
          9,
          9,
          9,
          9,
          9,
          9,
          9,
          9,
          9,
          9,
          9,
          9,
          9,
          9,
          9,
          9,
          9,
          9,
          9,
          9,
          9,
          9,
          9,
          9,
          9,
          9,
          9,
          9,
          9,
          9,
          9,
          9,
          9,
          9,
          9,
          9,
          9,
          9,
          9,
          9,
          9,
          9,
          9,
          9,
          9,
          9,
          9,
          9,
          9,
          9,
          9,
          9,
          9,
          9,
          9,
          9,
          9,
          9,
          9,
          9,
          9,
          9,
          9,
          9,
          9,
          9,
          9,
          9,
          9,
          9,
          9,
          9,
          9,
          9,
          9,
          9,
          9,
          9,
          9,
          9,
          9,
          9,
          9,
          9,
          9,
          9,
          9,
          9,
          9,
          9,
          9,
          9,
          9,
          9,
          9,
          9,
          9,
          9,
          9,
          9,
          9,
          9,
          9,
          9,
          9,
          9,
          9,
          9,
          9,
          9,
          9,
          9,
          9,
          9,
          9,
          9,
          9,
          9,
          9,
          9,
          9,
          9,
          9,
          9,
          9,
          9,
          9,
          9,
          9,
          9,
          9,
          9,
          9,
          9,
          9,
          9,
          9,
          9,
          9,
          9,
          9,
          9,
          9,
          9,
          9,
          9,
          9,
          9,
          9,
          9,
          9,
          9,
          9,
          9,
          9,
          9,
          9,
          9,
          9,
          9,
          9,
          9,
          9,
          9,
          9,
          9,
          9,
          9,
          9,
          9,
          9,
          9,
          9,
          9,
          9,
          9,
          9,
          9,
          9,
          9,
          9,
          9,
          9,
          9,
          9,
          9,
          9,
          9,
          9,
          9,
          9,
          9,
          9,
          9,
          9,
          9,
          9,
          9,
          9,
          9,
          9,
          9,
          9,
          9,
          9,
          9,
          9,
          9,
          9,
          9,
          9,
          9,
          9,
          9,
          9,
          9,
          9,
          9,
          9,
          9,
          9,
          9,
          9,
          9,
          9,
          9,
          9,
          9,
          9,
          9,
          9,
          9,
          9,
          9,
          9,
          9,
          9,
          9,
          9,
          9,
          9,
          9,
          9,
          9,
          9,
          9,
          9,
          9,
          9,
          9,
          9,
          9,
          9,
          9,
          9,
          9,
          9,
          9,
          9,
          9,
          9,
          9,
          9,
          9,
          9,
          9,
          9,
          9,
          9,
          9,
          9,
          9,
          9,
          9,
          9,
          9,
          9,
          9,
          9,
          9,
          9,
          9,
          9,
          9,
          9,
          9,
          9,
          9,
          9,
          9,
          9,
          9,
          9,
          9,
          9,
          9,
          9,
          9,
          9,
          9,
          9,
          9,
          9,
          9,
          9,
          9,
          9,
          9,
          9,
          9,
          9,
          9,
          9,
          9,
          9,
          9,
          9,
          9,
          9,
          9,
          9,
          9,
          9,
          9,
          9,
          9,
          9,
          9,
          9,
          9,
          9,
          9,
          9,
          9,
          9,
          9,
          9,
          9,
          9,
          9,
          9,
          9,
          9,
          9,
          9,
          9,
          9,
          9,
          9,
          9,
          9,
          9,
          9,
          9,
          9,
          9,
          9,
          9,
          9,
          9,
          9,
          9,
          9,
          9,
          9,
          9,
          9,
          9,
          9,
          9,
          9,
          9,
          9,
          9,
          9,
          9,
          9,
          9,
          9,
          9,
          9,
          9,
          9,
          9,
          9,
          9,
          9,
          9,
          9,
          9,
          9,
          9,
          9,
          9,
          9,
          9,
          9,
          9,
          9,
          9,
          9,
          9,
          9,
          9,
          9,
          9,
          9,
          9,
          9,
          9,
          9,
          9,
          9,
          9,
          9,
          9,
          9,
          9,
          9,
          9,
          9,
          9,
          9,
          9,
          9,
          9,
          9,
          9,
          9,
          9,
          9,
          9,
          9,
          9,
          9,
          9,
          9,
          9,
          9,
          9,
          9,
          9,
          9,
          9,
          9,
          9,
          9,
          9,
          9,
          9,
          9,
          9,
          9,
          9
         ],
         "yaxis": "y"
        }
       ],
       "layout": {
        "legend": {
         "tracegroupgap": 0
        },
        "template": {
         "data": {
          "bar": [
           {
            "error_x": {
             "color": "#2a3f5f"
            },
            "error_y": {
             "color": "#2a3f5f"
            },
            "marker": {
             "line": {
              "color": "#E5ECF6",
              "width": 0.5
             },
             "pattern": {
              "fillmode": "overlay",
              "size": 10,
              "solidity": 0.2
             }
            },
            "type": "bar"
           }
          ],
          "barpolar": [
           {
            "marker": {
             "line": {
              "color": "#E5ECF6",
              "width": 0.5
             },
             "pattern": {
              "fillmode": "overlay",
              "size": 10,
              "solidity": 0.2
             }
            },
            "type": "barpolar"
           }
          ],
          "carpet": [
           {
            "aaxis": {
             "endlinecolor": "#2a3f5f",
             "gridcolor": "white",
             "linecolor": "white",
             "minorgridcolor": "white",
             "startlinecolor": "#2a3f5f"
            },
            "baxis": {
             "endlinecolor": "#2a3f5f",
             "gridcolor": "white",
             "linecolor": "white",
             "minorgridcolor": "white",
             "startlinecolor": "#2a3f5f"
            },
            "type": "carpet"
           }
          ],
          "choropleth": [
           {
            "colorbar": {
             "outlinewidth": 0,
             "ticks": ""
            },
            "type": "choropleth"
           }
          ],
          "contour": [
           {
            "colorbar": {
             "outlinewidth": 0,
             "ticks": ""
            },
            "colorscale": [
             [
              0,
              "#0d0887"
             ],
             [
              0.1111111111111111,
              "#46039f"
             ],
             [
              0.2222222222222222,
              "#7201a8"
             ],
             [
              0.3333333333333333,
              "#9c179e"
             ],
             [
              0.4444444444444444,
              "#bd3786"
             ],
             [
              0.5555555555555556,
              "#d8576b"
             ],
             [
              0.6666666666666666,
              "#ed7953"
             ],
             [
              0.7777777777777778,
              "#fb9f3a"
             ],
             [
              0.8888888888888888,
              "#fdca26"
             ],
             [
              1,
              "#f0f921"
             ]
            ],
            "type": "contour"
           }
          ],
          "contourcarpet": [
           {
            "colorbar": {
             "outlinewidth": 0,
             "ticks": ""
            },
            "type": "contourcarpet"
           }
          ],
          "heatmap": [
           {
            "colorbar": {
             "outlinewidth": 0,
             "ticks": ""
            },
            "colorscale": [
             [
              0,
              "#0d0887"
             ],
             [
              0.1111111111111111,
              "#46039f"
             ],
             [
              0.2222222222222222,
              "#7201a8"
             ],
             [
              0.3333333333333333,
              "#9c179e"
             ],
             [
              0.4444444444444444,
              "#bd3786"
             ],
             [
              0.5555555555555556,
              "#d8576b"
             ],
             [
              0.6666666666666666,
              "#ed7953"
             ],
             [
              0.7777777777777778,
              "#fb9f3a"
             ],
             [
              0.8888888888888888,
              "#fdca26"
             ],
             [
              1,
              "#f0f921"
             ]
            ],
            "type": "heatmap"
           }
          ],
          "heatmapgl": [
           {
            "colorbar": {
             "outlinewidth": 0,
             "ticks": ""
            },
            "colorscale": [
             [
              0,
              "#0d0887"
             ],
             [
              0.1111111111111111,
              "#46039f"
             ],
             [
              0.2222222222222222,
              "#7201a8"
             ],
             [
              0.3333333333333333,
              "#9c179e"
             ],
             [
              0.4444444444444444,
              "#bd3786"
             ],
             [
              0.5555555555555556,
              "#d8576b"
             ],
             [
              0.6666666666666666,
              "#ed7953"
             ],
             [
              0.7777777777777778,
              "#fb9f3a"
             ],
             [
              0.8888888888888888,
              "#fdca26"
             ],
             [
              1,
              "#f0f921"
             ]
            ],
            "type": "heatmapgl"
           }
          ],
          "histogram": [
           {
            "marker": {
             "pattern": {
              "fillmode": "overlay",
              "size": 10,
              "solidity": 0.2
             }
            },
            "type": "histogram"
           }
          ],
          "histogram2d": [
           {
            "colorbar": {
             "outlinewidth": 0,
             "ticks": ""
            },
            "colorscale": [
             [
              0,
              "#0d0887"
             ],
             [
              0.1111111111111111,
              "#46039f"
             ],
             [
              0.2222222222222222,
              "#7201a8"
             ],
             [
              0.3333333333333333,
              "#9c179e"
             ],
             [
              0.4444444444444444,
              "#bd3786"
             ],
             [
              0.5555555555555556,
              "#d8576b"
             ],
             [
              0.6666666666666666,
              "#ed7953"
             ],
             [
              0.7777777777777778,
              "#fb9f3a"
             ],
             [
              0.8888888888888888,
              "#fdca26"
             ],
             [
              1,
              "#f0f921"
             ]
            ],
            "type": "histogram2d"
           }
          ],
          "histogram2dcontour": [
           {
            "colorbar": {
             "outlinewidth": 0,
             "ticks": ""
            },
            "colorscale": [
             [
              0,
              "#0d0887"
             ],
             [
              0.1111111111111111,
              "#46039f"
             ],
             [
              0.2222222222222222,
              "#7201a8"
             ],
             [
              0.3333333333333333,
              "#9c179e"
             ],
             [
              0.4444444444444444,
              "#bd3786"
             ],
             [
              0.5555555555555556,
              "#d8576b"
             ],
             [
              0.6666666666666666,
              "#ed7953"
             ],
             [
              0.7777777777777778,
              "#fb9f3a"
             ],
             [
              0.8888888888888888,
              "#fdca26"
             ],
             [
              1,
              "#f0f921"
             ]
            ],
            "type": "histogram2dcontour"
           }
          ],
          "mesh3d": [
           {
            "colorbar": {
             "outlinewidth": 0,
             "ticks": ""
            },
            "type": "mesh3d"
           }
          ],
          "parcoords": [
           {
            "line": {
             "colorbar": {
              "outlinewidth": 0,
              "ticks": ""
             }
            },
            "type": "parcoords"
           }
          ],
          "pie": [
           {
            "automargin": true,
            "type": "pie"
           }
          ],
          "scatter": [
           {
            "fillpattern": {
             "fillmode": "overlay",
             "size": 10,
             "solidity": 0.2
            },
            "type": "scatter"
           }
          ],
          "scatter3d": [
           {
            "line": {
             "colorbar": {
              "outlinewidth": 0,
              "ticks": ""
             }
            },
            "marker": {
             "colorbar": {
              "outlinewidth": 0,
              "ticks": ""
             }
            },
            "type": "scatter3d"
           }
          ],
          "scattercarpet": [
           {
            "marker": {
             "colorbar": {
              "outlinewidth": 0,
              "ticks": ""
             }
            },
            "type": "scattercarpet"
           }
          ],
          "scattergeo": [
           {
            "marker": {
             "colorbar": {
              "outlinewidth": 0,
              "ticks": ""
             }
            },
            "type": "scattergeo"
           }
          ],
          "scattergl": [
           {
            "marker": {
             "colorbar": {
              "outlinewidth": 0,
              "ticks": ""
             }
            },
            "type": "scattergl"
           }
          ],
          "scattermapbox": [
           {
            "marker": {
             "colorbar": {
              "outlinewidth": 0,
              "ticks": ""
             }
            },
            "type": "scattermapbox"
           }
          ],
          "scatterpolar": [
           {
            "marker": {
             "colorbar": {
              "outlinewidth": 0,
              "ticks": ""
             }
            },
            "type": "scatterpolar"
           }
          ],
          "scatterpolargl": [
           {
            "marker": {
             "colorbar": {
              "outlinewidth": 0,
              "ticks": ""
             }
            },
            "type": "scatterpolargl"
           }
          ],
          "scatterternary": [
           {
            "marker": {
             "colorbar": {
              "outlinewidth": 0,
              "ticks": ""
             }
            },
            "type": "scatterternary"
           }
          ],
          "surface": [
           {
            "colorbar": {
             "outlinewidth": 0,
             "ticks": ""
            },
            "colorscale": [
             [
              0,
              "#0d0887"
             ],
             [
              0.1111111111111111,
              "#46039f"
             ],
             [
              0.2222222222222222,
              "#7201a8"
             ],
             [
              0.3333333333333333,
              "#9c179e"
             ],
             [
              0.4444444444444444,
              "#bd3786"
             ],
             [
              0.5555555555555556,
              "#d8576b"
             ],
             [
              0.6666666666666666,
              "#ed7953"
             ],
             [
              0.7777777777777778,
              "#fb9f3a"
             ],
             [
              0.8888888888888888,
              "#fdca26"
             ],
             [
              1,
              "#f0f921"
             ]
            ],
            "type": "surface"
           }
          ],
          "table": [
           {
            "cells": {
             "fill": {
              "color": "#EBF0F8"
             },
             "line": {
              "color": "white"
             }
            },
            "header": {
             "fill": {
              "color": "#C8D4E3"
             },
             "line": {
              "color": "white"
             }
            },
            "type": "table"
           }
          ]
         },
         "layout": {
          "annotationdefaults": {
           "arrowcolor": "#2a3f5f",
           "arrowhead": 0,
           "arrowwidth": 1
          },
          "autotypenumbers": "strict",
          "coloraxis": {
           "colorbar": {
            "outlinewidth": 0,
            "ticks": ""
           }
          },
          "colorscale": {
           "diverging": [
            [
             0,
             "#8e0152"
            ],
            [
             0.1,
             "#c51b7d"
            ],
            [
             0.2,
             "#de77ae"
            ],
            [
             0.3,
             "#f1b6da"
            ],
            [
             0.4,
             "#fde0ef"
            ],
            [
             0.5,
             "#f7f7f7"
            ],
            [
             0.6,
             "#e6f5d0"
            ],
            [
             0.7,
             "#b8e186"
            ],
            [
             0.8,
             "#7fbc41"
            ],
            [
             0.9,
             "#4d9221"
            ],
            [
             1,
             "#276419"
            ]
           ],
           "sequential": [
            [
             0,
             "#0d0887"
            ],
            [
             0.1111111111111111,
             "#46039f"
            ],
            [
             0.2222222222222222,
             "#7201a8"
            ],
            [
             0.3333333333333333,
             "#9c179e"
            ],
            [
             0.4444444444444444,
             "#bd3786"
            ],
            [
             0.5555555555555556,
             "#d8576b"
            ],
            [
             0.6666666666666666,
             "#ed7953"
            ],
            [
             0.7777777777777778,
             "#fb9f3a"
            ],
            [
             0.8888888888888888,
             "#fdca26"
            ],
            [
             1,
             "#f0f921"
            ]
           ],
           "sequentialminus": [
            [
             0,
             "#0d0887"
            ],
            [
             0.1111111111111111,
             "#46039f"
            ],
            [
             0.2222222222222222,
             "#7201a8"
            ],
            [
             0.3333333333333333,
             "#9c179e"
            ],
            [
             0.4444444444444444,
             "#bd3786"
            ],
            [
             0.5555555555555556,
             "#d8576b"
            ],
            [
             0.6666666666666666,
             "#ed7953"
            ],
            [
             0.7777777777777778,
             "#fb9f3a"
            ],
            [
             0.8888888888888888,
             "#fdca26"
            ],
            [
             1,
             "#f0f921"
            ]
           ]
          },
          "colorway": [
           "#636efa",
           "#EF553B",
           "#00cc96",
           "#ab63fa",
           "#FFA15A",
           "#19d3f3",
           "#FF6692",
           "#B6E880",
           "#FF97FF",
           "#FECB52"
          ],
          "font": {
           "color": "#2a3f5f"
          },
          "geo": {
           "bgcolor": "white",
           "lakecolor": "white",
           "landcolor": "#E5ECF6",
           "showlakes": true,
           "showland": true,
           "subunitcolor": "white"
          },
          "hoverlabel": {
           "align": "left"
          },
          "hovermode": "closest",
          "mapbox": {
           "style": "light"
          },
          "paper_bgcolor": "white",
          "plot_bgcolor": "#E5ECF6",
          "polar": {
           "angularaxis": {
            "gridcolor": "white",
            "linecolor": "white",
            "ticks": ""
           },
           "bgcolor": "#E5ECF6",
           "radialaxis": {
            "gridcolor": "white",
            "linecolor": "white",
            "ticks": ""
           }
          },
          "scene": {
           "xaxis": {
            "backgroundcolor": "#E5ECF6",
            "gridcolor": "white",
            "gridwidth": 2,
            "linecolor": "white",
            "showbackground": true,
            "ticks": "",
            "zerolinecolor": "white"
           },
           "yaxis": {
            "backgroundcolor": "#E5ECF6",
            "gridcolor": "white",
            "gridwidth": 2,
            "linecolor": "white",
            "showbackground": true,
            "ticks": "",
            "zerolinecolor": "white"
           },
           "zaxis": {
            "backgroundcolor": "#E5ECF6",
            "gridcolor": "white",
            "gridwidth": 2,
            "linecolor": "white",
            "showbackground": true,
            "ticks": "",
            "zerolinecolor": "white"
           }
          },
          "shapedefaults": {
           "line": {
            "color": "#2a3f5f"
           }
          },
          "ternary": {
           "aaxis": {
            "gridcolor": "white",
            "linecolor": "white",
            "ticks": ""
           },
           "baxis": {
            "gridcolor": "white",
            "linecolor": "white",
            "ticks": ""
           },
           "bgcolor": "#E5ECF6",
           "caxis": {
            "gridcolor": "white",
            "linecolor": "white",
            "ticks": ""
           }
          },
          "title": {
           "x": 0.05
          },
          "xaxis": {
           "automargin": true,
           "gridcolor": "white",
           "linecolor": "white",
           "ticks": "",
           "title": {
            "standoff": 15
           },
           "zerolinecolor": "white",
           "zerolinewidth": 2
          },
          "yaxis": {
           "automargin": true,
           "gridcolor": "white",
           "linecolor": "white",
           "ticks": "",
           "title": {
            "standoff": 15
           },
           "zerolinecolor": "white",
           "zerolinewidth": 2
          }
         }
        },
        "title": {
         "text": "Active Promotions Over Time"
        },
        "xaxis": {
         "anchor": "y",
         "domain": [
          0,
          1
         ],
         "range": [
          "2021-04-01T00:00:00",
          "2026-09-18T00:19:50.444896"
         ],
         "title": {
          "text": "Month"
         }
        },
        "yaxis": {
         "anchor": "x",
         "domain": [
          0,
          1
         ],
         "title": {
          "text": "Active Promotions"
         }
        }
       }
      }
     },
     "metadata": {},
     "output_type": "display_data"
    }
   ],
   "source": [
    "fig_promo = px.line(promotion_timeline, x='Month', y='ActivePromotions', title='Active Promotions Over Time')\n",
    "fig_promo.update_layout(xaxis_title='Month', yaxis_title='Active Promotions')\n",
    "fig_promo.update_xaxes(range=[promotion_timeline['Month'].min(), pd.Timestamp.today() + pd.DateOffset(years=1)])\n",
    "fig_promo\n"
   ]
  },
  {
   "cell_type": "markdown",
   "id": "6713d8b2",
   "metadata": {},
   "source": [
    "### Promotion effectiveness – promo vs non-promo\n"
   ]
  },
  {
   "cell_type": "code",
   "execution_count": 15,
   "id": "32abd75d",
   "metadata": {},
   "outputs": [
    {
     "data": {
      "text/html": [
       "<div>\n",
       "<style scoped>\n",
       "    .dataframe tbody tr th:only-of-type {\n",
       "        vertical-align: middle;\n",
       "    }\n",
       "\n",
       "    .dataframe tbody tr th {\n",
       "        vertical-align: top;\n",
       "    }\n",
       "\n",
       "    .dataframe thead th {\n",
       "        text-align: right;\n",
       "    }\n",
       "</style>\n",
       "<table border=\"1\" class=\"dataframe\">\n",
       "  <thead>\n",
       "    <tr style=\"text-align: right;\">\n",
       "      <th></th>\n",
       "      <th>Promo_Flag</th>\n",
       "      <th>GMV</th>\n",
       "      <th>Units</th>\n",
       "      <th>Orders</th>\n",
       "      <th>ASP</th>\n",
       "      <th>AOV</th>\n",
       "      <th>Discount_value</th>\n",
       "      <th>Avg_Discount_rate</th>\n",
       "      <th>GMV_share_pct</th>\n",
       "    </tr>\n",
       "  </thead>\n",
       "  <tbody>\n",
       "    <tr>\n",
       "      <th>0</th>\n",
       "      <td>False</td>\n",
       "      <td>200674.01</td>\n",
       "      <td>6816</td>\n",
       "      <td>7607</td>\n",
       "      <td>29.441609</td>\n",
       "      <td>26.380177</td>\n",
       "      <td>2678.57</td>\n",
       "      <td>0.013172</td>\n",
       "      <td>84.013452</td>\n",
       "    </tr>\n",
       "    <tr>\n",
       "      <th>1</th>\n",
       "      <td>True</td>\n",
       "      <td>38185.37</td>\n",
       "      <td>4384</td>\n",
       "      <td>4321</td>\n",
       "      <td>8.710167</td>\n",
       "      <td>8.837160</td>\n",
       "      <td>38413.31</td>\n",
       "      <td>0.501488</td>\n",
       "      <td>15.986548</td>\n",
       "    </tr>\n",
       "  </tbody>\n",
       "</table>\n",
       "</div>"
      ],
      "text/plain": [
       "   Promo_Flag        GMV  Units  Orders        ASP        AOV  Discount_value  \\\n",
       "0       False  200674.01   6816    7607  29.441609  26.380177         2678.57   \n",
       "1        True   38185.37   4384    4321   8.710167   8.837160        38413.31   \n",
       "\n",
       "   Avg_Discount_rate  GMV_share_pct  \n",
       "0           0.013172      84.013452  \n",
       "1           0.501488      15.986548  "
      ]
     },
     "metadata": {},
     "output_type": "display_data"
    }
   ],
   "source": [
    "from IPython.display import display\n",
    "\n",
    "transaction_level = (\n",
    "    sales_df.groupby('Transaction_ID', as_index=False)\n",
    "    .agg(\n",
    "        GMV=('Line_Sales_Value', 'sum'),\n",
    "        Units=('Quantity_item', 'sum'),\n",
    "        Discount_value=('Line_Discount', 'sum'),\n",
    "        Original_value=('Line_Original_Value', 'sum'),\n",
    "        Promo_Flag=('Promo_Flag', 'max'),\n",
    "    )\n",
    ")\n",
    "\n",
    "transaction_level['Orders'] = 1\n",
    "\n",
    "promo_overall = (\n",
    "    transaction_level\n",
    "    .groupby('Promo_Flag', as_index=False)\n",
    "    .agg(\n",
    "        GMV=('GMV', 'sum'),\n",
    "        Units=('Units', 'sum'),\n",
    "        Orders=('Orders', 'sum'),\n",
    "        Discount_value=('Discount_value', 'sum'),\n",
    "        Original_value=('Original_value', 'sum'),\n",
    "    )\n",
    ")\n",
    "\n",
    "promo_overall['ASP'] = promo_overall['GMV'] / promo_overall['Units'].replace({0: pd.NA})\n",
    "promo_overall['AOV'] = promo_overall['GMV'] / promo_overall['Orders'].replace({0: pd.NA})\n",
    "promo_overall['Avg_Discount_rate'] = promo_overall['Discount_value'] / promo_overall['Original_value'].replace({0: pd.NA})\n",
    "promo_overall['GMV_share_pct'] = (promo_overall['GMV'] / promo_overall['GMV'].sum()) * 100\n",
    "promo_overall = promo_overall[\n",
    "    ['Promo_Flag', 'GMV', 'Units', 'Orders', 'ASP', 'AOV', 'Discount_value', 'Avg_Discount_rate', 'GMV_share_pct']\n",
    "]\n",
    "\n",
    "display(promo_overall)\n",
    "\n",
    "analysis_base = sales_df.assign(\n",
    "    Category=sales_df['Catégorie'].fillna('Unknown'),\n",
    "    Store_Name=sales_df['LIBELLE_y'].fillna(sales_df['Store_transaction_ID']),\n",
    "    Store_City=sales_df['CITY'].fillna('Unknown'),\n",
    "    Store_Province=sales_df['PROVINCE'].fillna('Unknown'),\n",
    "    Promo_Label=sales_df['LIBELLE_x'].fillna('Unspecified promo'),\n",
    ")\n",
    "analysis_base['Original_value'] = analysis_base['Line_Original_Value']\n",
    "analysis_base['Discount_value'] = analysis_base['Line_Discount'].clip(lower=0)\n",
    "analysis_base['GMV'] = analysis_base['Line_Sales_Value']\n"
   ]
  },
  {
   "cell_type": "markdown",
   "id": "cc093411",
   "metadata": {},
   "source": [
    "#### Category lens\n"
   ]
  },
  {
   "cell_type": "code",
   "execution_count": 16,
   "id": "f3c607dc",
   "metadata": {},
   "outputs": [
    {
     "data": {
      "text/html": [
       "<div>\n",
       "<style scoped>\n",
       "    .dataframe tbody tr th:only-of-type {\n",
       "        vertical-align: middle;\n",
       "    }\n",
       "\n",
       "    .dataframe tbody tr th {\n",
       "        vertical-align: top;\n",
       "    }\n",
       "\n",
       "    .dataframe thead th {\n",
       "        text-align: right;\n",
       "    }\n",
       "</style>\n",
       "<table border=\"1\" class=\"dataframe\">\n",
       "  <thead>\n",
       "    <tr style=\"text-align: right;\">\n",
       "      <th></th>\n",
       "      <th>Category</th>\n",
       "      <th>Promo_Flag</th>\n",
       "      <th>GMV</th>\n",
       "      <th>Units</th>\n",
       "      <th>Orders</th>\n",
       "      <th>Discount_value</th>\n",
       "      <th>Original_value</th>\n",
       "      <th>ASP</th>\n",
       "      <th>AOV</th>\n",
       "      <th>Avg_Discount_rate</th>\n",
       "      <th>GMV_share_pct</th>\n",
       "    </tr>\n",
       "  </thead>\n",
       "  <tbody>\n",
       "    <tr>\n",
       "      <th>16</th>\n",
       "      <td>Unknown</td>\n",
       "      <td>False</td>\n",
       "      <td>50249.66</td>\n",
       "      <td>1654</td>\n",
       "      <td>1647</td>\n",
       "      <td>1580.81</td>\n",
       "      <td>51830.47</td>\n",
       "      <td>30.380689</td>\n",
       "      <td>30.509812</td>\n",
       "      <td>0.030500</td>\n",
       "      <td>87.476379</td>\n",
       "    </tr>\n",
       "    <tr>\n",
       "      <th>2</th>\n",
       "      <td>Catégorie_002</td>\n",
       "      <td>False</td>\n",
       "      <td>44214.69</td>\n",
       "      <td>1043</td>\n",
       "      <td>1278</td>\n",
       "      <td>0.00</td>\n",
       "      <td>44214.69</td>\n",
       "      <td>42.391841</td>\n",
       "      <td>34.596784</td>\n",
       "      <td>0.000000</td>\n",
       "      <td>94.344839</td>\n",
       "    </tr>\n",
       "    <tr>\n",
       "      <th>12</th>\n",
       "      <td>Catégorie_007</td>\n",
       "      <td>False</td>\n",
       "      <td>42660.54</td>\n",
       "      <td>1791</td>\n",
       "      <td>2059</td>\n",
       "      <td>0.00</td>\n",
       "      <td>42660.54</td>\n",
       "      <td>23.819397</td>\n",
       "      <td>20.719058</td>\n",
       "      <td>0.000000</td>\n",
       "      <td>81.815640</td>\n",
       "    </tr>\n",
       "    <tr>\n",
       "      <th>4</th>\n",
       "      <td>Catégorie_003</td>\n",
       "      <td>False</td>\n",
       "      <td>22206.40</td>\n",
       "      <td>559</td>\n",
       "      <td>662</td>\n",
       "      <td>0.00</td>\n",
       "      <td>22206.40</td>\n",
       "      <td>39.725224</td>\n",
       "      <td>33.544411</td>\n",
       "      <td>0.000000</td>\n",
       "      <td>84.434307</td>\n",
       "    </tr>\n",
       "    <tr>\n",
       "      <th>6</th>\n",
       "      <td>Catégorie_004</td>\n",
       "      <td>False</td>\n",
       "      <td>16630.54</td>\n",
       "      <td>487</td>\n",
       "      <td>604</td>\n",
       "      <td>0.00</td>\n",
       "      <td>16630.54</td>\n",
       "      <td>34.148953</td>\n",
       "      <td>27.534007</td>\n",
       "      <td>0.000000</td>\n",
       "      <td>88.035221</td>\n",
       "    </tr>\n",
       "    <tr>\n",
       "      <th>10</th>\n",
       "      <td>Catégorie_006</td>\n",
       "      <td>False</td>\n",
       "      <td>11400.31</td>\n",
       "      <td>913</td>\n",
       "      <td>913</td>\n",
       "      <td>1105.23</td>\n",
       "      <td>12505.54</td>\n",
       "      <td>12.486648</td>\n",
       "      <td>12.486648</td>\n",
       "      <td>0.088379</td>\n",
       "      <td>51.757247</td>\n",
       "    </tr>\n",
       "    <tr>\n",
       "      <th>11</th>\n",
       "      <td>Catégorie_006</td>\n",
       "      <td>True</td>\n",
       "      <td>10626.19</td>\n",
       "      <td>2111</td>\n",
       "      <td>2076</td>\n",
       "      <td>14325.43</td>\n",
       "      <td>24951.62</td>\n",
       "      <td>5.033723</td>\n",
       "      <td>5.118589</td>\n",
       "      <td>0.574128</td>\n",
       "      <td>48.242753</td>\n",
       "    </tr>\n",
       "    <tr>\n",
       "      <th>13</th>\n",
       "      <td>Catégorie_007</td>\n",
       "      <td>True</td>\n",
       "      <td>9481.74</td>\n",
       "      <td>727</td>\n",
       "      <td>717</td>\n",
       "      <td>10318.29</td>\n",
       "      <td>19800.03</td>\n",
       "      <td>13.042283</td>\n",
       "      <td>13.224184</td>\n",
       "      <td>0.521125</td>\n",
       "      <td>18.184360</td>\n",
       "    </tr>\n",
       "    <tr>\n",
       "      <th>0</th>\n",
       "      <td>Catégorie_001</td>\n",
       "      <td>False</td>\n",
       "      <td>8761.19</td>\n",
       "      <td>236</td>\n",
       "      <td>285</td>\n",
       "      <td>0.00</td>\n",
       "      <td>8761.19</td>\n",
       "      <td>37.123686</td>\n",
       "      <td>30.741018</td>\n",
       "      <td>0.000000</td>\n",
       "      <td>92.143809</td>\n",
       "    </tr>\n",
       "    <tr>\n",
       "      <th>17</th>\n",
       "      <td>Unknown</td>\n",
       "      <td>True</td>\n",
       "      <td>7194.03</td>\n",
       "      <td>882</td>\n",
       "      <td>881</td>\n",
       "      <td>4672.72</td>\n",
       "      <td>11866.75</td>\n",
       "      <td>8.156497</td>\n",
       "      <td>8.165755</td>\n",
       "      <td>0.393766</td>\n",
       "      <td>12.523621</td>\n",
       "    </tr>\n",
       "    <tr>\n",
       "      <th>8</th>\n",
       "      <td>Catégorie_005</td>\n",
       "      <td>False</td>\n",
       "      <td>4762.43</td>\n",
       "      <td>135</td>\n",
       "      <td>174</td>\n",
       "      <td>0.00</td>\n",
       "      <td>4762.43</td>\n",
       "      <td>35.277259</td>\n",
       "      <td>27.370287</td>\n",
       "      <td>0.000000</td>\n",
       "      <td>85.510340</td>\n",
       "    </tr>\n",
       "    <tr>\n",
       "      <th>5</th>\n",
       "      <td>Catégorie_003</td>\n",
       "      <td>True</td>\n",
       "      <td>4093.81</td>\n",
       "      <td>218</td>\n",
       "      <td>218</td>\n",
       "      <td>3161.81</td>\n",
       "      <td>7255.62</td>\n",
       "      <td>18.778945</td>\n",
       "      <td>18.778945</td>\n",
       "      <td>0.435774</td>\n",
       "      <td>15.565693</td>\n",
       "    </tr>\n",
       "    <tr>\n",
       "      <th>3</th>\n",
       "      <td>Catégorie_002</td>\n",
       "      <td>True</td>\n",
       "      <td>2650.29</td>\n",
       "      <td>197</td>\n",
       "      <td>197</td>\n",
       "      <td>2493.46</td>\n",
       "      <td>5143.75</td>\n",
       "      <td>13.453249</td>\n",
       "      <td>13.453249</td>\n",
       "      <td>0.484755</td>\n",
       "      <td>5.655161</td>\n",
       "    </tr>\n",
       "    <tr>\n",
       "      <th>7</th>\n",
       "      <td>Catégorie_004</td>\n",
       "      <td>True</td>\n",
       "      <td>2260.24</td>\n",
       "      <td>145</td>\n",
       "      <td>144</td>\n",
       "      <td>2119.99</td>\n",
       "      <td>4380.23</td>\n",
       "      <td>15.587862</td>\n",
       "      <td>15.696111</td>\n",
       "      <td>0.483991</td>\n",
       "      <td>11.964779</td>\n",
       "    </tr>\n",
       "    <tr>\n",
       "      <th>9</th>\n",
       "      <td>Catégorie_005</td>\n",
       "      <td>True</td>\n",
       "      <td>806.99</td>\n",
       "      <td>47</td>\n",
       "      <td>47</td>\n",
       "      <td>683.02</td>\n",
       "      <td>1490.01</td>\n",
       "      <td>17.170000</td>\n",
       "      <td>17.170000</td>\n",
       "      <td>0.458400</td>\n",
       "      <td>14.489660</td>\n",
       "    </tr>\n",
       "    <tr>\n",
       "      <th>1</th>\n",
       "      <td>Catégorie_001</td>\n",
       "      <td>True</td>\n",
       "      <td>746.98</td>\n",
       "      <td>46</td>\n",
       "      <td>46</td>\n",
       "      <td>622.12</td>\n",
       "      <td>1369.10</td>\n",
       "      <td>16.238696</td>\n",
       "      <td>16.238696</td>\n",
       "      <td>0.454401</td>\n",
       "      <td>7.856191</td>\n",
       "    </tr>\n",
       "    <tr>\n",
       "      <th>14</th>\n",
       "      <td>Catégorie_008</td>\n",
       "      <td>False</td>\n",
       "      <td>107.40</td>\n",
       "      <td>8</td>\n",
       "      <td>8</td>\n",
       "      <td>0.00</td>\n",
       "      <td>107.40</td>\n",
       "      <td>13.425000</td>\n",
       "      <td>13.425000</td>\n",
       "      <td>0.000000</td>\n",
       "      <td>94.750772</td>\n",
       "    </tr>\n",
       "    <tr>\n",
       "      <th>15</th>\n",
       "      <td>Catégorie_008</td>\n",
       "      <td>True</td>\n",
       "      <td>5.95</td>\n",
       "      <td>1</td>\n",
       "      <td>1</td>\n",
       "      <td>9.00</td>\n",
       "      <td>14.95</td>\n",
       "      <td>5.950000</td>\n",
       "      <td>5.950000</td>\n",
       "      <td>0.602007</td>\n",
       "      <td>5.249228</td>\n",
       "    </tr>\n",
       "  </tbody>\n",
       "</table>\n",
       "</div>"
      ],
      "text/plain": [
       "         Category  Promo_Flag       GMV  Units  Orders  Discount_value  \\\n",
       "16        Unknown       False  50249.66   1654    1647         1580.81   \n",
       "2   Catégorie_002       False  44214.69   1043    1278            0.00   \n",
       "12  Catégorie_007       False  42660.54   1791    2059            0.00   \n",
       "4   Catégorie_003       False  22206.40    559     662            0.00   \n",
       "6   Catégorie_004       False  16630.54    487     604            0.00   \n",
       "10  Catégorie_006       False  11400.31    913     913         1105.23   \n",
       "11  Catégorie_006        True  10626.19   2111    2076        14325.43   \n",
       "13  Catégorie_007        True   9481.74    727     717        10318.29   \n",
       "0   Catégorie_001       False   8761.19    236     285            0.00   \n",
       "17        Unknown        True   7194.03    882     881         4672.72   \n",
       "8   Catégorie_005       False   4762.43    135     174            0.00   \n",
       "5   Catégorie_003        True   4093.81    218     218         3161.81   \n",
       "3   Catégorie_002        True   2650.29    197     197         2493.46   \n",
       "7   Catégorie_004        True   2260.24    145     144         2119.99   \n",
       "9   Catégorie_005        True    806.99     47      47          683.02   \n",
       "1   Catégorie_001        True    746.98     46      46          622.12   \n",
       "14  Catégorie_008       False    107.40      8       8            0.00   \n",
       "15  Catégorie_008        True      5.95      1       1            9.00   \n",
       "\n",
       "    Original_value        ASP        AOV  Avg_Discount_rate  GMV_share_pct  \n",
       "16        51830.47  30.380689  30.509812           0.030500      87.476379  \n",
       "2         44214.69  42.391841  34.596784           0.000000      94.344839  \n",
       "12        42660.54  23.819397  20.719058           0.000000      81.815640  \n",
       "4         22206.40  39.725224  33.544411           0.000000      84.434307  \n",
       "6         16630.54  34.148953  27.534007           0.000000      88.035221  \n",
       "10        12505.54  12.486648  12.486648           0.088379      51.757247  \n",
       "11        24951.62   5.033723   5.118589           0.574128      48.242753  \n",
       "13        19800.03  13.042283  13.224184           0.521125      18.184360  \n",
       "0          8761.19  37.123686  30.741018           0.000000      92.143809  \n",
       "17        11866.75   8.156497   8.165755           0.393766      12.523621  \n",
       "8          4762.43  35.277259  27.370287           0.000000      85.510340  \n",
       "5          7255.62  18.778945  18.778945           0.435774      15.565693  \n",
       "3          5143.75  13.453249  13.453249           0.484755       5.655161  \n",
       "7          4380.23  15.587862  15.696111           0.483991      11.964779  \n",
       "9          1490.01  17.170000  17.170000           0.458400      14.489660  \n",
       "1          1369.10  16.238696  16.238696           0.454401       7.856191  \n",
       "14          107.40  13.425000  13.425000           0.000000      94.750772  \n",
       "15           14.95   5.950000   5.950000           0.602007       5.249228  "
      ]
     },
     "metadata": {},
     "output_type": "display_data"
    }
   ],
   "source": [
    "from IPython.display import display\n",
    "\n",
    "def summarize_promo_effect(df, dimensions):\n",
    "    grouped = (\n",
    "        df.groupby(dimensions + ['Promo_Flag'], as_index=False)\n",
    "        .agg(\n",
    "            GMV=('GMV', 'sum'),\n",
    "            Units=('Quantity_item', 'sum'),\n",
    "            Orders=('Transaction_ID', 'nunique'),\n",
    "            Discount_value=('Discount_value', 'sum'),\n",
    "            Original_value=('Original_value', 'sum'),\n",
    "        )\n",
    "    )\n",
    "    grouped['ASP'] = grouped['GMV'] / grouped['Units'].replace({0: pd.NA})\n",
    "    grouped['AOV'] = grouped['GMV'] / grouped['Orders'].replace({0: pd.NA})\n",
    "    grouped['Avg_Discount_rate'] = grouped['Discount_value'] / grouped['Original_value'].replace({0: pd.NA})\n",
    "\n",
    "    def share(values):\n",
    "        total = values.sum()\n",
    "        if total == 0:\n",
    "            return pd.Series([0.0] * len(values), index=values.index)\n",
    "        return (values / total) * 100\n",
    "\n",
    "    grouped['GMV_share_pct'] = grouped.groupby(dimensions)['GMV'].transform(share)\n",
    "    return grouped.sort_values('GMV', ascending=False)\n",
    "\n",
    "category_promo = summarize_promo_effect(analysis_base, ['Category'])\n",
    "display(category_promo.head(20))\n"
   ]
  },
  {
   "cell_type": "markdown",
   "id": "a79aab36",
   "metadata": {},
   "source": [
    "#### Store lens\n"
   ]
  },
  {
   "cell_type": "code",
   "execution_count": 17,
   "id": "1e84f7d4",
   "metadata": {},
   "outputs": [
    {
     "data": {
      "text/html": [
       "<div>\n",
       "<style scoped>\n",
       "    .dataframe tbody tr th:only-of-type {\n",
       "        vertical-align: middle;\n",
       "    }\n",
       "\n",
       "    .dataframe tbody tr th {\n",
       "        vertical-align: top;\n",
       "    }\n",
       "\n",
       "    .dataframe thead th {\n",
       "        text-align: right;\n",
       "    }\n",
       "</style>\n",
       "<table border=\"1\" class=\"dataframe\">\n",
       "  <thead>\n",
       "    <tr style=\"text-align: right;\">\n",
       "      <th></th>\n",
       "      <th>Store_Province</th>\n",
       "      <th>Store_Name</th>\n",
       "      <th>Promo_Flag</th>\n",
       "      <th>GMV</th>\n",
       "      <th>Units</th>\n",
       "      <th>Orders</th>\n",
       "      <th>Discount_value</th>\n",
       "      <th>Original_value</th>\n",
       "      <th>ASP</th>\n",
       "      <th>AOV</th>\n",
       "      <th>Avg_Discount_rate</th>\n",
       "      <th>GMV_share_pct</th>\n",
       "    </tr>\n",
       "  </thead>\n",
       "  <tbody>\n",
       "    <tr>\n",
       "      <th>134</th>\n",
       "      <td>AB</td>\n",
       "      <td>Alberta Online Store 01</td>\n",
       "      <td>False</td>\n",
       "      <td>82425.32</td>\n",
       "      <td>3467</td>\n",
       "      <td>3306</td>\n",
       "      <td>0.00</td>\n",
       "      <td>82425.32</td>\n",
       "      <td>23.774249</td>\n",
       "      <td>24.932039</td>\n",
       "      <td>0.000000</td>\n",
       "      <td>100.000000</td>\n",
       "    </tr>\n",
       "    <tr>\n",
       "      <th>60</th>\n",
       "      <td>AB</td>\n",
       "      <td>AB Store 039 - Sherwood Park</td>\n",
       "      <td>False</td>\n",
       "      <td>4481.55</td>\n",
       "      <td>124</td>\n",
       "      <td>150</td>\n",
       "      <td>132.87</td>\n",
       "      <td>4614.42</td>\n",
       "      <td>36.141532</td>\n",
       "      <td>29.877000</td>\n",
       "      <td>0.028795</td>\n",
       "      <td>81.343556</td>\n",
       "    </tr>\n",
       "    <tr>\n",
       "      <th>38</th>\n",
       "      <td>AB</td>\n",
       "      <td>AB Store 026 - Medicine Hat</td>\n",
       "      <td>False</td>\n",
       "      <td>4403.61</td>\n",
       "      <td>132</td>\n",
       "      <td>146</td>\n",
       "      <td>122.38</td>\n",
       "      <td>4525.99</td>\n",
       "      <td>33.360682</td>\n",
       "      <td>30.161712</td>\n",
       "      <td>0.027039</td>\n",
       "      <td>85.446265</td>\n",
       "    </tr>\n",
       "    <tr>\n",
       "      <th>26</th>\n",
       "      <td>AB</td>\n",
       "      <td>AB Store 016 - Camrose</td>\n",
       "      <td>False</td>\n",
       "      <td>3282.76</td>\n",
       "      <td>83</td>\n",
       "      <td>111</td>\n",
       "      <td>117.72</td>\n",
       "      <td>3400.48</td>\n",
       "      <td>39.551325</td>\n",
       "      <td>29.574414</td>\n",
       "      <td>0.034619</td>\n",
       "      <td>80.062630</td>\n",
       "    </tr>\n",
       "    <tr>\n",
       "      <th>102</th>\n",
       "      <td>AB</td>\n",
       "      <td>AB Store 087 - Grande Prairie</td>\n",
       "      <td>False</td>\n",
       "      <td>3249.67</td>\n",
       "      <td>97</td>\n",
       "      <td>119</td>\n",
       "      <td>43.79</td>\n",
       "      <td>3293.46</td>\n",
       "      <td>33.501753</td>\n",
       "      <td>27.308151</td>\n",
       "      <td>0.013296</td>\n",
       "      <td>76.604858</td>\n",
       "    </tr>\n",
       "    <tr>\n",
       "      <th>56</th>\n",
       "      <td>AB</td>\n",
       "      <td>AB Store 037 - Chestermere</td>\n",
       "      <td>False</td>\n",
       "      <td>3118.83</td>\n",
       "      <td>73</td>\n",
       "      <td>112</td>\n",
       "      <td>81.82</td>\n",
       "      <td>3200.65</td>\n",
       "      <td>42.723699</td>\n",
       "      <td>27.846696</td>\n",
       "      <td>0.025564</td>\n",
       "      <td>83.686765</td>\n",
       "    </tr>\n",
       "    <tr>\n",
       "      <th>86</th>\n",
       "      <td>AB</td>\n",
       "      <td>AB Store 077 - Chestermere</td>\n",
       "      <td>False</td>\n",
       "      <td>3072.84</td>\n",
       "      <td>87</td>\n",
       "      <td>124</td>\n",
       "      <td>36.43</td>\n",
       "      <td>3109.27</td>\n",
       "      <td>35.320000</td>\n",
       "      <td>24.780968</td>\n",
       "      <td>0.011717</td>\n",
       "      <td>66.673610</td>\n",
       "    </tr>\n",
       "    <tr>\n",
       "      <th>116</th>\n",
       "      <td>AB</td>\n",
       "      <td>AB Store 097 - Chestermere</td>\n",
       "      <td>False</td>\n",
       "      <td>3035.79</td>\n",
       "      <td>83</td>\n",
       "      <td>104</td>\n",
       "      <td>33.39</td>\n",
       "      <td>3069.18</td>\n",
       "      <td>36.575783</td>\n",
       "      <td>29.190288</td>\n",
       "      <td>0.010879</td>\n",
       "      <td>78.962646</td>\n",
       "    </tr>\n",
       "    <tr>\n",
       "      <th>6</th>\n",
       "      <td>AB</td>\n",
       "      <td>AB Store 004 - Lethbridge</td>\n",
       "      <td>False</td>\n",
       "      <td>2958.37</td>\n",
       "      <td>93</td>\n",
       "      <td>103</td>\n",
       "      <td>68.04</td>\n",
       "      <td>3026.41</td>\n",
       "      <td>31.810430</td>\n",
       "      <td>28.722039</td>\n",
       "      <td>0.022482</td>\n",
       "      <td>70.666205</td>\n",
       "    </tr>\n",
       "    <tr>\n",
       "      <th>92</th>\n",
       "      <td>AB</td>\n",
       "      <td>AB Store 081 - Calgary</td>\n",
       "      <td>False</td>\n",
       "      <td>2956.03</td>\n",
       "      <td>103</td>\n",
       "      <td>123</td>\n",
       "      <td>44.68</td>\n",
       "      <td>3000.71</td>\n",
       "      <td>28.699320</td>\n",
       "      <td>24.032764</td>\n",
       "      <td>0.014890</td>\n",
       "      <td>75.057765</td>\n",
       "    </tr>\n",
       "    <tr>\n",
       "      <th>94</th>\n",
       "      <td>AB</td>\n",
       "      <td>AB Store 083 - Red Deer</td>\n",
       "      <td>False</td>\n",
       "      <td>2938.98</td>\n",
       "      <td>100</td>\n",
       "      <td>110</td>\n",
       "      <td>120.70</td>\n",
       "      <td>3059.68</td>\n",
       "      <td>29.389800</td>\n",
       "      <td>26.718000</td>\n",
       "      <td>0.039449</td>\n",
       "      <td>79.563279</td>\n",
       "    </tr>\n",
       "    <tr>\n",
       "      <th>106</th>\n",
       "      <td>AB</td>\n",
       "      <td>AB Store 092 - Fort McMurray</td>\n",
       "      <td>False</td>\n",
       "      <td>2740.29</td>\n",
       "      <td>88</td>\n",
       "      <td>110</td>\n",
       "      <td>43.91</td>\n",
       "      <td>2784.20</td>\n",
       "      <td>31.139659</td>\n",
       "      <td>24.911727</td>\n",
       "      <td>0.015771</td>\n",
       "      <td>71.998455</td>\n",
       "    </tr>\n",
       "    <tr>\n",
       "      <th>74</th>\n",
       "      <td>AB</td>\n",
       "      <td>AB Store 048 - Airdrie</td>\n",
       "      <td>False</td>\n",
       "      <td>2728.79</td>\n",
       "      <td>79</td>\n",
       "      <td>95</td>\n",
       "      <td>99.54</td>\n",
       "      <td>2828.33</td>\n",
       "      <td>34.541646</td>\n",
       "      <td>28.724105</td>\n",
       "      <td>0.035194</td>\n",
       "      <td>83.866516</td>\n",
       "    </tr>\n",
       "    <tr>\n",
       "      <th>42</th>\n",
       "      <td>AB</td>\n",
       "      <td>AB Store 028 - Airdrie</td>\n",
       "      <td>False</td>\n",
       "      <td>2471.48</td>\n",
       "      <td>62</td>\n",
       "      <td>82</td>\n",
       "      <td>33.43</td>\n",
       "      <td>2504.91</td>\n",
       "      <td>39.862581</td>\n",
       "      <td>30.140000</td>\n",
       "      <td>0.013346</td>\n",
       "      <td>80.878330</td>\n",
       "    </tr>\n",
       "    <tr>\n",
       "      <th>128</th>\n",
       "      <td>AB</td>\n",
       "      <td>AB Store 104 - Lethbridge</td>\n",
       "      <td>False</td>\n",
       "      <td>2471.39</td>\n",
       "      <td>45</td>\n",
       "      <td>100</td>\n",
       "      <td>0.00</td>\n",
       "      <td>2471.39</td>\n",
       "      <td>54.919778</td>\n",
       "      <td>24.713900</td>\n",
       "      <td>0.000000</td>\n",
       "      <td>71.543663</td>\n",
       "    </tr>\n",
       "    <tr>\n",
       "      <th>130</th>\n",
       "      <td>AB</td>\n",
       "      <td>AB Store 105 - St. Albert</td>\n",
       "      <td>False</td>\n",
       "      <td>2402.30</td>\n",
       "      <td>71</td>\n",
       "      <td>114</td>\n",
       "      <td>0.00</td>\n",
       "      <td>2402.30</td>\n",
       "      <td>33.835211</td>\n",
       "      <td>21.072807</td>\n",
       "      <td>0.000000</td>\n",
       "      <td>53.087626</td>\n",
       "    </tr>\n",
       "    <tr>\n",
       "      <th>34</th>\n",
       "      <td>AB</td>\n",
       "      <td>AB Store 023 - Red Deer</td>\n",
       "      <td>False</td>\n",
       "      <td>2399.82</td>\n",
       "      <td>75</td>\n",
       "      <td>91</td>\n",
       "      <td>87.03</td>\n",
       "      <td>2486.85</td>\n",
       "      <td>31.997600</td>\n",
       "      <td>26.371648</td>\n",
       "      <td>0.034996</td>\n",
       "      <td>67.898168</td>\n",
       "    </tr>\n",
       "    <tr>\n",
       "      <th>132</th>\n",
       "      <td>AB</td>\n",
       "      <td>AB Store 107 - Grande Prairie</td>\n",
       "      <td>False</td>\n",
       "      <td>2385.23</td>\n",
       "      <td>68</td>\n",
       "      <td>94</td>\n",
       "      <td>35.91</td>\n",
       "      <td>2421.14</td>\n",
       "      <td>35.076912</td>\n",
       "      <td>25.374787</td>\n",
       "      <td>0.014832</td>\n",
       "      <td>65.758089</td>\n",
       "    </tr>\n",
       "    <tr>\n",
       "      <th>18</th>\n",
       "      <td>AB</td>\n",
       "      <td>AB Store 012 - Fort McMurray</td>\n",
       "      <td>False</td>\n",
       "      <td>2383.71</td>\n",
       "      <td>60</td>\n",
       "      <td>80</td>\n",
       "      <td>80.69</td>\n",
       "      <td>2464.40</td>\n",
       "      <td>39.728500</td>\n",
       "      <td>29.796375</td>\n",
       "      <td>0.032742</td>\n",
       "      <td>80.008257</td>\n",
       "    </tr>\n",
       "    <tr>\n",
       "      <th>72</th>\n",
       "      <td>AB</td>\n",
       "      <td>AB Store 047 - Grande Prairie</td>\n",
       "      <td>False</td>\n",
       "      <td>2381.84</td>\n",
       "      <td>65</td>\n",
       "      <td>79</td>\n",
       "      <td>31.74</td>\n",
       "      <td>2413.58</td>\n",
       "      <td>36.643692</td>\n",
       "      <td>30.149873</td>\n",
       "      <td>0.013151</td>\n",
       "      <td>81.335605</td>\n",
       "    </tr>\n",
       "  </tbody>\n",
       "</table>\n",
       "</div>"
      ],
      "text/plain": [
       "    Store_Province                     Store_Name  Promo_Flag       GMV  \\\n",
       "134             AB        Alberta Online Store 01       False  82425.32   \n",
       "60              AB   AB Store 039 - Sherwood Park       False   4481.55   \n",
       "38              AB    AB Store 026 - Medicine Hat       False   4403.61   \n",
       "26              AB         AB Store 016 - Camrose       False   3282.76   \n",
       "102             AB  AB Store 087 - Grande Prairie       False   3249.67   \n",
       "56              AB     AB Store 037 - Chestermere       False   3118.83   \n",
       "86              AB     AB Store 077 - Chestermere       False   3072.84   \n",
       "116             AB     AB Store 097 - Chestermere       False   3035.79   \n",
       "6               AB      AB Store 004 - Lethbridge       False   2958.37   \n",
       "92              AB         AB Store 081 - Calgary       False   2956.03   \n",
       "94              AB        AB Store 083 - Red Deer       False   2938.98   \n",
       "106             AB   AB Store 092 - Fort McMurray       False   2740.29   \n",
       "74              AB         AB Store 048 - Airdrie       False   2728.79   \n",
       "42              AB         AB Store 028 - Airdrie       False   2471.48   \n",
       "128             AB      AB Store 104 - Lethbridge       False   2471.39   \n",
       "130             AB      AB Store 105 - St. Albert       False   2402.30   \n",
       "34              AB        AB Store 023 - Red Deer       False   2399.82   \n",
       "132             AB  AB Store 107 - Grande Prairie       False   2385.23   \n",
       "18              AB   AB Store 012 - Fort McMurray       False   2383.71   \n",
       "72              AB  AB Store 047 - Grande Prairie       False   2381.84   \n",
       "\n",
       "     Units  Orders  Discount_value  Original_value        ASP        AOV  \\\n",
       "134   3467    3306            0.00        82425.32  23.774249  24.932039   \n",
       "60     124     150          132.87         4614.42  36.141532  29.877000   \n",
       "38     132     146          122.38         4525.99  33.360682  30.161712   \n",
       "26      83     111          117.72         3400.48  39.551325  29.574414   \n",
       "102     97     119           43.79         3293.46  33.501753  27.308151   \n",
       "56      73     112           81.82         3200.65  42.723699  27.846696   \n",
       "86      87     124           36.43         3109.27  35.320000  24.780968   \n",
       "116     83     104           33.39         3069.18  36.575783  29.190288   \n",
       "6       93     103           68.04         3026.41  31.810430  28.722039   \n",
       "92     103     123           44.68         3000.71  28.699320  24.032764   \n",
       "94     100     110          120.70         3059.68  29.389800  26.718000   \n",
       "106     88     110           43.91         2784.20  31.139659  24.911727   \n",
       "74      79      95           99.54         2828.33  34.541646  28.724105   \n",
       "42      62      82           33.43         2504.91  39.862581  30.140000   \n",
       "128     45     100            0.00         2471.39  54.919778  24.713900   \n",
       "130     71     114            0.00         2402.30  33.835211  21.072807   \n",
       "34      75      91           87.03         2486.85  31.997600  26.371648   \n",
       "132     68      94           35.91         2421.14  35.076912  25.374787   \n",
       "18      60      80           80.69         2464.40  39.728500  29.796375   \n",
       "72      65      79           31.74         2413.58  36.643692  30.149873   \n",
       "\n",
       "     Avg_Discount_rate  GMV_share_pct  \n",
       "134           0.000000     100.000000  \n",
       "60            0.028795      81.343556  \n",
       "38            0.027039      85.446265  \n",
       "26            0.034619      80.062630  \n",
       "102           0.013296      76.604858  \n",
       "56            0.025564      83.686765  \n",
       "86            0.011717      66.673610  \n",
       "116           0.010879      78.962646  \n",
       "6             0.022482      70.666205  \n",
       "92            0.014890      75.057765  \n",
       "94            0.039449      79.563279  \n",
       "106           0.015771      71.998455  \n",
       "74            0.035194      83.866516  \n",
       "42            0.013346      80.878330  \n",
       "128           0.000000      71.543663  \n",
       "130           0.000000      53.087626  \n",
       "34            0.034996      67.898168  \n",
       "132           0.014832      65.758089  \n",
       "18            0.032742      80.008257  \n",
       "72            0.013151      81.335605  "
      ]
     },
     "metadata": {},
     "output_type": "display_data"
    }
   ],
   "source": [
    "from IPython.display import display\n",
    "\n",
    "store_promo = summarize_promo_effect(analysis_base, ['Store_Province', 'Store_Name'])\n",
    "display(store_promo.head(20))\n"
   ]
  },
  {
   "cell_type": "markdown",
   "id": "c55f2a13",
   "metadata": {},
   "source": [
    "#### Promotion type lens\n"
   ]
  },
  {
   "cell_type": "code",
   "execution_count": 18,
   "id": "58a5e8b4",
   "metadata": {},
   "outputs": [
    {
     "data": {
      "text/html": [
       "<div>\n",
       "<style scoped>\n",
       "    .dataframe tbody tr th:only-of-type {\n",
       "        vertical-align: middle;\n",
       "    }\n",
       "\n",
       "    .dataframe tbody tr th {\n",
       "        vertical-align: top;\n",
       "    }\n",
       "\n",
       "    .dataframe thead th {\n",
       "        text-align: right;\n",
       "    }\n",
       "</style>\n",
       "<table border=\"1\" class=\"dataframe\">\n",
       "  <thead>\n",
       "    <tr style=\"text-align: right;\">\n",
       "      <th></th>\n",
       "      <th>Promo_Label</th>\n",
       "      <th>Promo_Flag</th>\n",
       "      <th>GMV</th>\n",
       "      <th>Units</th>\n",
       "      <th>Orders</th>\n",
       "      <th>Discount_value</th>\n",
       "      <th>Original_value</th>\n",
       "      <th>ASP</th>\n",
       "      <th>AOV</th>\n",
       "      <th>Avg_Discount_rate</th>\n",
       "      <th>GMV_share_pct</th>\n",
       "    </tr>\n",
       "  </thead>\n",
       "  <tbody>\n",
       "    <tr>\n",
       "      <th>8</th>\n",
       "      <td>OFFER11E623A3</td>\n",
       "      <td>False</td>\n",
       "      <td>200993.16</td>\n",
       "      <td>6826</td>\n",
       "      <td>7617</td>\n",
       "      <td>2686.04</td>\n",
       "      <td>203679.20</td>\n",
       "      <td>29.445233</td>\n",
       "      <td>26.387444</td>\n",
       "      <td>0.013188</td>\n",
       "      <td>100.0</td>\n",
       "    </tr>\n",
       "    <tr>\n",
       "      <th>18</th>\n",
       "      <td>OFFER3C5E0BCD</td>\n",
       "      <td>True</td>\n",
       "      <td>7619.68</td>\n",
       "      <td>661</td>\n",
       "      <td>658</td>\n",
       "      <td>7620.69</td>\n",
       "      <td>15240.37</td>\n",
       "      <td>11.527504</td>\n",
       "      <td>11.580061</td>\n",
       "      <td>0.500033</td>\n",
       "      <td>100.0</td>\n",
       "    </tr>\n",
       "    <tr>\n",
       "      <th>5</th>\n",
       "      <td>OFFER0B2B5288</td>\n",
       "      <td>True</td>\n",
       "      <td>7372.01</td>\n",
       "      <td>1017</td>\n",
       "      <td>1010</td>\n",
       "      <td>4876.74</td>\n",
       "      <td>12248.75</td>\n",
       "      <td>7.248781</td>\n",
       "      <td>7.299020</td>\n",
       "      <td>0.398142</td>\n",
       "      <td>100.0</td>\n",
       "    </tr>\n",
       "    <tr>\n",
       "      <th>61</th>\n",
       "      <td>OFFERF6059F7F</td>\n",
       "      <td>True</td>\n",
       "      <td>5282.15</td>\n",
       "      <td>1024</td>\n",
       "      <td>1022</td>\n",
       "      <td>4906.65</td>\n",
       "      <td>10188.80</td>\n",
       "      <td>5.158350</td>\n",
       "      <td>5.168444</td>\n",
       "      <td>0.481573</td>\n",
       "      <td>100.0</td>\n",
       "    </tr>\n",
       "    <tr>\n",
       "      <th>55</th>\n",
       "      <td>OFFERE7E4C9E9</td>\n",
       "      <td>True</td>\n",
       "      <td>2782.32</td>\n",
       "      <td>107</td>\n",
       "      <td>107</td>\n",
       "      <td>902.33</td>\n",
       "      <td>3684.65</td>\n",
       "      <td>26.002991</td>\n",
       "      <td>26.002991</td>\n",
       "      <td>0.244889</td>\n",
       "      <td>100.0</td>\n",
       "    </tr>\n",
       "    <tr>\n",
       "      <th>22</th>\n",
       "      <td>OFFER4CFF2747</td>\n",
       "      <td>True</td>\n",
       "      <td>1624.60</td>\n",
       "      <td>84</td>\n",
       "      <td>84</td>\n",
       "      <td>1410.72</td>\n",
       "      <td>3035.32</td>\n",
       "      <td>19.340476</td>\n",
       "      <td>19.340476</td>\n",
       "      <td>0.464768</td>\n",
       "      <td>100.0</td>\n",
       "    </tr>\n",
       "    <tr>\n",
       "      <th>41</th>\n",
       "      <td>OFFERB0603A29</td>\n",
       "      <td>True</td>\n",
       "      <td>1284.64</td>\n",
       "      <td>80</td>\n",
       "      <td>80</td>\n",
       "      <td>1139.24</td>\n",
       "      <td>2423.88</td>\n",
       "      <td>16.058000</td>\n",
       "      <td>16.058000</td>\n",
       "      <td>0.470007</td>\n",
       "      <td>100.0</td>\n",
       "    </tr>\n",
       "    <tr>\n",
       "      <th>13</th>\n",
       "      <td>OFFER1EFAA24C</td>\n",
       "      <td>True</td>\n",
       "      <td>1258.61</td>\n",
       "      <td>56</td>\n",
       "      <td>56</td>\n",
       "      <td>1258.59</td>\n",
       "      <td>2517.20</td>\n",
       "      <td>22.475179</td>\n",
       "      <td>22.475179</td>\n",
       "      <td>0.499996</td>\n",
       "      <td>100.0</td>\n",
       "    </tr>\n",
       "    <tr>\n",
       "      <th>60</th>\n",
       "      <td>OFFERF4AA4853</td>\n",
       "      <td>True</td>\n",
       "      <td>947.76</td>\n",
       "      <td>109</td>\n",
       "      <td>108</td>\n",
       "      <td>1756.79</td>\n",
       "      <td>2704.55</td>\n",
       "      <td>8.695046</td>\n",
       "      <td>8.775556</td>\n",
       "      <td>0.649568</td>\n",
       "      <td>100.0</td>\n",
       "    </tr>\n",
       "    <tr>\n",
       "      <th>10</th>\n",
       "      <td>OFFER176BF862</td>\n",
       "      <td>True</td>\n",
       "      <td>696.46</td>\n",
       "      <td>232</td>\n",
       "      <td>230</td>\n",
       "      <td>1796.99</td>\n",
       "      <td>2493.45</td>\n",
       "      <td>3.001983</td>\n",
       "      <td>3.028087</td>\n",
       "      <td>0.720684</td>\n",
       "      <td>100.0</td>\n",
       "    </tr>\n",
       "    <tr>\n",
       "      <th>38</th>\n",
       "      <td>OFFER9C7ECB7B</td>\n",
       "      <td>True</td>\n",
       "      <td>679.35</td>\n",
       "      <td>100</td>\n",
       "      <td>100</td>\n",
       "      <td>439.65</td>\n",
       "      <td>1119.00</td>\n",
       "      <td>6.793500</td>\n",
       "      <td>6.793500</td>\n",
       "      <td>0.392895</td>\n",
       "      <td>100.0</td>\n",
       "    </tr>\n",
       "    <tr>\n",
       "      <th>63</th>\n",
       "      <td>OFFERFC341CF9</td>\n",
       "      <td>True</td>\n",
       "      <td>644.21</td>\n",
       "      <td>44</td>\n",
       "      <td>43</td>\n",
       "      <td>644.35</td>\n",
       "      <td>1288.56</td>\n",
       "      <td>14.641136</td>\n",
       "      <td>14.981628</td>\n",
       "      <td>0.500054</td>\n",
       "      <td>100.0</td>\n",
       "    </tr>\n",
       "    <tr>\n",
       "      <th>36</th>\n",
       "      <td>OFFER985A3D41</td>\n",
       "      <td>True</td>\n",
       "      <td>640.29</td>\n",
       "      <td>28</td>\n",
       "      <td>28</td>\n",
       "      <td>137.98</td>\n",
       "      <td>778.27</td>\n",
       "      <td>22.867500</td>\n",
       "      <td>22.867500</td>\n",
       "      <td>0.177291</td>\n",
       "      <td>100.0</td>\n",
       "    </tr>\n",
       "    <tr>\n",
       "      <th>0</th>\n",
       "      <td>OFFER016DCF61</td>\n",
       "      <td>True</td>\n",
       "      <td>561.91</td>\n",
       "      <td>25</td>\n",
       "      <td>25</td>\n",
       "      <td>561.84</td>\n",
       "      <td>1123.75</td>\n",
       "      <td>22.476400</td>\n",
       "      <td>22.476400</td>\n",
       "      <td>0.499969</td>\n",
       "      <td>100.0</td>\n",
       "    </tr>\n",
       "    <tr>\n",
       "      <th>45</th>\n",
       "      <td>OFFERBE1CC728</td>\n",
       "      <td>True</td>\n",
       "      <td>493.10</td>\n",
       "      <td>18</td>\n",
       "      <td>18</td>\n",
       "      <td>316.00</td>\n",
       "      <td>809.10</td>\n",
       "      <td>27.394444</td>\n",
       "      <td>27.394444</td>\n",
       "      <td>0.390557</td>\n",
       "      <td>100.0</td>\n",
       "    </tr>\n",
       "    <tr>\n",
       "      <th>15</th>\n",
       "      <td>OFFER22ABE9D8</td>\n",
       "      <td>True</td>\n",
       "      <td>480.11</td>\n",
       "      <td>43</td>\n",
       "      <td>43</td>\n",
       "      <td>811.74</td>\n",
       "      <td>1291.85</td>\n",
       "      <td>11.165349</td>\n",
       "      <td>11.165349</td>\n",
       "      <td>0.628355</td>\n",
       "      <td>100.0</td>\n",
       "    </tr>\n",
       "    <tr>\n",
       "      <th>50</th>\n",
       "      <td>OFFERCD28EB23</td>\n",
       "      <td>True</td>\n",
       "      <td>445.26</td>\n",
       "      <td>132</td>\n",
       "      <td>120</td>\n",
       "      <td>2065.64</td>\n",
       "      <td>2510.90</td>\n",
       "      <td>3.373182</td>\n",
       "      <td>3.710500</td>\n",
       "      <td>0.822669</td>\n",
       "      <td>100.0</td>\n",
       "    </tr>\n",
       "    <tr>\n",
       "      <th>21</th>\n",
       "      <td>OFFER426E7912</td>\n",
       "      <td>True</td>\n",
       "      <td>415.00</td>\n",
       "      <td>18</td>\n",
       "      <td>18</td>\n",
       "      <td>359.10</td>\n",
       "      <td>774.10</td>\n",
       "      <td>23.055556</td>\n",
       "      <td>23.055556</td>\n",
       "      <td>0.463894</td>\n",
       "      <td>100.0</td>\n",
       "    </tr>\n",
       "    <tr>\n",
       "      <th>53</th>\n",
       "      <td>OFFERD70A0B02</td>\n",
       "      <td>True</td>\n",
       "      <td>318.74</td>\n",
       "      <td>22</td>\n",
       "      <td>22</td>\n",
       "      <td>296.16</td>\n",
       "      <td>614.90</td>\n",
       "      <td>14.488182</td>\n",
       "      <td>14.488182</td>\n",
       "      <td>0.481639</td>\n",
       "      <td>100.0</td>\n",
       "    </tr>\n",
       "    <tr>\n",
       "      <th>2</th>\n",
       "      <td>OFFER03E82C25</td>\n",
       "      <td>True</td>\n",
       "      <td>291.55</td>\n",
       "      <td>19</td>\n",
       "      <td>19</td>\n",
       "      <td>97.22</td>\n",
       "      <td>388.77</td>\n",
       "      <td>15.344737</td>\n",
       "      <td>15.344737</td>\n",
       "      <td>0.250071</td>\n",
       "      <td>100.0</td>\n",
       "    </tr>\n",
       "    <tr>\n",
       "      <th>34</th>\n",
       "      <td>OFFER970EA5AD</td>\n",
       "      <td>True</td>\n",
       "      <td>277.19</td>\n",
       "      <td>42</td>\n",
       "      <td>42</td>\n",
       "      <td>188.71</td>\n",
       "      <td>465.90</td>\n",
       "      <td>6.599762</td>\n",
       "      <td>6.599762</td>\n",
       "      <td>0.405044</td>\n",
       "      <td>100.0</td>\n",
       "    </tr>\n",
       "    <tr>\n",
       "      <th>54</th>\n",
       "      <td>OFFERE14CCE66</td>\n",
       "      <td>True</td>\n",
       "      <td>276.56</td>\n",
       "      <td>7</td>\n",
       "      <td>7</td>\n",
       "      <td>54.09</td>\n",
       "      <td>330.65</td>\n",
       "      <td>39.508571</td>\n",
       "      <td>39.508571</td>\n",
       "      <td>0.163587</td>\n",
       "      <td>100.0</td>\n",
       "    </tr>\n",
       "    <tr>\n",
       "      <th>16</th>\n",
       "      <td>OFFER34C907B5</td>\n",
       "      <td>True</td>\n",
       "      <td>272.09</td>\n",
       "      <td>169</td>\n",
       "      <td>167</td>\n",
       "      <td>1493.46</td>\n",
       "      <td>1765.55</td>\n",
       "      <td>1.610000</td>\n",
       "      <td>1.629281</td>\n",
       "      <td>0.845889</td>\n",
       "      <td>100.0</td>\n",
       "    </tr>\n",
       "    <tr>\n",
       "      <th>20</th>\n",
       "      <td>OFFER41D5EC85</td>\n",
       "      <td>True</td>\n",
       "      <td>239.76</td>\n",
       "      <td>24</td>\n",
       "      <td>24</td>\n",
       "      <td>482.99</td>\n",
       "      <td>722.75</td>\n",
       "      <td>9.990000</td>\n",
       "      <td>9.990000</td>\n",
       "      <td>0.668267</td>\n",
       "      <td>100.0</td>\n",
       "    </tr>\n",
       "    <tr>\n",
       "      <th>56</th>\n",
       "      <td>OFFERE833AD6C</td>\n",
       "      <td>True</td>\n",
       "      <td>199.50</td>\n",
       "      <td>10</td>\n",
       "      <td>10</td>\n",
       "      <td>195.00</td>\n",
       "      <td>394.50</td>\n",
       "      <td>19.950000</td>\n",
       "      <td>19.950000</td>\n",
       "      <td>0.494297</td>\n",
       "      <td>100.0</td>\n",
       "    </tr>\n",
       "    <tr>\n",
       "      <th>48</th>\n",
       "      <td>OFFERC796817B</td>\n",
       "      <td>True</td>\n",
       "      <td>177.20</td>\n",
       "      <td>88</td>\n",
       "      <td>78</td>\n",
       "      <td>1607.90</td>\n",
       "      <td>1785.10</td>\n",
       "      <td>2.013636</td>\n",
       "      <td>2.271795</td>\n",
       "      <td>0.900734</td>\n",
       "      <td>100.0</td>\n",
       "    </tr>\n",
       "    <tr>\n",
       "      <th>23</th>\n",
       "      <td>OFFER5354228C</td>\n",
       "      <td>True</td>\n",
       "      <td>164.89</td>\n",
       "      <td>11</td>\n",
       "      <td>11</td>\n",
       "      <td>323.00</td>\n",
       "      <td>487.89</td>\n",
       "      <td>14.990000</td>\n",
       "      <td>14.990000</td>\n",
       "      <td>0.662034</td>\n",
       "      <td>100.0</td>\n",
       "    </tr>\n",
       "    <tr>\n",
       "      <th>1</th>\n",
       "      <td>OFFER02572D11</td>\n",
       "      <td>True</td>\n",
       "      <td>159.60</td>\n",
       "      <td>8</td>\n",
       "      <td>8</td>\n",
       "      <td>320.00</td>\n",
       "      <td>479.60</td>\n",
       "      <td>19.950000</td>\n",
       "      <td>19.950000</td>\n",
       "      <td>0.667223</td>\n",
       "      <td>100.0</td>\n",
       "    </tr>\n",
       "    <tr>\n",
       "      <th>58</th>\n",
       "      <td>OFFEREFAFD624</td>\n",
       "      <td>True</td>\n",
       "      <td>149.56</td>\n",
       "      <td>4</td>\n",
       "      <td>4</td>\n",
       "      <td>45.24</td>\n",
       "      <td>194.80</td>\n",
       "      <td>37.390000</td>\n",
       "      <td>37.390000</td>\n",
       "      <td>0.232238</td>\n",
       "      <td>100.0</td>\n",
       "    </tr>\n",
       "    <tr>\n",
       "      <th>17</th>\n",
       "      <td>OFFER3967A54C</td>\n",
       "      <td>True</td>\n",
       "      <td>149.50</td>\n",
       "      <td>8</td>\n",
       "      <td>2</td>\n",
       "      <td>250.00</td>\n",
       "      <td>399.50</td>\n",
       "      <td>18.687500</td>\n",
       "      <td>74.750000</td>\n",
       "      <td>0.625782</td>\n",
       "      <td>100.0</td>\n",
       "    </tr>\n",
       "  </tbody>\n",
       "</table>\n",
       "</div>"
      ],
      "text/plain": [
       "      Promo_Label  Promo_Flag        GMV  Units  Orders  Discount_value  \\\n",
       "8   OFFER11E623A3       False  200993.16   6826    7617         2686.04   \n",
       "18  OFFER3C5E0BCD        True    7619.68    661     658         7620.69   \n",
       "5   OFFER0B2B5288        True    7372.01   1017    1010         4876.74   \n",
       "61  OFFERF6059F7F        True    5282.15   1024    1022         4906.65   \n",
       "55  OFFERE7E4C9E9        True    2782.32    107     107          902.33   \n",
       "22  OFFER4CFF2747        True    1624.60     84      84         1410.72   \n",
       "41  OFFERB0603A29        True    1284.64     80      80         1139.24   \n",
       "13  OFFER1EFAA24C        True    1258.61     56      56         1258.59   \n",
       "60  OFFERF4AA4853        True     947.76    109     108         1756.79   \n",
       "10  OFFER176BF862        True     696.46    232     230         1796.99   \n",
       "38  OFFER9C7ECB7B        True     679.35    100     100          439.65   \n",
       "63  OFFERFC341CF9        True     644.21     44      43          644.35   \n",
       "36  OFFER985A3D41        True     640.29     28      28          137.98   \n",
       "0   OFFER016DCF61        True     561.91     25      25          561.84   \n",
       "45  OFFERBE1CC728        True     493.10     18      18          316.00   \n",
       "15  OFFER22ABE9D8        True     480.11     43      43          811.74   \n",
       "50  OFFERCD28EB23        True     445.26    132     120         2065.64   \n",
       "21  OFFER426E7912        True     415.00     18      18          359.10   \n",
       "53  OFFERD70A0B02        True     318.74     22      22          296.16   \n",
       "2   OFFER03E82C25        True     291.55     19      19           97.22   \n",
       "34  OFFER970EA5AD        True     277.19     42      42          188.71   \n",
       "54  OFFERE14CCE66        True     276.56      7       7           54.09   \n",
       "16  OFFER34C907B5        True     272.09    169     167         1493.46   \n",
       "20  OFFER41D5EC85        True     239.76     24      24          482.99   \n",
       "56  OFFERE833AD6C        True     199.50     10      10          195.00   \n",
       "48  OFFERC796817B        True     177.20     88      78         1607.90   \n",
       "23  OFFER5354228C        True     164.89     11      11          323.00   \n",
       "1   OFFER02572D11        True     159.60      8       8          320.00   \n",
       "58  OFFEREFAFD624        True     149.56      4       4           45.24   \n",
       "17  OFFER3967A54C        True     149.50      8       2          250.00   \n",
       "\n",
       "    Original_value        ASP        AOV  Avg_Discount_rate  GMV_share_pct  \n",
       "8        203679.20  29.445233  26.387444           0.013188          100.0  \n",
       "18        15240.37  11.527504  11.580061           0.500033          100.0  \n",
       "5         12248.75   7.248781   7.299020           0.398142          100.0  \n",
       "61        10188.80   5.158350   5.168444           0.481573          100.0  \n",
       "55         3684.65  26.002991  26.002991           0.244889          100.0  \n",
       "22         3035.32  19.340476  19.340476           0.464768          100.0  \n",
       "41         2423.88  16.058000  16.058000           0.470007          100.0  \n",
       "13         2517.20  22.475179  22.475179           0.499996          100.0  \n",
       "60         2704.55   8.695046   8.775556           0.649568          100.0  \n",
       "10         2493.45   3.001983   3.028087           0.720684          100.0  \n",
       "38         1119.00   6.793500   6.793500           0.392895          100.0  \n",
       "63         1288.56  14.641136  14.981628           0.500054          100.0  \n",
       "36          778.27  22.867500  22.867500           0.177291          100.0  \n",
       "0          1123.75  22.476400  22.476400           0.499969          100.0  \n",
       "45          809.10  27.394444  27.394444           0.390557          100.0  \n",
       "15         1291.85  11.165349  11.165349           0.628355          100.0  \n",
       "50         2510.90   3.373182   3.710500           0.822669          100.0  \n",
       "21          774.10  23.055556  23.055556           0.463894          100.0  \n",
       "53          614.90  14.488182  14.488182           0.481639          100.0  \n",
       "2           388.77  15.344737  15.344737           0.250071          100.0  \n",
       "34          465.90   6.599762   6.599762           0.405044          100.0  \n",
       "54          330.65  39.508571  39.508571           0.163587          100.0  \n",
       "16         1765.55   1.610000   1.629281           0.845889          100.0  \n",
       "20          722.75   9.990000   9.990000           0.668267          100.0  \n",
       "56          394.50  19.950000  19.950000           0.494297          100.0  \n",
       "48         1785.10   2.013636   2.271795           0.900734          100.0  \n",
       "23          487.89  14.990000  14.990000           0.662034          100.0  \n",
       "1           479.60  19.950000  19.950000           0.667223          100.0  \n",
       "58          194.80  37.390000  37.390000           0.232238          100.0  \n",
       "17          399.50  18.687500  74.750000           0.625782          100.0  "
      ]
     },
     "metadata": {},
     "output_type": "display_data"
    }
   ],
   "source": [
    "from IPython.display import display\n",
    "\n",
    "promo_label_summary = summarize_promo_effect(analysis_base, ['Promo_Label'])\n",
    "display(promo_label_summary.head(30))\n"
   ]
  },
  {
   "cell_type": "markdown",
   "id": "1b2941c6",
   "metadata": {},
   "source": [
    "#### Promo mix hot spots\n"
   ]
  },
  {
   "cell_type": "code",
   "execution_count": 19,
   "id": "2e07afc2",
   "metadata": {},
   "outputs": [
    {
     "data": {
      "text/html": [
       "<div>\n",
       "<style scoped>\n",
       "    .dataframe tbody tr th:only-of-type {\n",
       "        vertical-align: middle;\n",
       "    }\n",
       "\n",
       "    .dataframe tbody tr th {\n",
       "        vertical-align: top;\n",
       "    }\n",
       "\n",
       "    .dataframe thead th {\n",
       "        text-align: right;\n",
       "    }\n",
       "</style>\n",
       "<table border=\"1\" class=\"dataframe\">\n",
       "  <thead>\n",
       "    <tr style=\"text-align: right;\">\n",
       "      <th></th>\n",
       "      <th>Category</th>\n",
       "      <th>Store_Name</th>\n",
       "      <th>Promo_Label</th>\n",
       "      <th>GMV</th>\n",
       "      <th>Units</th>\n",
       "      <th>Orders</th>\n",
       "      <th>Discount_value</th>\n",
       "      <th>Original_value</th>\n",
       "      <th>ASP</th>\n",
       "      <th>AOV</th>\n",
       "      <th>Avg_Discount_rate</th>\n",
       "    </tr>\n",
       "  </thead>\n",
       "  <tbody>\n",
       "    <tr>\n",
       "      <th>175</th>\n",
       "      <td>Catégorie_003</td>\n",
       "      <td>AB Store 105 - St. Albert</td>\n",
       "      <td>OFFER3C5E0BCD</td>\n",
       "      <td>382.48</td>\n",
       "      <td>24</td>\n",
       "      <td>24</td>\n",
       "      <td>382.28</td>\n",
       "      <td>764.76</td>\n",
       "      <td>15.936667</td>\n",
       "      <td>15.936667</td>\n",
       "      <td>0.499869</td>\n",
       "    </tr>\n",
       "    <tr>\n",
       "      <th>955</th>\n",
       "      <td>Catégorie_007</td>\n",
       "      <td>AB Store 105 - St. Albert</td>\n",
       "      <td>OFFER3C5E0BCD</td>\n",
       "      <td>322.17</td>\n",
       "      <td>43</td>\n",
       "      <td>43</td>\n",
       "      <td>322.40</td>\n",
       "      <td>644.57</td>\n",
       "      <td>7.492326</td>\n",
       "      <td>7.492326</td>\n",
       "      <td>0.500178</td>\n",
       "    </tr>\n",
       "    <tr>\n",
       "      <th>39</th>\n",
       "      <td>Catégorie_002</td>\n",
       "      <td>AB Store 077 - Chestermere</td>\n",
       "      <td>OFFER3C5E0BCD</td>\n",
       "      <td>233.92</td>\n",
       "      <td>16</td>\n",
       "      <td>16</td>\n",
       "      <td>233.92</td>\n",
       "      <td>467.84</td>\n",
       "      <td>14.620000</td>\n",
       "      <td>14.620000</td>\n",
       "      <td>0.500000</td>\n",
       "    </tr>\n",
       "    <tr>\n",
       "      <th>517</th>\n",
       "      <td>Catégorie_006</td>\n",
       "      <td>AB Store 096 - Camrose</td>\n",
       "      <td>OFFERCD28EB23</td>\n",
       "      <td>201.92</td>\n",
       "      <td>11</td>\n",
       "      <td>2</td>\n",
       "      <td>1003.03</td>\n",
       "      <td>1204.95</td>\n",
       "      <td>18.356364</td>\n",
       "      <td>100.960000</td>\n",
       "      <td>0.832425</td>\n",
       "    </tr>\n",
       "    <tr>\n",
       "      <th>318</th>\n",
       "      <td>Catégorie_006</td>\n",
       "      <td>AB Store 016 - Camrose</td>\n",
       "      <td>OFFER0B2B5288</td>\n",
       "      <td>201.32</td>\n",
       "      <td>28</td>\n",
       "      <td>28</td>\n",
       "      <td>133.28</td>\n",
       "      <td>334.60</td>\n",
       "      <td>7.190000</td>\n",
       "      <td>7.190000</td>\n",
       "      <td>0.398326</td>\n",
       "    </tr>\n",
       "    <tr>\n",
       "      <th>81</th>\n",
       "      <td>Catégorie_002</td>\n",
       "      <td>AB Store 107 - Grande Prairie</td>\n",
       "      <td>OFFER3C5E0BCD</td>\n",
       "      <td>198.91</td>\n",
       "      <td>15</td>\n",
       "      <td>15</td>\n",
       "      <td>198.94</td>\n",
       "      <td>397.85</td>\n",
       "      <td>13.260667</td>\n",
       "      <td>13.260667</td>\n",
       "      <td>0.500038</td>\n",
       "    </tr>\n",
       "    <tr>\n",
       "      <th>243</th>\n",
       "      <td>Catégorie_004</td>\n",
       "      <td>AB Store 105 - St. Albert</td>\n",
       "      <td>OFFER3C5E0BCD</td>\n",
       "      <td>196.42</td>\n",
       "      <td>15</td>\n",
       "      <td>15</td>\n",
       "      <td>196.43</td>\n",
       "      <td>392.85</td>\n",
       "      <td>13.094667</td>\n",
       "      <td>13.094667</td>\n",
       "      <td>0.500013</td>\n",
       "    </tr>\n",
       "    <tr>\n",
       "      <th>78</th>\n",
       "      <td>Catégorie_002</td>\n",
       "      <td>AB Store 105 - St. Albert</td>\n",
       "      <td>OFFER3C5E0BCD</td>\n",
       "      <td>189.43</td>\n",
       "      <td>15</td>\n",
       "      <td>15</td>\n",
       "      <td>189.42</td>\n",
       "      <td>378.85</td>\n",
       "      <td>12.628667</td>\n",
       "      <td>12.628667</td>\n",
       "      <td>0.499987</td>\n",
       "    </tr>\n",
       "    <tr>\n",
       "      <th>154</th>\n",
       "      <td>Catégorie_003</td>\n",
       "      <td>AB Store 092 - Fort McMurray</td>\n",
       "      <td>OFFER3C5E0BCD</td>\n",
       "      <td>185.92</td>\n",
       "      <td>13</td>\n",
       "      <td>13</td>\n",
       "      <td>185.95</td>\n",
       "      <td>371.87</td>\n",
       "      <td>14.301538</td>\n",
       "      <td>14.301538</td>\n",
       "      <td>0.500040</td>\n",
       "    </tr>\n",
       "    <tr>\n",
       "      <th>331</th>\n",
       "      <td>Catégorie_006</td>\n",
       "      <td>AB Store 023 - Red Deer</td>\n",
       "      <td>OFFER0B2B5288</td>\n",
       "      <td>179.75</td>\n",
       "      <td>25</td>\n",
       "      <td>25</td>\n",
       "      <td>119.00</td>\n",
       "      <td>298.75</td>\n",
       "      <td>7.190000</td>\n",
       "      <td>7.190000</td>\n",
       "      <td>0.398326</td>\n",
       "    </tr>\n",
       "    <tr>\n",
       "      <th>337</th>\n",
       "      <td>Catégorie_006</td>\n",
       "      <td>AB Store 026 - Medicine Hat</td>\n",
       "      <td>OFFER0B2B5288</td>\n",
       "      <td>179.75</td>\n",
       "      <td>25</td>\n",
       "      <td>25</td>\n",
       "      <td>119.00</td>\n",
       "      <td>298.75</td>\n",
       "      <td>7.190000</td>\n",
       "      <td>7.190000</td>\n",
       "      <td>0.398326</td>\n",
       "    </tr>\n",
       "    <tr>\n",
       "      <th>1032</th>\n",
       "      <td>Unknown</td>\n",
       "      <td>AB Store 023 - Red Deer</td>\n",
       "      <td>OFFER0B2B5288</td>\n",
       "      <td>172.56</td>\n",
       "      <td>24</td>\n",
       "      <td>24</td>\n",
       "      <td>114.24</td>\n",
       "      <td>286.80</td>\n",
       "      <td>7.190000</td>\n",
       "      <td>7.190000</td>\n",
       "      <td>0.398326</td>\n",
       "    </tr>\n",
       "    <tr>\n",
       "      <th>289</th>\n",
       "      <td>Catégorie_006</td>\n",
       "      <td>AB Store 004 - Lethbridge</td>\n",
       "      <td>OFFERF6059F7F</td>\n",
       "      <td>170.22</td>\n",
       "      <td>33</td>\n",
       "      <td>33</td>\n",
       "      <td>158.13</td>\n",
       "      <td>328.35</td>\n",
       "      <td>5.158182</td>\n",
       "      <td>5.158182</td>\n",
       "      <td>0.481590</td>\n",
       "    </tr>\n",
       "    <tr>\n",
       "      <th>181</th>\n",
       "      <td>Catégorie_003</td>\n",
       "      <td>AB Store 107 - Grande Prairie</td>\n",
       "      <td>OFFER3C5E0BCD</td>\n",
       "      <td>167.97</td>\n",
       "      <td>11</td>\n",
       "      <td>11</td>\n",
       "      <td>167.92</td>\n",
       "      <td>335.89</td>\n",
       "      <td>15.270000</td>\n",
       "      <td>15.270000</td>\n",
       "      <td>0.499926</td>\n",
       "    </tr>\n",
       "    <tr>\n",
       "      <th>1149</th>\n",
       "      <td>Unknown</td>\n",
       "      <td>AB Store 085 - St. Albert</td>\n",
       "      <td>OFFERE7E4C9E9</td>\n",
       "      <td>163.49</td>\n",
       "      <td>6</td>\n",
       "      <td>6</td>\n",
       "      <td>51.21</td>\n",
       "      <td>214.70</td>\n",
       "      <td>27.248333</td>\n",
       "      <td>27.248333</td>\n",
       "      <td>0.238519</td>\n",
       "    </tr>\n",
       "    <tr>\n",
       "      <th>282</th>\n",
       "      <td>Catégorie_006</td>\n",
       "      <td>AB Store 002 - Edmonton</td>\n",
       "      <td>OFFER0B2B5288</td>\n",
       "      <td>160.44</td>\n",
       "      <td>22</td>\n",
       "      <td>21</td>\n",
       "      <td>102.46</td>\n",
       "      <td>262.90</td>\n",
       "      <td>7.292727</td>\n",
       "      <td>7.640000</td>\n",
       "      <td>0.389730</td>\n",
       "    </tr>\n",
       "    <tr>\n",
       "      <th>366</th>\n",
       "      <td>Catégorie_006</td>\n",
       "      <td>AB Store 037 - Chestermere</td>\n",
       "      <td>OFFER0B2B5288</td>\n",
       "      <td>158.18</td>\n",
       "      <td>22</td>\n",
       "      <td>21</td>\n",
       "      <td>104.72</td>\n",
       "      <td>262.90</td>\n",
       "      <td>7.190000</td>\n",
       "      <td>7.532381</td>\n",
       "      <td>0.398326</td>\n",
       "    </tr>\n",
       "    <tr>\n",
       "      <th>414</th>\n",
       "      <td>Catégorie_006</td>\n",
       "      <td>AB Store 077 - Chestermere</td>\n",
       "      <td>OFFER0B2B5288</td>\n",
       "      <td>158.18</td>\n",
       "      <td>22</td>\n",
       "      <td>22</td>\n",
       "      <td>104.72</td>\n",
       "      <td>262.90</td>\n",
       "      <td>7.190000</td>\n",
       "      <td>7.190000</td>\n",
       "      <td>0.398326</td>\n",
       "    </tr>\n",
       "    <tr>\n",
       "      <th>818</th>\n",
       "      <td>Catégorie_007</td>\n",
       "      <td>AB Store 080 - Wetaskiwin</td>\n",
       "      <td>OFFER3967A54C</td>\n",
       "      <td>146.51</td>\n",
       "      <td>7</td>\n",
       "      <td>1</td>\n",
       "      <td>245.00</td>\n",
       "      <td>391.51</td>\n",
       "      <td>20.930000</td>\n",
       "      <td>146.510000</td>\n",
       "      <td>0.625782</td>\n",
       "    </tr>\n",
       "    <tr>\n",
       "      <th>49</th>\n",
       "      <td>Catégorie_002</td>\n",
       "      <td>AB Store 085 - St. Albert</td>\n",
       "      <td>OFFER3C5E0BCD</td>\n",
       "      <td>144.96</td>\n",
       "      <td>11</td>\n",
       "      <td>11</td>\n",
       "      <td>144.93</td>\n",
       "      <td>289.89</td>\n",
       "      <td>13.178182</td>\n",
       "      <td>13.178182</td>\n",
       "      <td>0.499948</td>\n",
       "    </tr>\n",
       "    <tr>\n",
       "      <th>372</th>\n",
       "      <td>Catégorie_006</td>\n",
       "      <td>AB Store 039 - Sherwood Park</td>\n",
       "      <td>OFFER0B2B5288</td>\n",
       "      <td>143.80</td>\n",
       "      <td>20</td>\n",
       "      <td>20</td>\n",
       "      <td>95.20</td>\n",
       "      <td>239.00</td>\n",
       "      <td>7.190000</td>\n",
       "      <td>7.190000</td>\n",
       "      <td>0.398326</td>\n",
       "    </tr>\n",
       "    <tr>\n",
       "      <th>334</th>\n",
       "      <td>Catégorie_006</td>\n",
       "      <td>AB Store 023 - Red Deer</td>\n",
       "      <td>OFFERF6059F7F</td>\n",
       "      <td>139.30</td>\n",
       "      <td>27</td>\n",
       "      <td>27</td>\n",
       "      <td>129.35</td>\n",
       "      <td>268.65</td>\n",
       "      <td>5.159259</td>\n",
       "      <td>5.159259</td>\n",
       "      <td>0.481481</td>\n",
       "    </tr>\n",
       "    <tr>\n",
       "      <th>134</th>\n",
       "      <td>Catégorie_003</td>\n",
       "      <td>AB Store 081 - Calgary</td>\n",
       "      <td>OFFER3C5E0BCD</td>\n",
       "      <td>136.98</td>\n",
       "      <td>9</td>\n",
       "      <td>9</td>\n",
       "      <td>136.93</td>\n",
       "      <td>273.91</td>\n",
       "      <td>15.220000</td>\n",
       "      <td>15.220000</td>\n",
       "      <td>0.499909</td>\n",
       "    </tr>\n",
       "    <tr>\n",
       "      <th>42</th>\n",
       "      <td>Catégorie_002</td>\n",
       "      <td>AB Store 078 - Lloydminster</td>\n",
       "      <td>OFFER3C5E0BCD</td>\n",
       "      <td>136.91</td>\n",
       "      <td>11</td>\n",
       "      <td>11</td>\n",
       "      <td>136.98</td>\n",
       "      <td>273.89</td>\n",
       "      <td>12.446364</td>\n",
       "      <td>12.446364</td>\n",
       "      <td>0.500128</td>\n",
       "    </tr>\n",
       "    <tr>\n",
       "      <th>600</th>\n",
       "      <td>Catégorie_007</td>\n",
       "      <td>AB Store 004 - Lethbridge</td>\n",
       "      <td>OFFER1EFAA24C</td>\n",
       "      <td>134.87</td>\n",
       "      <td>6</td>\n",
       "      <td>6</td>\n",
       "      <td>134.83</td>\n",
       "      <td>269.70</td>\n",
       "      <td>22.478333</td>\n",
       "      <td>22.478333</td>\n",
       "      <td>0.499926</td>\n",
       "    </tr>\n",
       "    <tr>\n",
       "      <th>376</th>\n",
       "      <td>Catégorie_006</td>\n",
       "      <td>AB Store 039 - Sherwood Park</td>\n",
       "      <td>OFFERF6059F7F</td>\n",
       "      <td>134.14</td>\n",
       "      <td>26</td>\n",
       "      <td>26</td>\n",
       "      <td>124.56</td>\n",
       "      <td>258.70</td>\n",
       "      <td>5.159231</td>\n",
       "      <td>5.159231</td>\n",
       "      <td>0.481484</td>\n",
       "    </tr>\n",
       "    <tr>\n",
       "      <th>340</th>\n",
       "      <td>Catégorie_006</td>\n",
       "      <td>AB Store 026 - Medicine Hat</td>\n",
       "      <td>OFFERF6059F7F</td>\n",
       "      <td>128.97</td>\n",
       "      <td>25</td>\n",
       "      <td>25</td>\n",
       "      <td>119.78</td>\n",
       "      <td>248.75</td>\n",
       "      <td>5.158800</td>\n",
       "      <td>5.158800</td>\n",
       "      <td>0.481528</td>\n",
       "    </tr>\n",
       "    <tr>\n",
       "      <th>942</th>\n",
       "      <td>Catégorie_007</td>\n",
       "      <td>AB Store 104 - Lethbridge</td>\n",
       "      <td>OFFER3C5E0BCD</td>\n",
       "      <td>125.92</td>\n",
       "      <td>16</td>\n",
       "      <td>15</td>\n",
       "      <td>125.92</td>\n",
       "      <td>251.84</td>\n",
       "      <td>7.870000</td>\n",
       "      <td>8.394667</td>\n",
       "      <td>0.500000</td>\n",
       "    </tr>\n",
       "    <tr>\n",
       "      <th>979</th>\n",
       "      <td>Unknown</td>\n",
       "      <td>AB Store 002 - Edmonton</td>\n",
       "      <td>OFFERE7E4C9E9</td>\n",
       "      <td>125.00</td>\n",
       "      <td>4</td>\n",
       "      <td>4</td>\n",
       "      <td>39.80</td>\n",
       "      <td>164.80</td>\n",
       "      <td>31.250000</td>\n",
       "      <td>31.250000</td>\n",
       "      <td>0.241505</td>\n",
       "    </tr>\n",
       "    <tr>\n",
       "      <th>129</th>\n",
       "      <td>Catégorie_003</td>\n",
       "      <td>AB Store 077 - Chestermere</td>\n",
       "      <td>OFFERE7E4C9E9</td>\n",
       "      <td>122.09</td>\n",
       "      <td>4</td>\n",
       "      <td>4</td>\n",
       "      <td>37.71</td>\n",
       "      <td>159.80</td>\n",
       "      <td>30.522500</td>\n",
       "      <td>30.522500</td>\n",
       "      <td>0.235982</td>\n",
       "    </tr>\n",
       "  </tbody>\n",
       "</table>\n",
       "</div>"
      ],
      "text/plain": [
       "           Category                     Store_Name    Promo_Label     GMV  \\\n",
       "175   Catégorie_003      AB Store 105 - St. Albert  OFFER3C5E0BCD  382.48   \n",
       "955   Catégorie_007      AB Store 105 - St. Albert  OFFER3C5E0BCD  322.17   \n",
       "39    Catégorie_002     AB Store 077 - Chestermere  OFFER3C5E0BCD  233.92   \n",
       "517   Catégorie_006         AB Store 096 - Camrose  OFFERCD28EB23  201.92   \n",
       "318   Catégorie_006         AB Store 016 - Camrose  OFFER0B2B5288  201.32   \n",
       "81    Catégorie_002  AB Store 107 - Grande Prairie  OFFER3C5E0BCD  198.91   \n",
       "243   Catégorie_004      AB Store 105 - St. Albert  OFFER3C5E0BCD  196.42   \n",
       "78    Catégorie_002      AB Store 105 - St. Albert  OFFER3C5E0BCD  189.43   \n",
       "154   Catégorie_003   AB Store 092 - Fort McMurray  OFFER3C5E0BCD  185.92   \n",
       "331   Catégorie_006        AB Store 023 - Red Deer  OFFER0B2B5288  179.75   \n",
       "337   Catégorie_006    AB Store 026 - Medicine Hat  OFFER0B2B5288  179.75   \n",
       "1032        Unknown        AB Store 023 - Red Deer  OFFER0B2B5288  172.56   \n",
       "289   Catégorie_006      AB Store 004 - Lethbridge  OFFERF6059F7F  170.22   \n",
       "181   Catégorie_003  AB Store 107 - Grande Prairie  OFFER3C5E0BCD  167.97   \n",
       "1149        Unknown      AB Store 085 - St. Albert  OFFERE7E4C9E9  163.49   \n",
       "282   Catégorie_006        AB Store 002 - Edmonton  OFFER0B2B5288  160.44   \n",
       "366   Catégorie_006     AB Store 037 - Chestermere  OFFER0B2B5288  158.18   \n",
       "414   Catégorie_006     AB Store 077 - Chestermere  OFFER0B2B5288  158.18   \n",
       "818   Catégorie_007      AB Store 080 - Wetaskiwin  OFFER3967A54C  146.51   \n",
       "49    Catégorie_002      AB Store 085 - St. Albert  OFFER3C5E0BCD  144.96   \n",
       "372   Catégorie_006   AB Store 039 - Sherwood Park  OFFER0B2B5288  143.80   \n",
       "334   Catégorie_006        AB Store 023 - Red Deer  OFFERF6059F7F  139.30   \n",
       "134   Catégorie_003         AB Store 081 - Calgary  OFFER3C5E0BCD  136.98   \n",
       "42    Catégorie_002    AB Store 078 - Lloydminster  OFFER3C5E0BCD  136.91   \n",
       "600   Catégorie_007      AB Store 004 - Lethbridge  OFFER1EFAA24C  134.87   \n",
       "376   Catégorie_006   AB Store 039 - Sherwood Park  OFFERF6059F7F  134.14   \n",
       "340   Catégorie_006    AB Store 026 - Medicine Hat  OFFERF6059F7F  128.97   \n",
       "942   Catégorie_007      AB Store 104 - Lethbridge  OFFER3C5E0BCD  125.92   \n",
       "979         Unknown        AB Store 002 - Edmonton  OFFERE7E4C9E9  125.00   \n",
       "129   Catégorie_003     AB Store 077 - Chestermere  OFFERE7E4C9E9  122.09   \n",
       "\n",
       "      Units  Orders  Discount_value  Original_value        ASP         AOV  \\\n",
       "175      24      24          382.28          764.76  15.936667   15.936667   \n",
       "955      43      43          322.40          644.57   7.492326    7.492326   \n",
       "39       16      16          233.92          467.84  14.620000   14.620000   \n",
       "517      11       2         1003.03         1204.95  18.356364  100.960000   \n",
       "318      28      28          133.28          334.60   7.190000    7.190000   \n",
       "81       15      15          198.94          397.85  13.260667   13.260667   \n",
       "243      15      15          196.43          392.85  13.094667   13.094667   \n",
       "78       15      15          189.42          378.85  12.628667   12.628667   \n",
       "154      13      13          185.95          371.87  14.301538   14.301538   \n",
       "331      25      25          119.00          298.75   7.190000    7.190000   \n",
       "337      25      25          119.00          298.75   7.190000    7.190000   \n",
       "1032     24      24          114.24          286.80   7.190000    7.190000   \n",
       "289      33      33          158.13          328.35   5.158182    5.158182   \n",
       "181      11      11          167.92          335.89  15.270000   15.270000   \n",
       "1149      6       6           51.21          214.70  27.248333   27.248333   \n",
       "282      22      21          102.46          262.90   7.292727    7.640000   \n",
       "366      22      21          104.72          262.90   7.190000    7.532381   \n",
       "414      22      22          104.72          262.90   7.190000    7.190000   \n",
       "818       7       1          245.00          391.51  20.930000  146.510000   \n",
       "49       11      11          144.93          289.89  13.178182   13.178182   \n",
       "372      20      20           95.20          239.00   7.190000    7.190000   \n",
       "334      27      27          129.35          268.65   5.159259    5.159259   \n",
       "134       9       9          136.93          273.91  15.220000   15.220000   \n",
       "42       11      11          136.98          273.89  12.446364   12.446364   \n",
       "600       6       6          134.83          269.70  22.478333   22.478333   \n",
       "376      26      26          124.56          258.70   5.159231    5.159231   \n",
       "340      25      25          119.78          248.75   5.158800    5.158800   \n",
       "942      16      15          125.92          251.84   7.870000    8.394667   \n",
       "979       4       4           39.80          164.80  31.250000   31.250000   \n",
       "129       4       4           37.71          159.80  30.522500   30.522500   \n",
       "\n",
       "      Avg_Discount_rate  \n",
       "175            0.499869  \n",
       "955            0.500178  \n",
       "39             0.500000  \n",
       "517            0.832425  \n",
       "318            0.398326  \n",
       "81             0.500038  \n",
       "243            0.500013  \n",
       "78             0.499987  \n",
       "154            0.500040  \n",
       "331            0.398326  \n",
       "337            0.398326  \n",
       "1032           0.398326  \n",
       "289            0.481590  \n",
       "181            0.499926  \n",
       "1149           0.238519  \n",
       "282            0.389730  \n",
       "366            0.398326  \n",
       "414            0.398326  \n",
       "818            0.625782  \n",
       "49             0.499948  \n",
       "372            0.398326  \n",
       "334            0.481481  \n",
       "134            0.499909  \n",
       "42             0.500128  \n",
       "600            0.499926  \n",
       "376            0.481484  \n",
       "340            0.481528  \n",
       "942            0.500000  \n",
       "979            0.241505  \n",
       "129            0.235982  "
      ]
     },
     "metadata": {},
     "output_type": "display_data"
    }
   ],
   "source": [
    "from IPython.display import display\n",
    "\n",
    "promo_combos = (\n",
    "    analysis_base[analysis_base['Promo_Flag']]\n",
    "    .groupby(['Category', 'Store_Name', 'Promo_Label'], as_index=False)\n",
    "    .agg(\n",
    "        GMV=('GMV', 'sum'),\n",
    "        Units=('Quantity_item', 'sum'),\n",
    "        Orders=('Transaction_ID', 'nunique'),\n",
    "        Discount_value=('Discount_value', 'sum'),\n",
    "        Original_value=('Original_value', 'sum'),\n",
    "    )\n",
    "    .assign(\n",
    "        ASP=lambda df: df['GMV'] / df['Units'].replace({0: pd.NA}),\n",
    "        AOV=lambda df: df['GMV'] / df['Orders'].replace({0: pd.NA}),\n",
    "        Avg_Discount_rate=lambda df: df['Discount_value'] / df['Original_value'].replace({0: pd.NA}),\n",
    "    )\n",
    "    .sort_values('GMV', ascending=False)\n",
    "    .head(30)\n",
    ")\n",
    "\n",
    "display(promo_combos)\n"
   ]
  },
  {
   "cell_type": "markdown",
   "id": "c0bd910f",
   "metadata": {},
   "source": [
    "**Observation:** Promotion cadence spikes ahead of summer and holiday periods; the `build_promotion_summary` table indicates promo baskets are significantly larger, implying room to refine targeting rather than increasing promo count."
   ]
  },
  {
   "cell_type": "markdown",
   "id": "06872b1d",
   "metadata": {},
   "source": [
    "## 5. Store performance"
   ]
  },
  {
   "cell_type": "code",
   "execution_count": 20,
   "id": "da2137ec",
   "metadata": {},
   "outputs": [
    {
     "data": {
      "text/html": [
       "<div>\n",
       "<style scoped>\n",
       "    .dataframe tbody tr th:only-of-type {\n",
       "        vertical-align: middle;\n",
       "    }\n",
       "\n",
       "    .dataframe tbody tr th {\n",
       "        vertical-align: top;\n",
       "    }\n",
       "\n",
       "    .dataframe thead th {\n",
       "        text-align: right;\n",
       "    }\n",
       "</style>\n",
       "<table border=\"1\" class=\"dataframe\">\n",
       "  <thead>\n",
       "    <tr style=\"text-align: right;\">\n",
       "      <th></th>\n",
       "      <th>LIBELLE_y</th>\n",
       "      <th>CITY</th>\n",
       "      <th>revenue</th>\n",
       "      <th>units</th>\n",
       "      <th>discount</th>\n",
       "      <th>avg_discount_per_unit</th>\n",
       "    </tr>\n",
       "  </thead>\n",
       "  <tbody>\n",
       "    <tr>\n",
       "      <th>0</th>\n",
       "      <td>Alberta Online Store 01</td>\n",
       "      <td>Online</td>\n",
       "      <td>294051.44</td>\n",
       "      <td>3467</td>\n",
       "      <td>0.00</td>\n",
       "      <td>0.000000</td>\n",
       "    </tr>\n",
       "    <tr>\n",
       "      <th>1</th>\n",
       "      <td>AB Store 105 - St. Albert</td>\n",
       "      <td>St. Albert</td>\n",
       "      <td>37635.20</td>\n",
       "      <td>345</td>\n",
       "      <td>3438.18</td>\n",
       "      <td>9.965739</td>\n",
       "    </tr>\n",
       "    <tr>\n",
       "      <th>2</th>\n",
       "      <td>AB Store 039 - Sherwood Park</td>\n",
       "      <td>Sherwood Park</td>\n",
       "      <td>25916.82</td>\n",
       "      <td>237</td>\n",
       "      <td>975.44</td>\n",
       "      <td>4.115781</td>\n",
       "    </tr>\n",
       "    <tr>\n",
       "      <th>3</th>\n",
       "      <td>AB Store 107 - Grande Prairie</td>\n",
       "      <td>Grande Prairie</td>\n",
       "      <td>25574.15</td>\n",
       "      <td>217</td>\n",
       "      <td>1467.49</td>\n",
       "      <td>6.762627</td>\n",
       "    </tr>\n",
       "    <tr>\n",
       "      <th>4</th>\n",
       "      <td>AB Store 077 - Chestermere</td>\n",
       "      <td>Chestermere</td>\n",
       "      <td>25055.87</td>\n",
       "      <td>261</td>\n",
       "      <td>1641.91</td>\n",
       "      <td>6.290843</td>\n",
       "    </tr>\n",
       "    <tr>\n",
       "      <th>5</th>\n",
       "      <td>AB Store 081 - Calgary</td>\n",
       "      <td>Calgary</td>\n",
       "      <td>22300.21</td>\n",
       "      <td>218</td>\n",
       "      <td>1164.02</td>\n",
       "      <td>5.339541</td>\n",
       "    </tr>\n",
       "    <tr>\n",
       "      <th>6</th>\n",
       "      <td>AB Store 026 - Medicine Hat</td>\n",
       "      <td>Medicine Hat</td>\n",
       "      <td>22077.01</td>\n",
       "      <td>233</td>\n",
       "      <td>757.36</td>\n",
       "      <td>3.250472</td>\n",
       "    </tr>\n",
       "    <tr>\n",
       "      <th>7</th>\n",
       "      <td>AB Store 087 - Grande Prairie</td>\n",
       "      <td>Grande Prairie</td>\n",
       "      <td>21968.86</td>\n",
       "      <td>230</td>\n",
       "      <td>1225.29</td>\n",
       "      <td>5.327348</td>\n",
       "    </tr>\n",
       "    <tr>\n",
       "      <th>8</th>\n",
       "      <td>AB Store 004 - Lethbridge</td>\n",
       "      <td>Lethbridge</td>\n",
       "      <td>21027.81</td>\n",
       "      <td>207</td>\n",
       "      <td>953.43</td>\n",
       "      <td>4.605942</td>\n",
       "    </tr>\n",
       "    <tr>\n",
       "      <th>9</th>\n",
       "      <td>AB Store 083 - Red Deer</td>\n",
       "      <td>Red Deer</td>\n",
       "      <td>20315.15</td>\n",
       "      <td>188</td>\n",
       "      <td>917.43</td>\n",
       "      <td>4.879947</td>\n",
       "    </tr>\n",
       "  </tbody>\n",
       "</table>\n",
       "</div>"
      ],
      "text/plain": [
       "                       LIBELLE_y            CITY    revenue  units  discount  \\\n",
       "0        Alberta Online Store 01          Online  294051.44   3467      0.00   \n",
       "1      AB Store 105 - St. Albert      St. Albert   37635.20    345   3438.18   \n",
       "2   AB Store 039 - Sherwood Park   Sherwood Park   25916.82    237    975.44   \n",
       "3  AB Store 107 - Grande Prairie  Grande Prairie   25574.15    217   1467.49   \n",
       "4     AB Store 077 - Chestermere     Chestermere   25055.87    261   1641.91   \n",
       "5         AB Store 081 - Calgary         Calgary   22300.21    218   1164.02   \n",
       "6    AB Store 026 - Medicine Hat    Medicine Hat   22077.01    233    757.36   \n",
       "7  AB Store 087 - Grande Prairie  Grande Prairie   21968.86    230   1225.29   \n",
       "8      AB Store 004 - Lethbridge      Lethbridge   21027.81    207    953.43   \n",
       "9        AB Store 083 - Red Deer        Red Deer   20315.15    188    917.43   \n",
       "\n",
       "   avg_discount_per_unit  \n",
       "0               0.000000  \n",
       "1               9.965739  \n",
       "2               4.115781  \n",
       "3               6.762627  \n",
       "4               6.290843  \n",
       "5               5.339541  \n",
       "6               3.250472  \n",
       "7               5.327348  \n",
       "8               4.605942  \n",
       "9               4.879947  "
      ]
     },
     "execution_count": 20,
     "metadata": {},
     "output_type": "execute_result"
    }
   ],
   "source": [
    "store_perf = build_profitability_by_store(sales_df).reset_index()\n",
    "top_stores = store_perf.head(10)\n",
    "top_stores\n"
   ]
  },
  {
   "cell_type": "code",
   "execution_count": 21,
   "id": "a74ea2ea",
   "metadata": {},
   "outputs": [
    {
     "data": {
      "application/vnd.plotly.v1+json": {
       "config": {
        "plotlyServerURL": "https://plot.ly"
       },
       "data": [
        {
         "alignmentgroup": "True",
         "hovertemplate": "LIBELLE_y=%{x}<br>revenue=%{y}<extra></extra>",
         "legendgroup": "",
         "marker": {
          "color": "#636efa",
          "pattern": {
           "shape": ""
          }
         },
         "name": "",
         "offsetgroup": "",
         "orientation": "v",
         "showlegend": false,
         "textposition": "auto",
         "type": "bar",
         "x": [
          "Alberta Online Store 01",
          "AB Store 105 - St. Albert",
          "AB Store 039 - Sherwood Park",
          "AB Store 107 - Grande Prairie",
          "AB Store 077 - Chestermere",
          "AB Store 081 - Calgary",
          "AB Store 026 - Medicine Hat",
          "AB Store 087 - Grande Prairie",
          "AB Store 004 - Lethbridge",
          "AB Store 083 - Red Deer"
         ],
         "xaxis": "x",
         "y": [
          294051.44,
          37635.2,
          25916.82,
          25574.15,
          25055.87,
          22300.21,
          22077.010000000002,
          21968.86,
          21027.81,
          20315.15
         ],
         "yaxis": "y"
        }
       ],
       "layout": {
        "barmode": "relative",
        "legend": {
         "tracegroupgap": 0
        },
        "template": {
         "data": {
          "bar": [
           {
            "error_x": {
             "color": "#2a3f5f"
            },
            "error_y": {
             "color": "#2a3f5f"
            },
            "marker": {
             "line": {
              "color": "#E5ECF6",
              "width": 0.5
             },
             "pattern": {
              "fillmode": "overlay",
              "size": 10,
              "solidity": 0.2
             }
            },
            "type": "bar"
           }
          ],
          "barpolar": [
           {
            "marker": {
             "line": {
              "color": "#E5ECF6",
              "width": 0.5
             },
             "pattern": {
              "fillmode": "overlay",
              "size": 10,
              "solidity": 0.2
             }
            },
            "type": "barpolar"
           }
          ],
          "carpet": [
           {
            "aaxis": {
             "endlinecolor": "#2a3f5f",
             "gridcolor": "white",
             "linecolor": "white",
             "minorgridcolor": "white",
             "startlinecolor": "#2a3f5f"
            },
            "baxis": {
             "endlinecolor": "#2a3f5f",
             "gridcolor": "white",
             "linecolor": "white",
             "minorgridcolor": "white",
             "startlinecolor": "#2a3f5f"
            },
            "type": "carpet"
           }
          ],
          "choropleth": [
           {
            "colorbar": {
             "outlinewidth": 0,
             "ticks": ""
            },
            "type": "choropleth"
           }
          ],
          "contour": [
           {
            "colorbar": {
             "outlinewidth": 0,
             "ticks": ""
            },
            "colorscale": [
             [
              0,
              "#0d0887"
             ],
             [
              0.1111111111111111,
              "#46039f"
             ],
             [
              0.2222222222222222,
              "#7201a8"
             ],
             [
              0.3333333333333333,
              "#9c179e"
             ],
             [
              0.4444444444444444,
              "#bd3786"
             ],
             [
              0.5555555555555556,
              "#d8576b"
             ],
             [
              0.6666666666666666,
              "#ed7953"
             ],
             [
              0.7777777777777778,
              "#fb9f3a"
             ],
             [
              0.8888888888888888,
              "#fdca26"
             ],
             [
              1,
              "#f0f921"
             ]
            ],
            "type": "contour"
           }
          ],
          "contourcarpet": [
           {
            "colorbar": {
             "outlinewidth": 0,
             "ticks": ""
            },
            "type": "contourcarpet"
           }
          ],
          "heatmap": [
           {
            "colorbar": {
             "outlinewidth": 0,
             "ticks": ""
            },
            "colorscale": [
             [
              0,
              "#0d0887"
             ],
             [
              0.1111111111111111,
              "#46039f"
             ],
             [
              0.2222222222222222,
              "#7201a8"
             ],
             [
              0.3333333333333333,
              "#9c179e"
             ],
             [
              0.4444444444444444,
              "#bd3786"
             ],
             [
              0.5555555555555556,
              "#d8576b"
             ],
             [
              0.6666666666666666,
              "#ed7953"
             ],
             [
              0.7777777777777778,
              "#fb9f3a"
             ],
             [
              0.8888888888888888,
              "#fdca26"
             ],
             [
              1,
              "#f0f921"
             ]
            ],
            "type": "heatmap"
           }
          ],
          "heatmapgl": [
           {
            "colorbar": {
             "outlinewidth": 0,
             "ticks": ""
            },
            "colorscale": [
             [
              0,
              "#0d0887"
             ],
             [
              0.1111111111111111,
              "#46039f"
             ],
             [
              0.2222222222222222,
              "#7201a8"
             ],
             [
              0.3333333333333333,
              "#9c179e"
             ],
             [
              0.4444444444444444,
              "#bd3786"
             ],
             [
              0.5555555555555556,
              "#d8576b"
             ],
             [
              0.6666666666666666,
              "#ed7953"
             ],
             [
              0.7777777777777778,
              "#fb9f3a"
             ],
             [
              0.8888888888888888,
              "#fdca26"
             ],
             [
              1,
              "#f0f921"
             ]
            ],
            "type": "heatmapgl"
           }
          ],
          "histogram": [
           {
            "marker": {
             "pattern": {
              "fillmode": "overlay",
              "size": 10,
              "solidity": 0.2
             }
            },
            "type": "histogram"
           }
          ],
          "histogram2d": [
           {
            "colorbar": {
             "outlinewidth": 0,
             "ticks": ""
            },
            "colorscale": [
             [
              0,
              "#0d0887"
             ],
             [
              0.1111111111111111,
              "#46039f"
             ],
             [
              0.2222222222222222,
              "#7201a8"
             ],
             [
              0.3333333333333333,
              "#9c179e"
             ],
             [
              0.4444444444444444,
              "#bd3786"
             ],
             [
              0.5555555555555556,
              "#d8576b"
             ],
             [
              0.6666666666666666,
              "#ed7953"
             ],
             [
              0.7777777777777778,
              "#fb9f3a"
             ],
             [
              0.8888888888888888,
              "#fdca26"
             ],
             [
              1,
              "#f0f921"
             ]
            ],
            "type": "histogram2d"
           }
          ],
          "histogram2dcontour": [
           {
            "colorbar": {
             "outlinewidth": 0,
             "ticks": ""
            },
            "colorscale": [
             [
              0,
              "#0d0887"
             ],
             [
              0.1111111111111111,
              "#46039f"
             ],
             [
              0.2222222222222222,
              "#7201a8"
             ],
             [
              0.3333333333333333,
              "#9c179e"
             ],
             [
              0.4444444444444444,
              "#bd3786"
             ],
             [
              0.5555555555555556,
              "#d8576b"
             ],
             [
              0.6666666666666666,
              "#ed7953"
             ],
             [
              0.7777777777777778,
              "#fb9f3a"
             ],
             [
              0.8888888888888888,
              "#fdca26"
             ],
             [
              1,
              "#f0f921"
             ]
            ],
            "type": "histogram2dcontour"
           }
          ],
          "mesh3d": [
           {
            "colorbar": {
             "outlinewidth": 0,
             "ticks": ""
            },
            "type": "mesh3d"
           }
          ],
          "parcoords": [
           {
            "line": {
             "colorbar": {
              "outlinewidth": 0,
              "ticks": ""
             }
            },
            "type": "parcoords"
           }
          ],
          "pie": [
           {
            "automargin": true,
            "type": "pie"
           }
          ],
          "scatter": [
           {
            "fillpattern": {
             "fillmode": "overlay",
             "size": 10,
             "solidity": 0.2
            },
            "type": "scatter"
           }
          ],
          "scatter3d": [
           {
            "line": {
             "colorbar": {
              "outlinewidth": 0,
              "ticks": ""
             }
            },
            "marker": {
             "colorbar": {
              "outlinewidth": 0,
              "ticks": ""
             }
            },
            "type": "scatter3d"
           }
          ],
          "scattercarpet": [
           {
            "marker": {
             "colorbar": {
              "outlinewidth": 0,
              "ticks": ""
             }
            },
            "type": "scattercarpet"
           }
          ],
          "scattergeo": [
           {
            "marker": {
             "colorbar": {
              "outlinewidth": 0,
              "ticks": ""
             }
            },
            "type": "scattergeo"
           }
          ],
          "scattergl": [
           {
            "marker": {
             "colorbar": {
              "outlinewidth": 0,
              "ticks": ""
             }
            },
            "type": "scattergl"
           }
          ],
          "scattermapbox": [
           {
            "marker": {
             "colorbar": {
              "outlinewidth": 0,
              "ticks": ""
             }
            },
            "type": "scattermapbox"
           }
          ],
          "scatterpolar": [
           {
            "marker": {
             "colorbar": {
              "outlinewidth": 0,
              "ticks": ""
             }
            },
            "type": "scatterpolar"
           }
          ],
          "scatterpolargl": [
           {
            "marker": {
             "colorbar": {
              "outlinewidth": 0,
              "ticks": ""
             }
            },
            "type": "scatterpolargl"
           }
          ],
          "scatterternary": [
           {
            "marker": {
             "colorbar": {
              "outlinewidth": 0,
              "ticks": ""
             }
            },
            "type": "scatterternary"
           }
          ],
          "surface": [
           {
            "colorbar": {
             "outlinewidth": 0,
             "ticks": ""
            },
            "colorscale": [
             [
              0,
              "#0d0887"
             ],
             [
              0.1111111111111111,
              "#46039f"
             ],
             [
              0.2222222222222222,
              "#7201a8"
             ],
             [
              0.3333333333333333,
              "#9c179e"
             ],
             [
              0.4444444444444444,
              "#bd3786"
             ],
             [
              0.5555555555555556,
              "#d8576b"
             ],
             [
              0.6666666666666666,
              "#ed7953"
             ],
             [
              0.7777777777777778,
              "#fb9f3a"
             ],
             [
              0.8888888888888888,
              "#fdca26"
             ],
             [
              1,
              "#f0f921"
             ]
            ],
            "type": "surface"
           }
          ],
          "table": [
           {
            "cells": {
             "fill": {
              "color": "#EBF0F8"
             },
             "line": {
              "color": "white"
             }
            },
            "header": {
             "fill": {
              "color": "#C8D4E3"
             },
             "line": {
              "color": "white"
             }
            },
            "type": "table"
           }
          ]
         },
         "layout": {
          "annotationdefaults": {
           "arrowcolor": "#2a3f5f",
           "arrowhead": 0,
           "arrowwidth": 1
          },
          "autotypenumbers": "strict",
          "coloraxis": {
           "colorbar": {
            "outlinewidth": 0,
            "ticks": ""
           }
          },
          "colorscale": {
           "diverging": [
            [
             0,
             "#8e0152"
            ],
            [
             0.1,
             "#c51b7d"
            ],
            [
             0.2,
             "#de77ae"
            ],
            [
             0.3,
             "#f1b6da"
            ],
            [
             0.4,
             "#fde0ef"
            ],
            [
             0.5,
             "#f7f7f7"
            ],
            [
             0.6,
             "#e6f5d0"
            ],
            [
             0.7,
             "#b8e186"
            ],
            [
             0.8,
             "#7fbc41"
            ],
            [
             0.9,
             "#4d9221"
            ],
            [
             1,
             "#276419"
            ]
           ],
           "sequential": [
            [
             0,
             "#0d0887"
            ],
            [
             0.1111111111111111,
             "#46039f"
            ],
            [
             0.2222222222222222,
             "#7201a8"
            ],
            [
             0.3333333333333333,
             "#9c179e"
            ],
            [
             0.4444444444444444,
             "#bd3786"
            ],
            [
             0.5555555555555556,
             "#d8576b"
            ],
            [
             0.6666666666666666,
             "#ed7953"
            ],
            [
             0.7777777777777778,
             "#fb9f3a"
            ],
            [
             0.8888888888888888,
             "#fdca26"
            ],
            [
             1,
             "#f0f921"
            ]
           ],
           "sequentialminus": [
            [
             0,
             "#0d0887"
            ],
            [
             0.1111111111111111,
             "#46039f"
            ],
            [
             0.2222222222222222,
             "#7201a8"
            ],
            [
             0.3333333333333333,
             "#9c179e"
            ],
            [
             0.4444444444444444,
             "#bd3786"
            ],
            [
             0.5555555555555556,
             "#d8576b"
            ],
            [
             0.6666666666666666,
             "#ed7953"
            ],
            [
             0.7777777777777778,
             "#fb9f3a"
            ],
            [
             0.8888888888888888,
             "#fdca26"
            ],
            [
             1,
             "#f0f921"
            ]
           ]
          },
          "colorway": [
           "#636efa",
           "#EF553B",
           "#00cc96",
           "#ab63fa",
           "#FFA15A",
           "#19d3f3",
           "#FF6692",
           "#B6E880",
           "#FF97FF",
           "#FECB52"
          ],
          "font": {
           "color": "#2a3f5f"
          },
          "geo": {
           "bgcolor": "white",
           "lakecolor": "white",
           "landcolor": "#E5ECF6",
           "showlakes": true,
           "showland": true,
           "subunitcolor": "white"
          },
          "hoverlabel": {
           "align": "left"
          },
          "hovermode": "closest",
          "mapbox": {
           "style": "light"
          },
          "paper_bgcolor": "white",
          "plot_bgcolor": "#E5ECF6",
          "polar": {
           "angularaxis": {
            "gridcolor": "white",
            "linecolor": "white",
            "ticks": ""
           },
           "bgcolor": "#E5ECF6",
           "radialaxis": {
            "gridcolor": "white",
            "linecolor": "white",
            "ticks": ""
           }
          },
          "scene": {
           "xaxis": {
            "backgroundcolor": "#E5ECF6",
            "gridcolor": "white",
            "gridwidth": 2,
            "linecolor": "white",
            "showbackground": true,
            "ticks": "",
            "zerolinecolor": "white"
           },
           "yaxis": {
            "backgroundcolor": "#E5ECF6",
            "gridcolor": "white",
            "gridwidth": 2,
            "linecolor": "white",
            "showbackground": true,
            "ticks": "",
            "zerolinecolor": "white"
           },
           "zaxis": {
            "backgroundcolor": "#E5ECF6",
            "gridcolor": "white",
            "gridwidth": 2,
            "linecolor": "white",
            "showbackground": true,
            "ticks": "",
            "zerolinecolor": "white"
           }
          },
          "shapedefaults": {
           "line": {
            "color": "#2a3f5f"
           }
          },
          "ternary": {
           "aaxis": {
            "gridcolor": "white",
            "linecolor": "white",
            "ticks": ""
           },
           "baxis": {
            "gridcolor": "white",
            "linecolor": "white",
            "ticks": ""
           },
           "bgcolor": "#E5ECF6",
           "caxis": {
            "gridcolor": "white",
            "linecolor": "white",
            "ticks": ""
           }
          },
          "title": {
           "x": 0.05
          },
          "xaxis": {
           "automargin": true,
           "gridcolor": "white",
           "linecolor": "white",
           "ticks": "",
           "title": {
            "standoff": 15
           },
           "zerolinecolor": "white",
           "zerolinewidth": 2
          },
          "yaxis": {
           "automargin": true,
           "gridcolor": "white",
           "linecolor": "white",
           "ticks": "",
           "title": {
            "standoff": 15
           },
           "zerolinecolor": "white",
           "zerolinewidth": 2
          }
         }
        },
        "title": {
         "text": "Top 10 Stores by Revenue"
        },
        "xaxis": {
         "anchor": "y",
         "domain": [
          0,
          1
         ],
         "tickangle": 45,
         "title": {
          "text": "Store"
         }
        },
        "yaxis": {
         "anchor": "x",
         "domain": [
          0,
          1
         ],
         "title": {
          "text": "Revenue"
         }
        }
       }
      }
     },
     "metadata": {},
     "output_type": "display_data"
    }
   ],
   "source": [
    "fig_store = px.bar(top_stores, x='LIBELLE_y', y='revenue', title='Top 10 Stores by Revenue')\n",
    "fig_store.update_layout(xaxis_title='Store', yaxis_title='Revenue', xaxis_tickangle=45)\n",
    "fig_store\n"
   ]
  },
  {
   "cell_type": "markdown",
   "id": "29db6751",
   "metadata": {},
   "source": [
    "### Store performance deep dive\n"
   ]
  },
  {
   "cell_type": "code",
   "execution_count": 22,
   "id": "4bd184be",
   "metadata": {},
   "outputs": [
    {
     "data": {
      "text/html": [
       "<div>\n",
       "<style scoped>\n",
       "    .dataframe tbody tr th:only-of-type {\n",
       "        vertical-align: middle;\n",
       "    }\n",
       "\n",
       "    .dataframe tbody tr th {\n",
       "        vertical-align: top;\n",
       "    }\n",
       "\n",
       "    .dataframe thead th {\n",
       "        text-align: right;\n",
       "    }\n",
       "</style>\n",
       "<table border=\"1\" class=\"dataframe\">\n",
       "  <thead>\n",
       "    <tr style=\"text-align: right;\">\n",
       "      <th></th>\n",
       "      <th>Store_transaction_ID</th>\n",
       "      <th>Store_Name</th>\n",
       "      <th>Store_City</th>\n",
       "      <th>Store_Province</th>\n",
       "      <th>GMV</th>\n",
       "      <th>Units</th>\n",
       "      <th>Orders</th>\n",
       "      <th>AOV</th>\n",
       "      <th>Items_per_Order</th>\n",
       "      <th>GMV_share_pct</th>\n",
       "    </tr>\n",
       "  </thead>\n",
       "  <tbody>\n",
       "    <tr>\n",
       "      <th>0</th>\n",
       "      <td>ABWEB01</td>\n",
       "      <td>Alberta Online Store 01</td>\n",
       "      <td>Online</td>\n",
       "      <td>AB</td>\n",
       "      <td>294051.44</td>\n",
       "      <td>3467</td>\n",
       "      <td>3306</td>\n",
       "      <td>88.944779</td>\n",
       "      <td>1.048699</td>\n",
       "      <td>27.741752</td>\n",
       "    </tr>\n",
       "    <tr>\n",
       "      <th>1</th>\n",
       "      <td>AB105</td>\n",
       "      <td>AB Store 105 - St. Albert</td>\n",
       "      <td>St. Albert</td>\n",
       "      <td>AB</td>\n",
       "      <td>37635.20</td>\n",
       "      <td>345</td>\n",
       "      <td>377</td>\n",
       "      <td>99.828117</td>\n",
       "      <td>0.915119</td>\n",
       "      <td>3.550625</td>\n",
       "    </tr>\n",
       "    <tr>\n",
       "      <th>2</th>\n",
       "      <td>AB039</td>\n",
       "      <td>AB Store 039 - Sherwood Park</td>\n",
       "      <td>Sherwood Park</td>\n",
       "      <td>AB</td>\n",
       "      <td>25916.82</td>\n",
       "      <td>237</td>\n",
       "      <td>262</td>\n",
       "      <td>98.919160</td>\n",
       "      <td>0.904580</td>\n",
       "      <td>2.445076</td>\n",
       "    </tr>\n",
       "    <tr>\n",
       "      <th>3</th>\n",
       "      <td>AB107</td>\n",
       "      <td>AB Store 107 - Grande Prairie</td>\n",
       "      <td>Grande Prairie</td>\n",
       "      <td>AB</td>\n",
       "      <td>25574.15</td>\n",
       "      <td>217</td>\n",
       "      <td>242</td>\n",
       "      <td>105.678306</td>\n",
       "      <td>0.896694</td>\n",
       "      <td>2.412747</td>\n",
       "    </tr>\n",
       "    <tr>\n",
       "      <th>4</th>\n",
       "      <td>AB077</td>\n",
       "      <td>AB Store 077 - Chestermere</td>\n",
       "      <td>Chestermere</td>\n",
       "      <td>AB</td>\n",
       "      <td>25055.87</td>\n",
       "      <td>261</td>\n",
       "      <td>296</td>\n",
       "      <td>84.648209</td>\n",
       "      <td>0.881757</td>\n",
       "      <td>2.363851</td>\n",
       "    </tr>\n",
       "    <tr>\n",
       "      <th>5</th>\n",
       "      <td>AB081</td>\n",
       "      <td>AB Store 081 - Calgary</td>\n",
       "      <td>Calgary</td>\n",
       "      <td>AB</td>\n",
       "      <td>22300.21</td>\n",
       "      <td>218</td>\n",
       "      <td>236</td>\n",
       "      <td>94.492415</td>\n",
       "      <td>0.923729</td>\n",
       "      <td>2.103873</td>\n",
       "    </tr>\n",
       "    <tr>\n",
       "      <th>6</th>\n",
       "      <td>AB026</td>\n",
       "      <td>AB Store 026 - Medicine Hat</td>\n",
       "      <td>Medicine Hat</td>\n",
       "      <td>AB</td>\n",
       "      <td>22077.01</td>\n",
       "      <td>233</td>\n",
       "      <td>247</td>\n",
       "      <td>89.380607</td>\n",
       "      <td>0.943320</td>\n",
       "      <td>2.082816</td>\n",
       "    </tr>\n",
       "    <tr>\n",
       "      <th>7</th>\n",
       "      <td>AB087</td>\n",
       "      <td>AB Store 087 - Grande Prairie</td>\n",
       "      <td>Grande Prairie</td>\n",
       "      <td>AB</td>\n",
       "      <td>21968.86</td>\n",
       "      <td>230</td>\n",
       "      <td>251</td>\n",
       "      <td>87.525339</td>\n",
       "      <td>0.916335</td>\n",
       "      <td>2.072612</td>\n",
       "    </tr>\n",
       "    <tr>\n",
       "      <th>8</th>\n",
       "      <td>AB004</td>\n",
       "      <td>AB Store 004 - Lethbridge</td>\n",
       "      <td>Lethbridge</td>\n",
       "      <td>AB</td>\n",
       "      <td>21027.81</td>\n",
       "      <td>207</td>\n",
       "      <td>215</td>\n",
       "      <td>97.803767</td>\n",
       "      <td>0.962791</td>\n",
       "      <td>1.983831</td>\n",
       "    </tr>\n",
       "    <tr>\n",
       "      <th>9</th>\n",
       "      <td>AB083</td>\n",
       "      <td>AB Store 083 - Red Deer</td>\n",
       "      <td>Red Deer</td>\n",
       "      <td>AB</td>\n",
       "      <td>20315.15</td>\n",
       "      <td>188</td>\n",
       "      <td>198</td>\n",
       "      <td>102.601768</td>\n",
       "      <td>0.949495</td>\n",
       "      <td>1.916596</td>\n",
       "    </tr>\n",
       "    <tr>\n",
       "      <th>10</th>\n",
       "      <td>AB016</td>\n",
       "      <td>AB Store 016 - Camrose</td>\n",
       "      <td>Camrose</td>\n",
       "      <td>AB</td>\n",
       "      <td>19902.10</td>\n",
       "      <td>178</td>\n",
       "      <td>206</td>\n",
       "      <td>96.612136</td>\n",
       "      <td>0.864078</td>\n",
       "      <td>1.877628</td>\n",
       "    </tr>\n",
       "    <tr>\n",
       "      <th>11</th>\n",
       "      <td>AB092</td>\n",
       "      <td>AB Store 092 - Fort McMurray</td>\n",
       "      <td>Fort McMurray</td>\n",
       "      <td>AB</td>\n",
       "      <td>19623.39</td>\n",
       "      <td>222</td>\n",
       "      <td>242</td>\n",
       "      <td>81.088388</td>\n",
       "      <td>0.917355</td>\n",
       "      <td>1.851333</td>\n",
       "    </tr>\n",
       "    <tr>\n",
       "      <th>12</th>\n",
       "      <td>AB097</td>\n",
       "      <td>AB Store 097 - Chestermere</td>\n",
       "      <td>Chestermere</td>\n",
       "      <td>AB</td>\n",
       "      <td>19421.01</td>\n",
       "      <td>183</td>\n",
       "      <td>202</td>\n",
       "      <td>96.143614</td>\n",
       "      <td>0.905941</td>\n",
       "      <td>1.832240</td>\n",
       "    </tr>\n",
       "    <tr>\n",
       "      <th>13</th>\n",
       "      <td>AB078</td>\n",
       "      <td>AB Store 078 - Lloydminster</td>\n",
       "      <td>Lloydminster</td>\n",
       "      <td>AB</td>\n",
       "      <td>17062.58</td>\n",
       "      <td>179</td>\n",
       "      <td>194</td>\n",
       "      <td>87.951443</td>\n",
       "      <td>0.922680</td>\n",
       "      <td>1.609738</td>\n",
       "    </tr>\n",
       "    <tr>\n",
       "      <th>14</th>\n",
       "      <td>AB023</td>\n",
       "      <td>AB Store 023 - Red Deer</td>\n",
       "      <td>Red Deer</td>\n",
       "      <td>AB</td>\n",
       "      <td>16803.13</td>\n",
       "      <td>199</td>\n",
       "      <td>215</td>\n",
       "      <td>78.154093</td>\n",
       "      <td>0.925581</td>\n",
       "      <td>1.585261</td>\n",
       "    </tr>\n",
       "  </tbody>\n",
       "</table>\n",
       "</div>"
      ],
      "text/plain": [
       "   Store_transaction_ID                     Store_Name      Store_City  \\\n",
       "0               ABWEB01        Alberta Online Store 01          Online   \n",
       "1                 AB105      AB Store 105 - St. Albert      St. Albert   \n",
       "2                 AB039   AB Store 039 - Sherwood Park   Sherwood Park   \n",
       "3                 AB107  AB Store 107 - Grande Prairie  Grande Prairie   \n",
       "4                 AB077     AB Store 077 - Chestermere     Chestermere   \n",
       "5                 AB081         AB Store 081 - Calgary         Calgary   \n",
       "6                 AB026    AB Store 026 - Medicine Hat    Medicine Hat   \n",
       "7                 AB087  AB Store 087 - Grande Prairie  Grande Prairie   \n",
       "8                 AB004      AB Store 004 - Lethbridge      Lethbridge   \n",
       "9                 AB083        AB Store 083 - Red Deer        Red Deer   \n",
       "10                AB016         AB Store 016 - Camrose         Camrose   \n",
       "11                AB092   AB Store 092 - Fort McMurray   Fort McMurray   \n",
       "12                AB097     AB Store 097 - Chestermere     Chestermere   \n",
       "13                AB078    AB Store 078 - Lloydminster    Lloydminster   \n",
       "14                AB023        AB Store 023 - Red Deer        Red Deer   \n",
       "\n",
       "   Store_Province        GMV  Units  Orders         AOV  Items_per_Order  \\\n",
       "0              AB  294051.44   3467    3306   88.944779         1.048699   \n",
       "1              AB   37635.20    345     377   99.828117         0.915119   \n",
       "2              AB   25916.82    237     262   98.919160         0.904580   \n",
       "3              AB   25574.15    217     242  105.678306         0.896694   \n",
       "4              AB   25055.87    261     296   84.648209         0.881757   \n",
       "5              AB   22300.21    218     236   94.492415         0.923729   \n",
       "6              AB   22077.01    233     247   89.380607         0.943320   \n",
       "7              AB   21968.86    230     251   87.525339         0.916335   \n",
       "8              AB   21027.81    207     215   97.803767         0.962791   \n",
       "9              AB   20315.15    188     198  102.601768         0.949495   \n",
       "10             AB   19902.10    178     206   96.612136         0.864078   \n",
       "11             AB   19623.39    222     242   81.088388         0.917355   \n",
       "12             AB   19421.01    183     202   96.143614         0.905941   \n",
       "13             AB   17062.58    179     194   87.951443         0.922680   \n",
       "14             AB   16803.13    199     215   78.154093         0.925581   \n",
       "\n",
       "    GMV_share_pct  \n",
       "0       27.741752  \n",
       "1        3.550625  \n",
       "2        2.445076  \n",
       "3        2.412747  \n",
       "4        2.363851  \n",
       "5        2.103873  \n",
       "6        2.082816  \n",
       "7        2.072612  \n",
       "8        1.983831  \n",
       "9        1.916596  \n",
       "10       1.877628  \n",
       "11       1.851333  \n",
       "12       1.832240  \n",
       "13       1.609738  \n",
       "14       1.585261  "
      ]
     },
     "metadata": {},
     "output_type": "display_data"
    },
    {
     "data": {
      "text/html": [
       "<div>\n",
       "<style scoped>\n",
       "    .dataframe tbody tr th:only-of-type {\n",
       "        vertical-align: middle;\n",
       "    }\n",
       "\n",
       "    .dataframe tbody tr th {\n",
       "        vertical-align: top;\n",
       "    }\n",
       "\n",
       "    .dataframe thead th {\n",
       "        text-align: right;\n",
       "    }\n",
       "</style>\n",
       "<table border=\"1\" class=\"dataframe\">\n",
       "  <thead>\n",
       "    <tr style=\"text-align: right;\">\n",
       "      <th></th>\n",
       "      <th>Store_transaction_ID</th>\n",
       "      <th>Store_Name</th>\n",
       "      <th>Store_City</th>\n",
       "      <th>Store_Province</th>\n",
       "      <th>GMV</th>\n",
       "      <th>Units</th>\n",
       "      <th>Orders</th>\n",
       "      <th>AOV</th>\n",
       "      <th>Items_per_Order</th>\n",
       "      <th>GMV_share_pct</th>\n",
       "    </tr>\n",
       "  </thead>\n",
       "  <tbody>\n",
       "    <tr>\n",
       "      <th>68</th>\n",
       "      <td>AB094</td>\n",
       "      <td>AB Store 094 - Canmore</td>\n",
       "      <td>Canmore</td>\n",
       "      <td>AB</td>\n",
       "      <td>1636.66</td>\n",
       "      <td>23</td>\n",
       "      <td>29</td>\n",
       "      <td>56.436552</td>\n",
       "      <td>0.793103</td>\n",
       "      <td>0.154408</td>\n",
       "    </tr>\n",
       "    <tr>\n",
       "      <th>67</th>\n",
       "      <td>ABWEB02</td>\n",
       "      <td>Alberta Online Store 02</td>\n",
       "      <td>Online</td>\n",
       "      <td>AB</td>\n",
       "      <td>2130.03</td>\n",
       "      <td>26</td>\n",
       "      <td>22</td>\n",
       "      <td>96.819545</td>\n",
       "      <td>1.181818</td>\n",
       "      <td>0.200954</td>\n",
       "    </tr>\n",
       "    <tr>\n",
       "      <th>66</th>\n",
       "      <td>AB034</td>\n",
       "      <td>AB Store 034 - Canmore</td>\n",
       "      <td>Canmore</td>\n",
       "      <td>AB</td>\n",
       "      <td>2690.02</td>\n",
       "      <td>24</td>\n",
       "      <td>30</td>\n",
       "      <td>89.667333</td>\n",
       "      <td>0.800000</td>\n",
       "      <td>0.253785</td>\n",
       "    </tr>\n",
       "    <tr>\n",
       "      <th>65</th>\n",
       "      <td>AB010</td>\n",
       "      <td>AB Store 010 - Leduc</td>\n",
       "      <td>Leduc</td>\n",
       "      <td>AB</td>\n",
       "      <td>2733.59</td>\n",
       "      <td>31</td>\n",
       "      <td>43</td>\n",
       "      <td>63.571860</td>\n",
       "      <td>0.720930</td>\n",
       "      <td>0.257896</td>\n",
       "    </tr>\n",
       "    <tr>\n",
       "      <th>64</th>\n",
       "      <td>AB052</td>\n",
       "      <td>AB Store 052 - Fort McMurray</td>\n",
       "      <td>Fort McMurray</td>\n",
       "      <td>AB</td>\n",
       "      <td>2782.61</td>\n",
       "      <td>27</td>\n",
       "      <td>33</td>\n",
       "      <td>84.321515</td>\n",
       "      <td>0.818182</td>\n",
       "      <td>0.262520</td>\n",
       "    </tr>\n",
       "    <tr>\n",
       "      <th>63</th>\n",
       "      <td>AB095</td>\n",
       "      <td>AB Store 095 - Brooks</td>\n",
       "      <td>Brooks</td>\n",
       "      <td>AB</td>\n",
       "      <td>3121.98</td>\n",
       "      <td>38</td>\n",
       "      <td>45</td>\n",
       "      <td>69.377333</td>\n",
       "      <td>0.844444</td>\n",
       "      <td>0.294538</td>\n",
       "    </tr>\n",
       "    <tr>\n",
       "      <th>62</th>\n",
       "      <td>AB100</td>\n",
       "      <td>AB Store 100 - Wetaskiwin</td>\n",
       "      <td>Wetaskiwin</td>\n",
       "      <td>AB</td>\n",
       "      <td>3302.63</td>\n",
       "      <td>35</td>\n",
       "      <td>43</td>\n",
       "      <td>76.805349</td>\n",
       "      <td>0.813953</td>\n",
       "      <td>0.311581</td>\n",
       "    </tr>\n",
       "    <tr>\n",
       "      <th>61</th>\n",
       "      <td>AB011</td>\n",
       "      <td>AB Store 011 - Okotoks</td>\n",
       "      <td>Okotoks</td>\n",
       "      <td>AB</td>\n",
       "      <td>4232.87</td>\n",
       "      <td>52</td>\n",
       "      <td>58</td>\n",
       "      <td>72.980517</td>\n",
       "      <td>0.896552</td>\n",
       "      <td>0.399342</td>\n",
       "    </tr>\n",
       "    <tr>\n",
       "      <th>60</th>\n",
       "      <td>AB014</td>\n",
       "      <td>AB Store 014 - Canmore</td>\n",
       "      <td>Canmore</td>\n",
       "      <td>AB</td>\n",
       "      <td>4583.69</td>\n",
       "      <td>44</td>\n",
       "      <td>48</td>\n",
       "      <td>95.493542</td>\n",
       "      <td>0.916667</td>\n",
       "      <td>0.432440</td>\n",
       "    </tr>\n",
       "    <tr>\n",
       "      <th>59</th>\n",
       "      <td>AB049</td>\n",
       "      <td>AB Store 049 - Spruce Grove</td>\n",
       "      <td>Spruce Grove</td>\n",
       "      <td>AB</td>\n",
       "      <td>4709.38</td>\n",
       "      <td>52</td>\n",
       "      <td>54</td>\n",
       "      <td>87.210741</td>\n",
       "      <td>0.962963</td>\n",
       "      <td>0.444298</td>\n",
       "    </tr>\n",
       "    <tr>\n",
       "      <th>58</th>\n",
       "      <td>AB021</td>\n",
       "      <td>AB Store 021 - Calgary</td>\n",
       "      <td>Calgary</td>\n",
       "      <td>AB</td>\n",
       "      <td>4886.88</td>\n",
       "      <td>67</td>\n",
       "      <td>71</td>\n",
       "      <td>68.829296</td>\n",
       "      <td>0.943662</td>\n",
       "      <td>0.461044</td>\n",
       "    </tr>\n",
       "    <tr>\n",
       "      <th>57</th>\n",
       "      <td>AB056</td>\n",
       "      <td>AB Store 056 - Camrose</td>\n",
       "      <td>Camrose</td>\n",
       "      <td>AB</td>\n",
       "      <td>5012.99</td>\n",
       "      <td>47</td>\n",
       "      <td>57</td>\n",
       "      <td>87.947193</td>\n",
       "      <td>0.824561</td>\n",
       "      <td>0.472941</td>\n",
       "    </tr>\n",
       "    <tr>\n",
       "      <th>56</th>\n",
       "      <td>AB029</td>\n",
       "      <td>AB Store 029 - Spruce Grove</td>\n",
       "      <td>Spruce Grove</td>\n",
       "      <td>AB</td>\n",
       "      <td>5059.47</td>\n",
       "      <td>47</td>\n",
       "      <td>49</td>\n",
       "      <td>103.254490</td>\n",
       "      <td>0.959184</td>\n",
       "      <td>0.477327</td>\n",
       "    </tr>\n",
       "    <tr>\n",
       "      <th>55</th>\n",
       "      <td>AB019</td>\n",
       "      <td>AB Store 019 - Sherwood Park</td>\n",
       "      <td>Sherwood Park</td>\n",
       "      <td>AB</td>\n",
       "      <td>5181.56</td>\n",
       "      <td>53</td>\n",
       "      <td>77</td>\n",
       "      <td>67.292987</td>\n",
       "      <td>0.688312</td>\n",
       "      <td>0.488845</td>\n",
       "    </tr>\n",
       "    <tr>\n",
       "      <th>54</th>\n",
       "      <td>AB044</td>\n",
       "      <td>AB Store 044 - Lethbridge</td>\n",
       "      <td>Lethbridge</td>\n",
       "      <td>AB</td>\n",
       "      <td>5311.45</td>\n",
       "      <td>54</td>\n",
       "      <td>64</td>\n",
       "      <td>82.991406</td>\n",
       "      <td>0.843750</td>\n",
       "      <td>0.501099</td>\n",
       "    </tr>\n",
       "  </tbody>\n",
       "</table>\n",
       "</div>"
      ],
      "text/plain": [
       "   Store_transaction_ID                    Store_Name     Store_City  \\\n",
       "68                AB094        AB Store 094 - Canmore        Canmore   \n",
       "67              ABWEB02       Alberta Online Store 02         Online   \n",
       "66                AB034        AB Store 034 - Canmore        Canmore   \n",
       "65                AB010          AB Store 010 - Leduc          Leduc   \n",
       "64                AB052  AB Store 052 - Fort McMurray  Fort McMurray   \n",
       "63                AB095         AB Store 095 - Brooks         Brooks   \n",
       "62                AB100     AB Store 100 - Wetaskiwin     Wetaskiwin   \n",
       "61                AB011        AB Store 011 - Okotoks        Okotoks   \n",
       "60                AB014        AB Store 014 - Canmore        Canmore   \n",
       "59                AB049   AB Store 049 - Spruce Grove   Spruce Grove   \n",
       "58                AB021        AB Store 021 - Calgary        Calgary   \n",
       "57                AB056        AB Store 056 - Camrose        Camrose   \n",
       "56                AB029   AB Store 029 - Spruce Grove   Spruce Grove   \n",
       "55                AB019  AB Store 019 - Sherwood Park  Sherwood Park   \n",
       "54                AB044     AB Store 044 - Lethbridge     Lethbridge   \n",
       "\n",
       "   Store_Province      GMV  Units  Orders         AOV  Items_per_Order  \\\n",
       "68             AB  1636.66     23      29   56.436552         0.793103   \n",
       "67             AB  2130.03     26      22   96.819545         1.181818   \n",
       "66             AB  2690.02     24      30   89.667333         0.800000   \n",
       "65             AB  2733.59     31      43   63.571860         0.720930   \n",
       "64             AB  2782.61     27      33   84.321515         0.818182   \n",
       "63             AB  3121.98     38      45   69.377333         0.844444   \n",
       "62             AB  3302.63     35      43   76.805349         0.813953   \n",
       "61             AB  4232.87     52      58   72.980517         0.896552   \n",
       "60             AB  4583.69     44      48   95.493542         0.916667   \n",
       "59             AB  4709.38     52      54   87.210741         0.962963   \n",
       "58             AB  4886.88     67      71   68.829296         0.943662   \n",
       "57             AB  5012.99     47      57   87.947193         0.824561   \n",
       "56             AB  5059.47     47      49  103.254490         0.959184   \n",
       "55             AB  5181.56     53      77   67.292987         0.688312   \n",
       "54             AB  5311.45     54      64   82.991406         0.843750   \n",
       "\n",
       "    GMV_share_pct  \n",
       "68       0.154408  \n",
       "67       0.200954  \n",
       "66       0.253785  \n",
       "65       0.257896  \n",
       "64       0.262520  \n",
       "63       0.294538  \n",
       "62       0.311581  \n",
       "61       0.399342  \n",
       "60       0.432440  \n",
       "59       0.444298  \n",
       "58       0.461044  \n",
       "57       0.472941  \n",
       "56       0.477327  \n",
       "55       0.488845  \n",
       "54       0.501099  "
      ]
     },
     "metadata": {},
     "output_type": "display_data"
    }
   ],
   "source": [
    "from IPython.display import display\n",
    "\n",
    "store_metrics = (\n",
    "    sales_df.assign(\n",
    "        Store_Name=sales_df['LIBELLE_y'].fillna(sales_df['Store_transaction_ID']),\n",
    "        Store_City=sales_df['CITY'].fillna('Unknown'),\n",
    "        Store_Province=sales_df['PROVINCE'].fillna('Unknown'),\n",
    "    )\n",
    "    .groupby(['Store_transaction_ID', 'Store_Name', 'Store_City', 'Store_Province'], as_index=False)\n",
    "    .agg(\n",
    "        GMV=('Transaction_value', 'sum'),\n",
    "        Units=('Quantity_item', 'sum'),\n",
    "        Orders=('Transaction_ID', 'nunique'),\n",
    "    )\n",
    ")\n",
    "\n",
    "store_metrics['AOV'] = store_metrics['GMV'] / store_metrics['Orders'].replace({0: pd.NA})\n",
    "store_metrics['Items_per_Order'] = store_metrics['Units'] / store_metrics['Orders'].replace({0: pd.NA})\n",
    "store_metrics['GMV_share_pct'] = (store_metrics['GMV'] / store_metrics['GMV'].sum()) * 100\n",
    "store_metrics = store_metrics.sort_values('GMV', ascending=False).reset_index(drop=True)\n",
    "store_columns = ['Store_transaction_ID', 'Store_Name', 'Store_City', 'Store_Province', 'GMV', 'Units', 'Orders', 'AOV', 'Items_per_Order', 'GMV_share_pct']\n",
    "top_stores_detail = store_metrics.loc[:, store_columns].head(15)\n",
    "lagging_stores_detail = store_metrics.nsmallest(15, 'GMV').loc[:, store_columns]\n",
    "display(top_stores_detail)\n",
    "display(lagging_stores_detail)\n"
   ]
  },
  {
   "cell_type": "markdown",
   "id": "c31eec72",
   "metadata": {},
   "source": [
    "### City / province lens\n"
   ]
  },
  {
   "cell_type": "code",
   "execution_count": 23,
   "id": "d13e1909",
   "metadata": {},
   "outputs": [
    {
     "data": {
      "text/html": [
       "<div>\n",
       "<style scoped>\n",
       "    .dataframe tbody tr th:only-of-type {\n",
       "        vertical-align: middle;\n",
       "    }\n",
       "\n",
       "    .dataframe tbody tr th {\n",
       "        vertical-align: top;\n",
       "    }\n",
       "\n",
       "    .dataframe thead th {\n",
       "        text-align: right;\n",
       "    }\n",
       "</style>\n",
       "<table border=\"1\" class=\"dataframe\">\n",
       "  <thead>\n",
       "    <tr style=\"text-align: right;\">\n",
       "      <th></th>\n",
       "      <th>Province</th>\n",
       "      <th>City</th>\n",
       "      <th>GMV</th>\n",
       "      <th>Units</th>\n",
       "      <th>Orders</th>\n",
       "      <th>AOV</th>\n",
       "      <th>Items_per_Order</th>\n",
       "      <th>GMV_share_pct</th>\n",
       "    </tr>\n",
       "  </thead>\n",
       "  <tbody>\n",
       "    <tr>\n",
       "      <th>0</th>\n",
       "      <td>AB</td>\n",
       "      <td>Online</td>\n",
       "      <td>296181.47</td>\n",
       "      <td>3493</td>\n",
       "      <td>3328</td>\n",
       "      <td>88.996836</td>\n",
       "      <td>1.049579</td>\n",
       "      <td>27.942705</td>\n",
       "    </tr>\n",
       "    <tr>\n",
       "      <th>1</th>\n",
       "      <td>AB</td>\n",
       "      <td>Grande Prairie</td>\n",
       "      <td>83875.71</td>\n",
       "      <td>790</td>\n",
       "      <td>866</td>\n",
       "      <td>96.854169</td>\n",
       "      <td>0.912240</td>\n",
       "      <td>7.913102</td>\n",
       "    </tr>\n",
       "    <tr>\n",
       "      <th>2</th>\n",
       "      <td>AB</td>\n",
       "      <td>Chestermere</td>\n",
       "      <td>70641.83</td>\n",
       "      <td>707</td>\n",
       "      <td>817</td>\n",
       "      <td>86.464908</td>\n",
       "      <td>0.865361</td>\n",
       "      <td>6.664576</td>\n",
       "    </tr>\n",
       "    <tr>\n",
       "      <th>3</th>\n",
       "      <td>AB</td>\n",
       "      <td>St. Albert</td>\n",
       "      <td>62031.01</td>\n",
       "      <td>605</td>\n",
       "      <td>664</td>\n",
       "      <td>93.420196</td>\n",
       "      <td>0.911145</td>\n",
       "      <td>5.852204</td>\n",
       "    </tr>\n",
       "    <tr>\n",
       "      <th>4</th>\n",
       "      <td>AB</td>\n",
       "      <td>Calgary</td>\n",
       "      <td>59827.54</td>\n",
       "      <td>615</td>\n",
       "      <td>679</td>\n",
       "      <td>88.111252</td>\n",
       "      <td>0.905744</td>\n",
       "      <td>5.644321</td>\n",
       "    </tr>\n",
       "    <tr>\n",
       "      <th>5</th>\n",
       "      <td>AB</td>\n",
       "      <td>Medicine Hat</td>\n",
       "      <td>56513.58</td>\n",
       "      <td>541</td>\n",
       "      <td>577</td>\n",
       "      <td>97.943813</td>\n",
       "      <td>0.937608</td>\n",
       "      <td>5.331672</td>\n",
       "    </tr>\n",
       "    <tr>\n",
       "      <th>6</th>\n",
       "      <td>AB</td>\n",
       "      <td>Red Deer</td>\n",
       "      <td>55138.15</td>\n",
       "      <td>523</td>\n",
       "      <td>566</td>\n",
       "      <td>97.417226</td>\n",
       "      <td>0.924028</td>\n",
       "      <td>5.201909</td>\n",
       "    </tr>\n",
       "    <tr>\n",
       "      <th>7</th>\n",
       "      <td>AB</td>\n",
       "      <td>Lethbridge</td>\n",
       "      <td>48508.65</td>\n",
       "      <td>505</td>\n",
       "      <td>588</td>\n",
       "      <td>82.497704</td>\n",
       "      <td>0.858844</td>\n",
       "      <td>4.576461</td>\n",
       "    </tr>\n",
       "    <tr>\n",
       "      <th>8</th>\n",
       "      <td>AB</td>\n",
       "      <td>Sherwood Park</td>\n",
       "      <td>44293.91</td>\n",
       "      <td>449</td>\n",
       "      <td>512</td>\n",
       "      <td>86.511543</td>\n",
       "      <td>0.876953</td>\n",
       "      <td>4.178829</td>\n",
       "    </tr>\n",
       "    <tr>\n",
       "      <th>9</th>\n",
       "      <td>AB</td>\n",
       "      <td>Fort McMurray</td>\n",
       "      <td>37366.18</td>\n",
       "      <td>435</td>\n",
       "      <td>491</td>\n",
       "      <td>76.102200</td>\n",
       "      <td>0.885947</td>\n",
       "      <td>3.525245</td>\n",
       "    </tr>\n",
       "    <tr>\n",
       "      <th>10</th>\n",
       "      <td>AB</td>\n",
       "      <td>Airdrie</td>\n",
       "      <td>35517.26</td>\n",
       "      <td>413</td>\n",
       "      <td>460</td>\n",
       "      <td>77.211435</td>\n",
       "      <td>0.897826</td>\n",
       "      <td>3.350812</td>\n",
       "    </tr>\n",
       "    <tr>\n",
       "      <th>11</th>\n",
       "      <td>AB</td>\n",
       "      <td>Brooks</td>\n",
       "      <td>33900.36</td>\n",
       "      <td>315</td>\n",
       "      <td>370</td>\n",
       "      <td>91.622595</td>\n",
       "      <td>0.851351</td>\n",
       "      <td>3.198268</td>\n",
       "    </tr>\n",
       "    <tr>\n",
       "      <th>12</th>\n",
       "      <td>AB</td>\n",
       "      <td>Camrose</td>\n",
       "      <td>32106.69</td>\n",
       "      <td>292</td>\n",
       "      <td>333</td>\n",
       "      <td>96.416486</td>\n",
       "      <td>0.876877</td>\n",
       "      <td>3.029048</td>\n",
       "    </tr>\n",
       "    <tr>\n",
       "      <th>13</th>\n",
       "      <td>AB</td>\n",
       "      <td>Wetaskiwin</td>\n",
       "      <td>28589.08</td>\n",
       "      <td>292</td>\n",
       "      <td>334</td>\n",
       "      <td>85.596048</td>\n",
       "      <td>0.874251</td>\n",
       "      <td>2.697185</td>\n",
       "    </tr>\n",
       "    <tr>\n",
       "      <th>14</th>\n",
       "      <td>AB</td>\n",
       "      <td>Lloydminster</td>\n",
       "      <td>26991.18</td>\n",
       "      <td>293</td>\n",
       "      <td>315</td>\n",
       "      <td>85.686286</td>\n",
       "      <td>0.930159</td>\n",
       "      <td>2.546434</td>\n",
       "    </tr>\n",
       "    <tr>\n",
       "      <th>15</th>\n",
       "      <td>AB</td>\n",
       "      <td>Edmonton</td>\n",
       "      <td>25293.84</td>\n",
       "      <td>251</td>\n",
       "      <td>276</td>\n",
       "      <td>91.644348</td>\n",
       "      <td>0.909420</td>\n",
       "      <td>2.386302</td>\n",
       "    </tr>\n",
       "    <tr>\n",
       "      <th>16</th>\n",
       "      <td>AB</td>\n",
       "      <td>Banff</td>\n",
       "      <td>22726.53</td>\n",
       "      <td>251</td>\n",
       "      <td>262</td>\n",
       "      <td>86.742481</td>\n",
       "      <td>0.958015</td>\n",
       "      <td>2.144093</td>\n",
       "    </tr>\n",
       "    <tr>\n",
       "      <th>17</th>\n",
       "      <td>AB</td>\n",
       "      <td>Spruce Grove</td>\n",
       "      <td>17856.75</td>\n",
       "      <td>177</td>\n",
       "      <td>201</td>\n",
       "      <td>88.839552</td>\n",
       "      <td>0.880597</td>\n",
       "      <td>1.684663</td>\n",
       "    </tr>\n",
       "    <tr>\n",
       "      <th>18</th>\n",
       "      <td>AB</td>\n",
       "      <td>Okotoks</td>\n",
       "      <td>10956.21</td>\n",
       "      <td>131</td>\n",
       "      <td>139</td>\n",
       "      <td>78.821655</td>\n",
       "      <td>0.942446</td>\n",
       "      <td>1.033644</td>\n",
       "    </tr>\n",
       "    <tr>\n",
       "      <th>19</th>\n",
       "      <td>AB</td>\n",
       "      <td>Canmore</td>\n",
       "      <td>8910.37</td>\n",
       "      <td>91</td>\n",
       "      <td>107</td>\n",
       "      <td>83.274486</td>\n",
       "      <td>0.850467</td>\n",
       "      <td>0.840633</td>\n",
       "    </tr>\n",
       "  </tbody>\n",
       "</table>\n",
       "</div>"
      ],
      "text/plain": [
       "   Province            City        GMV  Units  Orders        AOV  \\\n",
       "0        AB          Online  296181.47   3493    3328  88.996836   \n",
       "1        AB  Grande Prairie   83875.71    790     866  96.854169   \n",
       "2        AB     Chestermere   70641.83    707     817  86.464908   \n",
       "3        AB      St. Albert   62031.01    605     664  93.420196   \n",
       "4        AB         Calgary   59827.54    615     679  88.111252   \n",
       "5        AB    Medicine Hat   56513.58    541     577  97.943813   \n",
       "6        AB        Red Deer   55138.15    523     566  97.417226   \n",
       "7        AB      Lethbridge   48508.65    505     588  82.497704   \n",
       "8        AB   Sherwood Park   44293.91    449     512  86.511543   \n",
       "9        AB   Fort McMurray   37366.18    435     491  76.102200   \n",
       "10       AB         Airdrie   35517.26    413     460  77.211435   \n",
       "11       AB          Brooks   33900.36    315     370  91.622595   \n",
       "12       AB         Camrose   32106.69    292     333  96.416486   \n",
       "13       AB      Wetaskiwin   28589.08    292     334  85.596048   \n",
       "14       AB    Lloydminster   26991.18    293     315  85.686286   \n",
       "15       AB        Edmonton   25293.84    251     276  91.644348   \n",
       "16       AB           Banff   22726.53    251     262  86.742481   \n",
       "17       AB    Spruce Grove   17856.75    177     201  88.839552   \n",
       "18       AB         Okotoks   10956.21    131     139  78.821655   \n",
       "19       AB         Canmore    8910.37     91     107  83.274486   \n",
       "\n",
       "    Items_per_Order  GMV_share_pct  \n",
       "0          1.049579      27.942705  \n",
       "1          0.912240       7.913102  \n",
       "2          0.865361       6.664576  \n",
       "3          0.911145       5.852204  \n",
       "4          0.905744       5.644321  \n",
       "5          0.937608       5.331672  \n",
       "6          0.924028       5.201909  \n",
       "7          0.858844       4.576461  \n",
       "8          0.876953       4.178829  \n",
       "9          0.885947       3.525245  \n",
       "10         0.897826       3.350812  \n",
       "11         0.851351       3.198268  \n",
       "12         0.876877       3.029048  \n",
       "13         0.874251       2.697185  \n",
       "14         0.930159       2.546434  \n",
       "15         0.909420       2.386302  \n",
       "16         0.958015       2.144093  \n",
       "17         0.880597       1.684663  \n",
       "18         0.942446       1.033644  \n",
       "19         0.850467       0.840633  "
      ]
     },
     "metadata": {},
     "output_type": "display_data"
    },
    {
     "data": {
      "text/html": [
       "<div>\n",
       "<style scoped>\n",
       "    .dataframe tbody tr th:only-of-type {\n",
       "        vertical-align: middle;\n",
       "    }\n",
       "\n",
       "    .dataframe tbody tr th {\n",
       "        vertical-align: top;\n",
       "    }\n",
       "\n",
       "    .dataframe thead th {\n",
       "        text-align: right;\n",
       "    }\n",
       "</style>\n",
       "<table border=\"1\" class=\"dataframe\">\n",
       "  <thead>\n",
       "    <tr style=\"text-align: right;\">\n",
       "      <th></th>\n",
       "      <th>City</th>\n",
       "      <th>Category</th>\n",
       "      <th>Transaction_value</th>\n",
       "      <th>GMV_share_pct</th>\n",
       "    </tr>\n",
       "  </thead>\n",
       "  <tbody>\n",
       "    <tr>\n",
       "      <th>5</th>\n",
       "      <td>Airdrie</td>\n",
       "      <td>Catégorie_006</td>\n",
       "      <td>9512.06</td>\n",
       "      <td>26.781514</td>\n",
       "    </tr>\n",
       "    <tr>\n",
       "      <th>6</th>\n",
       "      <td>Airdrie</td>\n",
       "      <td>Catégorie_007</td>\n",
       "      <td>8338.82</td>\n",
       "      <td>23.478219</td>\n",
       "    </tr>\n",
       "    <tr>\n",
       "      <th>7</th>\n",
       "      <td>Airdrie</td>\n",
       "      <td>Unknown</td>\n",
       "      <td>8090.17</td>\n",
       "      <td>22.778137</td>\n",
       "    </tr>\n",
       "    <tr>\n",
       "      <th>1</th>\n",
       "      <td>Airdrie</td>\n",
       "      <td>Catégorie_002</td>\n",
       "      <td>3870.77</td>\n",
       "      <td>10.898279</td>\n",
       "    </tr>\n",
       "    <tr>\n",
       "      <th>2</th>\n",
       "      <td>Airdrie</td>\n",
       "      <td>Catégorie_003</td>\n",
       "      <td>2807.76</td>\n",
       "      <td>7.905340</td>\n",
       "    </tr>\n",
       "    <tr>\n",
       "      <th>15</th>\n",
       "      <td>Banff</td>\n",
       "      <td>Unknown</td>\n",
       "      <td>6780.41</td>\n",
       "      <td>29.834779</td>\n",
       "    </tr>\n",
       "    <tr>\n",
       "      <th>13</th>\n",
       "      <td>Banff</td>\n",
       "      <td>Catégorie_006</td>\n",
       "      <td>6083.04</td>\n",
       "      <td>26.766251</td>\n",
       "    </tr>\n",
       "    <tr>\n",
       "      <th>14</th>\n",
       "      <td>Banff</td>\n",
       "      <td>Catégorie_007</td>\n",
       "      <td>4660.51</td>\n",
       "      <td>20.506914</td>\n",
       "    </tr>\n",
       "    <tr>\n",
       "      <th>9</th>\n",
       "      <td>Banff</td>\n",
       "      <td>Catégorie_002</td>\n",
       "      <td>2808.38</td>\n",
       "      <td>12.357276</td>\n",
       "    </tr>\n",
       "    <tr>\n",
       "      <th>8</th>\n",
       "      <td>Banff</td>\n",
       "      <td>Catégorie_001</td>\n",
       "      <td>787.15</td>\n",
       "      <td>3.463573</td>\n",
       "    </tr>\n",
       "    <tr>\n",
       "      <th>23</th>\n",
       "      <td>Brooks</td>\n",
       "      <td>Unknown</td>\n",
       "      <td>9113.75</td>\n",
       "      <td>26.883933</td>\n",
       "    </tr>\n",
       "    <tr>\n",
       "      <th>21</th>\n",
       "      <td>Brooks</td>\n",
       "      <td>Catégorie_006</td>\n",
       "      <td>8486.33</td>\n",
       "      <td>25.033156</td>\n",
       "    </tr>\n",
       "    <tr>\n",
       "      <th>22</th>\n",
       "      <td>Brooks</td>\n",
       "      <td>Catégorie_007</td>\n",
       "      <td>4783.44</td>\n",
       "      <td>14.110293</td>\n",
       "    </tr>\n",
       "    <tr>\n",
       "      <th>17</th>\n",
       "      <td>Brooks</td>\n",
       "      <td>Catégorie_002</td>\n",
       "      <td>4567.80</td>\n",
       "      <td>13.474193</td>\n",
       "    </tr>\n",
       "    <tr>\n",
       "      <th>18</th>\n",
       "      <td>Brooks</td>\n",
       "      <td>Catégorie_003</td>\n",
       "      <td>3385.75</td>\n",
       "      <td>9.987357</td>\n",
       "    </tr>\n",
       "    <tr>\n",
       "      <th>29</th>\n",
       "      <td>Calgary</td>\n",
       "      <td>Catégorie_006</td>\n",
       "      <td>14959.84</td>\n",
       "      <td>25.004939</td>\n",
       "    </tr>\n",
       "    <tr>\n",
       "      <th>32</th>\n",
       "      <td>Calgary</td>\n",
       "      <td>Unknown</td>\n",
       "      <td>14704.26</td>\n",
       "      <td>24.577745</td>\n",
       "    </tr>\n",
       "    <tr>\n",
       "      <th>30</th>\n",
       "      <td>Calgary</td>\n",
       "      <td>Catégorie_007</td>\n",
       "      <td>8985.20</td>\n",
       "      <td>15.018502</td>\n",
       "    </tr>\n",
       "    <tr>\n",
       "      <th>25</th>\n",
       "      <td>Calgary</td>\n",
       "      <td>Catégorie_002</td>\n",
       "      <td>7922.96</td>\n",
       "      <td>13.242998</td>\n",
       "    </tr>\n",
       "    <tr>\n",
       "      <th>26</th>\n",
       "      <td>Calgary</td>\n",
       "      <td>Catégorie_003</td>\n",
       "      <td>5496.92</td>\n",
       "      <td>9.187943</td>\n",
       "    </tr>\n",
       "    <tr>\n",
       "      <th>40</th>\n",
       "      <td>Camrose</td>\n",
       "      <td>Unknown</td>\n",
       "      <td>8958.41</td>\n",
       "      <td>27.902004</td>\n",
       "    </tr>\n",
       "    <tr>\n",
       "      <th>38</th>\n",
       "      <td>Camrose</td>\n",
       "      <td>Catégorie_006</td>\n",
       "      <td>5995.40</td>\n",
       "      <td>18.673367</td>\n",
       "    </tr>\n",
       "    <tr>\n",
       "      <th>39</th>\n",
       "      <td>Camrose</td>\n",
       "      <td>Catégorie_007</td>\n",
       "      <td>5667.41</td>\n",
       "      <td>17.651804</td>\n",
       "    </tr>\n",
       "    <tr>\n",
       "      <th>34</th>\n",
       "      <td>Camrose</td>\n",
       "      <td>Catégorie_002</td>\n",
       "      <td>4853.25</td>\n",
       "      <td>15.116009</td>\n",
       "    </tr>\n",
       "    <tr>\n",
       "      <th>35</th>\n",
       "      <td>Camrose</td>\n",
       "      <td>Catégorie_003</td>\n",
       "      <td>2815.37</td>\n",
       "      <td>8.768796</td>\n",
       "    </tr>\n",
       "  </tbody>\n",
       "</table>\n",
       "</div>"
      ],
      "text/plain": [
       "       City       Category  Transaction_value  GMV_share_pct\n",
       "5   Airdrie  Catégorie_006            9512.06      26.781514\n",
       "6   Airdrie  Catégorie_007            8338.82      23.478219\n",
       "7   Airdrie        Unknown            8090.17      22.778137\n",
       "1   Airdrie  Catégorie_002            3870.77      10.898279\n",
       "2   Airdrie  Catégorie_003            2807.76       7.905340\n",
       "15    Banff        Unknown            6780.41      29.834779\n",
       "13    Banff  Catégorie_006            6083.04      26.766251\n",
       "14    Banff  Catégorie_007            4660.51      20.506914\n",
       "9     Banff  Catégorie_002            2808.38      12.357276\n",
       "8     Banff  Catégorie_001             787.15       3.463573\n",
       "23   Brooks        Unknown            9113.75      26.883933\n",
       "21   Brooks  Catégorie_006            8486.33      25.033156\n",
       "22   Brooks  Catégorie_007            4783.44      14.110293\n",
       "17   Brooks  Catégorie_002            4567.80      13.474193\n",
       "18   Brooks  Catégorie_003            3385.75       9.987357\n",
       "29  Calgary  Catégorie_006           14959.84      25.004939\n",
       "32  Calgary        Unknown           14704.26      24.577745\n",
       "30  Calgary  Catégorie_007            8985.20      15.018502\n",
       "25  Calgary  Catégorie_002            7922.96      13.242998\n",
       "26  Calgary  Catégorie_003            5496.92       9.187943\n",
       "40  Camrose        Unknown            8958.41      27.902004\n",
       "38  Camrose  Catégorie_006            5995.40      18.673367\n",
       "39  Camrose  Catégorie_007            5667.41      17.651804\n",
       "34  Camrose  Catégorie_002            4853.25      15.116009\n",
       "35  Camrose  Catégorie_003            2815.37       8.768796"
      ]
     },
     "metadata": {},
     "output_type": "display_data"
    }
   ],
   "source": [
    "from IPython.display import display\n",
    "\n",
    "geo_perf = (\n",
    "    sales_df.assign(\n",
    "        City=sales_df['CITY'].fillna('Unknown'),\n",
    "        Province=sales_df['PROVINCE'].fillna('Unknown'),\n",
    "    )\n",
    "    .groupby(['Province', 'City'], as_index=False)\n",
    "    .agg(\n",
    "        GMV=('Transaction_value', 'sum'),\n",
    "        Units=('Quantity_item', 'sum'),\n",
    "        Orders=('Transaction_ID', 'nunique'),\n",
    "    )\n",
    ")\n",
    "\n",
    "geo_perf['AOV'] = geo_perf['GMV'] / geo_perf['Orders'].replace({0: pd.NA})\n",
    "geo_perf['Items_per_Order'] = geo_perf['Units'] / geo_perf['Orders'].replace({0: pd.NA})\n",
    "geo_perf['GMV_share_pct'] = (geo_perf['GMV'] / geo_perf['GMV'].sum()) * 100\n",
    "geo_perf = geo_perf.sort_values('GMV', ascending=False).reset_index(drop=True)\n",
    "\n",
    "display(geo_perf.head(20))\n",
    "\n",
    "city_category_mix = (\n",
    "    sales_df.assign(\n",
    "        City=sales_df['CITY'].fillna('Unknown'),\n",
    "        Category=sales_df['Catégorie'].fillna('Unknown'),\n",
    "    )\n",
    "    .groupby(['City', 'Category'], as_index=False)['Transaction_value']\n",
    "    .sum()\n",
    ")\n",
    "\n",
    "city_category_mix['GMV_share_pct'] = city_category_mix.groupby('City')['Transaction_value'].transform(\n",
    "    lambda values: (values / values.sum()) * 100\n",
    ")\n",
    "city_category_top = (\n",
    "    city_category_mix.sort_values(['City', 'Transaction_value'], ascending=[True, False])\n",
    "    .groupby('City')\n",
    "    .head(5)\n",
    ")\n",
    "\n",
    "display(city_category_top.head(25))\n"
   ]
  },
  {
   "cell_type": "markdown",
   "id": "8de02e0d",
   "metadata": {},
   "source": [
    "### Promotion uplift modelling"
   ]
  },
  {
   "cell_type": "code",
   "execution_count": 24,
   "id": "46405a3f",
   "metadata": {},
   "outputs": [
    {
     "data": {
      "text/html": [
       "<div>\n",
       "<style scoped>\n",
       "    .dataframe tbody tr th:only-of-type {\n",
       "        vertical-align: middle;\n",
       "    }\n",
       "\n",
       "    .dataframe tbody tr th {\n",
       "        vertical-align: top;\n",
       "    }\n",
       "\n",
       "    .dataframe thead th {\n",
       "        text-align: right;\n",
       "    }\n",
       "</style>\n",
       "<table border=\"1\" class=\"dataframe\">\n",
       "  <thead>\n",
       "    <tr style=\"text-align: right;\">\n",
       "      <th></th>\n",
       "      <th>Transaction_ID</th>\n",
       "      <th>Transaction_value</th>\n",
       "      <th>Quantity_item</th>\n",
       "      <th>Promo_Flag</th>\n",
       "    </tr>\n",
       "  </thead>\n",
       "  <tbody>\n",
       "    <tr>\n",
       "      <th>0</th>\n",
       "      <td>TRX00076125</td>\n",
       "      <td>-112.93</td>\n",
       "      <td>-1</td>\n",
       "      <td>False</td>\n",
       "    </tr>\n",
       "    <tr>\n",
       "      <th>1</th>\n",
       "      <td>TRX0012136F</td>\n",
       "      <td>312.55</td>\n",
       "      <td>1</td>\n",
       "      <td>False</td>\n",
       "    </tr>\n",
       "    <tr>\n",
       "      <th>2</th>\n",
       "      <td>TRX001A3B1F</td>\n",
       "      <td>75.95</td>\n",
       "      <td>1</td>\n",
       "      <td>False</td>\n",
       "    </tr>\n",
       "    <tr>\n",
       "      <th>3</th>\n",
       "      <td>TRX001B4724</td>\n",
       "      <td>35.85</td>\n",
       "      <td>1</td>\n",
       "      <td>True</td>\n",
       "    </tr>\n",
       "    <tr>\n",
       "      <th>4</th>\n",
       "      <td>TRX00274501</td>\n",
       "      <td>-54.95</td>\n",
       "      <td>-1</td>\n",
       "      <td>False</td>\n",
       "    </tr>\n",
       "  </tbody>\n",
       "</table>\n",
       "</div>"
      ],
      "text/plain": [
       "  Transaction_ID  Transaction_value  Quantity_item  Promo_Flag\n",
       "0    TRX00076125            -112.93             -1       False\n",
       "1    TRX0012136F             312.55              1       False\n",
       "2    TRX001A3B1F              75.95              1       False\n",
       "3    TRX001B4724              35.85              1        True\n",
       "4    TRX00274501             -54.95             -1       False"
      ]
     },
     "execution_count": 24,
     "metadata": {},
     "output_type": "execute_result"
    }
   ],
   "source": [
    "# Aggregate line-level rows to transaction-level metrics (value, quantity, promo flag)\n",
    "transactions = prepare_transaction_level(sales_df)\n",
    "transactions.head()\n"
   ]
  },
  {
   "cell_type": "markdown",
   "id": "76082028",
   "metadata": {},
   "source": [
    "- `Promo_Flag` coefficient = estimated lift in order value when a promotion is active (holding the intercept constant).\n",
    "- `p_value` tells us if that lift is statistically significant (compare to 0.05)."
   ]
  },
  {
   "cell_type": "code",
   "execution_count": 25,
   "id": "2232e9f0",
   "metadata": {},
   "outputs": [
    {
     "data": {
      "text/html": [
       "<div>\n",
       "<style scoped>\n",
       "    .dataframe tbody tr th:only-of-type {\n",
       "        vertical-align: middle;\n",
       "    }\n",
       "\n",
       "    .dataframe tbody tr th {\n",
       "        vertical-align: top;\n",
       "    }\n",
       "\n",
       "    .dataframe thead th {\n",
       "        text-align: right;\n",
       "    }\n",
       "</style>\n",
       "<table border=\"1\" class=\"dataframe\">\n",
       "  <thead>\n",
       "    <tr style=\"text-align: right;\">\n",
       "      <th></th>\n",
       "      <th>term</th>\n",
       "      <th>coef</th>\n",
       "      <th>std_err</th>\n",
       "      <th>t</th>\n",
       "      <th>p_value</th>\n",
       "    </tr>\n",
       "  </thead>\n",
       "  <tbody>\n",
       "    <tr>\n",
       "      <th>0</th>\n",
       "      <td>Intercept</td>\n",
       "      <td>93.057325</td>\n",
       "      <td>1.003926</td>\n",
       "      <td>92.693387</td>\n",
       "      <td>0.000000e+00</td>\n",
       "    </tr>\n",
       "    <tr>\n",
       "      <th>1</th>\n",
       "      <td>Promo_Flag</td>\n",
       "      <td>-11.577848</td>\n",
       "      <td>1.667990</td>\n",
       "      <td>-6.941197</td>\n",
       "      <td>4.089395e-12</td>\n",
       "    </tr>\n",
       "  </tbody>\n",
       "</table>\n",
       "</div>"
      ],
      "text/plain": [
       "         term       coef   std_err          t       p_value\n",
       "0   Intercept  93.057325  1.003926  92.693387  0.000000e+00\n",
       "1  Promo_Flag -11.577848  1.667990  -6.941197  4.089395e-12"
      ]
     },
     "execution_count": 25,
     "metadata": {},
     "output_type": "execute_result"
    }
   ],
   "source": [
    "# Fit a simple OLS model: Transaction_value = beta0 + beta1 * Promo_Flag\n",
    "regression_results = run_promo_regression(transactions)\n",
    "regression_results\n"
   ]
  },
  {
   "cell_type": "code",
   "execution_count": 26,
   "id": "c1d8d857",
   "metadata": {},
   "outputs": [
    {
     "data": {
      "text/html": [
       "<div>\n",
       "<style scoped>\n",
       "    .dataframe tbody tr th:only-of-type {\n",
       "        vertical-align: middle;\n",
       "    }\n",
       "\n",
       "    .dataframe tbody tr th {\n",
       "        vertical-align: top;\n",
       "    }\n",
       "\n",
       "    .dataframe thead th {\n",
       "        text-align: right;\n",
       "    }\n",
       "</style>\n",
       "<table border=\"1\" class=\"dataframe\">\n",
       "  <thead>\n",
       "    <tr style=\"text-align: right;\">\n",
       "      <th></th>\n",
       "      <th>value</th>\n",
       "    </tr>\n",
       "  </thead>\n",
       "  <tbody>\n",
       "    <tr>\n",
       "      <th>promo_mean</th>\n",
       "      <td>8.147948e+01</td>\n",
       "    </tr>\n",
       "    <tr>\n",
       "      <th>nonpromo_mean</th>\n",
       "      <td>9.305732e+01</td>\n",
       "    </tr>\n",
       "    <tr>\n",
       "      <th>lift</th>\n",
       "      <td>-1.157785e+01</td>\n",
       "    </tr>\n",
       "    <tr>\n",
       "      <th>t_stat</th>\n",
       "      <td>-7.366818e+00</td>\n",
       "    </tr>\n",
       "    <tr>\n",
       "      <th>p_value</th>\n",
       "      <td>1.877408e-13</td>\n",
       "    </tr>\n",
       "  </tbody>\n",
       "</table>\n",
       "</div>"
      ],
      "text/plain": [
       "                      value\n",
       "promo_mean     8.147948e+01\n",
       "nonpromo_mean  9.305732e+01\n",
       "lift          -1.157785e+01\n",
       "t_stat        -7.366818e+00\n",
       "p_value        1.877408e-13"
      ]
     },
     "execution_count": 26,
     "metadata": {},
     "output_type": "execute_result"
    }
   ],
   "source": [
    "# Compare promo vs non-promo order values with a Welch's t-test\n",
    "ab_results = ab_test_promo(transactions)\n",
    "pd.Series(ab_results).to_frame('value')\n"
   ]
  },
  {
   "cell_type": "markdown",
   "id": "83632fe4",
   "metadata": {},
   "source": [
    "- `promo_mean` vs `nonpromo_mean`: average basket sizes for each group.\n",
    "- `lift` = promo_mean - nonpromo_mean (positive means promos drive larger orders).\n",
    "- `p_value`: < 0.05 indicates the lift is statistically significant."
   ]
  },
  {
   "cell_type": "markdown",
   "id": "6d654c40",
   "metadata": {},
   "source": [
    "## 6. Customer engagement"
   ]
  },
  {
   "cell_type": "code",
   "execution_count": 27,
   "id": "0989a8d4",
   "metadata": {},
   "outputs": [
    {
     "data": {
      "text/plain": [
       "Has_Web_Account\n",
       "N    0.931211\n",
       "Y    0.068789\n",
       "Name: count, dtype: float64"
      ]
     },
     "execution_count": 27,
     "metadata": {},
     "output_type": "execute_result"
    }
   ],
   "source": [
    "web_share = web_account_share(contact_df)\n",
    "web_share\n"
   ]
  },
  {
   "cell_type": "code",
   "execution_count": 28,
   "id": "d3d08671",
   "metadata": {},
   "outputs": [
    {
     "data": {
      "application/vnd.plotly.v1+json": {
       "config": {
        "plotlyServerURL": "https://plot.ly"
       },
       "data": [
        {
         "domain": {
          "x": [
           0,
           1
          ],
          "y": [
           0,
           1
          ]
         },
         "hovertemplate": "Has_Web_Account=%{label}<br>Share=%{value}<extra></extra>",
         "labels": [
          "N",
          "Y"
         ],
         "legendgroup": "",
         "name": "",
         "showlegend": true,
         "type": "pie",
         "values": [
          0.9312114989733059,
          0.06878850102669405
         ]
        }
       ],
       "layout": {
        "legend": {
         "tracegroupgap": 0
        },
        "template": {
         "data": {
          "bar": [
           {
            "error_x": {
             "color": "#2a3f5f"
            },
            "error_y": {
             "color": "#2a3f5f"
            },
            "marker": {
             "line": {
              "color": "#E5ECF6",
              "width": 0.5
             },
             "pattern": {
              "fillmode": "overlay",
              "size": 10,
              "solidity": 0.2
             }
            },
            "type": "bar"
           }
          ],
          "barpolar": [
           {
            "marker": {
             "line": {
              "color": "#E5ECF6",
              "width": 0.5
             },
             "pattern": {
              "fillmode": "overlay",
              "size": 10,
              "solidity": 0.2
             }
            },
            "type": "barpolar"
           }
          ],
          "carpet": [
           {
            "aaxis": {
             "endlinecolor": "#2a3f5f",
             "gridcolor": "white",
             "linecolor": "white",
             "minorgridcolor": "white",
             "startlinecolor": "#2a3f5f"
            },
            "baxis": {
             "endlinecolor": "#2a3f5f",
             "gridcolor": "white",
             "linecolor": "white",
             "minorgridcolor": "white",
             "startlinecolor": "#2a3f5f"
            },
            "type": "carpet"
           }
          ],
          "choropleth": [
           {
            "colorbar": {
             "outlinewidth": 0,
             "ticks": ""
            },
            "type": "choropleth"
           }
          ],
          "contour": [
           {
            "colorbar": {
             "outlinewidth": 0,
             "ticks": ""
            },
            "colorscale": [
             [
              0,
              "#0d0887"
             ],
             [
              0.1111111111111111,
              "#46039f"
             ],
             [
              0.2222222222222222,
              "#7201a8"
             ],
             [
              0.3333333333333333,
              "#9c179e"
             ],
             [
              0.4444444444444444,
              "#bd3786"
             ],
             [
              0.5555555555555556,
              "#d8576b"
             ],
             [
              0.6666666666666666,
              "#ed7953"
             ],
             [
              0.7777777777777778,
              "#fb9f3a"
             ],
             [
              0.8888888888888888,
              "#fdca26"
             ],
             [
              1,
              "#f0f921"
             ]
            ],
            "type": "contour"
           }
          ],
          "contourcarpet": [
           {
            "colorbar": {
             "outlinewidth": 0,
             "ticks": ""
            },
            "type": "contourcarpet"
           }
          ],
          "heatmap": [
           {
            "colorbar": {
             "outlinewidth": 0,
             "ticks": ""
            },
            "colorscale": [
             [
              0,
              "#0d0887"
             ],
             [
              0.1111111111111111,
              "#46039f"
             ],
             [
              0.2222222222222222,
              "#7201a8"
             ],
             [
              0.3333333333333333,
              "#9c179e"
             ],
             [
              0.4444444444444444,
              "#bd3786"
             ],
             [
              0.5555555555555556,
              "#d8576b"
             ],
             [
              0.6666666666666666,
              "#ed7953"
             ],
             [
              0.7777777777777778,
              "#fb9f3a"
             ],
             [
              0.8888888888888888,
              "#fdca26"
             ],
             [
              1,
              "#f0f921"
             ]
            ],
            "type": "heatmap"
           }
          ],
          "heatmapgl": [
           {
            "colorbar": {
             "outlinewidth": 0,
             "ticks": ""
            },
            "colorscale": [
             [
              0,
              "#0d0887"
             ],
             [
              0.1111111111111111,
              "#46039f"
             ],
             [
              0.2222222222222222,
              "#7201a8"
             ],
             [
              0.3333333333333333,
              "#9c179e"
             ],
             [
              0.4444444444444444,
              "#bd3786"
             ],
             [
              0.5555555555555556,
              "#d8576b"
             ],
             [
              0.6666666666666666,
              "#ed7953"
             ],
             [
              0.7777777777777778,
              "#fb9f3a"
             ],
             [
              0.8888888888888888,
              "#fdca26"
             ],
             [
              1,
              "#f0f921"
             ]
            ],
            "type": "heatmapgl"
           }
          ],
          "histogram": [
           {
            "marker": {
             "pattern": {
              "fillmode": "overlay",
              "size": 10,
              "solidity": 0.2
             }
            },
            "type": "histogram"
           }
          ],
          "histogram2d": [
           {
            "colorbar": {
             "outlinewidth": 0,
             "ticks": ""
            },
            "colorscale": [
             [
              0,
              "#0d0887"
             ],
             [
              0.1111111111111111,
              "#46039f"
             ],
             [
              0.2222222222222222,
              "#7201a8"
             ],
             [
              0.3333333333333333,
              "#9c179e"
             ],
             [
              0.4444444444444444,
              "#bd3786"
             ],
             [
              0.5555555555555556,
              "#d8576b"
             ],
             [
              0.6666666666666666,
              "#ed7953"
             ],
             [
              0.7777777777777778,
              "#fb9f3a"
             ],
             [
              0.8888888888888888,
              "#fdca26"
             ],
             [
              1,
              "#f0f921"
             ]
            ],
            "type": "histogram2d"
           }
          ],
          "histogram2dcontour": [
           {
            "colorbar": {
             "outlinewidth": 0,
             "ticks": ""
            },
            "colorscale": [
             [
              0,
              "#0d0887"
             ],
             [
              0.1111111111111111,
              "#46039f"
             ],
             [
              0.2222222222222222,
              "#7201a8"
             ],
             [
              0.3333333333333333,
              "#9c179e"
             ],
             [
              0.4444444444444444,
              "#bd3786"
             ],
             [
              0.5555555555555556,
              "#d8576b"
             ],
             [
              0.6666666666666666,
              "#ed7953"
             ],
             [
              0.7777777777777778,
              "#fb9f3a"
             ],
             [
              0.8888888888888888,
              "#fdca26"
             ],
             [
              1,
              "#f0f921"
             ]
            ],
            "type": "histogram2dcontour"
           }
          ],
          "mesh3d": [
           {
            "colorbar": {
             "outlinewidth": 0,
             "ticks": ""
            },
            "type": "mesh3d"
           }
          ],
          "parcoords": [
           {
            "line": {
             "colorbar": {
              "outlinewidth": 0,
              "ticks": ""
             }
            },
            "type": "parcoords"
           }
          ],
          "pie": [
           {
            "automargin": true,
            "type": "pie"
           }
          ],
          "scatter": [
           {
            "fillpattern": {
             "fillmode": "overlay",
             "size": 10,
             "solidity": 0.2
            },
            "type": "scatter"
           }
          ],
          "scatter3d": [
           {
            "line": {
             "colorbar": {
              "outlinewidth": 0,
              "ticks": ""
             }
            },
            "marker": {
             "colorbar": {
              "outlinewidth": 0,
              "ticks": ""
             }
            },
            "type": "scatter3d"
           }
          ],
          "scattercarpet": [
           {
            "marker": {
             "colorbar": {
              "outlinewidth": 0,
              "ticks": ""
             }
            },
            "type": "scattercarpet"
           }
          ],
          "scattergeo": [
           {
            "marker": {
             "colorbar": {
              "outlinewidth": 0,
              "ticks": ""
             }
            },
            "type": "scattergeo"
           }
          ],
          "scattergl": [
           {
            "marker": {
             "colorbar": {
              "outlinewidth": 0,
              "ticks": ""
             }
            },
            "type": "scattergl"
           }
          ],
          "scattermapbox": [
           {
            "marker": {
             "colorbar": {
              "outlinewidth": 0,
              "ticks": ""
             }
            },
            "type": "scattermapbox"
           }
          ],
          "scatterpolar": [
           {
            "marker": {
             "colorbar": {
              "outlinewidth": 0,
              "ticks": ""
             }
            },
            "type": "scatterpolar"
           }
          ],
          "scatterpolargl": [
           {
            "marker": {
             "colorbar": {
              "outlinewidth": 0,
              "ticks": ""
             }
            },
            "type": "scatterpolargl"
           }
          ],
          "scatterternary": [
           {
            "marker": {
             "colorbar": {
              "outlinewidth": 0,
              "ticks": ""
             }
            },
            "type": "scatterternary"
           }
          ],
          "surface": [
           {
            "colorbar": {
             "outlinewidth": 0,
             "ticks": ""
            },
            "colorscale": [
             [
              0,
              "#0d0887"
             ],
             [
              0.1111111111111111,
              "#46039f"
             ],
             [
              0.2222222222222222,
              "#7201a8"
             ],
             [
              0.3333333333333333,
              "#9c179e"
             ],
             [
              0.4444444444444444,
              "#bd3786"
             ],
             [
              0.5555555555555556,
              "#d8576b"
             ],
             [
              0.6666666666666666,
              "#ed7953"
             ],
             [
              0.7777777777777778,
              "#fb9f3a"
             ],
             [
              0.8888888888888888,
              "#fdca26"
             ],
             [
              1,
              "#f0f921"
             ]
            ],
            "type": "surface"
           }
          ],
          "table": [
           {
            "cells": {
             "fill": {
              "color": "#EBF0F8"
             },
             "line": {
              "color": "white"
             }
            },
            "header": {
             "fill": {
              "color": "#C8D4E3"
             },
             "line": {
              "color": "white"
             }
            },
            "type": "table"
           }
          ]
         },
         "layout": {
          "annotationdefaults": {
           "arrowcolor": "#2a3f5f",
           "arrowhead": 0,
           "arrowwidth": 1
          },
          "autotypenumbers": "strict",
          "coloraxis": {
           "colorbar": {
            "outlinewidth": 0,
            "ticks": ""
           }
          },
          "colorscale": {
           "diverging": [
            [
             0,
             "#8e0152"
            ],
            [
             0.1,
             "#c51b7d"
            ],
            [
             0.2,
             "#de77ae"
            ],
            [
             0.3,
             "#f1b6da"
            ],
            [
             0.4,
             "#fde0ef"
            ],
            [
             0.5,
             "#f7f7f7"
            ],
            [
             0.6,
             "#e6f5d0"
            ],
            [
             0.7,
             "#b8e186"
            ],
            [
             0.8,
             "#7fbc41"
            ],
            [
             0.9,
             "#4d9221"
            ],
            [
             1,
             "#276419"
            ]
           ],
           "sequential": [
            [
             0,
             "#0d0887"
            ],
            [
             0.1111111111111111,
             "#46039f"
            ],
            [
             0.2222222222222222,
             "#7201a8"
            ],
            [
             0.3333333333333333,
             "#9c179e"
            ],
            [
             0.4444444444444444,
             "#bd3786"
            ],
            [
             0.5555555555555556,
             "#d8576b"
            ],
            [
             0.6666666666666666,
             "#ed7953"
            ],
            [
             0.7777777777777778,
             "#fb9f3a"
            ],
            [
             0.8888888888888888,
             "#fdca26"
            ],
            [
             1,
             "#f0f921"
            ]
           ],
           "sequentialminus": [
            [
             0,
             "#0d0887"
            ],
            [
             0.1111111111111111,
             "#46039f"
            ],
            [
             0.2222222222222222,
             "#7201a8"
            ],
            [
             0.3333333333333333,
             "#9c179e"
            ],
            [
             0.4444444444444444,
             "#bd3786"
            ],
            [
             0.5555555555555556,
             "#d8576b"
            ],
            [
             0.6666666666666666,
             "#ed7953"
            ],
            [
             0.7777777777777778,
             "#fb9f3a"
            ],
            [
             0.8888888888888888,
             "#fdca26"
            ],
            [
             1,
             "#f0f921"
            ]
           ]
          },
          "colorway": [
           "#636efa",
           "#EF553B",
           "#00cc96",
           "#ab63fa",
           "#FFA15A",
           "#19d3f3",
           "#FF6692",
           "#B6E880",
           "#FF97FF",
           "#FECB52"
          ],
          "font": {
           "color": "#2a3f5f"
          },
          "geo": {
           "bgcolor": "white",
           "lakecolor": "white",
           "landcolor": "#E5ECF6",
           "showlakes": true,
           "showland": true,
           "subunitcolor": "white"
          },
          "hoverlabel": {
           "align": "left"
          },
          "hovermode": "closest",
          "mapbox": {
           "style": "light"
          },
          "paper_bgcolor": "white",
          "plot_bgcolor": "#E5ECF6",
          "polar": {
           "angularaxis": {
            "gridcolor": "white",
            "linecolor": "white",
            "ticks": ""
           },
           "bgcolor": "#E5ECF6",
           "radialaxis": {
            "gridcolor": "white",
            "linecolor": "white",
            "ticks": ""
           }
          },
          "scene": {
           "xaxis": {
            "backgroundcolor": "#E5ECF6",
            "gridcolor": "white",
            "gridwidth": 2,
            "linecolor": "white",
            "showbackground": true,
            "ticks": "",
            "zerolinecolor": "white"
           },
           "yaxis": {
            "backgroundcolor": "#E5ECF6",
            "gridcolor": "white",
            "gridwidth": 2,
            "linecolor": "white",
            "showbackground": true,
            "ticks": "",
            "zerolinecolor": "white"
           },
           "zaxis": {
            "backgroundcolor": "#E5ECF6",
            "gridcolor": "white",
            "gridwidth": 2,
            "linecolor": "white",
            "showbackground": true,
            "ticks": "",
            "zerolinecolor": "white"
           }
          },
          "shapedefaults": {
           "line": {
            "color": "#2a3f5f"
           }
          },
          "ternary": {
           "aaxis": {
            "gridcolor": "white",
            "linecolor": "white",
            "ticks": ""
           },
           "baxis": {
            "gridcolor": "white",
            "linecolor": "white",
            "ticks": ""
           },
           "bgcolor": "#E5ECF6",
           "caxis": {
            "gridcolor": "white",
            "linecolor": "white",
            "ticks": ""
           }
          },
          "title": {
           "x": 0.05
          },
          "xaxis": {
           "automargin": true,
           "gridcolor": "white",
           "linecolor": "white",
           "ticks": "",
           "title": {
            "standoff": 15
           },
           "zerolinecolor": "white",
           "zerolinewidth": 2
          },
          "yaxis": {
           "automargin": true,
           "gridcolor": "white",
           "linecolor": "white",
           "ticks": "",
           "title": {
            "standoff": 15
           },
           "zerolinecolor": "white",
           "zerolinewidth": 2
          }
         }
        },
        "title": {
         "text": "Web Account Adoption"
        }
       }
      }
     },
     "metadata": {},
     "output_type": "display_data"
    }
   ],
   "source": [
    "web_share = web_account_share(contact_df)\n",
    "web_share_df = web_share.rename_axis('Has_Web_Account').reset_index(name='Share')\n",
    "fig_web = px.pie(web_share_df, names='Has_Web_Account', values='Share', title='Web Account Adoption')\n",
    "fig_web"
   ]
  },
  {
   "cell_type": "markdown",
   "id": "e2bbc6bd",
   "metadata": {},
   "source": [
    "Fewer than 5% of contacts maintain web credentials — a major opportunity for loyalty sign-ups and digital marketing conversion."
   ]
  },
  {
   "cell_type": "markdown",
   "id": "2fdbbee0",
   "metadata": {},
   "source": [
    "## 7. Network expansion"
   ]
  },
  {
   "cell_type": "code",
   "execution_count": 29,
   "id": "3abb7249",
   "metadata": {},
   "outputs": [
    {
     "data": {
      "text/html": [
       "<div>\n",
       "<style scoped>\n",
       "    .dataframe tbody tr th:only-of-type {\n",
       "        vertical-align: middle;\n",
       "    }\n",
       "\n",
       "    .dataframe tbody tr th {\n",
       "        vertical-align: top;\n",
       "    }\n",
       "\n",
       "    .dataframe thead th {\n",
       "        text-align: right;\n",
       "    }\n",
       "</style>\n",
       "<table border=\"1\" class=\"dataframe\">\n",
       "  <thead>\n",
       "    <tr style=\"text-align: right;\">\n",
       "      <th></th>\n",
       "      <th>Year</th>\n",
       "      <th>Openings</th>\n",
       "    </tr>\n",
       "  </thead>\n",
       "  <tbody>\n",
       "    <tr>\n",
       "      <th>19</th>\n",
       "      <td>2020</td>\n",
       "      <td>2</td>\n",
       "    </tr>\n",
       "    <tr>\n",
       "      <th>20</th>\n",
       "      <td>2022</td>\n",
       "      <td>4</td>\n",
       "    </tr>\n",
       "    <tr>\n",
       "      <th>21</th>\n",
       "      <td>2023</td>\n",
       "      <td>1</td>\n",
       "    </tr>\n",
       "    <tr>\n",
       "      <th>22</th>\n",
       "      <td>2024</td>\n",
       "      <td>2</td>\n",
       "    </tr>\n",
       "    <tr>\n",
       "      <th>23</th>\n",
       "      <td>2025</td>\n",
       "      <td>1</td>\n",
       "    </tr>\n",
       "  </tbody>\n",
       "</table>\n",
       "</div>"
      ],
      "text/plain": [
       "    Year  Openings\n",
       "19  2020         2\n",
       "20  2022         4\n",
       "21  2023         1\n",
       "22  2024         2\n",
       "23  2025         1"
      ]
     },
     "execution_count": 29,
     "metadata": {},
     "output_type": "execute_result"
    }
   ],
   "source": [
    "opening_trend = store_opening_trend(store_df)\n",
    "opening_trend.tail()\n"
   ]
  },
  {
   "cell_type": "code",
   "execution_count": 30,
   "id": "dafd05d8",
   "metadata": {},
   "outputs": [
    {
     "data": {
      "application/vnd.plotly.v1+json": {
       "config": {
        "plotlyServerURL": "https://plot.ly"
       },
       "data": [
        {
         "alignmentgroup": "True",
         "hovertemplate": "Year=%{x}<br>Openings=%{y}<extra></extra>",
         "legendgroup": "",
         "marker": {
          "color": "#636efa",
          "pattern": {
           "shape": ""
          }
         },
         "name": "",
         "offsetgroup": "",
         "orientation": "v",
         "showlegend": false,
         "textposition": "auto",
         "type": "bar",
         "x": [
          1996,
          2000,
          2001,
          2002,
          2003,
          2004,
          2005,
          2006,
          2007,
          2008,
          2009,
          2011,
          2012,
          2013,
          2014,
          2015,
          2016,
          2018,
          2019,
          2020,
          2022,
          2023,
          2024,
          2025
         ],
         "xaxis": "x",
         "y": [
          11,
          4,
          3,
          2,
          8,
          12,
          7,
          6,
          9,
          5,
          3,
          7,
          8,
          3,
          2,
          1,
          5,
          2,
          1,
          2,
          4,
          1,
          2,
          1
         ],
         "yaxis": "y"
        }
       ],
       "layout": {
        "barmode": "relative",
        "legend": {
         "tracegroupgap": 0
        },
        "template": {
         "data": {
          "bar": [
           {
            "error_x": {
             "color": "#2a3f5f"
            },
            "error_y": {
             "color": "#2a3f5f"
            },
            "marker": {
             "line": {
              "color": "#E5ECF6",
              "width": 0.5
             },
             "pattern": {
              "fillmode": "overlay",
              "size": 10,
              "solidity": 0.2
             }
            },
            "type": "bar"
           }
          ],
          "barpolar": [
           {
            "marker": {
             "line": {
              "color": "#E5ECF6",
              "width": 0.5
             },
             "pattern": {
              "fillmode": "overlay",
              "size": 10,
              "solidity": 0.2
             }
            },
            "type": "barpolar"
           }
          ],
          "carpet": [
           {
            "aaxis": {
             "endlinecolor": "#2a3f5f",
             "gridcolor": "white",
             "linecolor": "white",
             "minorgridcolor": "white",
             "startlinecolor": "#2a3f5f"
            },
            "baxis": {
             "endlinecolor": "#2a3f5f",
             "gridcolor": "white",
             "linecolor": "white",
             "minorgridcolor": "white",
             "startlinecolor": "#2a3f5f"
            },
            "type": "carpet"
           }
          ],
          "choropleth": [
           {
            "colorbar": {
             "outlinewidth": 0,
             "ticks": ""
            },
            "type": "choropleth"
           }
          ],
          "contour": [
           {
            "colorbar": {
             "outlinewidth": 0,
             "ticks": ""
            },
            "colorscale": [
             [
              0,
              "#0d0887"
             ],
             [
              0.1111111111111111,
              "#46039f"
             ],
             [
              0.2222222222222222,
              "#7201a8"
             ],
             [
              0.3333333333333333,
              "#9c179e"
             ],
             [
              0.4444444444444444,
              "#bd3786"
             ],
             [
              0.5555555555555556,
              "#d8576b"
             ],
             [
              0.6666666666666666,
              "#ed7953"
             ],
             [
              0.7777777777777778,
              "#fb9f3a"
             ],
             [
              0.8888888888888888,
              "#fdca26"
             ],
             [
              1,
              "#f0f921"
             ]
            ],
            "type": "contour"
           }
          ],
          "contourcarpet": [
           {
            "colorbar": {
             "outlinewidth": 0,
             "ticks": ""
            },
            "type": "contourcarpet"
           }
          ],
          "heatmap": [
           {
            "colorbar": {
             "outlinewidth": 0,
             "ticks": ""
            },
            "colorscale": [
             [
              0,
              "#0d0887"
             ],
             [
              0.1111111111111111,
              "#46039f"
             ],
             [
              0.2222222222222222,
              "#7201a8"
             ],
             [
              0.3333333333333333,
              "#9c179e"
             ],
             [
              0.4444444444444444,
              "#bd3786"
             ],
             [
              0.5555555555555556,
              "#d8576b"
             ],
             [
              0.6666666666666666,
              "#ed7953"
             ],
             [
              0.7777777777777778,
              "#fb9f3a"
             ],
             [
              0.8888888888888888,
              "#fdca26"
             ],
             [
              1,
              "#f0f921"
             ]
            ],
            "type": "heatmap"
           }
          ],
          "heatmapgl": [
           {
            "colorbar": {
             "outlinewidth": 0,
             "ticks": ""
            },
            "colorscale": [
             [
              0,
              "#0d0887"
             ],
             [
              0.1111111111111111,
              "#46039f"
             ],
             [
              0.2222222222222222,
              "#7201a8"
             ],
             [
              0.3333333333333333,
              "#9c179e"
             ],
             [
              0.4444444444444444,
              "#bd3786"
             ],
             [
              0.5555555555555556,
              "#d8576b"
             ],
             [
              0.6666666666666666,
              "#ed7953"
             ],
             [
              0.7777777777777778,
              "#fb9f3a"
             ],
             [
              0.8888888888888888,
              "#fdca26"
             ],
             [
              1,
              "#f0f921"
             ]
            ],
            "type": "heatmapgl"
           }
          ],
          "histogram": [
           {
            "marker": {
             "pattern": {
              "fillmode": "overlay",
              "size": 10,
              "solidity": 0.2
             }
            },
            "type": "histogram"
           }
          ],
          "histogram2d": [
           {
            "colorbar": {
             "outlinewidth": 0,
             "ticks": ""
            },
            "colorscale": [
             [
              0,
              "#0d0887"
             ],
             [
              0.1111111111111111,
              "#46039f"
             ],
             [
              0.2222222222222222,
              "#7201a8"
             ],
             [
              0.3333333333333333,
              "#9c179e"
             ],
             [
              0.4444444444444444,
              "#bd3786"
             ],
             [
              0.5555555555555556,
              "#d8576b"
             ],
             [
              0.6666666666666666,
              "#ed7953"
             ],
             [
              0.7777777777777778,
              "#fb9f3a"
             ],
             [
              0.8888888888888888,
              "#fdca26"
             ],
             [
              1,
              "#f0f921"
             ]
            ],
            "type": "histogram2d"
           }
          ],
          "histogram2dcontour": [
           {
            "colorbar": {
             "outlinewidth": 0,
             "ticks": ""
            },
            "colorscale": [
             [
              0,
              "#0d0887"
             ],
             [
              0.1111111111111111,
              "#46039f"
             ],
             [
              0.2222222222222222,
              "#7201a8"
             ],
             [
              0.3333333333333333,
              "#9c179e"
             ],
             [
              0.4444444444444444,
              "#bd3786"
             ],
             [
              0.5555555555555556,
              "#d8576b"
             ],
             [
              0.6666666666666666,
              "#ed7953"
             ],
             [
              0.7777777777777778,
              "#fb9f3a"
             ],
             [
              0.8888888888888888,
              "#fdca26"
             ],
             [
              1,
              "#f0f921"
             ]
            ],
            "type": "histogram2dcontour"
           }
          ],
          "mesh3d": [
           {
            "colorbar": {
             "outlinewidth": 0,
             "ticks": ""
            },
            "type": "mesh3d"
           }
          ],
          "parcoords": [
           {
            "line": {
             "colorbar": {
              "outlinewidth": 0,
              "ticks": ""
             }
            },
            "type": "parcoords"
           }
          ],
          "pie": [
           {
            "automargin": true,
            "type": "pie"
           }
          ],
          "scatter": [
           {
            "fillpattern": {
             "fillmode": "overlay",
             "size": 10,
             "solidity": 0.2
            },
            "type": "scatter"
           }
          ],
          "scatter3d": [
           {
            "line": {
             "colorbar": {
              "outlinewidth": 0,
              "ticks": ""
             }
            },
            "marker": {
             "colorbar": {
              "outlinewidth": 0,
              "ticks": ""
             }
            },
            "type": "scatter3d"
           }
          ],
          "scattercarpet": [
           {
            "marker": {
             "colorbar": {
              "outlinewidth": 0,
              "ticks": ""
             }
            },
            "type": "scattercarpet"
           }
          ],
          "scattergeo": [
           {
            "marker": {
             "colorbar": {
              "outlinewidth": 0,
              "ticks": ""
             }
            },
            "type": "scattergeo"
           }
          ],
          "scattergl": [
           {
            "marker": {
             "colorbar": {
              "outlinewidth": 0,
              "ticks": ""
             }
            },
            "type": "scattergl"
           }
          ],
          "scattermapbox": [
           {
            "marker": {
             "colorbar": {
              "outlinewidth": 0,
              "ticks": ""
             }
            },
            "type": "scattermapbox"
           }
          ],
          "scatterpolar": [
           {
            "marker": {
             "colorbar": {
              "outlinewidth": 0,
              "ticks": ""
             }
            },
            "type": "scatterpolar"
           }
          ],
          "scatterpolargl": [
           {
            "marker": {
             "colorbar": {
              "outlinewidth": 0,
              "ticks": ""
             }
            },
            "type": "scatterpolargl"
           }
          ],
          "scatterternary": [
           {
            "marker": {
             "colorbar": {
              "outlinewidth": 0,
              "ticks": ""
             }
            },
            "type": "scatterternary"
           }
          ],
          "surface": [
           {
            "colorbar": {
             "outlinewidth": 0,
             "ticks": ""
            },
            "colorscale": [
             [
              0,
              "#0d0887"
             ],
             [
              0.1111111111111111,
              "#46039f"
             ],
             [
              0.2222222222222222,
              "#7201a8"
             ],
             [
              0.3333333333333333,
              "#9c179e"
             ],
             [
              0.4444444444444444,
              "#bd3786"
             ],
             [
              0.5555555555555556,
              "#d8576b"
             ],
             [
              0.6666666666666666,
              "#ed7953"
             ],
             [
              0.7777777777777778,
              "#fb9f3a"
             ],
             [
              0.8888888888888888,
              "#fdca26"
             ],
             [
              1,
              "#f0f921"
             ]
            ],
            "type": "surface"
           }
          ],
          "table": [
           {
            "cells": {
             "fill": {
              "color": "#EBF0F8"
             },
             "line": {
              "color": "white"
             }
            },
            "header": {
             "fill": {
              "color": "#C8D4E3"
             },
             "line": {
              "color": "white"
             }
            },
            "type": "table"
           }
          ]
         },
         "layout": {
          "annotationdefaults": {
           "arrowcolor": "#2a3f5f",
           "arrowhead": 0,
           "arrowwidth": 1
          },
          "autotypenumbers": "strict",
          "coloraxis": {
           "colorbar": {
            "outlinewidth": 0,
            "ticks": ""
           }
          },
          "colorscale": {
           "diverging": [
            [
             0,
             "#8e0152"
            ],
            [
             0.1,
             "#c51b7d"
            ],
            [
             0.2,
             "#de77ae"
            ],
            [
             0.3,
             "#f1b6da"
            ],
            [
             0.4,
             "#fde0ef"
            ],
            [
             0.5,
             "#f7f7f7"
            ],
            [
             0.6,
             "#e6f5d0"
            ],
            [
             0.7,
             "#b8e186"
            ],
            [
             0.8,
             "#7fbc41"
            ],
            [
             0.9,
             "#4d9221"
            ],
            [
             1,
             "#276419"
            ]
           ],
           "sequential": [
            [
             0,
             "#0d0887"
            ],
            [
             0.1111111111111111,
             "#46039f"
            ],
            [
             0.2222222222222222,
             "#7201a8"
            ],
            [
             0.3333333333333333,
             "#9c179e"
            ],
            [
             0.4444444444444444,
             "#bd3786"
            ],
            [
             0.5555555555555556,
             "#d8576b"
            ],
            [
             0.6666666666666666,
             "#ed7953"
            ],
            [
             0.7777777777777778,
             "#fb9f3a"
            ],
            [
             0.8888888888888888,
             "#fdca26"
            ],
            [
             1,
             "#f0f921"
            ]
           ],
           "sequentialminus": [
            [
             0,
             "#0d0887"
            ],
            [
             0.1111111111111111,
             "#46039f"
            ],
            [
             0.2222222222222222,
             "#7201a8"
            ],
            [
             0.3333333333333333,
             "#9c179e"
            ],
            [
             0.4444444444444444,
             "#bd3786"
            ],
            [
             0.5555555555555556,
             "#d8576b"
            ],
            [
             0.6666666666666666,
             "#ed7953"
            ],
            [
             0.7777777777777778,
             "#fb9f3a"
            ],
            [
             0.8888888888888888,
             "#fdca26"
            ],
            [
             1,
             "#f0f921"
            ]
           ]
          },
          "colorway": [
           "#636efa",
           "#EF553B",
           "#00cc96",
           "#ab63fa",
           "#FFA15A",
           "#19d3f3",
           "#FF6692",
           "#B6E880",
           "#FF97FF",
           "#FECB52"
          ],
          "font": {
           "color": "#2a3f5f"
          },
          "geo": {
           "bgcolor": "white",
           "lakecolor": "white",
           "landcolor": "#E5ECF6",
           "showlakes": true,
           "showland": true,
           "subunitcolor": "white"
          },
          "hoverlabel": {
           "align": "left"
          },
          "hovermode": "closest",
          "mapbox": {
           "style": "light"
          },
          "paper_bgcolor": "white",
          "plot_bgcolor": "#E5ECF6",
          "polar": {
           "angularaxis": {
            "gridcolor": "white",
            "linecolor": "white",
            "ticks": ""
           },
           "bgcolor": "#E5ECF6",
           "radialaxis": {
            "gridcolor": "white",
            "linecolor": "white",
            "ticks": ""
           }
          },
          "scene": {
           "xaxis": {
            "backgroundcolor": "#E5ECF6",
            "gridcolor": "white",
            "gridwidth": 2,
            "linecolor": "white",
            "showbackground": true,
            "ticks": "",
            "zerolinecolor": "white"
           },
           "yaxis": {
            "backgroundcolor": "#E5ECF6",
            "gridcolor": "white",
            "gridwidth": 2,
            "linecolor": "white",
            "showbackground": true,
            "ticks": "",
            "zerolinecolor": "white"
           },
           "zaxis": {
            "backgroundcolor": "#E5ECF6",
            "gridcolor": "white",
            "gridwidth": 2,
            "linecolor": "white",
            "showbackground": true,
            "ticks": "",
            "zerolinecolor": "white"
           }
          },
          "shapedefaults": {
           "line": {
            "color": "#2a3f5f"
           }
          },
          "ternary": {
           "aaxis": {
            "gridcolor": "white",
            "linecolor": "white",
            "ticks": ""
           },
           "baxis": {
            "gridcolor": "white",
            "linecolor": "white",
            "ticks": ""
           },
           "bgcolor": "#E5ECF6",
           "caxis": {
            "gridcolor": "white",
            "linecolor": "white",
            "ticks": ""
           }
          },
          "title": {
           "x": 0.05
          },
          "xaxis": {
           "automargin": true,
           "gridcolor": "white",
           "linecolor": "white",
           "ticks": "",
           "title": {
            "standoff": 15
           },
           "zerolinecolor": "white",
           "zerolinewidth": 2
          },
          "yaxis": {
           "automargin": true,
           "gridcolor": "white",
           "linecolor": "white",
           "ticks": "",
           "title": {
            "standoff": 15
           },
           "zerolinecolor": "white",
           "zerolinewidth": 2
          }
         }
        },
        "title": {
         "text": "Store Openings by Year"
        },
        "xaxis": {
         "anchor": "y",
         "domain": [
          0,
          1
         ],
         "title": {
          "text": "Year"
         }
        },
        "yaxis": {
         "anchor": "x",
         "domain": [
          0,
          1
         ],
         "title": {
          "text": "Openings"
         }
        }
       }
      }
     },
     "metadata": {},
     "output_type": "display_data"
    }
   ],
   "source": [
    "fig_openings = px.bar(opening_trend, x='Year', y='Openings', title='Store Openings by Year')\n",
    "fig_openings\n"
   ]
  },
  {
   "cell_type": "markdown",
   "id": "0f8b40c9",
   "metadata": {},
   "source": [
    "Recent openings skew toward 2023–2024, aligning with the higher revenue lifts observed in newer Alberta markets."
   ]
  },
  {
   "cell_type": "markdown",
   "id": "f4d68f95",
   "metadata": {},
   "source": [
    "## 10. Customer value (RFM analysis)\n"
   ]
  },
  {
   "cell_type": "code",
   "execution_count": 31,
   "id": "92a1d886",
   "metadata": {},
   "outputs": [
    {
     "data": {
      "text/html": [
       "<div>\n",
       "<style scoped>\n",
       "    .dataframe tbody tr th:only-of-type {\n",
       "        vertical-align: middle;\n",
       "    }\n",
       "\n",
       "    .dataframe tbody tr th {\n",
       "        vertical-align: top;\n",
       "    }\n",
       "\n",
       "    .dataframe thead th {\n",
       "        text-align: right;\n",
       "    }\n",
       "</style>\n",
       "<table border=\"1\" class=\"dataframe\">\n",
       "  <thead>\n",
       "    <tr style=\"text-align: right;\">\n",
       "      <th></th>\n",
       "      <th>Contact_ID</th>\n",
       "      <th>Recency</th>\n",
       "      <th>Frequency</th>\n",
       "      <th>Monetary</th>\n",
       "      <th>Last_purchase</th>\n",
       "    </tr>\n",
       "  </thead>\n",
       "  <tbody>\n",
       "    <tr>\n",
       "      <th>0</th>\n",
       "      <td></td>\n",
       "      <td>0</td>\n",
       "      <td>9444</td>\n",
       "      <td>191768.36</td>\n",
       "      <td>2023-12-31</td>\n",
       "    </tr>\n",
       "    <tr>\n",
       "      <th>1</th>\n",
       "      <td>CUST0019396E</td>\n",
       "      <td>291</td>\n",
       "      <td>1</td>\n",
       "      <td>5.16</td>\n",
       "      <td>2023-03-15</td>\n",
       "    </tr>\n",
       "    <tr>\n",
       "      <th>2</th>\n",
       "      <td>CUST00242E6F</td>\n",
       "      <td>79</td>\n",
       "      <td>1</td>\n",
       "      <td>7.19</td>\n",
       "      <td>2023-10-13</td>\n",
       "    </tr>\n",
       "    <tr>\n",
       "      <th>3</th>\n",
       "      <td>CUST0037A6B7</td>\n",
       "      <td>276</td>\n",
       "      <td>1</td>\n",
       "      <td>12.49</td>\n",
       "      <td>2023-03-30</td>\n",
       "    </tr>\n",
       "    <tr>\n",
       "      <th>4</th>\n",
       "      <td>CUST00601607</td>\n",
       "      <td>245</td>\n",
       "      <td>1</td>\n",
       "      <td>40.00</td>\n",
       "      <td>2023-04-30</td>\n",
       "    </tr>\n",
       "  </tbody>\n",
       "</table>\n",
       "</div>"
      ],
      "text/plain": [
       "     Contact_ID  Recency  Frequency   Monetary Last_purchase\n",
       "0                      0       9444  191768.36    2023-12-31\n",
       "1  CUST0019396E      291          1       5.16    2023-03-15\n",
       "2  CUST00242E6F       79          1       7.19    2023-10-13\n",
       "3  CUST0037A6B7      276          1      12.49    2023-03-30\n",
       "4  CUST00601607      245          1      40.00    2023-04-30"
      ]
     },
     "metadata": {},
     "output_type": "display_data"
    }
   ],
   "source": [
    "from IPython.display import display\n",
    "\n",
    "rfm_reference_date = sales_df['Date_transaction'].max()\n",
    "\n",
    "rfm_transactions = (\n",
    "    sales_df.groupby(['Contact_ID', 'Transaction_ID'], as_index=False)\n",
    "    .agg(\n",
    "        Transaction_date=('Date_transaction', 'max'),\n",
    "        GMV=('Line_Sales_Value', 'sum'),\n",
    "    )\n",
    ")\n",
    "\n",
    "rfm_base = (\n",
    "    rfm_transactions.groupby('Contact_ID', as_index=False)\n",
    "    .agg(\n",
    "        Recency=('Transaction_date', lambda x: (rfm_reference_date - x.max()).days),\n",
    "        Frequency=('Transaction_ID', 'nunique'),\n",
    "        Monetary=('GMV', 'sum'),\n",
    "        Last_purchase=('Transaction_date', 'max'),\n",
    "    )\n",
    ")\n",
    "\n",
    "overall_recency = (rfm_reference_date - sales_df['Date_transaction'].min()).days\n",
    "rfm_base['Recency'] = rfm_base['Recency'].fillna(overall_recency)\n",
    "\n",
    "display(rfm_base.head())\n"
   ]
  },
  {
   "cell_type": "code",
   "execution_count": 32,
   "id": "ffe4ad51",
   "metadata": {},
   "outputs": [
    {
     "data": {
      "text/html": [
       "<div>\n",
       "<style scoped>\n",
       "    .dataframe tbody tr th:only-of-type {\n",
       "        vertical-align: middle;\n",
       "    }\n",
       "\n",
       "    .dataframe tbody tr th {\n",
       "        vertical-align: top;\n",
       "    }\n",
       "\n",
       "    .dataframe thead th {\n",
       "        text-align: right;\n",
       "    }\n",
       "</style>\n",
       "<table border=\"1\" class=\"dataframe\">\n",
       "  <thead>\n",
       "    <tr style=\"text-align: right;\">\n",
       "      <th></th>\n",
       "      <th>Contact_ID</th>\n",
       "      <th>Recency</th>\n",
       "      <th>Frequency</th>\n",
       "      <th>Monetary</th>\n",
       "      <th>Last_purchase</th>\n",
       "      <th>R</th>\n",
       "      <th>F</th>\n",
       "      <th>M</th>\n",
       "      <th>RFM_Score</th>\n",
       "      <th>RFM_Segment</th>\n",
       "    </tr>\n",
       "  </thead>\n",
       "  <tbody>\n",
       "    <tr>\n",
       "      <th>0</th>\n",
       "      <td></td>\n",
       "      <td>0</td>\n",
       "      <td>9444</td>\n",
       "      <td>191768.36</td>\n",
       "      <td>2023-12-31</td>\n",
       "      <td>5</td>\n",
       "      <td>5</td>\n",
       "      <td>5</td>\n",
       "      <td>555</td>\n",
       "      <td>Champions</td>\n",
       "    </tr>\n",
       "    <tr>\n",
       "      <th>1</th>\n",
       "      <td>CUST0019396E</td>\n",
       "      <td>291</td>\n",
       "      <td>1</td>\n",
       "      <td>5.16</td>\n",
       "      <td>2023-03-15</td>\n",
       "      <td>1</td>\n",
       "      <td>1</td>\n",
       "      <td>1</td>\n",
       "      <td>111</td>\n",
       "      <td>At Risk</td>\n",
       "    </tr>\n",
       "    <tr>\n",
       "      <th>2</th>\n",
       "      <td>CUST00242E6F</td>\n",
       "      <td>79</td>\n",
       "      <td>1</td>\n",
       "      <td>7.19</td>\n",
       "      <td>2023-10-13</td>\n",
       "      <td>4</td>\n",
       "      <td>1</td>\n",
       "      <td>2</td>\n",
       "      <td>412</td>\n",
       "      <td>Potentials</td>\n",
       "    </tr>\n",
       "    <tr>\n",
       "      <th>3</th>\n",
       "      <td>CUST0037A6B7</td>\n",
       "      <td>276</td>\n",
       "      <td>1</td>\n",
       "      <td>12.49</td>\n",
       "      <td>2023-03-30</td>\n",
       "      <td>2</td>\n",
       "      <td>1</td>\n",
       "      <td>3</td>\n",
       "      <td>213</td>\n",
       "      <td>Potentials</td>\n",
       "    </tr>\n",
       "    <tr>\n",
       "      <th>4</th>\n",
       "      <td>CUST00601607</td>\n",
       "      <td>245</td>\n",
       "      <td>1</td>\n",
       "      <td>40.00</td>\n",
       "      <td>2023-04-30</td>\n",
       "      <td>2</td>\n",
       "      <td>1</td>\n",
       "      <td>5</td>\n",
       "      <td>215</td>\n",
       "      <td>Potentials</td>\n",
       "    </tr>\n",
       "  </tbody>\n",
       "</table>\n",
       "</div>"
      ],
      "text/plain": [
       "     Contact_ID  Recency  Frequency   Monetary Last_purchase  R  F  M  \\\n",
       "0                      0       9444  191768.36    2023-12-31  5  5  5   \n",
       "1  CUST0019396E      291          1       5.16    2023-03-15  1  1  1   \n",
       "2  CUST00242E6F       79          1       7.19    2023-10-13  4  1  2   \n",
       "3  CUST0037A6B7      276          1      12.49    2023-03-30  2  1  3   \n",
       "4  CUST00601607      245          1      40.00    2023-04-30  2  1  5   \n",
       "\n",
       "  RFM_Score RFM_Segment  \n",
       "0       555   Champions  \n",
       "1       111     At Risk  \n",
       "2       412  Potentials  \n",
       "3       213  Potentials  \n",
       "4       215  Potentials  "
      ]
     },
     "metadata": {},
     "output_type": "display_data"
    }
   ],
   "source": [
    "recency_quantiles = rfm_base['Recency'].quantile([0.2, 0.4, 0.6, 0.8])\n",
    "frequency_quantiles = rfm_base['Frequency'].quantile([0.2, 0.4, 0.6, 0.8])\n",
    "monetary_quantiles = rfm_base['Monetary'].quantile([0.2, 0.4, 0.6, 0.8])\n",
    "\n",
    "def r_score(recency):\n",
    "    if recency <= recency_quantiles.iloc[0]:\n",
    "        return 5\n",
    "    if recency <= recency_quantiles.iloc[1]:\n",
    "        return 4\n",
    "    if recency <= recency_quantiles.iloc[2]:\n",
    "        return 3\n",
    "    if recency <= recency_quantiles.iloc[3]:\n",
    "        return 2\n",
    "    return 1\n",
    "\n",
    "def fm_score(value, quantiles):\n",
    "    if value <= quantiles.iloc[0]:\n",
    "        return 1\n",
    "    if value <= quantiles.iloc[1]:\n",
    "        return 2\n",
    "    if value <= quantiles.iloc[2]:\n",
    "        return 3\n",
    "    if value <= quantiles.iloc[3]:\n",
    "        return 4\n",
    "    return 5\n",
    "\n",
    "rfm_base['R'] = rfm_base['Recency'].apply(r_score)\n",
    "rfm_base['F'] = rfm_base['Frequency'].apply(lambda x: fm_score(x, frequency_quantiles))\n",
    "rfm_base['M'] = rfm_base['Monetary'].apply(lambda x: fm_score(x, monetary_quantiles))\n",
    "rfm_base['RFM_Score'] = rfm_base[['R', 'F', 'M']].astype(int).astype(str).agg(''.join, axis=1)\n",
    "\n",
    "def map_segment(total):\n",
    "    if total >= 12:\n",
    "        return 'Champions'\n",
    "    if total >= 9:\n",
    "        return 'Loyal'\n",
    "    if total >= 6:\n",
    "        return 'Potentials'\n",
    "    return 'At Risk'\n",
    "\n",
    "rfm_base['RFM_Segment'] = rfm_base[['R', 'F', 'M']].sum(axis=1).apply(map_segment)\n",
    "\n",
    "display(rfm_base.head())\n"
   ]
  },
  {
   "cell_type": "code",
   "execution_count": 33,
   "id": "78e71269",
   "metadata": {},
   "outputs": [
    {
     "data": {
      "text/html": [
       "<div>\n",
       "<style scoped>\n",
       "    .dataframe tbody tr th:only-of-type {\n",
       "        vertical-align: middle;\n",
       "    }\n",
       "\n",
       "    .dataframe tbody tr th {\n",
       "        vertical-align: top;\n",
       "    }\n",
       "\n",
       "    .dataframe thead th {\n",
       "        text-align: right;\n",
       "    }\n",
       "</style>\n",
       "<table border=\"1\" class=\"dataframe\">\n",
       "  <thead>\n",
       "    <tr style=\"text-align: right;\">\n",
       "      <th></th>\n",
       "      <th>RFM_Segment</th>\n",
       "      <th>Customers</th>\n",
       "      <th>Avg_Recency</th>\n",
       "      <th>Avg_Frequency</th>\n",
       "      <th>Avg_Monetary</th>\n",
       "      <th>GMV</th>\n",
       "      <th>Customer_share_pct</th>\n",
       "      <th>GMV_share_pct</th>\n",
       "    </tr>\n",
       "  </thead>\n",
       "  <tbody>\n",
       "    <tr>\n",
       "      <th>1</th>\n",
       "      <td>Champions</td>\n",
       "      <td>23</td>\n",
       "      <td>68.260870</td>\n",
       "      <td>415.782609</td>\n",
       "      <td>8459.106957</td>\n",
       "      <td>194559.46</td>\n",
       "      <td>0.965170</td>\n",
       "      <td>81.453556</td>\n",
       "    </tr>\n",
       "    <tr>\n",
       "      <th>3</th>\n",
       "      <td>Potentials</td>\n",
       "      <td>1215</td>\n",
       "      <td>163.688066</td>\n",
       "      <td>1.000000</td>\n",
       "      <td>18.731893</td>\n",
       "      <td>22759.25</td>\n",
       "      <td>50.986152</td>\n",
       "      <td>9.528305</td>\n",
       "    </tr>\n",
       "    <tr>\n",
       "      <th>2</th>\n",
       "      <td>Loyal</td>\n",
       "      <td>572</td>\n",
       "      <td>55.575175</td>\n",
       "      <td>1.008741</td>\n",
       "      <td>31.546696</td>\n",
       "      <td>18044.71</td>\n",
       "      <td>24.003357</td>\n",
       "      <td>7.554533</td>\n",
       "    </tr>\n",
       "    <tr>\n",
       "      <th>0</th>\n",
       "      <td>At Risk</td>\n",
       "      <td>573</td>\n",
       "      <td>260.584642</td>\n",
       "      <td>1.000000</td>\n",
       "      <td>6.101152</td>\n",
       "      <td>3495.96</td>\n",
       "      <td>24.045321</td>\n",
       "      <td>1.463606</td>\n",
       "    </tr>\n",
       "  </tbody>\n",
       "</table>\n",
       "</div>"
      ],
      "text/plain": [
       "  RFM_Segment  Customers  Avg_Recency  Avg_Frequency  Avg_Monetary        GMV  \\\n",
       "1   Champions         23    68.260870     415.782609   8459.106957  194559.46   \n",
       "3  Potentials       1215   163.688066       1.000000     18.731893   22759.25   \n",
       "2       Loyal        572    55.575175       1.008741     31.546696   18044.71   \n",
       "0     At Risk        573   260.584642       1.000000      6.101152    3495.96   \n",
       "\n",
       "   Customer_share_pct  GMV_share_pct  \n",
       "1            0.965170      81.453556  \n",
       "3           50.986152       9.528305  \n",
       "2           24.003357       7.554533  \n",
       "0           24.045321       1.463606  "
      ]
     },
     "metadata": {},
     "output_type": "display_data"
    }
   ],
   "source": [
    "rfm_summary = (\n",
    "    rfm_base.groupby('RFM_Segment', as_index=False)\n",
    "    .agg(\n",
    "        Customers=('Contact_ID', 'nunique'),\n",
    "        Avg_Recency=('Recency', 'mean'),\n",
    "        Avg_Frequency=('Frequency', 'mean'),\n",
    "        Avg_Monetary=('Monetary', 'mean'),\n",
    "        GMV=('Monetary', 'sum'),\n",
    "    )\n",
    ")\n",
    "rfm_summary['Customer_share_pct'] = (rfm_summary['Customers'] / rfm_summary['Customers'].sum()) * 100\n",
    "rfm_summary['GMV_share_pct'] = (rfm_summary['GMV'] / rfm_summary['GMV'].sum()) * 100\n",
    "\n",
    "display(rfm_summary.sort_values('GMV', ascending=False))\n"
   ]
  },
  {
   "cell_type": "code",
   "execution_count": 34,
   "id": "83e110b3",
   "metadata": {},
   "outputs": [
    {
     "data": {
      "text/html": [
       "<div>\n",
       "<style scoped>\n",
       "    .dataframe tbody tr th:only-of-type {\n",
       "        vertical-align: middle;\n",
       "    }\n",
       "\n",
       "    .dataframe tbody tr th {\n",
       "        vertical-align: top;\n",
       "    }\n",
       "\n",
       "    .dataframe thead th {\n",
       "        text-align: right;\n",
       "    }\n",
       "</style>\n",
       "<table border=\"1\" class=\"dataframe\">\n",
       "  <thead>\n",
       "    <tr style=\"text-align: right;\">\n",
       "      <th></th>\n",
       "      <th>RFM_Segment</th>\n",
       "      <th>Category</th>\n",
       "      <th>GMV</th>\n",
       "      <th>Orders</th>\n",
       "      <th>GMV_share_pct</th>\n",
       "    </tr>\n",
       "  </thead>\n",
       "  <tbody>\n",
       "    <tr>\n",
       "      <th>5</th>\n",
       "      <td>At Risk</td>\n",
       "      <td>Catégorie_006</td>\n",
       "      <td>1578.40</td>\n",
       "      <td>330</td>\n",
       "      <td>45.149258</td>\n",
       "    </tr>\n",
       "    <tr>\n",
       "      <th>6</th>\n",
       "      <td>At Risk</td>\n",
       "      <td>Catégorie_007</td>\n",
       "      <td>817.99</td>\n",
       "      <td>91</td>\n",
       "      <td>23.398151</td>\n",
       "    </tr>\n",
       "    <tr>\n",
       "      <th>7</th>\n",
       "      <td>At Risk</td>\n",
       "      <td>Unknown</td>\n",
       "      <td>795.08</td>\n",
       "      <td>126</td>\n",
       "      <td>22.742823</td>\n",
       "    </tr>\n",
       "    <tr>\n",
       "      <th>1</th>\n",
       "      <td>At Risk</td>\n",
       "      <td>Catégorie_002</td>\n",
       "      <td>143.18</td>\n",
       "      <td>13</td>\n",
       "      <td>4.095585</td>\n",
       "    </tr>\n",
       "    <tr>\n",
       "      <th>2</th>\n",
       "      <td>At Risk</td>\n",
       "      <td>Catégorie_003</td>\n",
       "      <td>53.98</td>\n",
       "      <td>4</td>\n",
       "      <td>1.544068</td>\n",
       "    </tr>\n",
       "    <tr>\n",
       "      <th>3</th>\n",
       "      <td>At Risk</td>\n",
       "      <td>Catégorie_004</td>\n",
       "      <td>49.47</td>\n",
       "      <td>5</td>\n",
       "      <td>1.415062</td>\n",
       "    </tr>\n",
       "    <tr>\n",
       "      <th>4</th>\n",
       "      <td>At Risk</td>\n",
       "      <td>Catégorie_005</td>\n",
       "      <td>47.87</td>\n",
       "      <td>3</td>\n",
       "      <td>1.369295</td>\n",
       "    </tr>\n",
       "    <tr>\n",
       "      <th>0</th>\n",
       "      <td>At Risk</td>\n",
       "      <td>Catégorie_001</td>\n",
       "      <td>9.99</td>\n",
       "      <td>1</td>\n",
       "      <td>0.285758</td>\n",
       "    </tr>\n",
       "    <tr>\n",
       "      <th>16</th>\n",
       "      <td>Champions</td>\n",
       "      <td>Unknown</td>\n",
       "      <td>47171.01</td>\n",
       "      <td>1997</td>\n",
       "      <td>24.245035</td>\n",
       "    </tr>\n",
       "    <tr>\n",
       "      <th>14</th>\n",
       "      <td>Champions</td>\n",
       "      <td>Catégorie_007</td>\n",
       "      <td>41529.29</td>\n",
       "      <td>2210</td>\n",
       "      <td>21.345295</td>\n",
       "    </tr>\n",
       "    <tr>\n",
       "      <th>9</th>\n",
       "      <td>Champions</td>\n",
       "      <td>Catégorie_002</td>\n",
       "      <td>38488.59</td>\n",
       "      <td>1223</td>\n",
       "      <td>19.782431</td>\n",
       "    </tr>\n",
       "    <tr>\n",
       "      <th>10</th>\n",
       "      <td>Champions</td>\n",
       "      <td>Catégorie_003</td>\n",
       "      <td>21019.87</td>\n",
       "      <td>719</td>\n",
       "      <td>10.803828</td>\n",
       "    </tr>\n",
       "    <tr>\n",
       "      <th>13</th>\n",
       "      <td>Champions</td>\n",
       "      <td>Catégorie_006</td>\n",
       "      <td>18108.42</td>\n",
       "      <td>2350</td>\n",
       "      <td>9.307396</td>\n",
       "    </tr>\n",
       "    <tr>\n",
       "      <th>11</th>\n",
       "      <td>Champions</td>\n",
       "      <td>Catégorie_004</td>\n",
       "      <td>15775.06</td>\n",
       "      <td>626</td>\n",
       "      <td>8.108092</td>\n",
       "    </tr>\n",
       "    <tr>\n",
       "      <th>8</th>\n",
       "      <td>Champions</td>\n",
       "      <td>Catégorie_001</td>\n",
       "      <td>7812.43</td>\n",
       "      <td>270</td>\n",
       "      <td>4.015446</td>\n",
       "    </tr>\n",
       "    <tr>\n",
       "      <th>12</th>\n",
       "      <td>Champions</td>\n",
       "      <td>Catégorie_005</td>\n",
       "      <td>4583.09</td>\n",
       "      <td>184</td>\n",
       "      <td>2.355624</td>\n",
       "    </tr>\n",
       "    <tr>\n",
       "      <th>15</th>\n",
       "      <td>Champions</td>\n",
       "      <td>Catégorie_008</td>\n",
       "      <td>71.70</td>\n",
       "      <td>6</td>\n",
       "      <td>0.036852</td>\n",
       "    </tr>\n",
       "    <tr>\n",
       "      <th>23</th>\n",
       "      <td>Loyal</td>\n",
       "      <td>Catégorie_007</td>\n",
       "      <td>5854.84</td>\n",
       "      <td>237</td>\n",
       "      <td>32.446296</td>\n",
       "    </tr>\n",
       "    <tr>\n",
       "      <th>24</th>\n",
       "      <td>Loyal</td>\n",
       "      <td>Unknown</td>\n",
       "      <td>3980.28</td>\n",
       "      <td>98</td>\n",
       "      <td>22.057877</td>\n",
       "    </tr>\n",
       "    <tr>\n",
       "      <th>18</th>\n",
       "      <td>Loyal</td>\n",
       "      <td>Catégorie_002</td>\n",
       "      <td>3055.51</td>\n",
       "      <td>79</td>\n",
       "      <td>16.932996</td>\n",
       "    </tr>\n",
       "    <tr>\n",
       "      <th>19</th>\n",
       "      <td>Loyal</td>\n",
       "      <td>Catégorie_003</td>\n",
       "      <td>2316.84</td>\n",
       "      <td>66</td>\n",
       "      <td>12.839442</td>\n",
       "    </tr>\n",
       "    <tr>\n",
       "      <th>20</th>\n",
       "      <td>Loyal</td>\n",
       "      <td>Catégorie_004</td>\n",
       "      <td>1382.33</td>\n",
       "      <td>44</td>\n",
       "      <td>7.660583</td>\n",
       "    </tr>\n",
       "    <tr>\n",
       "      <th>17</th>\n",
       "      <td>Loyal</td>\n",
       "      <td>Catégorie_001</td>\n",
       "      <td>627.82</td>\n",
       "      <td>19</td>\n",
       "      <td>3.479247</td>\n",
       "    </tr>\n",
       "    <tr>\n",
       "      <th>21</th>\n",
       "      <td>Loyal</td>\n",
       "      <td>Catégorie_005</td>\n",
       "      <td>594.28</td>\n",
       "      <td>19</td>\n",
       "      <td>3.293375</td>\n",
       "    </tr>\n",
       "    <tr>\n",
       "      <th>22</th>\n",
       "      <td>Loyal</td>\n",
       "      <td>Catégorie_006</td>\n",
       "      <td>232.81</td>\n",
       "      <td>17</td>\n",
       "      <td>1.290184</td>\n",
       "    </tr>\n",
       "    <tr>\n",
       "      <th>33</th>\n",
       "      <td>Potentials</td>\n",
       "      <td>Unknown</td>\n",
       "      <td>5497.32</td>\n",
       "      <td>305</td>\n",
       "      <td>24.154223</td>\n",
       "    </tr>\n",
       "    <tr>\n",
       "      <th>26</th>\n",
       "      <td>Potentials</td>\n",
       "      <td>Catégorie_002</td>\n",
       "      <td>5177.70</td>\n",
       "      <td>159</td>\n",
       "      <td>22.749871</td>\n",
       "    </tr>\n",
       "    <tr>\n",
       "      <th>31</th>\n",
       "      <td>Potentials</td>\n",
       "      <td>Catégorie_007</td>\n",
       "      <td>3940.16</td>\n",
       "      <td>238</td>\n",
       "      <td>17.312346</td>\n",
       "    </tr>\n",
       "    <tr>\n",
       "      <th>27</th>\n",
       "      <td>Potentials</td>\n",
       "      <td>Catégorie_003</td>\n",
       "      <td>2909.52</td>\n",
       "      <td>91</td>\n",
       "      <td>12.783901</td>\n",
       "    </tr>\n",
       "    <tr>\n",
       "      <th>30</th>\n",
       "      <td>Potentials</td>\n",
       "      <td>Catégorie_006</td>\n",
       "      <td>2106.87</td>\n",
       "      <td>292</td>\n",
       "      <td>9.257203</td>\n",
       "    </tr>\n",
       "    <tr>\n",
       "      <th>28</th>\n",
       "      <td>Potentials</td>\n",
       "      <td>Catégorie_004</td>\n",
       "      <td>1683.92</td>\n",
       "      <td>73</td>\n",
       "      <td>7.398838</td>\n",
       "    </tr>\n",
       "    <tr>\n",
       "      <th>25</th>\n",
       "      <td>Potentials</td>\n",
       "      <td>Catégorie_001</td>\n",
       "      <td>1057.93</td>\n",
       "      <td>41</td>\n",
       "      <td>4.648352</td>\n",
       "    </tr>\n",
       "    <tr>\n",
       "      <th>29</th>\n",
       "      <td>Potentials</td>\n",
       "      <td>Catégorie_005</td>\n",
       "      <td>344.18</td>\n",
       "      <td>15</td>\n",
       "      <td>1.512264</td>\n",
       "    </tr>\n",
       "    <tr>\n",
       "      <th>32</th>\n",
       "      <td>Potentials</td>\n",
       "      <td>Catégorie_008</td>\n",
       "      <td>41.65</td>\n",
       "      <td>3</td>\n",
       "      <td>0.183003</td>\n",
       "    </tr>\n",
       "  </tbody>\n",
       "</table>\n",
       "</div>"
      ],
      "text/plain": [
       "   RFM_Segment       Category       GMV  Orders  GMV_share_pct\n",
       "5      At Risk  Catégorie_006   1578.40     330      45.149258\n",
       "6      At Risk  Catégorie_007    817.99      91      23.398151\n",
       "7      At Risk        Unknown    795.08     126      22.742823\n",
       "1      At Risk  Catégorie_002    143.18      13       4.095585\n",
       "2      At Risk  Catégorie_003     53.98       4       1.544068\n",
       "3      At Risk  Catégorie_004     49.47       5       1.415062\n",
       "4      At Risk  Catégorie_005     47.87       3       1.369295\n",
       "0      At Risk  Catégorie_001      9.99       1       0.285758\n",
       "16   Champions        Unknown  47171.01    1997      24.245035\n",
       "14   Champions  Catégorie_007  41529.29    2210      21.345295\n",
       "9    Champions  Catégorie_002  38488.59    1223      19.782431\n",
       "10   Champions  Catégorie_003  21019.87     719      10.803828\n",
       "13   Champions  Catégorie_006  18108.42    2350       9.307396\n",
       "11   Champions  Catégorie_004  15775.06     626       8.108092\n",
       "8    Champions  Catégorie_001   7812.43     270       4.015446\n",
       "12   Champions  Catégorie_005   4583.09     184       2.355624\n",
       "15   Champions  Catégorie_008     71.70       6       0.036852\n",
       "23       Loyal  Catégorie_007   5854.84     237      32.446296\n",
       "24       Loyal        Unknown   3980.28      98      22.057877\n",
       "18       Loyal  Catégorie_002   3055.51      79      16.932996\n",
       "19       Loyal  Catégorie_003   2316.84      66      12.839442\n",
       "20       Loyal  Catégorie_004   1382.33      44       7.660583\n",
       "17       Loyal  Catégorie_001    627.82      19       3.479247\n",
       "21       Loyal  Catégorie_005    594.28      19       3.293375\n",
       "22       Loyal  Catégorie_006    232.81      17       1.290184\n",
       "33  Potentials        Unknown   5497.32     305      24.154223\n",
       "26  Potentials  Catégorie_002   5177.70     159      22.749871\n",
       "31  Potentials  Catégorie_007   3940.16     238      17.312346\n",
       "27  Potentials  Catégorie_003   2909.52      91      12.783901\n",
       "30  Potentials  Catégorie_006   2106.87     292       9.257203\n",
       "28  Potentials  Catégorie_004   1683.92      73       7.398838\n",
       "25  Potentials  Catégorie_001   1057.93      41       4.648352\n",
       "29  Potentials  Catégorie_005    344.18      15       1.512264\n",
       "32  Potentials  Catégorie_008     41.65       3       0.183003"
      ]
     },
     "metadata": {},
     "output_type": "display_data"
    }
   ],
   "source": [
    "rfm_by_category = (\n",
    "    sales_df.merge(rfm_base[['Contact_ID', 'RFM_Segment']], on='Contact_ID')\n",
    "    .assign(Category=lambda df: df['Catégorie'].fillna('Unknown'))\n",
    "    .groupby(['RFM_Segment', 'Category'], as_index=False)\n",
    "    .agg(\n",
    "        GMV=('Line_Sales_Value', 'sum'),\n",
    "        Orders=('Transaction_ID', 'nunique'),\n",
    "    )\n",
    ")\n",
    "rfm_by_category['GMV_share_pct'] = rfm_by_category.groupby('RFM_Segment')['GMV'].transform(\n",
    "    lambda values: (values / values.sum()) * 100 if values.sum() else 0\n",
    ")\n",
    "\n",
    "display(rfm_by_category.sort_values(['RFM_Segment', 'GMV'], ascending=[True, False]).head(40))\n"
   ]
  },
  {
   "cell_type": "code",
   "execution_count": 35,
   "id": "58732c0d",
   "metadata": {},
   "outputs": [
    {
     "name": "stderr",
     "output_type": "stream",
     "text": [
      "/var/folders/_h/v3zx4l357d3fgz8svznhxcjc0000gn/T/ipykernel_30932/26847261.py:7: FutureWarning:\n",
      "\n",
      "The default of observed=False is deprecated and will be changed to True in a future version of pandas. Pass observed=False to retain current behavior or observed=True to adopt the future default and silence this warning.\n",
      "\n"
     ]
    },
    {
     "data": {
      "text/html": [
       "<div>\n",
       "<style scoped>\n",
       "    .dataframe tbody tr th:only-of-type {\n",
       "        vertical-align: middle;\n",
       "    }\n",
       "\n",
       "    .dataframe tbody tr th {\n",
       "        vertical-align: top;\n",
       "    }\n",
       "\n",
       "    .dataframe thead th {\n",
       "        text-align: right;\n",
       "    }\n",
       "</style>\n",
       "<table border=\"1\" class=\"dataframe\">\n",
       "  <thead>\n",
       "    <tr style=\"text-align: right;\">\n",
       "      <th></th>\n",
       "      <th>Recency_bucket</th>\n",
       "      <th>Customers</th>\n",
       "      <th>GMV</th>\n",
       "      <th>Customer_share_pct</th>\n",
       "    </tr>\n",
       "  </thead>\n",
       "  <tbody>\n",
       "    <tr>\n",
       "      <th>0</th>\n",
       "      <td>0-30 days</td>\n",
       "      <td>343</td>\n",
       "      <td>8044.56</td>\n",
       "      <td>14.472574</td>\n",
       "    </tr>\n",
       "    <tr>\n",
       "      <th>1</th>\n",
       "      <td>31-60</td>\n",
       "      <td>293</td>\n",
       "      <td>5645.71</td>\n",
       "      <td>12.362869</td>\n",
       "    </tr>\n",
       "    <tr>\n",
       "      <th>2</th>\n",
       "      <td>61-90</td>\n",
       "      <td>198</td>\n",
       "      <td>3514.51</td>\n",
       "      <td>8.354430</td>\n",
       "    </tr>\n",
       "    <tr>\n",
       "      <th>3</th>\n",
       "      <td>91-180</td>\n",
       "      <td>494</td>\n",
       "      <td>8853.62</td>\n",
       "      <td>20.843882</td>\n",
       "    </tr>\n",
       "    <tr>\n",
       "      <th>4</th>\n",
       "      <td>181-365</td>\n",
       "      <td>1042</td>\n",
       "      <td>20615.65</td>\n",
       "      <td>43.966245</td>\n",
       "    </tr>\n",
       "    <tr>\n",
       "      <th>5</th>\n",
       "      <td>365+</td>\n",
       "      <td>0</td>\n",
       "      <td>0.00</td>\n",
       "      <td>0.000000</td>\n",
       "    </tr>\n",
       "  </tbody>\n",
       "</table>\n",
       "</div>"
      ],
      "text/plain": [
       "  Recency_bucket  Customers       GMV  Customer_share_pct\n",
       "0      0-30 days        343   8044.56           14.472574\n",
       "1          31-60        293   5645.71           12.362869\n",
       "2          61-90        198   3514.51            8.354430\n",
       "3         91-180        494   8853.62           20.843882\n",
       "4        181-365       1042  20615.65           43.966245\n",
       "5           365+          0      0.00            0.000000"
      ]
     },
     "metadata": {},
     "output_type": "display_data"
    }
   ],
   "source": [
    "recency_bins = [0, 30, 60, 90, 180, 365, float('inf')]\n",
    "recency_labels = ['0-30 days', '31-60', '61-90', '91-180', '181-365', '365+']\n",
    "\n",
    "rfm_base['Recency_bucket'] = pd.cut(rfm_base['Recency'], bins=recency_bins, labels=recency_labels, right=True)\n",
    "\n",
    "recency_summary = (\n",
    "    rfm_base.groupby('Recency_bucket', as_index=False)\n",
    "    .agg(\n",
    "        Customers=('Contact_ID', 'nunique'),\n",
    "        GMV=('Monetary', 'sum'),\n",
    "    )\n",
    ")\n",
    "recency_summary['Customer_share_pct'] = (recency_summary['Customers'] / recency_summary['Customers'].sum()) * 100\n",
    "\n",
    "display(recency_summary.sort_values('Recency_bucket'))\n"
   ]
  }
 ],
 "metadata": {
  "kernelspec": {
   "display_name": "base",
   "language": "python",
   "name": "python3"
  },
  "language_info": {
   "codemirror_mode": {
    "name": "ipython",
    "version": 3
   },
   "file_extension": ".py",
   "mimetype": "text/x-python",
   "name": "python",
   "nbconvert_exporter": "python",
   "pygments_lexer": "ipython3",
   "version": "3.11.5"
  }
 },
 "nbformat": 4,
 "nbformat_minor": 5
}
